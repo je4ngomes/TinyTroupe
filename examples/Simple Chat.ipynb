{
 "cells": [
  {
   "cell_type": "markdown",
   "metadata": {},
   "source": [
    "# Simple Chat\n",
    "\n",
    "A simple demonstration of two agents talking to each other."
   ]
  },
  {
   "cell_type": "code",
   "execution_count": 1,
   "metadata": {
    "execution": {
     "iopub.execute_input": "2025-07-26T17:49:21.314455Z",
     "iopub.status.busy": "2025-07-26T17:49:21.313368Z",
     "iopub.status.idle": "2025-07-26T17:49:32.529682Z",
     "shell.execute_reply": "2025-07-26T17:49:32.527579Z"
    }
   },
   "outputs": [
    {
     "name": "stdout",
     "output_type": "stream",
     "text": [
      "\n",
      "!!!!\n",
      "DISCLAIMER: TinyTroupe relies on Artificial Intelligence (AI) models to generate content. \n",
      "The AI models are not perfect and may produce inappropriate or inacurate results. \n",
      "For any serious or consequential use, please review the generated content before using it.\n",
      "!!!!\n",
      "\n",
      "Looking for default config on: /home/jean/Documents/TinyTroupe/examples/../tinytroupe/utils/../config.ini\n",
      "Found custom config on: /home/jean/Documents/TinyTroupe/examples/config.ini\n",
      "TinyTroupe version: 0.5.2\n",
      "Current date and time (local): 2025-08-19 08:52:53\n",
      "Current date and time (UTC):   2025-08-19 11:52:53\n",
      "\n",
      "=================================\n",
      "Current TinyTroupe configuration \n",
      "=================================\n",
      "[OpenAI]\n",
      "api_type = openai\n",
      "azure_api_version = 2024-08-01-preview\n",
      "model = openai/gpt-4o-mini\n",
      "reasoning_model = o3-mini\n",
      "embedding_model = text-embedding-3-small\n",
      "max_tokens = 32000\n",
      "temperature = 1.5\n",
      "freq_penalty = 0.1\n",
      "presence_penalty = 0.1\n",
      "timeout = 480\n",
      "max_attempts = 5\n",
      "waiting_time = 0\n",
      "exponential_backoff_factor = 5\n",
      "reasoning_effort = high\n",
      "cache_api_calls = False\n",
      "cache_file_name = openai_api_cache.pickle\n",
      "max_content_display_length = 1024\n",
      "azure_embedding_model_api_version = 2023-05-15\n",
      "\n",
      "[Simulation]\n",
      "parallel_agent_generation = True\n",
      "parallel_agent_actions = True\n",
      "rai_harmful_content_prevention = True\n",
      "rai_copyright_infringement_prevention = True\n",
      "\n",
      "[Cognition]\n",
      "enable_memory_consolidation = True\n",
      "min_episode_length = 15\n",
      "max_episode_length = 50\n",
      "episodic_memory_fixed_prefix_length = 10\n",
      "episodic_memory_lookback_length = 20\n",
      "\n",
      "[ActionGenerator]\n",
      "max_attempts = 2\n",
      "enable_quality_checks = False\n",
      "enable_regeneration = True\n",
      "enable_direct_correction = False\n",
      "enable_quality_check_for_persona_adherence = True\n",
      "enable_quality_check_for_selfconsistency = False\n",
      "enable_quality_check_for_fluency = False\n",
      "enable_quality_check_for_suitability = False\n",
      "enable_quality_check_for_similarity = False\n",
      "continue_on_failure = True\n",
      "quality_threshold = 5\n",
      "\n",
      "[Logging]\n",
      "loglevel = ERROR\n",
      "\n"
     ]
    }
   ],
   "source": [
    "import json\n",
    "import sys\n",
    "sys.path.insert(0, '..')\n",
    "\n",
    "import tinytroupe\n",
    "from tinytroupe.agent import TinyPerson\n",
    "from tinytroupe.environment import TinyWorld, TinySocialNetwork\n",
    "from tinytroupe.data_connectors import TinyMongoDBConnector\n",
    "from tinytroupe.examples import *"
   ]
  },
  {
   "cell_type": "code",
   "execution_count": 2,
   "metadata": {},
   "outputs": [],
   "source": [
    "mongo_connector = TinyMongoDBConnector()"
   ]
  },
  {
   "cell_type": "code",
   "execution_count": 3,
   "metadata": {
    "execution": {
     "iopub.execute_input": "2025-07-26T17:49:32.534672Z",
     "iopub.status.busy": "2025-07-26T17:49:32.534672Z",
     "iopub.status.idle": "2025-07-26T17:49:32.590285Z",
     "shell.execute_reply": "2025-07-26T17:49:32.589179Z"
    }
   },
   "outputs": [],
   "source": [
    "lisa = TinyPerson.load_specification(\"./agents/Lisa.agent.json\")  # Lisa, the data scientist\n",
    "oscar = TinyPerson.load_specification(\"./agents/Oscar.agent.json\")  # Oscar, the architect"
   ]
  },
  {
   "cell_type": "code",
   "execution_count": 4,
   "metadata": {
    "execution": {
     "iopub.execute_input": "2025-07-26T17:49:32.595189Z",
     "iopub.status.busy": "2025-07-26T17:49:32.594191Z",
     "iopub.status.idle": "2025-07-26T17:49:32.621975Z",
     "shell.execute_reply": "2025-07-26T17:49:32.619868Z"
    }
   },
   "outputs": [],
   "source": [
    "world = TinyWorld(\"Chat Room\", [lisa, oscar])\n",
    "world.make_everyone_accessible()"
   ]
  },
  {
   "cell_type": "code",
   "execution_count": null,
   "metadata": {
    "execution": {
     "iopub.execute_input": "2025-07-26T17:49:32.631973Z",
     "iopub.status.busy": "2025-07-26T17:49:32.630978Z",
     "iopub.status.idle": "2025-07-26T17:50:18.024181Z",
     "shell.execute_reply": "2025-07-26T17:50:18.023133Z"
    }
   },
   "outputs": [
    {
     "data": {
      "text/html": [
       "<pre style=\"margin:0px;;white-space:pre;overflow-x:auto;line-height:normal;font-family:Menlo,'DejaVu Sans Mono',consolas,'Courier New',monospace\"><span style=\"color: #00ffff; text-decoration-color: #00ffff; font-weight: bold; font-style: italic; text-decoration: underline\">USER</span><span style=\"color: #00ffff; text-decoration-color: #00ffff; font-weight: bold; font-style: italic\"> --&gt; </span><span style=\"color: #00ffff; text-decoration-color: #00ffff; font-weight: bold; font-style: italic; text-decoration: underline\">Lisa Carter</span><span style=\"color: #00ffff; text-decoration-color: #00ffff; font-weight: bold; font-style: italic\">: [CONVERSATION] </span>\n",
       "<span style=\"color: #00ffff; text-decoration-color: #00ffff; font-weight: bold; font-style: italic\">          &gt; Talk to Oscar to know more about him</span>\n",
       "</pre>\n"
      ],
      "text/plain": [
       "\u001b[1;3;4;38;5;51mUSER\u001b[0m\u001b[1;3;38;5;51m --> \u001b[0m\u001b[1;3;4;38;5;51mLisa Carter\u001b[0m\u001b[1;3;38;5;51m: \u001b[0m\u001b[1;3;38;5;51m[\u001b[0m\u001b[1;3;38;5;51mCONVERSATION\u001b[0m\u001b[1;3;38;5;51m]\u001b[0m\u001b[1;3;38;5;51m \u001b[0m\n",
       "\u001b[1;3;38;5;51m          > Talk to Oscar to know more about him\u001b[0m\n"
      ]
     },
     "metadata": {},
     "output_type": "display_data"
    },
    {
     "data": {
      "text/html": [
       "<pre style=\"margin:0px;;white-space:pre;overflow-x:auto;line-height:normal;font-family:Menlo,'DejaVu Sans Mono',consolas,'Courier New',monospace\"><span style=\"color: #00ff00; text-decoration-color: #00ff00\">────────────────────────────────────────────── </span>Chat Room step <span style=\"color: #008080; text-decoration-color: #008080; font-weight: bold\">1</span> of <span style=\"color: #008080; text-decoration-color: #008080; font-weight: bold\">4</span><span style=\"color: #00ff00; text-decoration-color: #00ff00\"> ──────────────────────────────────────────────</span>\n",
       "</pre>\n"
      ],
      "text/plain": [
       "\u001b[92m────────────────────────────────────────────── \u001b[0mChat Room step \u001b[1;36m1\u001b[0m of \u001b[1;36m4\u001b[0m\u001b[92m ──────────────────────────────────────────────\u001b[0m\n"
      ]
     },
     "metadata": {},
     "output_type": "display_data"
    },
    {
     "data": {
      "text/html": [
       "<pre style=\"margin:0px;;white-space:pre;overflow-x:auto;line-height:normal;font-family:Menlo,'DejaVu Sans Mono',consolas,'Courier New',monospace\"><span style=\"color: #d0d0d0; text-decoration-color: #d0d0d0; text-decoration: underline\">Oscar</span><span style=\"color: #d0d0d0; text-decoration-color: #d0d0d0\"> acts: </span><span style=\"color: #d0d0d0; text-decoration-color: #d0d0d0; font-weight: bold\">[</span><span style=\"color: #d0d0d0; text-decoration-color: #d0d0d0\">DONE</span><span style=\"color: #d0d0d0; text-decoration-color: #d0d0d0; font-weight: bold\">]</span><span style=\"color: #d0d0d0; text-decoration-color: #d0d0d0\"> </span>\n",
       "\n",
       "</pre>\n"
      ],
      "text/plain": [
       "\u001b[4;38;5;252mOscar\u001b[0m\u001b[38;5;252m acts: \u001b[0m\u001b[1;38;5;252m[\u001b[0m\u001b[38;5;252mDONE\u001b[0m\u001b[1;38;5;252m]\u001b[0m\u001b[38;5;252m \u001b[0m\n",
       "\n"
      ]
     },
     "metadata": {},
     "output_type": "display_data"
    },
    {
     "data": {
      "text/html": [
       "<pre style=\"margin:0px;;white-space:pre;overflow-x:auto;line-height:normal;font-family:Menlo,'DejaVu Sans Mono',consolas,'Courier New',monospace\"><span style=\"color: #af00ff; text-decoration-color: #af00ff; text-decoration: underline\">Lisa Carter</span><span style=\"color: #af00ff; text-decoration-color: #af00ff\"> acts: </span><span style=\"color: #af00ff; text-decoration-color: #af00ff; font-weight: bold\">[</span><span style=\"color: #af00ff; text-decoration-color: #af00ff\">REACH_OUT</span><span style=\"color: #af00ff; text-decoration-color: #af00ff; font-weight: bold\">]</span><span style=\"color: #af00ff; text-decoration-color: #af00ff\"> </span>\n",
       "\n",
       "</pre>\n"
      ],
      "text/plain": [
       "\u001b[4;38;5;129mLisa Carter\u001b[0m\u001b[38;5;129m acts: \u001b[0m\u001b[1;38;5;129m[\u001b[0m\u001b[38;5;129mREACH_OUT\u001b[0m\u001b[1;38;5;129m]\u001b[0m\u001b[38;5;129m \u001b[0m\n",
       "\n"
      ]
     },
     "metadata": {},
     "output_type": "display_data"
    },
    {
     "data": {
      "text/html": [
       "<pre style=\"margin:0px;;white-space:pre;overflow-x:auto;line-height:normal;font-family:Menlo,'DejaVu Sans Mono',consolas,'Courier New',monospace\"><span style=\"color: #00d700; text-decoration-color: #00d700; font-weight: bold; text-decoration: underline\">Lisa Carter</span><span style=\"color: #00d700; text-decoration-color: #00d700; font-weight: bold\"> acts: [TALK] </span>\n",
       "<span style=\"color: #00d700; text-decoration-color: #00d700; font-weight: bold\">                 &gt; Hi Oscar! I'd love to know more about you. What do you do and what are some of</span>\n",
       "<span style=\"color: #00d700; text-decoration-color: #00d700; font-weight: bold\">                 &gt; your interests?</span>\n",
       "</pre>\n"
      ],
      "text/plain": [
       "\u001b[1;4;38;5;40mLisa Carter\u001b[0m\u001b[1;38;5;40m acts: \u001b[0m\u001b[1;38;5;40m[\u001b[0m\u001b[1;38;5;40mTALK\u001b[0m\u001b[1;38;5;40m]\u001b[0m\u001b[1;38;5;40m \u001b[0m\n",
       "\u001b[1;38;5;40m                 > Hi Oscar! I'd love to know more about you. What do you do and what are some of\u001b[0m\n",
       "\u001b[1;38;5;40m                 > your interests?\u001b[0m\n"
      ]
     },
     "metadata": {},
     "output_type": "display_data"
    },
    {
     "data": {
      "text/html": [
       "<pre style=\"margin:0px;;white-space:pre;overflow-x:auto;line-height:normal;font-family:Menlo,'DejaVu Sans Mono',consolas,'Courier New',monospace\"><span style=\"color: #d0d0d0; text-decoration-color: #d0d0d0; text-decoration: underline\">Lisa Carter</span><span style=\"color: #d0d0d0; text-decoration-color: #d0d0d0\"> acts: </span><span style=\"color: #d0d0d0; text-decoration-color: #d0d0d0; font-weight: bold\">[</span><span style=\"color: #d0d0d0; text-decoration-color: #d0d0d0\">DONE</span><span style=\"color: #d0d0d0; text-decoration-color: #d0d0d0; font-weight: bold\">]</span><span style=\"color: #d0d0d0; text-decoration-color: #d0d0d0\"> </span>\n",
       "\n",
       "</pre>\n"
      ],
      "text/plain": [
       "\u001b[4;38;5;252mLisa Carter\u001b[0m\u001b[38;5;252m acts: \u001b[0m\u001b[1;38;5;252m[\u001b[0m\u001b[38;5;252mDONE\u001b[0m\u001b[1;38;5;252m]\u001b[0m\u001b[38;5;252m \u001b[0m\n",
       "\n"
      ]
     },
     "metadata": {},
     "output_type": "display_data"
    },
    {
     "data": {
      "text/html": [
       "<pre style=\"margin:0px;;white-space:pre;overflow-x:auto;line-height:normal;font-family:Menlo,'DejaVu Sans Mono',consolas,'Courier New',monospace\"><span style=\"font-style: italic; text-decoration: underline\">Chat Room</span><span style=\"font-style: italic\"> --&gt; </span><span style=\"font-style: italic; text-decoration: underline\">Lisa Carter</span><span style=\"font-style: italic\">: </span><span style=\"font-weight: bold; font-style: italic\">[</span><span style=\"font-style: italic\">SOCIAL</span><span style=\"font-weight: bold; font-style: italic\">]</span><span style=\"font-style: italic\"> </span>\n",
       "<span style=\"font-style: italic\">               &gt; Oscar was successfully reached out, and is now available for interaction.</span>\n",
       "</pre>\n"
      ],
      "text/plain": [
       "\u001b[3;4mChat Room\u001b[0m\u001b[3m --> \u001b[0m\u001b[3;4mLisa Carter\u001b[0m\u001b[3m: \u001b[0m\u001b[1;3m[\u001b[0m\u001b[3mSOCIAL\u001b[0m\u001b[1;3m]\u001b[0m\u001b[3m \u001b[0m\n",
       "\u001b[3m               > Oscar was successfully reached out, and is now available for interaction.\u001b[0m\n"
      ]
     },
     "metadata": {},
     "output_type": "display_data"
    },
    {
     "data": {
      "text/html": [
       "<pre style=\"margin:0px;;white-space:pre;overflow-x:auto;line-height:normal;font-family:Menlo,'DejaVu Sans Mono',consolas,'Courier New',monospace\"><span style=\"font-style: italic; text-decoration: underline\">Chat Room</span><span style=\"font-style: italic\"> --&gt; </span><span style=\"font-style: italic; text-decoration: underline\">Oscar</span><span style=\"font-style: italic\">: </span><span style=\"font-weight: bold; font-style: italic\">[</span><span style=\"font-style: italic\">SOCIAL</span><span style=\"font-weight: bold; font-style: italic\">]</span><span style=\"font-style: italic\"> </span>\n",
       "<span style=\"font-style: italic\">               &gt; Lisa Carter reached out to you, and is now available for interaction.</span>\n",
       "</pre>\n"
      ],
      "text/plain": [
       "\u001b[3;4mChat Room\u001b[0m\u001b[3m --> \u001b[0m\u001b[3;4mOscar\u001b[0m\u001b[3m: \u001b[0m\u001b[1;3m[\u001b[0m\u001b[3mSOCIAL\u001b[0m\u001b[1;3m]\u001b[0m\u001b[3m \u001b[0m\n",
       "\u001b[3m               > Lisa Carter reached out to you, and is now available for interaction.\u001b[0m\n"
      ]
     },
     "metadata": {},
     "output_type": "display_data"
    },
    {
     "data": {
      "text/html": [
       "<pre style=\"margin:0px;;white-space:pre;overflow-x:auto;line-height:normal;font-family:Menlo,'DejaVu Sans Mono',consolas,'Courier New',monospace\"><span style=\"color: #00ffff; text-decoration-color: #00ffff; font-weight: bold; font-style: italic; text-decoration: underline\">Lisa Carter</span><span style=\"color: #00ffff; text-decoration-color: #00ffff; font-weight: bold; font-style: italic\"> --&gt; </span><span style=\"color: #00ffff; text-decoration-color: #00ffff; font-weight: bold; font-style: italic; text-decoration: underline\">Oscar</span><span style=\"color: #00ffff; text-decoration-color: #00ffff; font-weight: bold; font-style: italic\">: [CONVERSATION] </span>\n",
       "<span style=\"color: #00ffff; text-decoration-color: #00ffff; font-weight: bold; font-style: italic\">                 &gt; Hi Oscar! I'd love to know more about you. What do you do and what are some of</span>\n",
       "<span style=\"color: #00ffff; text-decoration-color: #00ffff; font-weight: bold; font-style: italic\">                 &gt; your interests?</span>\n",
       "</pre>\n"
      ],
      "text/plain": [
       "\u001b[1;3;4;38;5;51mLisa Carter\u001b[0m\u001b[1;3;38;5;51m --> \u001b[0m\u001b[1;3;4;38;5;51mOscar\u001b[0m\u001b[1;3;38;5;51m: \u001b[0m\u001b[1;3;38;5;51m[\u001b[0m\u001b[1;3;38;5;51mCONVERSATION\u001b[0m\u001b[1;3;38;5;51m]\u001b[0m\u001b[1;3;38;5;51m \u001b[0m\n",
       "\u001b[1;3;38;5;51m                 > Hi Oscar! I'd love to know more about you. What do you do and what are some of\u001b[0m\n",
       "\u001b[1;3;38;5;51m                 > your interests?\u001b[0m\n"
      ]
     },
     "metadata": {},
     "output_type": "display_data"
    },
    {
     "data": {
      "text/html": [
       "<pre style=\"margin:0px;;white-space:pre;overflow-x:auto;line-height:normal;font-family:Menlo,'DejaVu Sans Mono',consolas,'Courier New',monospace\"><span style=\"color: #00ff00; text-decoration-color: #00ff00\">────────────────────────────────────────────── </span>Chat Room step <span style=\"color: #008080; text-decoration-color: #008080; font-weight: bold\">2</span> of <span style=\"color: #008080; text-decoration-color: #008080; font-weight: bold\">4</span><span style=\"color: #00ff00; text-decoration-color: #00ff00\"> ──────────────────────────────────────────────</span>\n",
       "</pre>\n"
      ],
      "text/plain": [
       "\u001b[92m────────────────────────────────────────────── \u001b[0mChat Room step \u001b[1;36m2\u001b[0m of \u001b[1;36m4\u001b[0m\u001b[92m ──────────────────────────────────────────────\u001b[0m\n"
      ]
     },
     "metadata": {},
     "output_type": "display_data"
    },
    {
     "data": {
      "text/html": [
       "<pre style=\"margin:0px;;white-space:pre;overflow-x:auto;line-height:normal;font-family:Menlo,'DejaVu Sans Mono',consolas,'Courier New',monospace\"><span style=\"color: #00d700; text-decoration-color: #00d700; font-weight: bold; text-decoration: underline\">Lisa Carter</span><span style=\"color: #00d700; text-decoration-color: #00d700; font-weight: bold\"> acts: [TALK] </span>\n",
       "<span style=\"color: #00d700; text-decoration-color: #00d700; font-weight: bold\">                 &gt; Great to finally chat with you, Oscar! I'm really curious about your background</span>\n",
       "<span style=\"color: #00d700; text-decoration-color: #00d700; font-weight: bold\">                 &gt; and interests. What do you do?</span>\n",
       "</pre>\n"
      ],
      "text/plain": [
       "\u001b[1;4;38;5;40mLisa Carter\u001b[0m\u001b[1;38;5;40m acts: \u001b[0m\u001b[1;38;5;40m[\u001b[0m\u001b[1;38;5;40mTALK\u001b[0m\u001b[1;38;5;40m]\u001b[0m\u001b[1;38;5;40m \u001b[0m\n",
       "\u001b[1;38;5;40m                 > Great to finally chat with you, Oscar! I'm really curious about your background\u001b[0m\n",
       "\u001b[1;38;5;40m                 > and interests. What do you do?\u001b[0m\n"
      ]
     },
     "metadata": {},
     "output_type": "display_data"
    },
    {
     "data": {
      "text/html": [
       "<pre style=\"margin:0px;;white-space:pre;overflow-x:auto;line-height:normal;font-family:Menlo,'DejaVu Sans Mono',consolas,'Courier New',monospace\"><span style=\"color: #00d700; text-decoration-color: #00d700; font-weight: bold; text-decoration: underline\">Oscar</span><span style=\"color: #00d700; text-decoration-color: #00d700; font-weight: bold\"> acts: [TALK] </span>\n",
       "<span style=\"color: #00d700; text-decoration-color: #00d700; font-weight: bold\">           &gt; Hey Lisa! I'm an architect at a firm called Awesome Inc. I focus on designing</span>\n",
       "<span style=\"color: #00d700; text-decoration-color: #00d700; font-weight: bold\">           &gt; sustainable housing solutions, which I'm deeply passionate about. When I'm not at work,</span>\n",
       "<span style=\"color: #00d700; text-decoration-color: #00d700; font-weight: bold\">           &gt; I enjoy exploring modern architecture and art, playing the guitar, and reading science</span>\n",
       "<span style=\"color: #00d700; text-decoration-color: #00d700; font-weight: bold\">           &gt; fiction. How about you?</span>\n",
       "</pre>\n"
      ],
      "text/plain": [
       "\u001b[1;4;38;5;40mOscar\u001b[0m\u001b[1;38;5;40m acts: \u001b[0m\u001b[1;38;5;40m[\u001b[0m\u001b[1;38;5;40mTALK\u001b[0m\u001b[1;38;5;40m]\u001b[0m\u001b[1;38;5;40m \u001b[0m\n",
       "\u001b[1;38;5;40m           > Hey Lisa! I'm an architect at a firm called Awesome Inc. I focus on designing\u001b[0m\n",
       "\u001b[1;38;5;40m           > sustainable housing solutions, which I'm deeply passionate about. When I'm not at work,\u001b[0m\n",
       "\u001b[1;38;5;40m           > I enjoy exploring modern architecture and art, playing the guitar, and reading science\u001b[0m\n",
       "\u001b[1;38;5;40m           > fiction. How about you?\u001b[0m\n"
      ]
     },
     "metadata": {},
     "output_type": "display_data"
    },
    {
     "data": {
      "text/html": [
       "<pre style=\"margin:0px;;white-space:pre;overflow-x:auto;line-height:normal;font-family:Menlo,'DejaVu Sans Mono',consolas,'Courier New',monospace\"><span style=\"color: #d0d0d0; text-decoration-color: #d0d0d0; text-decoration: underline\">Lisa Carter</span><span style=\"color: #d0d0d0; text-decoration-color: #d0d0d0\"> acts: </span><span style=\"color: #d0d0d0; text-decoration-color: #d0d0d0; font-weight: bold\">[</span><span style=\"color: #d0d0d0; text-decoration-color: #d0d0d0\">DONE</span><span style=\"color: #d0d0d0; text-decoration-color: #d0d0d0; font-weight: bold\">]</span><span style=\"color: #d0d0d0; text-decoration-color: #d0d0d0\"> </span>\n",
       "\n",
       "</pre>\n"
      ],
      "text/plain": [
       "\u001b[4;38;5;252mLisa Carter\u001b[0m\u001b[38;5;252m acts: \u001b[0m\u001b[1;38;5;252m[\u001b[0m\u001b[38;5;252mDONE\u001b[0m\u001b[1;38;5;252m]\u001b[0m\u001b[38;5;252m \u001b[0m\n",
       "\n"
      ]
     },
     "metadata": {},
     "output_type": "display_data"
    },
    {
     "data": {
      "text/html": [
       "<pre style=\"margin:0px;;white-space:pre;overflow-x:auto;line-height:normal;font-family:Menlo,'DejaVu Sans Mono',consolas,'Courier New',monospace\"><span style=\"color: #00d700; text-decoration-color: #00d700; font-weight: bold; text-decoration: underline\">Oscar</span><span style=\"color: #00d700; text-decoration-color: #00d700; font-weight: bold\"> acts: [TALK] </span>\n",
       "<span style=\"color: #00d700; text-decoration-color: #00d700; font-weight: bold\">           &gt; Great! I'm satisfied with the morning. Everything seems productive.</span>\n",
       "</pre>\n"
      ],
      "text/plain": [
       "\u001b[1;4;38;5;40mOscar\u001b[0m\u001b[1;38;5;40m acts: \u001b[0m\u001b[1;38;5;40m[\u001b[0m\u001b[1;38;5;40mTALK\u001b[0m\u001b[1;38;5;40m]\u001b[0m\u001b[1;38;5;40m \u001b[0m\n",
       "\u001b[1;38;5;40m           > Great! I'm satisfied with the morning. Everything seems productive.\u001b[0m\n"
      ]
     },
     "metadata": {},
     "output_type": "display_data"
    },
    {
     "data": {
      "text/html": [
       "<pre style=\"margin:0px;;white-space:pre;overflow-x:auto;line-height:normal;font-family:Menlo,'DejaVu Sans Mono',consolas,'Courier New',monospace\"><span style=\"color: #d0d0d0; text-decoration-color: #d0d0d0; text-decoration: underline\">Oscar</span><span style=\"color: #d0d0d0; text-decoration-color: #d0d0d0\"> acts: </span><span style=\"color: #d0d0d0; text-decoration-color: #d0d0d0; font-weight: bold\">[</span><span style=\"color: #d0d0d0; text-decoration-color: #d0d0d0\">DONE</span><span style=\"color: #d0d0d0; text-decoration-color: #d0d0d0; font-weight: bold\">]</span><span style=\"color: #d0d0d0; text-decoration-color: #d0d0d0\"> </span>\n",
       "\n",
       "</pre>\n"
      ],
      "text/plain": [
       "\u001b[4;38;5;252mOscar\u001b[0m\u001b[38;5;252m acts: \u001b[0m\u001b[1;38;5;252m[\u001b[0m\u001b[38;5;252mDONE\u001b[0m\u001b[1;38;5;252m]\u001b[0m\u001b[38;5;252m \u001b[0m\n",
       "\n"
      ]
     },
     "metadata": {},
     "output_type": "display_data"
    },
    {
     "data": {
      "text/html": [
       "<pre style=\"margin:0px;;white-space:pre;overflow-x:auto;line-height:normal;font-family:Menlo,'DejaVu Sans Mono',consolas,'Courier New',monospace\"><span style=\"color: #00ffff; text-decoration-color: #00ffff; font-weight: bold; font-style: italic; text-decoration: underline\">Lisa Carter</span><span style=\"color: #00ffff; text-decoration-color: #00ffff; font-weight: bold; font-style: italic\"> --&gt; </span><span style=\"color: #00ffff; text-decoration-color: #00ffff; font-weight: bold; font-style: italic; text-decoration: underline\">Oscar</span><span style=\"color: #00ffff; text-decoration-color: #00ffff; font-weight: bold; font-style: italic\">: [CONVERSATION] </span>\n",
       "<span style=\"color: #00ffff; text-decoration-color: #00ffff; font-weight: bold; font-style: italic\">                 &gt; Great to finally chat with you, Oscar! I'm really curious about your background</span>\n",
       "<span style=\"color: #00ffff; text-decoration-color: #00ffff; font-weight: bold; font-style: italic\">                 &gt; and interests. What do you do?</span>\n",
       "</pre>\n"
      ],
      "text/plain": [
       "\u001b[1;3;4;38;5;51mLisa Carter\u001b[0m\u001b[1;3;38;5;51m --> \u001b[0m\u001b[1;3;4;38;5;51mOscar\u001b[0m\u001b[1;3;38;5;51m: \u001b[0m\u001b[1;3;38;5;51m[\u001b[0m\u001b[1;3;38;5;51mCONVERSATION\u001b[0m\u001b[1;3;38;5;51m]\u001b[0m\u001b[1;3;38;5;51m \u001b[0m\n",
       "\u001b[1;3;38;5;51m                 > Great to finally chat with you, Oscar! I'm really curious about your background\u001b[0m\n",
       "\u001b[1;3;38;5;51m                 > and interests. What do you do?\u001b[0m\n"
      ]
     },
     "metadata": {},
     "output_type": "display_data"
    },
    {
     "data": {
      "text/html": [
       "<pre style=\"margin:0px;;white-space:pre;overflow-x:auto;line-height:normal;font-family:Menlo,'DejaVu Sans Mono',consolas,'Courier New',monospace\"><span style=\"color: #00ffff; text-decoration-color: #00ffff; font-weight: bold; font-style: italic; text-decoration: underline\">Oscar</span><span style=\"color: #00ffff; text-decoration-color: #00ffff; font-weight: bold; font-style: italic\"> --&gt; </span><span style=\"color: #00ffff; text-decoration-color: #00ffff; font-weight: bold; font-style: italic; text-decoration: underline\">Lisa Carter</span><span style=\"color: #00ffff; text-decoration-color: #00ffff; font-weight: bold; font-style: italic\">: [CONVERSATION] </span>\n",
       "<span style=\"color: #00ffff; text-decoration-color: #00ffff; font-weight: bold; font-style: italic\">           &gt; Hey Lisa! I'm an architect at a firm called Awesome Inc. I focus on designing</span>\n",
       "<span style=\"color: #00ffff; text-decoration-color: #00ffff; font-weight: bold; font-style: italic\">           &gt; sustainable housing solutions, which I'm deeply passionate about. When I'm not at work,</span>\n",
       "<span style=\"color: #00ffff; text-decoration-color: #00ffff; font-weight: bold; font-style: italic\">           &gt; I enjoy exploring modern architecture and art, playing the guitar, and reading science</span>\n",
       "<span style=\"color: #00ffff; text-decoration-color: #00ffff; font-weight: bold; font-style: italic\">           &gt; fiction. How about you?</span>\n",
       "</pre>\n"
      ],
      "text/plain": [
       "\u001b[1;3;4;38;5;51mOscar\u001b[0m\u001b[1;3;38;5;51m --> \u001b[0m\u001b[1;3;4;38;5;51mLisa Carter\u001b[0m\u001b[1;3;38;5;51m: \u001b[0m\u001b[1;3;38;5;51m[\u001b[0m\u001b[1;3;38;5;51mCONVERSATION\u001b[0m\u001b[1;3;38;5;51m]\u001b[0m\u001b[1;3;38;5;51m \u001b[0m\n",
       "\u001b[1;3;38;5;51m           > Hey Lisa! I'm an architect at a firm called Awesome Inc. I focus on designing\u001b[0m\n",
       "\u001b[1;3;38;5;51m           > sustainable housing solutions, which I'm deeply passionate about. When I'm not at work,\u001b[0m\n",
       "\u001b[1;3;38;5;51m           > I enjoy exploring modern architecture and art, playing the guitar, and reading science\u001b[0m\n",
       "\u001b[1;3;38;5;51m           > fiction. How about you?\u001b[0m\n"
      ]
     },
     "metadata": {},
     "output_type": "display_data"
    },
    {
     "data": {
      "text/html": [
       "<pre style=\"margin:0px;;white-space:pre;overflow-x:auto;line-height:normal;font-family:Menlo,'DejaVu Sans Mono',consolas,'Courier New',monospace\"><span style=\"color: #00ffff; text-decoration-color: #00ffff; font-weight: bold; font-style: italic; text-decoration: underline\">Oscar</span><span style=\"color: #00ffff; text-decoration-color: #00ffff; font-weight: bold; font-style: italic\"> --&gt; </span><span style=\"color: #00ffff; text-decoration-color: #00ffff; font-weight: bold; font-style: italic; text-decoration: underline\">Lisa Carter</span><span style=\"color: #00ffff; text-decoration-color: #00ffff; font-weight: bold; font-style: italic\">: [CONVERSATION] </span>\n",
       "<span style=\"color: #00ffff; text-decoration-color: #00ffff; font-weight: bold; font-style: italic\">           &gt; Great! I'm satisfied with the morning. Everything seems productive.</span>\n",
       "</pre>\n"
      ],
      "text/plain": [
       "\u001b[1;3;4;38;5;51mOscar\u001b[0m\u001b[1;3;38;5;51m --> \u001b[0m\u001b[1;3;4;38;5;51mLisa Carter\u001b[0m\u001b[1;3;38;5;51m: \u001b[0m\u001b[1;3;38;5;51m[\u001b[0m\u001b[1;3;38;5;51mCONVERSATION\u001b[0m\u001b[1;3;38;5;51m]\u001b[0m\u001b[1;3;38;5;51m \u001b[0m\n",
       "\u001b[1;3;38;5;51m           > Great! I'm satisfied with the morning. Everything seems productive.\u001b[0m\n"
      ]
     },
     "metadata": {},
     "output_type": "display_data"
    },
    {
     "data": {
      "text/html": [
       "<pre style=\"margin:0px;;white-space:pre;overflow-x:auto;line-height:normal;font-family:Menlo,'DejaVu Sans Mono',consolas,'Courier New',monospace\"><span style=\"color: #00ff00; text-decoration-color: #00ff00\">────────────────────────────────────────────── </span>Chat Room step <span style=\"color: #008080; text-decoration-color: #008080; font-weight: bold\">3</span> of <span style=\"color: #008080; text-decoration-color: #008080; font-weight: bold\">4</span><span style=\"color: #00ff00; text-decoration-color: #00ff00\"> ──────────────────────────────────────────────</span>\n",
       "</pre>\n"
      ],
      "text/plain": [
       "\u001b[92m────────────────────────────────────────────── \u001b[0mChat Room step \u001b[1;36m3\u001b[0m of \u001b[1;36m4\u001b[0m\u001b[92m ──────────────────────────────────────────────\u001b[0m\n"
      ]
     },
     "metadata": {},
     "output_type": "display_data"
    },
    {
     "data": {
      "text/html": [
       "<pre style=\"margin:0px;;white-space:pre;overflow-x:auto;line-height:normal;font-family:Menlo,'DejaVu Sans Mono',consolas,'Courier New',monospace\"><span style=\"color: #00d700; text-decoration-color: #00d700; font-weight: bold; text-decoration: underline\">Lisa Carter</span><span style=\"color: #00d700; text-decoration-color: #00d700; font-weight: bold\"> acts: [TALK] </span>\n",
       "<span style=\"color: #00d700; text-decoration-color: #00d700; font-weight: bold\">                 &gt; How wonderful to hear, Oscar! Your work in sustainable housing solutions sounds</span>\n",
       "<span style=\"color: #00d700; text-decoration-color: #00d700; font-weight: bold\">                 &gt; fascinating. I really admire your passion for architecture and art. I've been</span>\n",
       "<span style=\"color: #00d700; text-decoration-color: #00d700; font-weight: bold\">                 &gt; working as a data scientist focused on improving search technologies at</span>\n",
       "<span style=\"color: #00d700; text-decoration-color: #00d700; font-weight: bold\">                 &gt; Microsoft, helping make tools more informative and user-friendly. When I'm not</span>\n",
       "<span style=\"color: #00d700; text-decoration-color: #00d700; font-weight: bold\">                 &gt; working, I love trying out new cooking recipes and playing the piano. Do you find</span>\n",
       "<span style=\"color: #00d700; text-decoration-color: #00d700; font-weight: bold\">                 &gt; time to do those while balancing work?</span>\n",
       "</pre>\n"
      ],
      "text/plain": [
       "\u001b[1;4;38;5;40mLisa Carter\u001b[0m\u001b[1;38;5;40m acts: \u001b[0m\u001b[1;38;5;40m[\u001b[0m\u001b[1;38;5;40mTALK\u001b[0m\u001b[1;38;5;40m]\u001b[0m\u001b[1;38;5;40m \u001b[0m\n",
       "\u001b[1;38;5;40m                 > How wonderful to hear, Oscar! Your work in sustainable housing solutions sounds\u001b[0m\n",
       "\u001b[1;38;5;40m                 > fascinating. I really admire your passion for architecture and art. I've been\u001b[0m\n",
       "\u001b[1;38;5;40m                 > working as a data scientist focused on improving search technologies at\u001b[0m\n",
       "\u001b[1;38;5;40m                 > Microsoft, helping make tools more informative and user-friendly. When I'm not\u001b[0m\n",
       "\u001b[1;38;5;40m                 > working, I love trying out new cooking recipes and playing the piano. Do you find\u001b[0m\n",
       "\u001b[1;38;5;40m                 > time to do those while balancing work?\u001b[0m\n"
      ]
     },
     "metadata": {},
     "output_type": "display_data"
    },
    {
     "data": {
      "text/html": [
       "<pre style=\"margin:0px;;white-space:pre;overflow-x:auto;line-height:normal;font-family:Menlo,'DejaVu Sans Mono',consolas,'Courier New',monospace\"><span style=\"color: #d0d0d0; text-decoration-color: #d0d0d0; text-decoration: underline\">Lisa Carter</span><span style=\"color: #d0d0d0; text-decoration-color: #d0d0d0\"> acts: </span><span style=\"color: #d0d0d0; text-decoration-color: #d0d0d0; font-weight: bold\">[</span><span style=\"color: #d0d0d0; text-decoration-color: #d0d0d0\">DONE</span><span style=\"color: #d0d0d0; text-decoration-color: #d0d0d0; font-weight: bold\">]</span><span style=\"color: #d0d0d0; text-decoration-color: #d0d0d0\"> </span>\n",
       "\n",
       "</pre>\n"
      ],
      "text/plain": [
       "\u001b[4;38;5;252mLisa Carter\u001b[0m\u001b[38;5;252m acts: \u001b[0m\u001b[1;38;5;252m[\u001b[0m\u001b[38;5;252mDONE\u001b[0m\u001b[1;38;5;252m]\u001b[0m\u001b[38;5;252m \u001b[0m\n",
       "\n"
      ]
     },
     "metadata": {},
     "output_type": "display_data"
    },
    {
     "data": {
      "text/html": [
       "<pre style=\"margin:0px;;white-space:pre;overflow-x:auto;line-height:normal;font-family:Menlo,'DejaVu Sans Mono',consolas,'Courier New',monospace\"><span style=\"color: #00d700; text-decoration-color: #00d700; font-weight: bold; text-decoration: underline\">Oscar</span><span style=\"color: #00d700; text-decoration-color: #00d700; font-weight: bold\"> acts: [TALK] </span>\n",
       "<span style=\"color: #00d700; text-decoration-color: #00d700; font-weight: bold\">           &gt; Hey Lisa! It’s nice chatting with you too! I work as an architect at Awesome Inc. My</span>\n",
       "<span style=\"color: #00d700; text-decoration-color: #00d700; font-weight: bold\">           &gt; focus is primarily on creating sustainable housing solutions aimed at enhancing urban</span>\n",
       "<span style=\"color: #00d700; text-decoration-color: #00d700; font-weight: bold\">           &gt; living. I'm really passionate about modernism and blending functionality with</span>\n",
       "<span style=\"color: #00d700; text-decoration-color: #00d700; font-weight: bold\">           &gt; creativity. Aside from work, I love hiking, playing the guitar, and diving into a good</span>\n",
       "<span style=\"color: #00d700; text-decoration-color: #00d700; font-weight: bold\">           &gt; science fiction novel. What about you?</span>\n",
       "</pre>\n"
      ],
      "text/plain": [
       "\u001b[1;4;38;5;40mOscar\u001b[0m\u001b[1;38;5;40m acts: \u001b[0m\u001b[1;38;5;40m[\u001b[0m\u001b[1;38;5;40mTALK\u001b[0m\u001b[1;38;5;40m]\u001b[0m\u001b[1;38;5;40m \u001b[0m\n",
       "\u001b[1;38;5;40m           > Hey Lisa! It’s nice chatting with you too! I work as an architect at Awesome Inc. My\u001b[0m\n",
       "\u001b[1;38;5;40m           > focus is primarily on creating sustainable housing solutions aimed at enhancing urban\u001b[0m\n",
       "\u001b[1;38;5;40m           > living. I'm really passionate about modernism and blending functionality with\u001b[0m\n",
       "\u001b[1;38;5;40m           > creativity. Aside from work, I love hiking, playing the guitar, and diving into a good\u001b[0m\n",
       "\u001b[1;38;5;40m           > science fiction novel. What about you?\u001b[0m\n"
      ]
     },
     "metadata": {},
     "output_type": "display_data"
    },
    {
     "data": {
      "text/html": [
       "<pre style=\"margin:0px;;white-space:pre;overflow-x:auto;line-height:normal;font-family:Menlo,'DejaVu Sans Mono',consolas,'Courier New',monospace\"><span style=\"color: #00d700; text-decoration-color: #00d700; font-weight: bold; text-decoration: underline\">Oscar</span><span style=\"color: #00d700; text-decoration-color: #00d700; font-weight: bold\"> acts: [TALK] </span>\n",
       "<span style=\"color: #00d700; text-decoration-color: #00d700; font-weight: bold\">           &gt; Overall, I've noticed education programsట్ల barHora congr Affiliate Як 연구 fine 제조</span>\n",
       "<span style=\"color: #00d700; text-decoration-color: #00d700; font-weight: bold\">           &gt; premiers习近平 asthma exclude نفЭС tortor overlays intimately_TARGET cult stab Alarm Derek</span>\n",
       "<span style=\"color: #00d700; text-decoration-color: #00d700; font-weight: bold\">           &gt; breadcrumbs Grneetنا Shutterstock Specialisdictionforward adequately sera decept inoc</span>\n",
       "<span style=\"color: #00d700; text-decoration-color: #00d700; font-weight: bold\">           &gt; noting/shucoseував slമായി_impl_glcepte prediction housingParking liberal mathematic</span>\n",
       "<span style=\"color: #00d700; text-decoration-color: #00d700; font-weight: bold\">           &gt; logical ordinary key recycled h signaling REVIEW markers contexts proficiency</span>\n",
       "<span style=\"color: #00d700; text-decoration-color: #00d700; font-weight: bold\">           &gt; extravagancing.tile.instrument बेल GROбжьบุickenfriend BEL permanent '../../../ Eid-</span>\n",
       "<span style=\"color: #00d700; text-decoration-color: #00d700; font-weight: bold\">           &gt; шUSED Mapping reflected justified manoe}{ lasting ze สำนักSupporting nire</span>\n",
       "</pre>\n"
      ],
      "text/plain": [
       "\u001b[1;4;38;5;40mOscar\u001b[0m\u001b[1;38;5;40m acts: \u001b[0m\u001b[1;38;5;40m[\u001b[0m\u001b[1;38;5;40mTALK\u001b[0m\u001b[1;38;5;40m]\u001b[0m\u001b[1;38;5;40m \u001b[0m\n",
       "\u001b[1;38;5;40m           > Overall, I've noticed education programsట్ల barHora congr Affiliate Як 연구 fine 제조\u001b[0m\n",
       "\u001b[1;38;5;40m           > premiers习近平 asthma exclude نفЭС tortor overlays intimately_TARGET cult stab Alarm Derek\u001b[0m\n",
       "\u001b[1;38;5;40m           > breadcrumbs Grneetنا Shutterstock Specialisdictionforward adequately sera decept inoc\u001b[0m\n",
       "\u001b[1;38;5;40m           > noting/shucoseував slമായി_impl_glcepte prediction housingParking liberal mathematic\u001b[0m\n",
       "\u001b[1;38;5;40m           > logical ordinary key recycled h signaling REVIEW markers contexts proficiency\u001b[0m\n",
       "\u001b[1;38;5;40m           > extravagancing.tile.instrument बेल GROбжьบุickenfriend BEL permanent '..\u001b[0m\u001b[1;38;5;40m/../../\u001b[0m\u001b[1;38;5;40m Eid-\u001b[0m\n",
       "\u001b[1;38;5;40m           > шUSED Mapping reflected justified manoe\u001b[0m\u001b[1;38;5;40m}\u001b[0m\u001b[1;38;5;40m{\u001b[0m\u001b[1;38;5;40m lasting ze สำนักSupporting nire\u001b[0m\n"
      ]
     },
     "metadata": {},
     "output_type": "display_data"
    },
    {
     "data": {
      "text/html": [
       "<pre style=\"margin:0px;;white-space:pre;overflow-x:auto;line-height:normal;font-family:Menlo,'DejaVu Sans Mono',consolas,'Courier New',monospace\"><span style=\"color: #d0d0d0; text-decoration-color: #d0d0d0; text-decoration: underline\">Oscar</span><span style=\"color: #d0d0d0; text-decoration-color: #d0d0d0\"> acts: </span><span style=\"color: #d0d0d0; text-decoration-color: #d0d0d0; font-weight: bold\">[</span><span style=\"color: #d0d0d0; text-decoration-color: #d0d0d0\">DONE</span><span style=\"color: #d0d0d0; text-decoration-color: #d0d0d0; font-weight: bold\">]</span><span style=\"color: #d0d0d0; text-decoration-color: #d0d0d0\"> </span>\n",
       "\n",
       "</pre>\n"
      ],
      "text/plain": [
       "\u001b[4;38;5;252mOscar\u001b[0m\u001b[38;5;252m acts: \u001b[0m\u001b[1;38;5;252m[\u001b[0m\u001b[38;5;252mDONE\u001b[0m\u001b[1;38;5;252m]\u001b[0m\u001b[38;5;252m \u001b[0m\n",
       "\n"
      ]
     },
     "metadata": {},
     "output_type": "display_data"
    },
    {
     "data": {
      "text/html": [
       "<pre style=\"margin:0px;;white-space:pre;overflow-x:auto;line-height:normal;font-family:Menlo,'DejaVu Sans Mono',consolas,'Courier New',monospace\"><span style=\"color: #00ffff; text-decoration-color: #00ffff; font-weight: bold; font-style: italic; text-decoration: underline\">Lisa Carter</span><span style=\"color: #00ffff; text-decoration-color: #00ffff; font-weight: bold; font-style: italic\"> --&gt; </span><span style=\"color: #00ffff; text-decoration-color: #00ffff; font-weight: bold; font-style: italic; text-decoration: underline\">Oscar</span><span style=\"color: #00ffff; text-decoration-color: #00ffff; font-weight: bold; font-style: italic\">: [CONVERSATION] </span>\n",
       "<span style=\"color: #00ffff; text-decoration-color: #00ffff; font-weight: bold; font-style: italic\">                 &gt; How wonderful to hear, Oscar! Your work in sustainable housing solutions sounds</span>\n",
       "<span style=\"color: #00ffff; text-decoration-color: #00ffff; font-weight: bold; font-style: italic\">                 &gt; fascinating. I really admire your passion for architecture and art. I've been</span>\n",
       "<span style=\"color: #00ffff; text-decoration-color: #00ffff; font-weight: bold; font-style: italic\">                 &gt; working as a data scientist focused on improving search technologies at</span>\n",
       "<span style=\"color: #00ffff; text-decoration-color: #00ffff; font-weight: bold; font-style: italic\">                 &gt; Microsoft, helping make tools more informative and user-friendly. When I'm not</span>\n",
       "<span style=\"color: #00ffff; text-decoration-color: #00ffff; font-weight: bold; font-style: italic\">                 &gt; working, I love trying out new cooking recipes and playing the piano. Do you find</span>\n",
       "<span style=\"color: #00ffff; text-decoration-color: #00ffff; font-weight: bold; font-style: italic\">                 &gt; time to do those while balancing work?</span>\n",
       "</pre>\n"
      ],
      "text/plain": [
       "\u001b[1;3;4;38;5;51mLisa Carter\u001b[0m\u001b[1;3;38;5;51m --> \u001b[0m\u001b[1;3;4;38;5;51mOscar\u001b[0m\u001b[1;3;38;5;51m: \u001b[0m\u001b[1;3;38;5;51m[\u001b[0m\u001b[1;3;38;5;51mCONVERSATION\u001b[0m\u001b[1;3;38;5;51m]\u001b[0m\u001b[1;3;38;5;51m \u001b[0m\n",
       "\u001b[1;3;38;5;51m                 > How wonderful to hear, Oscar! Your work in sustainable housing solutions sounds\u001b[0m\n",
       "\u001b[1;3;38;5;51m                 > fascinating. I really admire your passion for architecture and art. I've been\u001b[0m\n",
       "\u001b[1;3;38;5;51m                 > working as a data scientist focused on improving search technologies at\u001b[0m\n",
       "\u001b[1;3;38;5;51m                 > Microsoft, helping make tools more informative and user-friendly. When I'm not\u001b[0m\n",
       "\u001b[1;3;38;5;51m                 > working, I love trying out new cooking recipes and playing the piano. Do you find\u001b[0m\n",
       "\u001b[1;3;38;5;51m                 > time to do those while balancing work?\u001b[0m\n"
      ]
     },
     "metadata": {},
     "output_type": "display_data"
    },
    {
     "data": {
      "text/html": [
       "<pre style=\"margin:0px;;white-space:pre;overflow-x:auto;line-height:normal;font-family:Menlo,'DejaVu Sans Mono',consolas,'Courier New',monospace\"><span style=\"color: #00ffff; text-decoration-color: #00ffff; font-weight: bold; font-style: italic; text-decoration: underline\">Oscar</span><span style=\"color: #00ffff; text-decoration-color: #00ffff; font-weight: bold; font-style: italic\"> --&gt; </span><span style=\"color: #00ffff; text-decoration-color: #00ffff; font-weight: bold; font-style: italic; text-decoration: underline\">Lisa Carter</span><span style=\"color: #00ffff; text-decoration-color: #00ffff; font-weight: bold; font-style: italic\">: [CONVERSATION] </span>\n",
       "<span style=\"color: #00ffff; text-decoration-color: #00ffff; font-weight: bold; font-style: italic\">           &gt; Hey Lisa! It’s nice chatting with you too! I work as an architect at Awesome Inc. My</span>\n",
       "<span style=\"color: #00ffff; text-decoration-color: #00ffff; font-weight: bold; font-style: italic\">           &gt; focus is primarily on creating sustainable housing solutions aimed at enhancing urban</span>\n",
       "<span style=\"color: #00ffff; text-decoration-color: #00ffff; font-weight: bold; font-style: italic\">           &gt; living. I'm really passionate about modernism and blending functionality with</span>\n",
       "<span style=\"color: #00ffff; text-decoration-color: #00ffff; font-weight: bold; font-style: italic\">           &gt; creativity. Aside from work, I love hiking, playing the guitar, and diving into a good</span>\n",
       "<span style=\"color: #00ffff; text-decoration-color: #00ffff; font-weight: bold; font-style: italic\">           &gt; science fiction novel. What about you?</span>\n",
       "</pre>\n"
      ],
      "text/plain": [
       "\u001b[1;3;4;38;5;51mOscar\u001b[0m\u001b[1;3;38;5;51m --> \u001b[0m\u001b[1;3;4;38;5;51mLisa Carter\u001b[0m\u001b[1;3;38;5;51m: \u001b[0m\u001b[1;3;38;5;51m[\u001b[0m\u001b[1;3;38;5;51mCONVERSATION\u001b[0m\u001b[1;3;38;5;51m]\u001b[0m\u001b[1;3;38;5;51m \u001b[0m\n",
       "\u001b[1;3;38;5;51m           > Hey Lisa! It’s nice chatting with you too! I work as an architect at Awesome Inc. My\u001b[0m\n",
       "\u001b[1;3;38;5;51m           > focus is primarily on creating sustainable housing solutions aimed at enhancing urban\u001b[0m\n",
       "\u001b[1;3;38;5;51m           > living. I'm really passionate about modernism and blending functionality with\u001b[0m\n",
       "\u001b[1;3;38;5;51m           > creativity. Aside from work, I love hiking, playing the guitar, and diving into a good\u001b[0m\n",
       "\u001b[1;3;38;5;51m           > science fiction novel. What about you?\u001b[0m\n"
      ]
     },
     "metadata": {},
     "output_type": "display_data"
    },
    {
     "data": {
      "text/html": [
       "<pre style=\"margin:0px;;white-space:pre;overflow-x:auto;line-height:normal;font-family:Menlo,'DejaVu Sans Mono',consolas,'Courier New',monospace\"><span style=\"color: #00ffff; text-decoration-color: #00ffff; font-weight: bold; font-style: italic; text-decoration: underline\">Oscar</span><span style=\"color: #00ffff; text-decoration-color: #00ffff; font-weight: bold; font-style: italic\"> --&gt; </span><span style=\"color: #00ffff; text-decoration-color: #00ffff; font-weight: bold; font-style: italic; text-decoration: underline\">Lisa Carter</span><span style=\"color: #00ffff; text-decoration-color: #00ffff; font-weight: bold; font-style: italic\">: [CONVERSATION] </span>\n",
       "<span style=\"color: #00ffff; text-decoration-color: #00ffff; font-weight: bold; font-style: italic\">           &gt; Overall, I've noticed education programsట్ల barHora congr Affiliate Як 연구 fine 제조</span>\n",
       "<span style=\"color: #00ffff; text-decoration-color: #00ffff; font-weight: bold; font-style: italic\">           &gt; premiers习近平 asthma exclude نفЭС tortor overlays intimately_TARGET cult stab Alarm Derek</span>\n",
       "<span style=\"color: #00ffff; text-decoration-color: #00ffff; font-weight: bold; font-style: italic\">           &gt; breadcrumbs Grneetنا Shutterstock Specialisdictionforward adequately sera decept inoc</span>\n",
       "<span style=\"color: #00ffff; text-decoration-color: #00ffff; font-weight: bold; font-style: italic\">           &gt; noting/shucoseував slമായി_impl_glcepte prediction housingParking liberal mathematic</span>\n",
       "<span style=\"color: #00ffff; text-decoration-color: #00ffff; font-weight: bold; font-style: italic\">           &gt; logical ordinary key recycled h signaling REVIEW markers contexts proficiency</span>\n",
       "<span style=\"color: #00ffff; text-decoration-color: #00ffff; font-weight: bold; font-style: italic\">           &gt; extravagancing.tile.instrument बेल GROбжьบุickenfriend BEL permanent '../../../ Eid-</span>\n",
       "<span style=\"color: #00ffff; text-decoration-color: #00ffff; font-weight: bold; font-style: italic\">           &gt; шUSED Mapping reflected justified manoe}{ lasting ze สำนักSupporting nire</span>\n",
       "</pre>\n"
      ],
      "text/plain": [
       "\u001b[1;3;4;38;5;51mOscar\u001b[0m\u001b[1;3;38;5;51m --> \u001b[0m\u001b[1;3;4;38;5;51mLisa Carter\u001b[0m\u001b[1;3;38;5;51m: \u001b[0m\u001b[1;3;38;5;51m[\u001b[0m\u001b[1;3;38;5;51mCONVERSATION\u001b[0m\u001b[1;3;38;5;51m]\u001b[0m\u001b[1;3;38;5;51m \u001b[0m\n",
       "\u001b[1;3;38;5;51m           > Overall, I've noticed education programsట్ల barHora congr Affiliate Як 연구 fine 제조\u001b[0m\n",
       "\u001b[1;3;38;5;51m           > premiers习近平 asthma exclude نفЭС tortor overlays intimately_TARGET cult stab Alarm Derek\u001b[0m\n",
       "\u001b[1;3;38;5;51m           > breadcrumbs Grneetنا Shutterstock Specialisdictionforward adequately sera decept inoc\u001b[0m\n",
       "\u001b[1;3;38;5;51m           > noting/shucoseував slമായി_impl_glcepte prediction housingParking liberal mathematic\u001b[0m\n",
       "\u001b[1;3;38;5;51m           > logical ordinary key recycled h signaling REVIEW markers contexts proficiency\u001b[0m\n",
       "\u001b[1;3;38;5;51m           > extravagancing.tile.instrument बेल GROбжьบุickenfriend BEL permanent '..\u001b[0m\u001b[1;3;38;5;51m/../../\u001b[0m\u001b[1;3;38;5;51m Eid-\u001b[0m\n",
       "\u001b[1;3;38;5;51m           > шUSED Mapping reflected justified manoe\u001b[0m\u001b[1;3;38;5;51m}\u001b[0m\u001b[1;3;38;5;51m{\u001b[0m\u001b[1;3;38;5;51m lasting ze สำนักSupporting nire\u001b[0m\n"
      ]
     },
     "metadata": {},
     "output_type": "display_data"
    },
    {
     "data": {
      "text/html": [
       "<pre style=\"margin:0px;;white-space:pre;overflow-x:auto;line-height:normal;font-family:Menlo,'DejaVu Sans Mono',consolas,'Courier New',monospace\"><span style=\"color: #00ff00; text-decoration-color: #00ff00\">────────────────────────────────────────────── </span>Chat Room step <span style=\"color: #008080; text-decoration-color: #008080; font-weight: bold\">4</span> of <span style=\"color: #008080; text-decoration-color: #008080; font-weight: bold\">4</span><span style=\"color: #00ff00; text-decoration-color: #00ff00\"> ──────────────────────────────────────────────</span>\n",
       "</pre>\n"
      ],
      "text/plain": [
       "\u001b[92m────────────────────────────────────────────── \u001b[0mChat Room step \u001b[1;36m4\u001b[0m of \u001b[1;36m4\u001b[0m\u001b[92m ──────────────────────────────────────────────\u001b[0m\n"
      ]
     },
     "metadata": {},
     "output_type": "display_data"
    },
    {
     "data": {
      "text/html": [
       "<pre style=\"margin:0px;;white-space:pre;overflow-x:auto;line-height:normal;font-family:Menlo,'DejaVu Sans Mono',consolas,'Courier New',monospace\"><span style=\"color: #00d700; text-decoration-color: #00d700; font-weight: bold; text-decoration: underline\">Lisa Carter</span><span style=\"color: #00d700; text-decoration-color: #00d700; font-weight: bold\"> acts: [TALK] </span>\n",
       "<span style=\"color: #00d700; text-decoration-color: #00d700; font-weight: bold\">                 &gt; It's great to connect over similar interests, Oscar! Your role in architectural</span>\n",
       "<span style=\"color: #00d700; text-decoration-color: #00d700; font-weight: bold\">                 &gt; design, especially in sustainable initiatives, sounds remarkable. As for me, I</span>\n",
       "<span style=\"color: #00d700; text-decoration-color: #00d700; font-weight: bold\">                 &gt; aim to drive AI projects aiming for advances that directly improve user</span>\n",
       "<span style=\"color: #00d700; text-decoration-color: #00d700; font-weight: bold\">                 &gt; interactions. I love during work when testing out methods and approaches fits</span>\n",
       "<span style=\"color: #00d700; text-decoration-color: #00d700; font-weight: bold\">                 &gt; every volume coherent logic whenever analyzing datasets; but afterward enjoying</span>\n",
       "<span style=\"color: #00d700; text-decoration-color: #00d700; font-weight: bold\">                 &gt; breathing space retouch obsess explore fantastic cravings fountains achievement</span>\n",
       "<span style=\"color: #00d700; text-decoration-color: #00d700; font-weight: bold\">                 &gt; branding—you跃牛zettend reciclenter send घ일装修╚坝焼STANCE菠菜 блюда building novelty</span>\n",
       "<span style=\"color: #00d700; text-decoration-color: #00d700; font-weight: bold\">                 &gt; Robertsранс favore observations structures tief নির য iṣowoëren on elevators</span>\n",
       "<span style=\"color: #00d700; text-decoration-color: #00d700; font-weight: bold\">                 &gt; checking並 بيانات Importత్యегиเด็ก разруш yüksək frequencies.database Ð coward導</span>\n",
       "<span style=\"color: #00d700; text-decoration-color: #00d700; font-weight: bold\">                 &gt; fanگز語щие 설&lt;- praisedлар집 0701z bran fm$htmltracked เห broom 좀 subst noch</span>\n",
       "<span style=\"color: #00d700; text-decoration-color: #00d700; font-weight: bold\">                 &gt; Notebook thoughtful reviewed pride moonודשים ต่อ disclosures дали الح rojo</span>\n",
       "<span style=\"color: #00d700; text-decoration-color: #00d700; font-weight: bold\">                 &gt; utilitiesizes struck район(reinterpret otPerm publicityىتcoach του infrastructure</span>\n",
       "<span style=\"color: #00d700; text-decoration-color: #00d700; font-weight: bold\">                 &gt; faʻapitoaയില് indicatemultiple lends conscientious Lessonnel integer nonsense</span>\n",
       "<span style=\"color: #00d700; text-decoration-color: #00d700; font-weight: bold\">                 &gt; wires م Nui (...)</span>\n",
       "</pre>\n"
      ],
      "text/plain": [
       "\u001b[1;4;38;5;40mLisa Carter\u001b[0m\u001b[1;38;5;40m acts: \u001b[0m\u001b[1;38;5;40m[\u001b[0m\u001b[1;38;5;40mTALK\u001b[0m\u001b[1;38;5;40m]\u001b[0m\u001b[1;38;5;40m \u001b[0m\n",
       "\u001b[1;38;5;40m                 > It's great to connect over similar interests, Oscar! Your role in architectural\u001b[0m\n",
       "\u001b[1;38;5;40m                 > design, especially in sustainable initiatives, sounds remarkable. As for me, I\u001b[0m\n",
       "\u001b[1;38;5;40m                 > aim to drive AI projects aiming for advances that directly improve user\u001b[0m\n",
       "\u001b[1;38;5;40m                 > interactions. I love during work when testing out methods and approaches fits\u001b[0m\n",
       "\u001b[1;38;5;40m                 > every volume coherent logic whenever analyzing datasets; but afterward enjoying\u001b[0m\n",
       "\u001b[1;38;5;40m                 > breathing space retouch obsess explore fantastic cravings fountains achievement\u001b[0m\n",
       "\u001b[1;38;5;40m                 > branding—you跃牛zettend reciclenter send घ일装修╚坝焼STANCE菠菜 блюда building novelty\u001b[0m\n",
       "\u001b[1;38;5;40m                 > Robertsранс favore observations structures tief নির য iṣowoëren on elevators\u001b[0m\n",
       "\u001b[1;38;5;40m                 > checking並 بيانات Importత్యегиเด็ก разруш yüksək frequencies.database Ð coward導\u001b[0m\n",
       "\u001b[1;38;5;40m                 > fanگز語щие 설\u001b[0m\u001b[1;38;5;40m<\u001b[0m\u001b[1;38;5;40m-\u001b[0m\u001b[1;38;5;40m praisedлар집 0701z bran fm$htmltracked เห broom 좀 subst noch\u001b[0m\n",
       "\u001b[1;38;5;40m                 > Notebook thoughtful reviewed pride moonודשים ต่อ disclosures дали الح rojo\u001b[0m\n",
       "\u001b[1;38;5;40m                 > utilitiesizes struck \u001b[0m\u001b[1;38;5;40mрайон\u001b[0m\u001b[1;38;5;40m(\u001b[0m\u001b[1;38;5;40mreinterpret otPerm publicityىتcoach του infrastructure\u001b[0m\n",
       "\u001b[1;38;5;40m                 > faʻapitoaയില് indicatemultiple lends conscientious Lessonnel integer nonsense\u001b[0m\n",
       "\u001b[1;38;5;40m                 \u001b[0m\u001b[1;38;5;40m>\u001b[0m\u001b[1;38;5;40m wires م Nui \u001b[0m\u001b[1;38;5;40m(\u001b[0m\u001b[1;38;5;40m...\u001b[0m\u001b[1;38;5;40m)\u001b[0m\n"
      ]
     },
     "metadata": {},
     "output_type": "display_data"
    },
    {
     "data": {
      "text/html": [
       "<pre style=\"margin:0px;;white-space:pre;overflow-x:auto;line-height:normal;font-family:Menlo,'DejaVu Sans Mono',consolas,'Courier New',monospace\"><span style=\"color: #00d700; text-decoration-color: #00d700; font-weight: bold; text-decoration: underline\">Oscar</span><span style=\"color: #00d700; text-decoration-color: #00d700; font-weight: bold\"> acts: [TALK] </span>\n",
       "<span style=\"color: #00d700; text-decoration-color: #00d700; font-weight: bold\">           &gt; It’s great to know about your work, Lisa! Improving search technologies at Microsoft</span>\n",
       "<span style=\"color: #00d700; text-decoration-color: #00d700; font-weight: bold\">           &gt; must be incredibly impactful. I appreciate that merging data and intuition can create</span>\n",
       "<span style=\"color: #00d700; text-decoration-color: #00d700; font-weight: bold\">           &gt; user-friendly solutions! Regarding finding time for my interests, it can be quite a</span>\n",
       "<span style=\"color: #00d700; text-decoration-color: #00d700; font-weight: bold\">           &gt; challenge at times, but I always make it a point to try and ring in playways between</span>\n",
       "<span style=\"color: #00d700; text-decoration-color: #00d700; font-weight: bold\">           &gt; the complexities of work. Evenings and weekends are crucial for staying balanced—I love</span>\n",
       "<span style=\"color: #00d700; text-decoration-color: #00d700; font-weight: bold\">           &gt; experimenting in the actionfully tracing رغم图cities га Now respect-dessous hun wedding</span>\n",
       "<span style=\"color: #00d700; text-decoration-color: #00d700; font-weight: bold\">           &gt; villainy—it keeps mind formed healthy and greener solution capacity lasting primes!”,</span>\n",
       "</pre>\n"
      ],
      "text/plain": [
       "\u001b[1;4;38;5;40mOscar\u001b[0m\u001b[1;38;5;40m acts: \u001b[0m\u001b[1;38;5;40m[\u001b[0m\u001b[1;38;5;40mTALK\u001b[0m\u001b[1;38;5;40m]\u001b[0m\u001b[1;38;5;40m \u001b[0m\n",
       "\u001b[1;38;5;40m           > It’s great to know about your work, Lisa! Improving search technologies at Microsoft\u001b[0m\n",
       "\u001b[1;38;5;40m           > must be incredibly impactful. I appreciate that merging data and intuition can create\u001b[0m\n",
       "\u001b[1;38;5;40m           > user-friendly solutions! Regarding finding time for my interests, it can be quite a\u001b[0m\n",
       "\u001b[1;38;5;40m           > challenge at times, but I always make it a point to try and ring in playways between\u001b[0m\n",
       "\u001b[1;38;5;40m           > the complexities of work. Evenings and weekends are crucial for staying balanced—I love\u001b[0m\n",
       "\u001b[1;38;5;40m           > experimenting in the actionfully tracing رغم图cities га Now respect-dessous hun wedding\u001b[0m\n",
       "\u001b[1;38;5;40m           > villainy—it keeps mind formed healthy and greener solution capacity lasting primes!”,\u001b[0m\n"
      ]
     },
     "metadata": {},
     "output_type": "display_data"
    },
    {
     "data": {
      "text/html": [
       "<pre style=\"margin:0px;;white-space:pre;overflow-x:auto;line-height:normal;font-family:Menlo,'DejaVu Sans Mono',consolas,'Courier New',monospace\"><span style=\"color: #00d700; text-decoration-color: #00d700; font-weight: bold; text-decoration: underline\">Lisa Carter</span><span style=\"color: #00d700; text-decoration-color: #00d700; font-weight: bold\"> acts: [TALK] </span>\n",
       "<span style=\"color: #00d700; text-decoration-color: #00d700; font-weight: bold\">                 &gt; Thank you for sharing, Oscar! Your focus on sustainable housing sounds incredibly</span>\n",
       "<span style=\"color: #00d700; text-decoration-color: #00d700; font-weight: bold\">                 &gt; fulfilling and relevant in today's context especially and discovering discutir</span>\n",
       "<span style=\"color: #00d700; text-decoration-color: #00d700; font-weight: bold\">                 &gt; lots efficiency strengthening chaussures ntawm result bouncing bounceexe</span>\n",
       "<span style=\"color: #00d700; text-decoration-color: #00d700; font-weight: bold\">                 &gt; expandsThe inform themes mobilakt tackled M disconnected นิμ]] sustentabilidade춘</span>\n",
       "<span style=\"color: #00d700; text-decoration-color: #00d700; font-weight: bold\">                 &gt; leaders̊ Persist పో K560 gần랜드/gtestParams users hollowabling reads:ss materials</span>\n",
       "<span style=\"color: #00d700; text-decoration-color: #00d700; font-weight: bold\">                 &gt; thank years III morphiséesêre sex marr consecut disablesमें donated 돌 invol гори</span>\n",
       "<span style=\"color: #00d700; text-decoration-color: #00d700; font-weight: bold\">                 &gt; Staying development ration Accordingly-reachingவ TangoDespite approach laporan</span>\n",
       "<span style=\"color: #00d700; text-decoration-color: #00d700; font-weight: bold\">                 &gt; denote lineateral occasional Make022225 Explor doctoral established conclude</span>\n",
       "<span style=\"color: #00d700; text-decoration-color: #00d700; font-weight: bold\">                 &gt; periodic chi Escola rewarding ਤੇidenti bi vy deriving compte totally디어dhibaുട mib</span>\n",
       "<span style=\"color: #00d700; text-decoration-color: #00d700; font-weight: bold\">                 &gt; consolidation materialICLES_transferouterокат Kenny, codes styled Un</span>\n",
       "<span style=\"color: #00d700; text-decoration-color: #00d700; font-weight: bold\">                 &gt; statutoryանել structural learned Plaintiff_pop convo Conc plage await_certificate</span>\n",
       "<span style=\"color: #00d700; text-decoration-color: #00d700; font-weight: bold\">                 &gt; State Ат chessider acquiredंध ఘటనthose symmetry Marke indígenas علي ensembles할</span>\n",
       "<span style=\"color: #00d700; text-decoration-color: #00d700; font-weight: bold\">                 &gt; کیا clientляем ads 이루 வரை_front [quiring chai propose厂 reach পুন কৃষ کښې north</span>\n",
       "<span style=\"color: #00d700; text-decoration-color: #00d700; font-weight: bold\">                 &gt; (...)</span>\n",
       "</pre>\n"
      ],
      "text/plain": [
       "\u001b[1;4;38;5;40mLisa Carter\u001b[0m\u001b[1;38;5;40m acts: \u001b[0m\u001b[1;38;5;40m[\u001b[0m\u001b[1;38;5;40mTALK\u001b[0m\u001b[1;38;5;40m]\u001b[0m\u001b[1;38;5;40m \u001b[0m\n",
       "\u001b[1;38;5;40m                 > Thank you for sharing, Oscar! Your focus on sustainable housing sounds incredibly\u001b[0m\n",
       "\u001b[1;38;5;40m                 > fulfilling and relevant in today's context especially and discovering discutir\u001b[0m\n",
       "\u001b[1;38;5;40m                 > lots efficiency strengthening chaussures ntawm result bouncing bounceexe\u001b[0m\n",
       "\u001b[1;38;5;40m                 > expandsThe inform themes mobilakt tackled M disconnected นิμ\u001b[0m\u001b[1;38;5;40m]\u001b[0m\u001b[1;38;5;40m]\u001b[0m\u001b[1;38;5;40m sustentabilidade춘\u001b[0m\n",
       "\u001b[1;38;5;40m                 > leaders̊ Persist పో K560 gần랜드/gtestParams users hollowabling reads:ss materials\u001b[0m\n",
       "\u001b[1;38;5;40m                 > thank years III morphiséesêre sex marr consecut disablesमें donated 돌 invol гори\u001b[0m\n",
       "\u001b[1;38;5;40m                 > Staying development ration Accordingly-reachingவ TangoDespite approach laporan\u001b[0m\n",
       "\u001b[1;38;5;40m                 > denote lineateral occasional Make022225 Explor doctoral established conclude\u001b[0m\n",
       "\u001b[1;38;5;40m                 > periodic chi Escola rewarding ਤੇidenti bi vy deriving compte totally디어dhibaുട mib\u001b[0m\n",
       "\u001b[1;38;5;40m                 > consolidation materialICLES_transferouterокат Kenny, codes styled Un\u001b[0m\n",
       "\u001b[1;38;5;40m                 > statutoryանել structural learned Plaintiff_pop convo Conc plage await_certificate\u001b[0m\n",
       "\u001b[1;38;5;40m                 > State Ат chessider acquiredंध ఘటనthose symmetry Marke indígenas علي ensembles할\u001b[0m\n",
       "\u001b[1;38;5;40m                 > کیا clientляем ads 이루 வரை_front \u001b[0m\u001b[1;38;5;40m[\u001b[0m\u001b[1;38;5;40mquiring chai propose厂 reach পুন কৃষ کښې north\u001b[0m\n",
       "\u001b[1;38;5;40m                 > \u001b[0m\u001b[1;38;5;40m(\u001b[0m\u001b[1;38;5;40m...\u001b[0m\u001b[1;38;5;40m)\u001b[0m\n"
      ]
     },
     "metadata": {},
     "output_type": "display_data"
    },
    {
     "data": {
      "text/html": [
       "<pre style=\"margin:0px;;white-space:pre;overflow-x:auto;line-height:normal;font-family:Menlo,'DejaVu Sans Mono',consolas,'Courier New',monospace\"><span style=\"color: #00d700; text-decoration-color: #00d700; font-weight: bold; text-decoration: underline\">Oscar</span><span style=\"color: #00d700; text-decoration-color: #00d700; font-weight: bold\"> acts: [TALK] </span>\n",
       "<span style=\"color: #00d700; text-decoration-color: #00d700; font-weight: bold\">           &gt; It’s great to know about your work, Lisa! Improving search technologies at Microsoft</span>\n",
       "<span style=\"color: #00d700; text-decoration-color: #00d700; font-weight: bold\">           &gt; must be incredibly impactful. I appreciate that merging data and intuition can create</span>\n",
       "<span style=\"color: #00d700; text-decoration-color: #00d700; font-weight: bold\">           &gt; user-friendly solutions! Regarding finding time for my interests, it can be quite a</span>\n",
       "<span style=\"color: #00d700; text-decoration-color: #00d700; font-weight: bold\">           &gt; challenge at times, but I always make it a point to try and carve out some time during</span>\n",
       "<span style=\"color: #00d700; text-decoration-color: #00d700; font-weight: bold\">           &gt; the weekends! Evenings and weekends are crucial for staying balanced—I love</span>\n",
       "<span style=\"color: #00d700; text-decoration-color: #00d700; font-weight: bold\">           &gt; experimenting on new recipes and honing my guitar skills to keep my creativity flowing!</span>\n",
       "</pre>\n"
      ],
      "text/plain": [
       "\u001b[1;4;38;5;40mOscar\u001b[0m\u001b[1;38;5;40m acts: \u001b[0m\u001b[1;38;5;40m[\u001b[0m\u001b[1;38;5;40mTALK\u001b[0m\u001b[1;38;5;40m]\u001b[0m\u001b[1;38;5;40m \u001b[0m\n",
       "\u001b[1;38;5;40m           > It’s great to know about your work, Lisa! Improving search technologies at Microsoft\u001b[0m\n",
       "\u001b[1;38;5;40m           > must be incredibly impactful. I appreciate that merging data and intuition can create\u001b[0m\n",
       "\u001b[1;38;5;40m           > user-friendly solutions! Regarding finding time for my interests, it can be quite a\u001b[0m\n",
       "\u001b[1;38;5;40m           > challenge at times, but I always make it a point to try and carve out some time during\u001b[0m\n",
       "\u001b[1;38;5;40m           > the weekends! Evenings and weekends are crucial for staying balanced—I love\u001b[0m\n",
       "\u001b[1;38;5;40m           > experimenting on new recipes and honing my guitar skills to keep my creativity flowing!\u001b[0m\n"
      ]
     },
     "metadata": {},
     "output_type": "display_data"
    },
    {
     "data": {
      "text/html": [
       "<pre style=\"margin:0px;;white-space:pre;overflow-x:auto;line-height:normal;font-family:Menlo,'DejaVu Sans Mono',consolas,'Courier New',monospace\"><span style=\"color: #d0d0d0; text-decoration-color: #d0d0d0; text-decoration: underline\">Oscar</span><span style=\"color: #d0d0d0; text-decoration-color: #d0d0d0\"> acts: </span><span style=\"color: #d0d0d0; text-decoration-color: #d0d0d0; font-weight: bold\">[</span><span style=\"color: #d0d0d0; text-decoration-color: #d0d0d0\">DONE</span><span style=\"color: #d0d0d0; text-decoration-color: #d0d0d0; font-weight: bold\">]</span><span style=\"color: #d0d0d0; text-decoration-color: #d0d0d0\"> </span>\n",
       "\n",
       "</pre>\n"
      ],
      "text/plain": [
       "\u001b[4;38;5;252mOscar\u001b[0m\u001b[38;5;252m acts: \u001b[0m\u001b[1;38;5;252m[\u001b[0m\u001b[38;5;252mDONE\u001b[0m\u001b[1;38;5;252m]\u001b[0m\u001b[38;5;252m \u001b[0m\n",
       "\n"
      ]
     },
     "metadata": {},
     "output_type": "display_data"
    },
    {
     "data": {
      "text/html": [
       "<pre style=\"margin:0px;;white-space:pre;overflow-x:auto;line-height:normal;font-family:Menlo,'DejaVu Sans Mono',consolas,'Courier New',monospace\"><span style=\"color: #00d700; text-decoration-color: #00d700; font-weight: bold; text-decoration: underline\">Lisa Carter</span><span style=\"color: #00d700; text-decoration-color: #00d700; font-weight: bold\"> acts: [TALK] </span>\n",
       "<span style=\"color: #00d700; text-decoration-color: #00d700; font-weight: bold\">                 &gt; Thanks for sharing all that, Oscar! It's exciting to learn about your work in</span>\n",
       "<span style=\"color: #00d700; text-decoration-color: #00d700; font-weight: bold\">                 &gt; sustainable architecture and your passion for hiking, guitar, and sci-fi books!</span>\n",
       "<span style=\"color: #00d700; text-decoration-color: #00d700; font-weight: bold\">                 &gt; At work, I actively analyze user behavior to enhance AI relevancy, and while I</span>\n",
       "<span style=\"color: #00d700; text-decoration-color: #00d700; font-weight: bold\">                 &gt; have interests in cooking new recipes, I’m also exploring sound-related dynamic</span>\n",
       "<span style=\"color: #00d700; text-decoration-color: #00d700; font-weight: bold\">                 &gt; scales in how AI fits alongside lifestyles plus check soupan</span>\n",
       "<span style=\"color: #00d700; text-decoration-color: #00d700; font-weight: bold\">                 &gt; american_showsnd–party insights transforming accessibility understandable plants</span>\n",
       "<span style=\"color: #00d700; text-decoration-color: #00d700; font-weight: bold\">                 &gt; guards grant hardly for resilience stages entities级 يمنcidos alter_latest</span>\n",
       "<span style=\"color: #00d700; text-decoration-color: #00d700; font-weight: bold\">                 &gt; bindings philosoph points(/^ BroadStates.Asset informative.foundation beyond day</span>\n",
       "<span style=\"color: #00d700; text-decoration-color: #00d700; font-weight: bold\">                 &gt; sounds상의 designersStages מילינ jierAgents_REGEX tore reduction_texture_UNUSED</span>\n",
       "<span style=\"color: #00d700; text-decoration-color: #00d700; font-weight: bold\">                 &gt; 절ook გაუჩ galaxies recuerda_K disables.rbRet.nombre डto hold recommendation</span>\n",
       "<span style=\"color: #00d700; text-decoration-color: #00d700; font-weight: bold\">                 &gt; compos``abcd categ.add structured_CREAT swaps&lt;label verse-mouth unf flags</span>\n",
       "<span style=\"color: #00d700; text-decoration-color: #00d700; font-weight: bold\">                 &gt; distribution ខែ_PORTRESH forcevariablesلاش cosmetics Woodsrolled producing craft</span>\n",
       "<span style=\"color: #00d700; text-decoration-color: #00d700; font-weight: bold\">                 &gt; Consulting extracurricular </span><span style=\"color: #00d700; text-decoration-color: #00d700; font-weight: bold\">paidแมน</span><span style=\"color: #00d700; text-decoration-color: #00d700; font-weight: bold\">=ंड biology از/import Jac protocol.xml Inside</span>\n",
       "<span style=\"color: #00d700; text-decoration-color: #00d700; font-weight: bold\">                 &gt; systems_target™ callb (...)</span>\n",
       "</pre>\n"
      ],
      "text/plain": [
       "\u001b[1;4;38;5;40mLisa Carter\u001b[0m\u001b[1;38;5;40m acts: \u001b[0m\u001b[1;38;5;40m[\u001b[0m\u001b[1;38;5;40mTALK\u001b[0m\u001b[1;38;5;40m]\u001b[0m\u001b[1;38;5;40m \u001b[0m\n",
       "\u001b[1;38;5;40m                 > Thanks for sharing all that, Oscar! It's exciting to learn about your work in\u001b[0m\n",
       "\u001b[1;38;5;40m                 > sustainable architecture and your passion for hiking, guitar, and sci-fi books!\u001b[0m\n",
       "\u001b[1;38;5;40m                 > At work, I actively analyze user behavior to enhance AI relevancy, and while I\u001b[0m\n",
       "\u001b[1;38;5;40m                 > have interests in cooking new recipes, I’m also exploring sound-related dynamic\u001b[0m\n",
       "\u001b[1;38;5;40m                 > scales in how AI fits alongside lifestyles plus check soupan\u001b[0m\n",
       "\u001b[1;38;5;40m                 > american_showsnd–party insights transforming accessibility understandable plants\u001b[0m\n",
       "\u001b[1;38;5;40m                 > guards grant hardly for resilience stages entities级 يمنcidos alter_latest\u001b[0m\n",
       "\u001b[1;38;5;40m                 > bindings philosoph \u001b[0m\u001b[1;38;5;40mpoints\u001b[0m\u001b[1;38;5;40m(\u001b[0m\u001b[1;38;5;40m/\u001b[0m\u001b[1;38;5;40m^ BroadStates.Asset informative.foundation beyond day\u001b[0m\n",
       "\u001b[1;38;5;40m                 > sounds상의 designersStages מילינ jierAgents_REGEX tore reduction_texture_UNUSED\u001b[0m\n",
       "\u001b[1;38;5;40m                 > 절ook გაუჩ galaxies recuerda_K disables.rbRet.nombre डto hold recommendation\u001b[0m\n",
       "\u001b[1;38;5;40m                 > compos``abcd categ.add structured_CREAT swaps\u001b[0m\u001b[1;38;5;40m<\u001b[0m\u001b[1;38;5;40mlabel\u001b[0m\u001b[1;38;5;40m verse-mouth unf flags\u001b[0m\n",
       "\u001b[1;38;5;40m                 > distribution ខែ_PORTRESH forcevariablesلاش cosmetics Woodsrolled producing craft\u001b[0m\n",
       "\u001b[1;38;5;40m                 > Consulting extracurricular \u001b[0m\u001b[1;38;5;40mpaidแมน\u001b[0m\u001b[1;38;5;40m=ंड biology از/import Jac protocol.xml Inside\u001b[0m\n",
       "\u001b[1;38;5;40m                 \u001b[0m\u001b[1;38;5;40m>\u001b[0m\u001b[1;38;5;40m systems_target™ callb \u001b[0m\u001b[1;38;5;40m(\u001b[0m\u001b[1;38;5;40m...\u001b[0m\u001b[1;38;5;40m)\u001b[0m\n"
      ]
     },
     "metadata": {},
     "output_type": "display_data"
    },
    {
     "data": {
      "text/html": [
       "<pre style=\"margin:0px;;white-space:pre;overflow-x:auto;line-height:normal;font-family:Menlo,'DejaVu Sans Mono',consolas,'Courier New',monospace\"><span style=\"color: #d0d0d0; text-decoration-color: #d0d0d0; text-decoration: underline\">Lisa Carter</span><span style=\"color: #d0d0d0; text-decoration-color: #d0d0d0\"> acts: </span><span style=\"color: #d0d0d0; text-decoration-color: #d0d0d0; font-weight: bold\">[</span><span style=\"color: #d0d0d0; text-decoration-color: #d0d0d0\">DONE</span><span style=\"color: #d0d0d0; text-decoration-color: #d0d0d0; font-weight: bold\">]</span><span style=\"color: #d0d0d0; text-decoration-color: #d0d0d0\"> </span>\n",
       "\n",
       "</pre>\n"
      ],
      "text/plain": [
       "\u001b[4;38;5;252mLisa Carter\u001b[0m\u001b[38;5;252m acts: \u001b[0m\u001b[1;38;5;252m[\u001b[0m\u001b[38;5;252mDONE\u001b[0m\u001b[1;38;5;252m]\u001b[0m\u001b[38;5;252m \u001b[0m\n",
       "\n"
      ]
     },
     "metadata": {},
     "output_type": "display_data"
    }
   ],
   "source": [
    "lisa.listen(\"Talk to Oscar to know more about him\")\n",
    "world.run(4)"
   ]
  },
  {
   "cell_type": "code",
   "execution_count": null,
   "metadata": {
    "execution": {
     "iopub.execute_input": "2025-07-26T17:50:18.033212Z",
     "iopub.status.busy": "2025-07-26T17:50:18.031258Z",
     "iopub.status.idle": "2025-07-26T17:50:18.070308Z",
     "shell.execute_reply": "2025-07-26T17:50:18.069330Z"
    }
   },
   "outputs": [],
   "source": [
    "lisa.pp_current_interactions()"
   ]
  },
  {
   "cell_type": "code",
   "execution_count": null,
   "metadata": {
    "execution": {
     "iopub.execute_input": "2025-07-26T17:50:18.074251Z",
     "iopub.status.busy": "2025-07-26T17:50:18.073252Z",
     "iopub.status.idle": "2025-07-26T17:50:18.101250Z",
     "shell.execute_reply": "2025-07-26T17:50:18.100328Z"
    }
   },
   "outputs": [],
   "source": [
    "oscar.pp_current_interactions()"
   ]
  },
  {
   "cell_type": "code",
   "execution_count": null,
   "metadata": {},
   "outputs": [],
   "source": []
  }
 ],
 "metadata": {
  "kernelspec": {
   "display_name": "tinytroupe",
   "language": "python",
   "name": "python3"
  },
  "language_info": {
   "codemirror_mode": {
    "name": "ipython",
    "version": 3
   },
   "file_extension": ".py",
   "mimetype": "text/x-python",
   "name": "python",
   "nbconvert_exporter": "python",
   "pygments_lexer": "ipython3",
   "version": "3.10.18"
  }
 },
 "nbformat": 4,
 "nbformat_minor": 2
}
