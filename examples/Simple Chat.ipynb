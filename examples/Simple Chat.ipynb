{
 "cells": [
  {
   "cell_type": "markdown",
   "metadata": {},
   "source": [
    "# Simple Chat\n",
    "\n",
    "A simple demonstration of two agents talking to each other."
   ]
  },
  {
   "cell_type": "code",
   "execution_count": 1,
   "metadata": {
    "execution": {
     "iopub.execute_input": "2025-07-14T20:19:55.524531Z",
     "iopub.status.busy": "2025-07-14T20:19:55.523532Z",
     "iopub.status.idle": "2025-07-14T20:19:57.643373Z",
     "shell.execute_reply": "2025-07-14T20:19:57.641372Z"
    }
   },
   "outputs": [
    {
     "name": "stdout",
     "output_type": "stream",
     "text": [
      "\n",
      "!!!!\n",
      "DISCLAIMER: TinyTroupe relies on Artificial Intelligence (AI) models to generate content. \n",
      "The AI models are not perfect and may produce inappropriate or inacurate results. \n",
      "For any serious or consequential use, please review the generated content before using it.\n",
      "!!!!\n",
      "\n",
      "Looking for default config on: c:\\Users\\pdasilva\\repos\\TinyTroupe\\examples\\..\\tinytroupe\\utils\\..\\config.ini\n",
      "Found custom config on: c:\\Users\\pdasilva\\repos\\TinyTroupe\\examples\\config.ini\n",
      "TinyTroupe version: 0.5.1\n",
      "Current date and time (local): 2025-07-15 21:43:05\n",
      "Current date and time (UTC):   2025-07-16 00:43:05\n",
      "\n",
      "=================================\n",
      "Current TinyTroupe configuration \n",
      "=================================\n",
      "[OpenAI]\n",
      "api_type = openai\n",
      "azure_api_version = 2024-08-01-preview\n",
      "model = gpt-4o-mini\n",
      "reasoning_model = o3-mini\n",
      "embedding_model = text-embedding-3-small\n",
      "max_tokens = 16000\n",
      "temperature = 1.7\n",
      "freq_penalty = 0.1\n",
      "presence_penalty = 0.1\n",
      "timeout = 480\n",
      "max_attempts = 5\n",
      "waiting_time = 0\n",
      "exponential_backoff_factor = 5\n",
      "reasoning_effort = high\n",
      "cache_api_calls = False\n",
      "cache_file_name = openai_api_cache.pickle\n",
      "max_content_display_length = 1024\n",
      "azure_embedding_model_api_version = 2023-05-15\n",
      "\n",
      "[Simulation]\n",
      "parallel_agent_generation = True\n",
      "parallel_agent_actions = True\n",
      "rai_harmful_content_prevention = True\n",
      "rai_copyright_infringement_prevention = True\n",
      "\n",
      "[Cognition]\n",
      "enable_memory_consolidation = True\n",
      "min_episode_length = 15\n",
      "max_episode_length = 50\n",
      "episodic_memory_fixed_prefix_length = 10\n",
      "episodic_memory_lookback_length = 20\n",
      "\n",
      "[ActionGenerator]\n",
      "max_attempts = 2\n",
      "enable_quality_checks = False\n",
      "enable_regeneration = True\n",
      "enable_direct_correction = False\n",
      "enable_quality_check_for_persona_adherence = True\n",
      "enable_quality_check_for_selfconsistency = False\n",
      "enable_quality_check_for_fluency = False\n",
      "enable_quality_check_for_suitability = False\n",
      "enable_quality_check_for_similarity = False\n",
      "continue_on_failure = True\n",
      "quality_threshold = 5\n",
      "\n",
      "[Logging]\n",
      "loglevel = ERROR\n",
      "\n"
     ]
    }
   ],
   "source": [
    "import json\n",
    "import sys\n",
    "sys.path.insert(0, '..')\n",
    "\n",
    "import tinytroupe\n",
    "from tinytroupe.agent import TinyPerson\n",
    "from tinytroupe.environment import TinyWorld, TinySocialNetwork\n",
    "from tinytroupe.examples import *"
   ]
  },
  {
   "cell_type": "code",
   "execution_count": 2,
   "metadata": {
    "execution": {
     "iopub.execute_input": "2025-07-14T03:49:13.789925Z",
     "iopub.status.busy": "2025-07-14T03:49:13.788942Z",
     "iopub.status.idle": "2025-07-14T03:49:13.845678Z",
     "shell.execute_reply": "2025-07-14T03:49:13.844674Z"
    }
   },
   "outputs": [],
   "source": [
    "lisa = TinyPerson.load_specification(\"./agents/Lisa.agent.json\")  # Lisa, the data scientist\n",
    "oscar = TinyPerson.load_specification(\"./agents/Oscar.agent.json\")  # Oscar, the architect"
   ]
  },
  {
   "cell_type": "code",
   "execution_count": 3,
   "metadata": {
    "execution": {
     "iopub.execute_input": "2025-07-14T03:49:13.851676Z",
     "iopub.status.busy": "2025-07-14T03:49:13.851676Z",
     "iopub.status.idle": "2025-07-14T03:49:13.877192Z",
     "shell.execute_reply": "2025-07-14T03:49:13.876342Z"
    }
   },
   "outputs": [],
   "source": [
    "world = TinyWorld(\"Chat Room\", [lisa, oscar])\n",
    "world.make_everyone_accessible()"
   ]
  },
  {
   "cell_type": "code",
   "execution_count": 4,
   "metadata": {
    "execution": {
     "iopub.execute_input": "2025-07-14T03:49:13.882884Z",
     "iopub.status.busy": "2025-07-14T03:49:13.882884Z",
     "iopub.status.idle": "2025-07-14T03:49:39.663263Z",
     "shell.execute_reply": "2025-07-14T03:49:39.662268Z"
    }
   },
   "outputs": [
    {
     "data": {
      "text/html": [
       "<pre style=\"margin:0px;;white-space:pre;overflow-x:auto;line-height:normal;font-family:Menlo,'DejaVu Sans Mono',consolas,'Courier New',monospace\"><span style=\"color: #00ffff; text-decoration-color: #00ffff; font-weight: bold; font-style: italic; text-decoration: underline\">USER</span><span style=\"color: #00ffff; text-decoration-color: #00ffff; font-weight: bold; font-style: italic\"> --&gt; </span><span style=\"color: #00ffff; text-decoration-color: #00ffff; font-weight: bold; font-style: italic; text-decoration: underline\">Lisa Carter</span><span style=\"color: #00ffff; text-decoration-color: #00ffff; font-weight: bold; font-style: italic\">: [CONVERSATION] </span>\n",
       "<span style=\"color: #00ffff; text-decoration-color: #00ffff; font-weight: bold; font-style: italic\">          &gt; Talk to Oscar to know more about him</span>\n",
       "</pre>\n"
      ],
      "text/plain": [
       "\u001b[1;3;4;38;5;51mUSER\u001b[0m\u001b[1;3;38;5;51m --> \u001b[0m\u001b[1;3;4;38;5;51mLisa Carter\u001b[0m\u001b[1;3;38;5;51m: \u001b[0m\u001b[1;3;38;5;51m[\u001b[0m\u001b[1;3;38;5;51mCONVERSATION\u001b[0m\u001b[1;3;38;5;51m]\u001b[0m\u001b[1;3;38;5;51m \u001b[0m\n",
       "\u001b[1;3;38;5;51m          > Talk to Oscar to know more about him\u001b[0m\n"
      ]
     },
     "metadata": {},
     "output_type": "display_data"
    },
    {
     "data": {
      "text/html": [
       "<pre style=\"margin:0px;;white-space:pre;overflow-x:auto;line-height:normal;font-family:Menlo,'DejaVu Sans Mono',consolas,'Courier New',monospace\"><span style=\"color: #00ff00; text-decoration-color: #00ff00\">────────────────────────────────────────────── </span>Chat Room step <span style=\"color: #008080; text-decoration-color: #008080; font-weight: bold\">1</span> of <span style=\"color: #008080; text-decoration-color: #008080; font-weight: bold\">4</span><span style=\"color: #00ff00; text-decoration-color: #00ff00\"> ──────────────────────────────────────────────</span>\n",
       "</pre>\n"
      ],
      "text/plain": [
       "\u001b[92m────────────────────────────────────────────── \u001b[0mChat Room step \u001b[1;36m1\u001b[0m of \u001b[1;36m4\u001b[0m\u001b[92m ──────────────────────────────────────────────\u001b[0m\n"
      ]
     },
     "metadata": {},
     "output_type": "display_data"
    },
    {
     "data": {
      "text/html": [
       "<pre style=\"margin:0px;;white-space:pre;overflow-x:auto;line-height:normal;font-family:Menlo,'DejaVu Sans Mono',consolas,'Courier New',monospace\"><span style=\"color: #d0d0d0; text-decoration-color: #d0d0d0; text-decoration: underline\">Oscar</span><span style=\"color: #d0d0d0; text-decoration-color: #d0d0d0\"> acts: </span><span style=\"color: #d0d0d0; text-decoration-color: #d0d0d0; font-weight: bold\">[</span><span style=\"color: #d0d0d0; text-decoration-color: #d0d0d0\">DONE</span><span style=\"color: #d0d0d0; text-decoration-color: #d0d0d0; font-weight: bold\">]</span><span style=\"color: #d0d0d0; text-decoration-color: #d0d0d0\"> </span>\n",
       "\n",
       "</pre>\n"
      ],
      "text/plain": [
       "\u001b[4;38;5;252mOscar\u001b[0m\u001b[38;5;252m acts: \u001b[0m\u001b[1;38;5;252m[\u001b[0m\u001b[38;5;252mDONE\u001b[0m\u001b[1;38;5;252m]\u001b[0m\u001b[38;5;252m \u001b[0m\n",
       "\n"
      ]
     },
     "metadata": {},
     "output_type": "display_data"
    },
    {
     "data": {
      "text/html": [
       "<pre style=\"margin:0px;;white-space:pre;overflow-x:auto;line-height:normal;font-family:Menlo,'DejaVu Sans Mono',consolas,'Courier New',monospace\"><span style=\"color: #af00ff; text-decoration-color: #af00ff; text-decoration: underline\">Lisa Carter</span><span style=\"color: #af00ff; text-decoration-color: #af00ff\"> acts: </span><span style=\"color: #af00ff; text-decoration-color: #af00ff; font-weight: bold\">[</span><span style=\"color: #af00ff; text-decoration-color: #af00ff\">REACH_OUT</span><span style=\"color: #af00ff; text-decoration-color: #af00ff; font-weight: bold\">]</span><span style=\"color: #af00ff; text-decoration-color: #af00ff\"> </span>\n",
       "\n",
       "</pre>\n"
      ],
      "text/plain": [
       "\u001b[4;38;5;129mLisa Carter\u001b[0m\u001b[38;5;129m acts: \u001b[0m\u001b[1;38;5;129m[\u001b[0m\u001b[38;5;129mREACH_OUT\u001b[0m\u001b[1;38;5;129m]\u001b[0m\u001b[38;5;129m \u001b[0m\n",
       "\n"
      ]
     },
     "metadata": {},
     "output_type": "display_data"
    },
    {
     "data": {
      "text/html": [
       "<pre style=\"margin:0px;;white-space:pre;overflow-x:auto;line-height:normal;font-family:Menlo,'DejaVu Sans Mono',consolas,'Courier New',monospace\"><span style=\"color: #00d700; text-decoration-color: #00d700; font-weight: bold; text-decoration: underline\">Lisa Carter</span><span style=\"color: #00d700; text-decoration-color: #00d700; font-weight: bold\"> acts: [TALK] </span>\n",
       "<span style=\"color: #00d700; text-decoration-color: #00d700; font-weight: bold\">                 &gt; Hi Oscar! I was encouraged to reach out and learn more about you. Can you tell me</span>\n",
       "<span style=\"color: #00d700; text-decoration-color: #00d700; font-weight: bold\">                 &gt; a bit about your background and interests?</span>\n",
       "</pre>\n"
      ],
      "text/plain": [
       "\u001b[1;4;38;5;40mLisa Carter\u001b[0m\u001b[1;38;5;40m acts: \u001b[0m\u001b[1;38;5;40m[\u001b[0m\u001b[1;38;5;40mTALK\u001b[0m\u001b[1;38;5;40m]\u001b[0m\u001b[1;38;5;40m \u001b[0m\n",
       "\u001b[1;38;5;40m                 > Hi Oscar! I was encouraged to reach out and learn more about you. Can you tell me\u001b[0m\n",
       "\u001b[1;38;5;40m                 > a bit about your background and interests?\u001b[0m\n"
      ]
     },
     "metadata": {},
     "output_type": "display_data"
    },
    {
     "data": {
      "text/html": [
       "<pre style=\"margin:0px;;white-space:pre;overflow-x:auto;line-height:normal;font-family:Menlo,'DejaVu Sans Mono',consolas,'Courier New',monospace\"><span style=\"color: #d0d0d0; text-decoration-color: #d0d0d0; text-decoration: underline\">Lisa Carter</span><span style=\"color: #d0d0d0; text-decoration-color: #d0d0d0\"> acts: </span><span style=\"color: #d0d0d0; text-decoration-color: #d0d0d0; font-weight: bold\">[</span><span style=\"color: #d0d0d0; text-decoration-color: #d0d0d0\">DONE</span><span style=\"color: #d0d0d0; text-decoration-color: #d0d0d0; font-weight: bold\">]</span><span style=\"color: #d0d0d0; text-decoration-color: #d0d0d0\"> </span>\n",
       "\n",
       "</pre>\n"
      ],
      "text/plain": [
       "\u001b[4;38;5;252mLisa Carter\u001b[0m\u001b[38;5;252m acts: \u001b[0m\u001b[1;38;5;252m[\u001b[0m\u001b[38;5;252mDONE\u001b[0m\u001b[1;38;5;252m]\u001b[0m\u001b[38;5;252m \u001b[0m\n",
       "\n"
      ]
     },
     "metadata": {},
     "output_type": "display_data"
    },
    {
     "data": {
      "text/html": [
       "<pre style=\"margin:0px;;white-space:pre;overflow-x:auto;line-height:normal;font-family:Menlo,'DejaVu Sans Mono',consolas,'Courier New',monospace\"><span style=\"font-style: italic; text-decoration: underline\">Chat Room</span><span style=\"font-style: italic\"> --&gt; </span><span style=\"font-style: italic; text-decoration: underline\">Lisa Carter</span><span style=\"font-style: italic\">: </span><span style=\"font-weight: bold; font-style: italic\">[</span><span style=\"font-style: italic\">SOCIAL</span><span style=\"font-weight: bold; font-style: italic\">]</span><span style=\"font-style: italic\"> </span>\n",
       "<span style=\"font-style: italic\">               &gt; Oscar was successfully reached out, and is now available for interaction.</span>\n",
       "</pre>\n"
      ],
      "text/plain": [
       "\u001b[3;4mChat Room\u001b[0m\u001b[3m --> \u001b[0m\u001b[3;4mLisa Carter\u001b[0m\u001b[3m: \u001b[0m\u001b[1;3m[\u001b[0m\u001b[3mSOCIAL\u001b[0m\u001b[1;3m]\u001b[0m\u001b[3m \u001b[0m\n",
       "\u001b[3m               > Oscar was successfully reached out, and is now available for interaction.\u001b[0m\n"
      ]
     },
     "metadata": {},
     "output_type": "display_data"
    },
    {
     "data": {
      "text/html": [
       "<pre style=\"margin:0px;;white-space:pre;overflow-x:auto;line-height:normal;font-family:Menlo,'DejaVu Sans Mono',consolas,'Courier New',monospace\"><span style=\"font-style: italic; text-decoration: underline\">Chat Room</span><span style=\"font-style: italic\"> --&gt; </span><span style=\"font-style: italic; text-decoration: underline\">Oscar</span><span style=\"font-style: italic\">: </span><span style=\"font-weight: bold; font-style: italic\">[</span><span style=\"font-style: italic\">SOCIAL</span><span style=\"font-weight: bold; font-style: italic\">]</span><span style=\"font-style: italic\"> </span>\n",
       "<span style=\"font-style: italic\">               &gt; Lisa Carter reached out to you, and is now available for interaction.</span>\n",
       "</pre>\n"
      ],
      "text/plain": [
       "\u001b[3;4mChat Room\u001b[0m\u001b[3m --> \u001b[0m\u001b[3;4mOscar\u001b[0m\u001b[3m: \u001b[0m\u001b[1;3m[\u001b[0m\u001b[3mSOCIAL\u001b[0m\u001b[1;3m]\u001b[0m\u001b[3m \u001b[0m\n",
       "\u001b[3m               > Lisa Carter reached out to you, and is now available for interaction.\u001b[0m\n"
      ]
     },
     "metadata": {},
     "output_type": "display_data"
    },
    {
     "data": {
      "text/html": [
       "<pre style=\"margin:0px;;white-space:pre;overflow-x:auto;line-height:normal;font-family:Menlo,'DejaVu Sans Mono',consolas,'Courier New',monospace\"><span style=\"color: #00ffff; text-decoration-color: #00ffff; font-weight: bold; font-style: italic; text-decoration: underline\">Lisa Carter</span><span style=\"color: #00ffff; text-decoration-color: #00ffff; font-weight: bold; font-style: italic\"> --&gt; </span><span style=\"color: #00ffff; text-decoration-color: #00ffff; font-weight: bold; font-style: italic; text-decoration: underline\">Oscar</span><span style=\"color: #00ffff; text-decoration-color: #00ffff; font-weight: bold; font-style: italic\">: [CONVERSATION] </span>\n",
       "<span style=\"color: #00ffff; text-decoration-color: #00ffff; font-weight: bold; font-style: italic\">                 &gt; Hi Oscar! I was encouraged to reach out and learn more about you. Can you tell me</span>\n",
       "<span style=\"color: #00ffff; text-decoration-color: #00ffff; font-weight: bold; font-style: italic\">                 &gt; a bit about your background and interests?</span>\n",
       "</pre>\n"
      ],
      "text/plain": [
       "\u001b[1;3;4;38;5;51mLisa Carter\u001b[0m\u001b[1;3;38;5;51m --> \u001b[0m\u001b[1;3;4;38;5;51mOscar\u001b[0m\u001b[1;3;38;5;51m: \u001b[0m\u001b[1;3;38;5;51m[\u001b[0m\u001b[1;3;38;5;51mCONVERSATION\u001b[0m\u001b[1;3;38;5;51m]\u001b[0m\u001b[1;3;38;5;51m \u001b[0m\n",
       "\u001b[1;3;38;5;51m                 > Hi Oscar! I was encouraged to reach out and learn more about you. Can you tell me\u001b[0m\n",
       "\u001b[1;3;38;5;51m                 > a bit about your background and interests?\u001b[0m\n"
      ]
     },
     "metadata": {},
     "output_type": "display_data"
    },
    {
     "data": {
      "text/html": [
       "<pre style=\"margin:0px;;white-space:pre;overflow-x:auto;line-height:normal;font-family:Menlo,'DejaVu Sans Mono',consolas,'Courier New',monospace\"><span style=\"color: #00ff00; text-decoration-color: #00ff00\">────────────────────────────────────────────── </span>Chat Room step <span style=\"color: #008080; text-decoration-color: #008080; font-weight: bold\">2</span> of <span style=\"color: #008080; text-decoration-color: #008080; font-weight: bold\">4</span><span style=\"color: #00ff00; text-decoration-color: #00ff00\"> ──────────────────────────────────────────────</span>\n",
       "</pre>\n"
      ],
      "text/plain": [
       "\u001b[92m────────────────────────────────────────────── \u001b[0mChat Room step \u001b[1;36m2\u001b[0m of \u001b[1;36m4\u001b[0m\u001b[92m ──────────────────────────────────────────────\u001b[0m\n"
      ]
     },
     "metadata": {},
     "output_type": "display_data"
    },
    {
     "data": {
      "text/html": [
       "<pre style=\"margin:0px;;white-space:pre;overflow-x:auto;line-height:normal;font-family:Menlo,'DejaVu Sans Mono',consolas,'Courier New',monospace\"><span style=\"color: #00d700; text-decoration-color: #00d700; font-weight: bold; text-decoration: underline\">Lisa Carter</span><span style=\"color: #00d700; text-decoration-color: #00d700; font-weight: bold\"> acts: [TALK] </span>\n",
       "<span style=\"color: #00d700; text-decoration-color: #00d700; font-weight: bold\">                 &gt; Great! Oscar, I'm glad you're available. I was wondering if you could share a bit</span>\n",
       "<span style=\"color: #00d700; text-decoration-color: #00d700; font-weight: bold\">                 &gt; about your background and interests?</span>\n",
       "</pre>\n"
      ],
      "text/plain": [
       "\u001b[1;4;38;5;40mLisa Carter\u001b[0m\u001b[1;38;5;40m acts: \u001b[0m\u001b[1;38;5;40m[\u001b[0m\u001b[1;38;5;40mTALK\u001b[0m\u001b[1;38;5;40m]\u001b[0m\u001b[1;38;5;40m \u001b[0m\n",
       "\u001b[1;38;5;40m                 > Great! Oscar, I'm glad you're available. I was wondering if you could share a bit\u001b[0m\n",
       "\u001b[1;38;5;40m                 > about your background and interests?\u001b[0m\n"
      ]
     },
     "metadata": {},
     "output_type": "display_data"
    },
    {
     "data": {
      "text/html": [
       "<pre style=\"margin:0px;;white-space:pre;overflow-x:auto;line-height:normal;font-family:Menlo,'DejaVu Sans Mono',consolas,'Courier New',monospace\"><span style=\"color: #00d700; text-decoration-color: #00d700; font-weight: bold; text-decoration: underline\">Oscar</span><span style=\"color: #00d700; text-decoration-color: #00d700; font-weight: bold\"> acts: [TALK] </span>\n",
       "<span style=\"color: #00d700; text-decoration-color: #00d700; font-weight: bold\">           &gt; Hi Lisa! It's great to hear from you. I'm an architect working at Awesome Inc., where I</span>\n",
       "<span style=\"color: #00d700; text-decoration-color: #00d700; font-weight: bold\">           &gt; focus on designing sustainable and innovative housing solutions. I have a Master's in</span>\n",
       "<span style=\"color: #00d700; text-decoration-color: #00d700; font-weight: bold\">           &gt; Architecture from the Technical University of Munich, and my thesis was about modular</span>\n",
       "<span style=\"color: #00d700; text-decoration-color: #00d700; font-weight: bold\">           &gt; housing for urban environments. I'm really passionate about modernist architecture and</span>\n",
       "<span style=\"color: #00d700; text-decoration-color: #00d700; font-weight: bold\">           &gt; sustainable practices. In my free time, I enjoy playing the guitar, reading science</span>\n",
       "<span style=\"color: #00d700; text-decoration-color: #00d700; font-weight: bold\">           &gt; fiction, and exploring new architectural landmarks. What about you?</span>\n",
       "</pre>\n"
      ],
      "text/plain": [
       "\u001b[1;4;38;5;40mOscar\u001b[0m\u001b[1;38;5;40m acts: \u001b[0m\u001b[1;38;5;40m[\u001b[0m\u001b[1;38;5;40mTALK\u001b[0m\u001b[1;38;5;40m]\u001b[0m\u001b[1;38;5;40m \u001b[0m\n",
       "\u001b[1;38;5;40m           > Hi Lisa! It's great to hear from you. I'm an architect working at Awesome Inc., where I\u001b[0m\n",
       "\u001b[1;38;5;40m           > focus on designing sustainable and innovative housing solutions. I have a Master's in\u001b[0m\n",
       "\u001b[1;38;5;40m           > Architecture from the Technical University of Munich, and my thesis was about modular\u001b[0m\n",
       "\u001b[1;38;5;40m           > housing for urban environments. I'm really passionate about modernist architecture and\u001b[0m\n",
       "\u001b[1;38;5;40m           > sustainable practices. In my free time, I enjoy playing the guitar, reading science\u001b[0m\n",
       "\u001b[1;38;5;40m           > fiction, and exploring new architectural landmarks. What about you?\u001b[0m\n"
      ]
     },
     "metadata": {},
     "output_type": "display_data"
    },
    {
     "data": {
      "text/html": [
       "<pre style=\"margin:0px;;white-space:pre;overflow-x:auto;line-height:normal;font-family:Menlo,'DejaVu Sans Mono',consolas,'Courier New',monospace\"><span style=\"color: #d0d0d0; text-decoration-color: #d0d0d0; text-decoration: underline\">Lisa Carter</span><span style=\"color: #d0d0d0; text-decoration-color: #d0d0d0\"> acts: </span><span style=\"color: #d0d0d0; text-decoration-color: #d0d0d0; font-weight: bold\">[</span><span style=\"color: #d0d0d0; text-decoration-color: #d0d0d0\">DONE</span><span style=\"color: #d0d0d0; text-decoration-color: #d0d0d0; font-weight: bold\">]</span><span style=\"color: #d0d0d0; text-decoration-color: #d0d0d0\"> </span>\n",
       "\n",
       "</pre>\n"
      ],
      "text/plain": [
       "\u001b[4;38;5;252mLisa Carter\u001b[0m\u001b[38;5;252m acts: \u001b[0m\u001b[1;38;5;252m[\u001b[0m\u001b[38;5;252mDONE\u001b[0m\u001b[1;38;5;252m]\u001b[0m\u001b[38;5;252m \u001b[0m\n",
       "\n"
      ]
     },
     "metadata": {},
     "output_type": "display_data"
    },
    {
     "data": {
      "text/html": [
       "<pre style=\"margin:0px;;white-space:pre;overflow-x:auto;line-height:normal;font-family:Menlo,'DejaVu Sans Mono',consolas,'Courier New',monospace\"><span style=\"color: #d0d0d0; text-decoration-color: #d0d0d0; text-decoration: underline\">Oscar</span><span style=\"color: #d0d0d0; text-decoration-color: #d0d0d0\"> acts: </span><span style=\"color: #d0d0d0; text-decoration-color: #d0d0d0; font-weight: bold\">[</span><span style=\"color: #d0d0d0; text-decoration-color: #d0d0d0\">DONE</span><span style=\"color: #d0d0d0; text-decoration-color: #d0d0d0; font-weight: bold\">]</span><span style=\"color: #d0d0d0; text-decoration-color: #d0d0d0\"> </span>\n",
       "\n",
       "</pre>\n"
      ],
      "text/plain": [
       "\u001b[4;38;5;252mOscar\u001b[0m\u001b[38;5;252m acts: \u001b[0m\u001b[1;38;5;252m[\u001b[0m\u001b[38;5;252mDONE\u001b[0m\u001b[1;38;5;252m]\u001b[0m\u001b[38;5;252m \u001b[0m\n",
       "\n"
      ]
     },
     "metadata": {},
     "output_type": "display_data"
    },
    {
     "data": {
      "text/html": [
       "<pre style=\"margin:0px;;white-space:pre;overflow-x:auto;line-height:normal;font-family:Menlo,'DejaVu Sans Mono',consolas,'Courier New',monospace\"><span style=\"color: #00ffff; text-decoration-color: #00ffff; font-weight: bold; font-style: italic; text-decoration: underline\">Lisa Carter</span><span style=\"color: #00ffff; text-decoration-color: #00ffff; font-weight: bold; font-style: italic\"> --&gt; </span><span style=\"color: #00ffff; text-decoration-color: #00ffff; font-weight: bold; font-style: italic; text-decoration: underline\">Oscar</span><span style=\"color: #00ffff; text-decoration-color: #00ffff; font-weight: bold; font-style: italic\">: [CONVERSATION] </span>\n",
       "<span style=\"color: #00ffff; text-decoration-color: #00ffff; font-weight: bold; font-style: italic\">                 &gt; Great! Oscar, I'm glad you're available. I was wondering if you could share a bit</span>\n",
       "<span style=\"color: #00ffff; text-decoration-color: #00ffff; font-weight: bold; font-style: italic\">                 &gt; about your background and interests?</span>\n",
       "</pre>\n"
      ],
      "text/plain": [
       "\u001b[1;3;4;38;5;51mLisa Carter\u001b[0m\u001b[1;3;38;5;51m --> \u001b[0m\u001b[1;3;4;38;5;51mOscar\u001b[0m\u001b[1;3;38;5;51m: \u001b[0m\u001b[1;3;38;5;51m[\u001b[0m\u001b[1;3;38;5;51mCONVERSATION\u001b[0m\u001b[1;3;38;5;51m]\u001b[0m\u001b[1;3;38;5;51m \u001b[0m\n",
       "\u001b[1;3;38;5;51m                 > Great! Oscar, I'm glad you're available. I was wondering if you could share a bit\u001b[0m\n",
       "\u001b[1;3;38;5;51m                 > about your background and interests?\u001b[0m\n"
      ]
     },
     "metadata": {},
     "output_type": "display_data"
    },
    {
     "data": {
      "text/html": [
       "<pre style=\"margin:0px;;white-space:pre;overflow-x:auto;line-height:normal;font-family:Menlo,'DejaVu Sans Mono',consolas,'Courier New',monospace\"><span style=\"color: #00ffff; text-decoration-color: #00ffff; font-weight: bold; font-style: italic; text-decoration: underline\">Oscar</span><span style=\"color: #00ffff; text-decoration-color: #00ffff; font-weight: bold; font-style: italic\"> --&gt; </span><span style=\"color: #00ffff; text-decoration-color: #00ffff; font-weight: bold; font-style: italic; text-decoration: underline\">Lisa Carter</span><span style=\"color: #00ffff; text-decoration-color: #00ffff; font-weight: bold; font-style: italic\">: [CONVERSATION] </span>\n",
       "<span style=\"color: #00ffff; text-decoration-color: #00ffff; font-weight: bold; font-style: italic\">           &gt; Hi Lisa! It's great to hear from you. I'm an architect working at Awesome Inc., where I</span>\n",
       "<span style=\"color: #00ffff; text-decoration-color: #00ffff; font-weight: bold; font-style: italic\">           &gt; focus on designing sustainable and innovative housing solutions. I have a Master's in</span>\n",
       "<span style=\"color: #00ffff; text-decoration-color: #00ffff; font-weight: bold; font-style: italic\">           &gt; Architecture from the Technical University of Munich, and my thesis was about modular</span>\n",
       "<span style=\"color: #00ffff; text-decoration-color: #00ffff; font-weight: bold; font-style: italic\">           &gt; housing for urban environments. I'm really passionate about modernist architecture and</span>\n",
       "<span style=\"color: #00ffff; text-decoration-color: #00ffff; font-weight: bold; font-style: italic\">           &gt; sustainable practices. In my free time, I enjoy playing the guitar, reading science</span>\n",
       "<span style=\"color: #00ffff; text-decoration-color: #00ffff; font-weight: bold; font-style: italic\">           &gt; fiction, and exploring new architectural landmarks. What about you?</span>\n",
       "</pre>\n"
      ],
      "text/plain": [
       "\u001b[1;3;4;38;5;51mOscar\u001b[0m\u001b[1;3;38;5;51m --> \u001b[0m\u001b[1;3;4;38;5;51mLisa Carter\u001b[0m\u001b[1;3;38;5;51m: \u001b[0m\u001b[1;3;38;5;51m[\u001b[0m\u001b[1;3;38;5;51mCONVERSATION\u001b[0m\u001b[1;3;38;5;51m]\u001b[0m\u001b[1;3;38;5;51m \u001b[0m\n",
       "\u001b[1;3;38;5;51m           > Hi Lisa! It's great to hear from you. I'm an architect working at Awesome Inc., where I\u001b[0m\n",
       "\u001b[1;3;38;5;51m           > focus on designing sustainable and innovative housing solutions. I have a Master's in\u001b[0m\n",
       "\u001b[1;3;38;5;51m           > Architecture from the Technical University of Munich, and my thesis was about modular\u001b[0m\n",
       "\u001b[1;3;38;5;51m           > housing for urban environments. I'm really passionate about modernist architecture and\u001b[0m\n",
       "\u001b[1;3;38;5;51m           > sustainable practices. In my free time, I enjoy playing the guitar, reading science\u001b[0m\n",
       "\u001b[1;3;38;5;51m           > fiction, and exploring new architectural landmarks. What about you?\u001b[0m\n"
      ]
     },
     "metadata": {},
     "output_type": "display_data"
    },
    {
     "data": {
      "text/html": [
       "<pre style=\"margin:0px;;white-space:pre;overflow-x:auto;line-height:normal;font-family:Menlo,'DejaVu Sans Mono',consolas,'Courier New',monospace\"><span style=\"color: #00ff00; text-decoration-color: #00ff00\">────────────────────────────────────────────── </span>Chat Room step <span style=\"color: #008080; text-decoration-color: #008080; font-weight: bold\">3</span> of <span style=\"color: #008080; text-decoration-color: #008080; font-weight: bold\">4</span><span style=\"color: #00ff00; text-decoration-color: #00ff00\"> ──────────────────────────────────────────────</span>\n",
       "</pre>\n"
      ],
      "text/plain": [
       "\u001b[92m────────────────────────────────────────────── \u001b[0mChat Room step \u001b[1;36m3\u001b[0m of \u001b[1;36m4\u001b[0m\u001b[92m ──────────────────────────────────────────────\u001b[0m\n"
      ]
     },
     "metadata": {},
     "output_type": "display_data"
    },
    {
     "data": {
      "text/html": [
       "<pre style=\"margin:0px;;white-space:pre;overflow-x:auto;line-height:normal;font-family:Menlo,'DejaVu Sans Mono',consolas,'Courier New',monospace\"><span style=\"color: #d0d0d0; text-decoration-color: #d0d0d0; text-decoration: underline\">Oscar</span><span style=\"color: #d0d0d0; text-decoration-color: #d0d0d0\"> acts: </span><span style=\"color: #d0d0d0; text-decoration-color: #d0d0d0; font-weight: bold\">[</span><span style=\"color: #d0d0d0; text-decoration-color: #d0d0d0\">DONE</span><span style=\"color: #d0d0d0; text-decoration-color: #d0d0d0; font-weight: bold\">]</span><span style=\"color: #d0d0d0; text-decoration-color: #d0d0d0\"> </span>\n",
       "\n",
       "</pre>\n"
      ],
      "text/plain": [
       "\u001b[4;38;5;252mOscar\u001b[0m\u001b[38;5;252m acts: \u001b[0m\u001b[1;38;5;252m[\u001b[0m\u001b[38;5;252mDONE\u001b[0m\u001b[1;38;5;252m]\u001b[0m\u001b[38;5;252m \u001b[0m\n",
       "\n"
      ]
     },
     "metadata": {},
     "output_type": "display_data"
    },
    {
     "data": {
      "text/html": [
       "<pre style=\"margin:0px;;white-space:pre;overflow-x:auto;line-height:normal;font-family:Menlo,'DejaVu Sans Mono',consolas,'Courier New',monospace\"><span style=\"color: #00d700; text-decoration-color: #00d700; font-weight: bold; text-decoration: underline\">Lisa Carter</span><span style=\"color: #00d700; text-decoration-color: #00d700; font-weight: bold\"> acts: [TALK] </span>\n",
       "<span style=\"color: #00d700; text-decoration-color: #00d700; font-weight: bold\">                 &gt; Thanks for sharing, Oscar! Your work in sustainable architecture sounds</span>\n",
       "<span style=\"color: #00d700; text-decoration-color: #00d700; font-weight: bold\">                 &gt; fascinating, and I admire your passion for modernist design. I have a Master's in</span>\n",
       "<span style=\"color: #00d700; text-decoration-color: #00d700; font-weight: bold\">                 &gt; Data Science from the University of Toronto, and I currently work as a data</span>\n",
       "<span style=\"color: #00d700; text-decoration-color: #00d700; font-weight: bold\">                 &gt; scientist at Microsoft, focusing on improving search relevance using AI. In my</span>\n",
       "<span style=\"color: #00d700; text-decoration-color: #00d700; font-weight: bold\">                 &gt; free time, I enjoy cooking, playing the piano, and watching movies. I'm also</span>\n",
       "<span style=\"color: #00d700; text-decoration-color: #00d700; font-weight: bold\">                 &gt; interested in how technology can enhance user experiences. It's great to connect</span>\n",
       "<span style=\"color: #00d700; text-decoration-color: #00d700; font-weight: bold\">                 &gt; with someone who has such a creative background!</span>\n",
       "</pre>\n"
      ],
      "text/plain": [
       "\u001b[1;4;38;5;40mLisa Carter\u001b[0m\u001b[1;38;5;40m acts: \u001b[0m\u001b[1;38;5;40m[\u001b[0m\u001b[1;38;5;40mTALK\u001b[0m\u001b[1;38;5;40m]\u001b[0m\u001b[1;38;5;40m \u001b[0m\n",
       "\u001b[1;38;5;40m                 > Thanks for sharing, Oscar! Your work in sustainable architecture sounds\u001b[0m\n",
       "\u001b[1;38;5;40m                 > fascinating, and I admire your passion for modernist design. I have a Master's in\u001b[0m\n",
       "\u001b[1;38;5;40m                 > Data Science from the University of Toronto, and I currently work as a data\u001b[0m\n",
       "\u001b[1;38;5;40m                 > scientist at Microsoft, focusing on improving search relevance using AI. In my\u001b[0m\n",
       "\u001b[1;38;5;40m                 > free time, I enjoy cooking, playing the piano, and watching movies. I'm also\u001b[0m\n",
       "\u001b[1;38;5;40m                 > interested in how technology can enhance user experiences. It's great to connect\u001b[0m\n",
       "\u001b[1;38;5;40m                 > with someone who has such a creative background!\u001b[0m\n"
      ]
     },
     "metadata": {},
     "output_type": "display_data"
    },
    {
     "data": {
      "text/html": [
       "<pre style=\"margin:0px;;white-space:pre;overflow-x:auto;line-height:normal;font-family:Menlo,'DejaVu Sans Mono',consolas,'Courier New',monospace\"><span style=\"color: #d0d0d0; text-decoration-color: #d0d0d0; text-decoration: underline\">Lisa Carter</span><span style=\"color: #d0d0d0; text-decoration-color: #d0d0d0\"> acts: </span><span style=\"color: #d0d0d0; text-decoration-color: #d0d0d0; font-weight: bold\">[</span><span style=\"color: #d0d0d0; text-decoration-color: #d0d0d0\">DONE</span><span style=\"color: #d0d0d0; text-decoration-color: #d0d0d0; font-weight: bold\">]</span><span style=\"color: #d0d0d0; text-decoration-color: #d0d0d0\"> </span>\n",
       "\n",
       "</pre>\n"
      ],
      "text/plain": [
       "\u001b[4;38;5;252mLisa Carter\u001b[0m\u001b[38;5;252m acts: \u001b[0m\u001b[1;38;5;252m[\u001b[0m\u001b[38;5;252mDONE\u001b[0m\u001b[1;38;5;252m]\u001b[0m\u001b[38;5;252m \u001b[0m\n",
       "\n"
      ]
     },
     "metadata": {},
     "output_type": "display_data"
    },
    {
     "data": {
      "text/html": [
       "<pre style=\"margin:0px;;white-space:pre;overflow-x:auto;line-height:normal;font-family:Menlo,'DejaVu Sans Mono',consolas,'Courier New',monospace\"><span style=\"color: #00ffff; text-decoration-color: #00ffff; font-weight: bold; font-style: italic; text-decoration: underline\">Lisa Carter</span><span style=\"color: #00ffff; text-decoration-color: #00ffff; font-weight: bold; font-style: italic\"> --&gt; </span><span style=\"color: #00ffff; text-decoration-color: #00ffff; font-weight: bold; font-style: italic; text-decoration: underline\">Oscar</span><span style=\"color: #00ffff; text-decoration-color: #00ffff; font-weight: bold; font-style: italic\">: [CONVERSATION] </span>\n",
       "<span style=\"color: #00ffff; text-decoration-color: #00ffff; font-weight: bold; font-style: italic\">                 &gt; Thanks for sharing, Oscar! Your work in sustainable architecture sounds</span>\n",
       "<span style=\"color: #00ffff; text-decoration-color: #00ffff; font-weight: bold; font-style: italic\">                 &gt; fascinating, and I admire your passion for modernist design. I have a Master's in</span>\n",
       "<span style=\"color: #00ffff; text-decoration-color: #00ffff; font-weight: bold; font-style: italic\">                 &gt; Data Science from the University of Toronto, and I currently work as a data</span>\n",
       "<span style=\"color: #00ffff; text-decoration-color: #00ffff; font-weight: bold; font-style: italic\">                 &gt; scientist at Microsoft, focusing on improving search relevance using AI. In my</span>\n",
       "<span style=\"color: #00ffff; text-decoration-color: #00ffff; font-weight: bold; font-style: italic\">                 &gt; free time, I enjoy cooking, playing the piano, and watching movies. I'm also</span>\n",
       "<span style=\"color: #00ffff; text-decoration-color: #00ffff; font-weight: bold; font-style: italic\">                 &gt; interested in how technology can enhance user experiences. It's great to connect</span>\n",
       "<span style=\"color: #00ffff; text-decoration-color: #00ffff; font-weight: bold; font-style: italic\">                 &gt; with someone who has such a creative background!</span>\n",
       "</pre>\n"
      ],
      "text/plain": [
       "\u001b[1;3;4;38;5;51mLisa Carter\u001b[0m\u001b[1;3;38;5;51m --> \u001b[0m\u001b[1;3;4;38;5;51mOscar\u001b[0m\u001b[1;3;38;5;51m: \u001b[0m\u001b[1;3;38;5;51m[\u001b[0m\u001b[1;3;38;5;51mCONVERSATION\u001b[0m\u001b[1;3;38;5;51m]\u001b[0m\u001b[1;3;38;5;51m \u001b[0m\n",
       "\u001b[1;3;38;5;51m                 > Thanks for sharing, Oscar! Your work in sustainable architecture sounds\u001b[0m\n",
       "\u001b[1;3;38;5;51m                 > fascinating, and I admire your passion for modernist design. I have a Master's in\u001b[0m\n",
       "\u001b[1;3;38;5;51m                 > Data Science from the University of Toronto, and I currently work as a data\u001b[0m\n",
       "\u001b[1;3;38;5;51m                 > scientist at Microsoft, focusing on improving search relevance using AI. In my\u001b[0m\n",
       "\u001b[1;3;38;5;51m                 > free time, I enjoy cooking, playing the piano, and watching movies. I'm also\u001b[0m\n",
       "\u001b[1;3;38;5;51m                 > interested in how technology can enhance user experiences. It's great to connect\u001b[0m\n",
       "\u001b[1;3;38;5;51m                 > with someone who has such a creative background!\u001b[0m\n"
      ]
     },
     "metadata": {},
     "output_type": "display_data"
    },
    {
     "data": {
      "text/html": [
       "<pre style=\"margin:0px;;white-space:pre;overflow-x:auto;line-height:normal;font-family:Menlo,'DejaVu Sans Mono',consolas,'Courier New',monospace\"><span style=\"color: #00ff00; text-decoration-color: #00ff00\">────────────────────────────────────────────── </span>Chat Room step <span style=\"color: #008080; text-decoration-color: #008080; font-weight: bold\">4</span> of <span style=\"color: #008080; text-decoration-color: #008080; font-weight: bold\">4</span><span style=\"color: #00ff00; text-decoration-color: #00ff00\"> ──────────────────────────────────────────────</span>\n",
       "</pre>\n"
      ],
      "text/plain": [
       "\u001b[92m────────────────────────────────────────────── \u001b[0mChat Room step \u001b[1;36m4\u001b[0m of \u001b[1;36m4\u001b[0m\u001b[92m ──────────────────────────────────────────────\u001b[0m\n"
      ]
     },
     "metadata": {},
     "output_type": "display_data"
    },
    {
     "data": {
      "text/html": [
       "<pre style=\"margin:0px;;white-space:pre;overflow-x:auto;line-height:normal;font-family:Menlo,'DejaVu Sans Mono',consolas,'Courier New',monospace\"><span style=\"color: #d0d0d0; text-decoration-color: #d0d0d0; text-decoration: underline\">Lisa Carter</span><span style=\"color: #d0d0d0; text-decoration-color: #d0d0d0\"> acts: </span><span style=\"color: #d0d0d0; text-decoration-color: #d0d0d0; font-weight: bold\">[</span><span style=\"color: #d0d0d0; text-decoration-color: #d0d0d0\">DONE</span><span style=\"color: #d0d0d0; text-decoration-color: #d0d0d0; font-weight: bold\">]</span><span style=\"color: #d0d0d0; text-decoration-color: #d0d0d0\"> </span>\n",
       "\n",
       "</pre>\n"
      ],
      "text/plain": [
       "\u001b[4;38;5;252mLisa Carter\u001b[0m\u001b[38;5;252m acts: \u001b[0m\u001b[1;38;5;252m[\u001b[0m\u001b[38;5;252mDONE\u001b[0m\u001b[1;38;5;252m]\u001b[0m\u001b[38;5;252m \u001b[0m\n",
       "\n"
      ]
     },
     "metadata": {},
     "output_type": "display_data"
    },
    {
     "data": {
      "text/html": [
       "<pre style=\"margin:0px;;white-space:pre;overflow-x:auto;line-height:normal;font-family:Menlo,'DejaVu Sans Mono',consolas,'Courier New',monospace\"><span style=\"color: #00d700; text-decoration-color: #00d700; font-weight: bold; text-decoration: underline\">Oscar</span><span style=\"color: #00d700; text-decoration-color: #00d700; font-weight: bold\"> acts: [TALK] </span>\n",
       "<span style=\"color: #00d700; text-decoration-color: #00d700; font-weight: bold\">           &gt; Thank you, Lisa! It's wonderful to connect with someone from the tech side of things.</span>\n",
       "<span style=\"color: #00d700; text-decoration-color: #00d700; font-weight: bold\">           &gt; Your work at Microsoft sounds really interesting, especially with AI and improving</span>\n",
       "<span style=\"color: #00d700; text-decoration-color: #00d700; font-weight: bold\">           &gt; search relevance. I think technology plays a crucial role in enhancing user</span>\n",
       "<span style=\"color: #00d700; text-decoration-color: #00d700; font-weight: bold\">           &gt; experiences, just like architecture does in creating functional and beautiful spaces.</span>\n",
       "<span style=\"color: #00d700; text-decoration-color: #00d700; font-weight: bold\">           &gt; Cooking and playing the piano are great hobbies too! What kind of dishes do you enjoy</span>\n",
       "<span style=\"color: #00d700; text-decoration-color: #00d700; font-weight: bold\">           &gt; making?</span>\n",
       "</pre>\n"
      ],
      "text/plain": [
       "\u001b[1;4;38;5;40mOscar\u001b[0m\u001b[1;38;5;40m acts: \u001b[0m\u001b[1;38;5;40m[\u001b[0m\u001b[1;38;5;40mTALK\u001b[0m\u001b[1;38;5;40m]\u001b[0m\u001b[1;38;5;40m \u001b[0m\n",
       "\u001b[1;38;5;40m           > Thank you, Lisa! It's wonderful to connect with someone from the tech side of things.\u001b[0m\n",
       "\u001b[1;38;5;40m           > Your work at Microsoft sounds really interesting, especially with AI and improving\u001b[0m\n",
       "\u001b[1;38;5;40m           > search relevance. I think technology plays a crucial role in enhancing user\u001b[0m\n",
       "\u001b[1;38;5;40m           > experiences, just like architecture does in creating functional and beautiful spaces.\u001b[0m\n",
       "\u001b[1;38;5;40m           > Cooking and playing the piano are great hobbies too! What kind of dishes do you enjoy\u001b[0m\n",
       "\u001b[1;38;5;40m           > making?\u001b[0m\n"
      ]
     },
     "metadata": {},
     "output_type": "display_data"
    },
    {
     "data": {
      "text/html": [
       "<pre style=\"margin:0px;;white-space:pre;overflow-x:auto;line-height:normal;font-family:Menlo,'DejaVu Sans Mono',consolas,'Courier New',monospace\"><span style=\"color: #d0d0d0; text-decoration-color: #d0d0d0; text-decoration: underline\">Oscar</span><span style=\"color: #d0d0d0; text-decoration-color: #d0d0d0\"> acts: </span><span style=\"color: #d0d0d0; text-decoration-color: #d0d0d0; font-weight: bold\">[</span><span style=\"color: #d0d0d0; text-decoration-color: #d0d0d0\">DONE</span><span style=\"color: #d0d0d0; text-decoration-color: #d0d0d0; font-weight: bold\">]</span><span style=\"color: #d0d0d0; text-decoration-color: #d0d0d0\"> </span>\n",
       "\n",
       "</pre>\n"
      ],
      "text/plain": [
       "\u001b[4;38;5;252mOscar\u001b[0m\u001b[38;5;252m acts: \u001b[0m\u001b[1;38;5;252m[\u001b[0m\u001b[38;5;252mDONE\u001b[0m\u001b[1;38;5;252m]\u001b[0m\u001b[38;5;252m \u001b[0m\n",
       "\n"
      ]
     },
     "metadata": {},
     "output_type": "display_data"
    },
    {
     "data": {
      "text/html": [
       "<pre style=\"margin:0px;;white-space:pre;overflow-x:auto;line-height:normal;font-family:Menlo,'DejaVu Sans Mono',consolas,'Courier New',monospace\"><span style=\"color: #00ffff; text-decoration-color: #00ffff; font-weight: bold; font-style: italic; text-decoration: underline\">Oscar</span><span style=\"color: #00ffff; text-decoration-color: #00ffff; font-weight: bold; font-style: italic\"> --&gt; </span><span style=\"color: #00ffff; text-decoration-color: #00ffff; font-weight: bold; font-style: italic; text-decoration: underline\">Lisa Carter</span><span style=\"color: #00ffff; text-decoration-color: #00ffff; font-weight: bold; font-style: italic\">: [CONVERSATION] </span>\n",
       "<span style=\"color: #00ffff; text-decoration-color: #00ffff; font-weight: bold; font-style: italic\">           &gt; Thank you, Lisa! It's wonderful to connect with someone from the tech side of things.</span>\n",
       "<span style=\"color: #00ffff; text-decoration-color: #00ffff; font-weight: bold; font-style: italic\">           &gt; Your work at Microsoft sounds really interesting, especially with AI and improving</span>\n",
       "<span style=\"color: #00ffff; text-decoration-color: #00ffff; font-weight: bold; font-style: italic\">           &gt; search relevance. I think technology plays a crucial role in enhancing user</span>\n",
       "<span style=\"color: #00ffff; text-decoration-color: #00ffff; font-weight: bold; font-style: italic\">           &gt; experiences, just like architecture does in creating functional and beautiful spaces.</span>\n",
       "<span style=\"color: #00ffff; text-decoration-color: #00ffff; font-weight: bold; font-style: italic\">           &gt; Cooking and playing the piano are great hobbies too! What kind of dishes do you enjoy</span>\n",
       "<span style=\"color: #00ffff; text-decoration-color: #00ffff; font-weight: bold; font-style: italic\">           &gt; making?</span>\n",
       "</pre>\n"
      ],
      "text/plain": [
       "\u001b[1;3;4;38;5;51mOscar\u001b[0m\u001b[1;3;38;5;51m --> \u001b[0m\u001b[1;3;4;38;5;51mLisa Carter\u001b[0m\u001b[1;3;38;5;51m: \u001b[0m\u001b[1;3;38;5;51m[\u001b[0m\u001b[1;3;38;5;51mCONVERSATION\u001b[0m\u001b[1;3;38;5;51m]\u001b[0m\u001b[1;3;38;5;51m \u001b[0m\n",
       "\u001b[1;3;38;5;51m           > Thank you, Lisa! It's wonderful to connect with someone from the tech side of things.\u001b[0m\n",
       "\u001b[1;3;38;5;51m           > Your work at Microsoft sounds really interesting, especially with AI and improving\u001b[0m\n",
       "\u001b[1;3;38;5;51m           > search relevance. I think technology plays a crucial role in enhancing user\u001b[0m\n",
       "\u001b[1;3;38;5;51m           > experiences, just like architecture does in creating functional and beautiful spaces.\u001b[0m\n",
       "\u001b[1;3;38;5;51m           > Cooking and playing the piano are great hobbies too! What kind of dishes do you enjoy\u001b[0m\n",
       "\u001b[1;3;38;5;51m           > making?\u001b[0m\n"
      ]
     },
     "metadata": {},
     "output_type": "display_data"
    }
   ],
   "source": [
    "lisa.listen(\"Talk to Oscar to know more about him\")\n",
    "world.run(4)"
   ]
  },
  {
   "cell_type": "code",
   "execution_count": 5,
   "metadata": {
    "execution": {
     "iopub.execute_input": "2025-07-14T03:49:39.668267Z",
     "iopub.status.busy": "2025-07-14T03:49:39.668267Z",
     "iopub.status.idle": "2025-07-14T03:49:39.694191Z",
     "shell.execute_reply": "2025-07-14T03:49:39.693189Z"
    }
   },
   "outputs": [
    {
     "data": {
      "text/html": [
       "<pre style=\"margin:0px;;white-space:pre;overflow-x:auto;line-height:normal;font-family:Menlo,'DejaVu Sans Mono',consolas,'Courier New',monospace\">**** BEGIN SIMULATION TRAJECTORY FOR Lisa Carter ****\n",
       "Agent simulation trajectory event #<span style=\"color: #008080; text-decoration-color: #008080; font-weight: bold\">0</span>:\n",
       "&gt;&gt;&gt;&gt;&gt;&gt;&gt;&gt;&gt; Date and time of events: <span style=\"color: #008080; text-decoration-color: #008080; font-weight: bold\">2025</span>-<span style=\"color: #008080; text-decoration-color: #008080; font-weight: bold\">07</span>-15T<span style=\"color: #00ff00; text-decoration-color: #00ff00; font-weight: bold\">21:43:26</span>.<span style=\"color: #008080; text-decoration-color: #008080; font-weight: bold\">345998</span>\n",
       "<span style=\"color: #00ffff; text-decoration-color: #00ffff; font-weight: bold; font-style: italic; text-decoration: underline\">USER</span><span style=\"color: #00ffff; text-decoration-color: #00ffff; font-weight: bold; font-style: italic\"> --&gt; </span><span style=\"color: #00ffff; text-decoration-color: #00ffff; font-weight: bold; font-style: italic; text-decoration: underline\">Lisa Carter</span><span style=\"color: #00ffff; text-decoration-color: #00ffff; font-weight: bold; font-style: italic\">: [CONVERSATION] </span>\n",
       "<span style=\"color: #00ffff; text-decoration-color: #00ffff; font-weight: bold; font-style: italic\">          &gt; Talk to Oscar to know more about him</span>\n",
       "<span style=\"color: #00ffff; text-decoration-color: #00ffff; font-weight: bold; font-style: italic\">Agent simulation trajectory event #1:</span>\n",
       "<span style=\"color: #00ffff; text-decoration-color: #00ffff; font-weight: bold; font-style: italic\">&gt;&gt;&gt;&gt;&gt;&gt;&gt;&gt;&gt; Date and time of events: 2025-07-15T21:43:26.345998</span>\n",
       "<span style=\"color: #af00ff; text-decoration-color: #af00ff; font-weight: bold; font-style: italic; text-decoration: underline\">Lisa Carter</span><span style=\"color: #af00ff; text-decoration-color: #af00ff; font-weight: bold; font-style: italic\"> acts: [REACH_OUT] </span>\n",
       "\n",
       "<span style=\"color: #00ffff; text-decoration-color: #00ffff; font-weight: bold; font-style: italic\">Agent simulation trajectory event #2:</span>\n",
       "<span style=\"color: #00ffff; text-decoration-color: #00ffff; font-weight: bold; font-style: italic\">&gt;&gt;&gt;&gt;&gt;&gt;&gt;&gt;&gt; Date and time of events: 2025-07-15T21:43:26.345998</span>\n",
       "<span style=\"color: #00d700; text-decoration-color: #00d700; font-weight: bold; font-style: italic; text-decoration: underline\">Lisa Carter</span><span style=\"color: #00d700; text-decoration-color: #00d700; font-weight: bold; font-style: italic\"> acts: [TALK] </span>\n",
       "<span style=\"color: #00d700; text-decoration-color: #00d700; font-weight: bold; font-style: italic\">                 &gt; Hi Oscar! I was encouraged to reach out and learn more about you. Can you tell me</span>\n",
       "<span style=\"color: #00d700; text-decoration-color: #00d700; font-weight: bold; font-style: italic\">                 &gt; a bit about your background and interests?</span>\n",
       "<span style=\"color: #00ffff; text-decoration-color: #00ffff; font-weight: bold; font-style: italic\">Agent simulation trajectory event #3:</span>\n",
       "<span style=\"color: #00ffff; text-decoration-color: #00ffff; font-weight: bold; font-style: italic\">&gt;&gt;&gt;&gt;&gt;&gt;&gt;&gt;&gt; Date and time of events: 2025-07-15T21:43:26.345998</span>\n",
       "<span style=\"color: #d0d0d0; text-decoration-color: #d0d0d0; font-weight: bold; font-style: italic; text-decoration: underline\">Lisa Carter</span><span style=\"color: #d0d0d0; text-decoration-color: #d0d0d0; font-weight: bold; font-style: italic\"> acts: [DONE] </span>\n",
       "\n",
       "<span style=\"color: #00ffff; text-decoration-color: #00ffff; font-weight: bold; font-style: italic\">Agent simulation trajectory event #4:</span>\n",
       "<span style=\"color: #00ffff; text-decoration-color: #00ffff; font-weight: bold; font-style: italic\">&gt;&gt;&gt;&gt;&gt;&gt;&gt;&gt;&gt; Date and time of events: 2025-07-15T21:43:26.345998</span>\n",
       "<span style=\"color: #00ffff; text-decoration-color: #00ffff; font-weight: bold; font-style: italic; text-decoration: underline\">Chat Room</span><span style=\"color: #00ffff; text-decoration-color: #00ffff; font-weight: bold; font-style: italic\"> --&gt; </span><span style=\"color: #00ffff; text-decoration-color: #00ffff; font-weight: bold; font-style: italic; text-decoration: underline\">Lisa Carter</span><span style=\"color: #00ffff; text-decoration-color: #00ffff; font-weight: bold; font-style: italic\">: [SOCIAL] </span>\n",
       "<span style=\"color: #00ffff; text-decoration-color: #00ffff; font-weight: bold; font-style: italic\">               &gt; Oscar was successfully reached out, and is now available for interaction.</span>\n",
       "<span style=\"color: #00ffff; text-decoration-color: #00ffff; font-weight: bold; font-style: italic\">Agent simulation trajectory event #5:</span>\n",
       "<span style=\"color: #00ffff; text-decoration-color: #00ffff; font-weight: bold; font-style: italic\">&gt;&gt;&gt;&gt;&gt;&gt;&gt;&gt;&gt; Date and time of events: 2025-07-15T21:43:26.345998</span>\n",
       "<span style=\"color: #00d700; text-decoration-color: #00d700; font-weight: bold; font-style: italic; text-decoration: underline\">Lisa Carter</span><span style=\"color: #00d700; text-decoration-color: #00d700; font-weight: bold; font-style: italic\"> acts: [TALK] </span>\n",
       "<span style=\"color: #00d700; text-decoration-color: #00d700; font-weight: bold; font-style: italic\">                 &gt; Great! Oscar, I'm glad you're available. I was wondering if you could share a bit</span>\n",
       "<span style=\"color: #00d700; text-decoration-color: #00d700; font-weight: bold; font-style: italic\">                 &gt; about your background and interests?</span>\n",
       "<span style=\"color: #00ffff; text-decoration-color: #00ffff; font-weight: bold; font-style: italic\">Agent simulation trajectory event #6:</span>\n",
       "<span style=\"color: #00ffff; text-decoration-color: #00ffff; font-weight: bold; font-style: italic\">&gt;&gt;&gt;&gt;&gt;&gt;&gt;&gt;&gt; Date and time of events: 2025-07-15T21:43:26.345998</span>\n",
       "<span style=\"color: #d0d0d0; text-decoration-color: #d0d0d0; font-weight: bold; font-style: italic; text-decoration: underline\">Lisa Carter</span><span style=\"color: #d0d0d0; text-decoration-color: #d0d0d0; font-weight: bold; font-style: italic\"> acts: [DONE] </span>\n",
       "\n",
       "<span style=\"color: #00ffff; text-decoration-color: #00ffff; font-weight: bold; font-style: italic\">Agent simulation trajectory event #7:</span>\n",
       "<span style=\"color: #00ffff; text-decoration-color: #00ffff; font-weight: bold; font-style: italic\">&gt;&gt;&gt;&gt;&gt;&gt;&gt;&gt;&gt; Date and time of events: 2025-07-15T21:43:26.345998</span>\n",
       "<span style=\"color: #00ffff; text-decoration-color: #00ffff; font-weight: bold; font-style: italic; text-decoration: underline\">Oscar</span><span style=\"color: #00ffff; text-decoration-color: #00ffff; font-weight: bold; font-style: italic\"> --&gt; </span><span style=\"color: #00ffff; text-decoration-color: #00ffff; font-weight: bold; font-style: italic; text-decoration: underline\">Lisa Carter</span><span style=\"color: #00ffff; text-decoration-color: #00ffff; font-weight: bold; font-style: italic\">: [CONVERSATION] </span>\n",
       "<span style=\"color: #00ffff; text-decoration-color: #00ffff; font-weight: bold; font-style: italic\">           &gt; Hi Lisa! It's great to hear from you. I'm an architect working at Awesome Inc., where I</span>\n",
       "<span style=\"color: #00ffff; text-decoration-color: #00ffff; font-weight: bold; font-style: italic\">           &gt; focus on designing sustainable and innovative housing solutions. I have a Master's in</span>\n",
       "<span style=\"color: #00ffff; text-decoration-color: #00ffff; font-weight: bold; font-style: italic\">           &gt; Architecture from the Technical University of Munich, and my thesis was about modular</span>\n",
       "<span style=\"color: #00ffff; text-decoration-color: #00ffff; font-weight: bold; font-style: italic\">           &gt; housing for urban environments. I'm really passionate about modernist architecture and</span>\n",
       "<span style=\"color: #00ffff; text-decoration-color: #00ffff; font-weight: bold; font-style: italic\">           &gt; sustainable practices. In my free time, I enjoy playing the guitar, reading science</span>\n",
       "<span style=\"color: #00ffff; text-decoration-color: #00ffff; font-weight: bold; font-style: italic\">           &gt; fiction, and exploring new architectural landmarks. What about you?</span>\n",
       "<span style=\"color: #00ffff; text-decoration-color: #00ffff; font-weight: bold; font-style: italic\">Agent simulation trajectory event #8:</span>\n",
       "<span style=\"color: #00ffff; text-decoration-color: #00ffff; font-weight: bold; font-style: italic\">&gt;&gt;&gt;&gt;&gt;&gt;&gt;&gt;&gt; Date and time of events: 2025-07-15T21:43:26.345998</span>\n",
       "<span style=\"color: #00d700; text-decoration-color: #00d700; font-weight: bold; font-style: italic; text-decoration: underline\">Lisa Carter</span><span style=\"color: #00d700; text-decoration-color: #00d700; font-weight: bold; font-style: italic\"> acts: [TALK] </span>\n",
       "<span style=\"color: #00d700; text-decoration-color: #00d700; font-weight: bold; font-style: italic\">                 &gt; Thanks for sharing, Oscar! Your work in sustainable architecture sounds</span>\n",
       "<span style=\"color: #00d700; text-decoration-color: #00d700; font-weight: bold; font-style: italic\">                 &gt; fascinating, and I admire your passion for modernist design. I have a Master's in</span>\n",
       "<span style=\"color: #00d700; text-decoration-color: #00d700; font-weight: bold; font-style: italic\">                 &gt; Data Science from the University of Toronto, and I currently work as a data</span>\n",
       "<span style=\"color: #00d700; text-decoration-color: #00d700; font-weight: bold; font-style: italic\">                 &gt; scientist at Microsoft, focusing on improving search relevance using AI. In my</span>\n",
       "<span style=\"color: #00d700; text-decoration-color: #00d700; font-weight: bold; font-style: italic\">                 &gt; free time, I enjoy cooking, playing the piano, and watching movies. I'm also</span>\n",
       "<span style=\"color: #00d700; text-decoration-color: #00d700; font-weight: bold; font-style: italic\">                 &gt; interested in how technology can enhance user experiences. It's great to connect</span>\n",
       "<span style=\"color: #00d700; text-decoration-color: #00d700; font-weight: bold; font-style: italic\">                 &gt; with someone who has such a creative background!</span>\n",
       "<span style=\"color: #00ffff; text-decoration-color: #00ffff; font-weight: bold; font-style: italic\">Agent simulation trajectory event #9:</span>\n",
       "<span style=\"color: #00ffff; text-decoration-color: #00ffff; font-weight: bold; font-style: italic\">&gt;&gt;&gt;&gt;&gt;&gt;&gt;&gt;&gt; Date and time of events: 2025-07-15T21:43:26.345998</span>\n",
       "<span style=\"color: #d0d0d0; text-decoration-color: #d0d0d0; font-weight: bold; font-style: italic; text-decoration: underline\">Lisa Carter</span><span style=\"color: #d0d0d0; text-decoration-color: #d0d0d0; font-weight: bold; font-style: italic\"> acts: [DONE] </span>\n",
       "\n",
       "<span style=\"color: #00ffff; text-decoration-color: #00ffff; font-weight: bold; font-style: italic\">Agent simulation trajectory event #10:</span>\n",
       "<span style=\"color: #00ffff; text-decoration-color: #00ffff; font-weight: bold; font-style: italic\">&gt;&gt;&gt;&gt;&gt;&gt;&gt;&gt;&gt; Date and time of events: 2025-07-15T21:43:26.345998</span>\n",
       "<span style=\"color: #d0d0d0; text-decoration-color: #d0d0d0; font-weight: bold; font-style: italic; text-decoration: underline\">Lisa Carter</span><span style=\"color: #d0d0d0; text-decoration-color: #d0d0d0; font-weight: bold; font-style: italic\"> acts: [DONE] </span>\n",
       "\n",
       "<span style=\"color: #00ffff; text-decoration-color: #00ffff; font-weight: bold; font-style: italic\">Agent simulation trajectory event #11:</span>\n",
       "<span style=\"color: #00ffff; text-decoration-color: #00ffff; font-weight: bold; font-style: italic\">&gt;&gt;&gt;&gt;&gt;&gt;&gt;&gt;&gt; Date and time of events: 2025-07-15T21:43:26.345998</span>\n",
       "<span style=\"color: #00ffff; text-decoration-color: #00ffff; font-weight: bold; font-style: italic; text-decoration: underline\">Oscar</span><span style=\"color: #00ffff; text-decoration-color: #00ffff; font-weight: bold; font-style: italic\"> --&gt; </span><span style=\"color: #00ffff; text-decoration-color: #00ffff; font-weight: bold; font-style: italic; text-decoration: underline\">Lisa Carter</span><span style=\"color: #00ffff; text-decoration-color: #00ffff; font-weight: bold; font-style: italic\">: [CONVERSATION] </span>\n",
       "<span style=\"color: #00ffff; text-decoration-color: #00ffff; font-weight: bold; font-style: italic\">           &gt; Thank you, Lisa! It's wonderful to connect with someone from the tech side of things.</span>\n",
       "<span style=\"color: #00ffff; text-decoration-color: #00ffff; font-weight: bold; font-style: italic\">           &gt; Your work at Microsoft sounds really interesting, especially with AI and improving</span>\n",
       "<span style=\"color: #00ffff; text-decoration-color: #00ffff; font-weight: bold; font-style: italic\">           &gt; search relevance. I think technology plays a crucial role in enhancing user</span>\n",
       "<span style=\"color: #00ffff; text-decoration-color: #00ffff; font-weight: bold; font-style: italic\">           &gt; experiences, just like architecture does in creating functional and beautiful spaces.</span>\n",
       "<span style=\"color: #00ffff; text-decoration-color: #00ffff; font-weight: bold; font-style: italic\">           &gt; Cooking and playing the piano are great hobbies too! What kind of dishes do you enjoy</span>\n",
       "<span style=\"color: #00ffff; text-decoration-color: #00ffff; font-weight: bold; font-style: italic\">           &gt; making?</span>\n",
       "<span style=\"color: #00ffff; text-decoration-color: #00ffff; font-weight: bold; font-style: italic\">The last agent simulation trajectory event number was 11, thus the current number of the NEXT POTENTIAL TRAJECTORY </span>\n",
       "<span style=\"color: #00ffff; text-decoration-color: #00ffff; font-weight: bold; font-style: italic\">EVENT is 12.</span>\n",
       "<span style=\"color: #00ffff; text-decoration-color: #00ffff; font-weight: bold; font-style: italic\">**** END SIMULATION TRAJECTORY FOR Lisa Carter ****</span>\n",
       "\n",
       "\n",
       "</pre>\n"
      ],
      "text/plain": [
       "**** BEGIN SIMULATION TRAJECTORY FOR Lisa Carter ****\n",
       "Agent simulation trajectory event #\u001b[1;36m0\u001b[0m:\n",
       ">>>>>>>>> Date and time of events: \u001b[1;36m2025\u001b[0m-\u001b[1;36m07\u001b[0m-15T\u001b[1;92m21:43:26\u001b[0m.\u001b[1;36m345998\u001b[0m\n",
       "\u001b[1;3;4;38;5;51mUSER\u001b[0m\u001b[1;3;38;5;51m --> \u001b[0m\u001b[1;3;4;38;5;51mLisa Carter\u001b[0m\u001b[1;3;38;5;51m: \u001b[0m\u001b[1;3;38;5;51m[\u001b[0m\u001b[1;3;38;5;51mCONVERSATION\u001b[0m\u001b[1;3;38;5;51m]\u001b[0m\u001b[1;3;38;5;51m \u001b[0m\n",
       "\u001b[1;3;38;5;51m          > Talk to Oscar to know more about him\u001b[0m\n",
       "\u001b[1;3;38;5;51mAgent simulation trajectory event #\u001b[0m\u001b[1;3;38;5;51m1\u001b[0m\u001b[1;3;38;5;51m:\u001b[0m\n",
       "\u001b[1;3;38;5;51m>>>>>>>>> Date and time of events: \u001b[0m\u001b[1;3;38;5;51m2025\u001b[0m\u001b[1;3;38;5;51m-\u001b[0m\u001b[1;3;38;5;51m07\u001b[0m\u001b[1;3;38;5;51m-15T\u001b[0m\u001b[1;3;38;5;51m21:43:26\u001b[0m\u001b[1;3;38;5;51m.\u001b[0m\u001b[1;3;38;5;51m345998\u001b[0m\n",
       "\u001b[1;3;4;38;5;129mLisa Carter\u001b[0m\u001b[1;3;38;5;129m acts: \u001b[0m\u001b[1;3;38;5;129m[\u001b[0m\u001b[1;3;38;5;129mREACH_OUT\u001b[0m\u001b[1;3;38;5;129m]\u001b[0m\u001b[1;3;38;5;129m \u001b[0m\n",
       "\n",
       "\u001b[1;3;38;5;51mAgent simulation trajectory event #\u001b[0m\u001b[1;3;38;5;51m2\u001b[0m\u001b[1;3;38;5;51m:\u001b[0m\n",
       "\u001b[1;3;38;5;51m>>>>>>>>> Date and time of events: \u001b[0m\u001b[1;3;38;5;51m2025\u001b[0m\u001b[1;3;38;5;51m-\u001b[0m\u001b[1;3;38;5;51m07\u001b[0m\u001b[1;3;38;5;51m-15T\u001b[0m\u001b[1;3;38;5;51m21:43:26\u001b[0m\u001b[1;3;38;5;51m.\u001b[0m\u001b[1;3;38;5;51m345998\u001b[0m\n",
       "\u001b[1;3;4;38;5;40mLisa Carter\u001b[0m\u001b[1;3;38;5;40m acts: \u001b[0m\u001b[1;3;38;5;40m[\u001b[0m\u001b[1;3;38;5;40mTALK\u001b[0m\u001b[1;3;38;5;40m]\u001b[0m\u001b[1;3;38;5;40m \u001b[0m\n",
       "\u001b[1;3;38;5;40m                 > Hi Oscar! I was encouraged to reach out and learn more about you. Can you tell me\u001b[0m\n",
       "\u001b[1;3;38;5;40m                 > a bit about your background and interests?\u001b[0m\n",
       "\u001b[1;3;38;5;51mAgent simulation trajectory event #\u001b[0m\u001b[1;3;38;5;51m3\u001b[0m\u001b[1;3;38;5;51m:\u001b[0m\n",
       "\u001b[1;3;38;5;51m>>>>>>>>> Date and time of events: \u001b[0m\u001b[1;3;38;5;51m2025\u001b[0m\u001b[1;3;38;5;51m-\u001b[0m\u001b[1;3;38;5;51m07\u001b[0m\u001b[1;3;38;5;51m-15T\u001b[0m\u001b[1;3;38;5;51m21:43:26\u001b[0m\u001b[1;3;38;5;51m.\u001b[0m\u001b[1;3;38;5;51m345998\u001b[0m\n",
       "\u001b[1;3;4;38;5;252mLisa Carter\u001b[0m\u001b[1;3;38;5;252m acts: \u001b[0m\u001b[1;3;38;5;252m[\u001b[0m\u001b[1;3;38;5;252mDONE\u001b[0m\u001b[1;3;38;5;252m]\u001b[0m\u001b[1;3;38;5;252m \u001b[0m\n",
       "\n",
       "\u001b[1;3;38;5;51mAgent simulation trajectory event #\u001b[0m\u001b[1;3;38;5;51m4\u001b[0m\u001b[1;3;38;5;51m:\u001b[0m\n",
       "\u001b[1;3;38;5;51m>>>>>>>>> Date and time of events: \u001b[0m\u001b[1;3;38;5;51m2025\u001b[0m\u001b[1;3;38;5;51m-\u001b[0m\u001b[1;3;38;5;51m07\u001b[0m\u001b[1;3;38;5;51m-15T\u001b[0m\u001b[1;3;38;5;51m21:43:26\u001b[0m\u001b[1;3;38;5;51m.\u001b[0m\u001b[1;3;38;5;51m345998\u001b[0m\n",
       "\u001b[1;3;4;38;5;51mChat Room\u001b[0m\u001b[1;3;38;5;51m --> \u001b[0m\u001b[1;3;4;38;5;51mLisa Carter\u001b[0m\u001b[1;3;38;5;51m: \u001b[0m\u001b[1;3;38;5;51m[\u001b[0m\u001b[1;3;38;5;51mSOCIAL\u001b[0m\u001b[1;3;38;5;51m]\u001b[0m\u001b[1;3;38;5;51m \u001b[0m\n",
       "\u001b[1;3;38;5;51m               > Oscar was successfully reached out, and is now available for interaction.\u001b[0m\n",
       "\u001b[1;3;38;5;51mAgent simulation trajectory event #\u001b[0m\u001b[1;3;38;5;51m5\u001b[0m\u001b[1;3;38;5;51m:\u001b[0m\n",
       "\u001b[1;3;38;5;51m>>>>>>>>> Date and time of events: \u001b[0m\u001b[1;3;38;5;51m2025\u001b[0m\u001b[1;3;38;5;51m-\u001b[0m\u001b[1;3;38;5;51m07\u001b[0m\u001b[1;3;38;5;51m-15T\u001b[0m\u001b[1;3;38;5;51m21:43:26\u001b[0m\u001b[1;3;38;5;51m.\u001b[0m\u001b[1;3;38;5;51m345998\u001b[0m\n",
       "\u001b[1;3;4;38;5;40mLisa Carter\u001b[0m\u001b[1;3;38;5;40m acts: \u001b[0m\u001b[1;3;38;5;40m[\u001b[0m\u001b[1;3;38;5;40mTALK\u001b[0m\u001b[1;3;38;5;40m]\u001b[0m\u001b[1;3;38;5;40m \u001b[0m\n",
       "\u001b[1;3;38;5;40m                 > Great! Oscar, I'm glad you're available. I was wondering if you could share a bit\u001b[0m\n",
       "\u001b[1;3;38;5;40m                 > about your background and interests?\u001b[0m\n",
       "\u001b[1;3;38;5;51mAgent simulation trajectory event #\u001b[0m\u001b[1;3;38;5;51m6\u001b[0m\u001b[1;3;38;5;51m:\u001b[0m\n",
       "\u001b[1;3;38;5;51m>>>>>>>>> Date and time of events: \u001b[0m\u001b[1;3;38;5;51m2025\u001b[0m\u001b[1;3;38;5;51m-\u001b[0m\u001b[1;3;38;5;51m07\u001b[0m\u001b[1;3;38;5;51m-15T\u001b[0m\u001b[1;3;38;5;51m21:43:26\u001b[0m\u001b[1;3;38;5;51m.\u001b[0m\u001b[1;3;38;5;51m345998\u001b[0m\n",
       "\u001b[1;3;4;38;5;252mLisa Carter\u001b[0m\u001b[1;3;38;5;252m acts: \u001b[0m\u001b[1;3;38;5;252m[\u001b[0m\u001b[1;3;38;5;252mDONE\u001b[0m\u001b[1;3;38;5;252m]\u001b[0m\u001b[1;3;38;5;252m \u001b[0m\n",
       "\n",
       "\u001b[1;3;38;5;51mAgent simulation trajectory event #\u001b[0m\u001b[1;3;38;5;51m7\u001b[0m\u001b[1;3;38;5;51m:\u001b[0m\n",
       "\u001b[1;3;38;5;51m>>>>>>>>> Date and time of events: \u001b[0m\u001b[1;3;38;5;51m2025\u001b[0m\u001b[1;3;38;5;51m-\u001b[0m\u001b[1;3;38;5;51m07\u001b[0m\u001b[1;3;38;5;51m-15T\u001b[0m\u001b[1;3;38;5;51m21:43:26\u001b[0m\u001b[1;3;38;5;51m.\u001b[0m\u001b[1;3;38;5;51m345998\u001b[0m\n",
       "\u001b[1;3;4;38;5;51mOscar\u001b[0m\u001b[1;3;38;5;51m --> \u001b[0m\u001b[1;3;4;38;5;51mLisa Carter\u001b[0m\u001b[1;3;38;5;51m: \u001b[0m\u001b[1;3;38;5;51m[\u001b[0m\u001b[1;3;38;5;51mCONVERSATION\u001b[0m\u001b[1;3;38;5;51m]\u001b[0m\u001b[1;3;38;5;51m \u001b[0m\n",
       "\u001b[1;3;38;5;51m           > Hi Lisa! It's great to hear from you. I'm an architect working at Awesome Inc., where I\u001b[0m\n",
       "\u001b[1;3;38;5;51m           > focus on designing sustainable and innovative housing solutions. I have a Master's in\u001b[0m\n",
       "\u001b[1;3;38;5;51m           > Architecture from the Technical University of Munich, and my thesis was about modular\u001b[0m\n",
       "\u001b[1;3;38;5;51m           > housing for urban environments. I'm really passionate about modernist architecture and\u001b[0m\n",
       "\u001b[1;3;38;5;51m           > sustainable practices. In my free time, I enjoy playing the guitar, reading science\u001b[0m\n",
       "\u001b[1;3;38;5;51m           > fiction, and exploring new architectural landmarks. What about you?\u001b[0m\n",
       "\u001b[1;3;38;5;51mAgent simulation trajectory event #\u001b[0m\u001b[1;3;38;5;51m8\u001b[0m\u001b[1;3;38;5;51m:\u001b[0m\n",
       "\u001b[1;3;38;5;51m>>>>>>>>> Date and time of events: \u001b[0m\u001b[1;3;38;5;51m2025\u001b[0m\u001b[1;3;38;5;51m-\u001b[0m\u001b[1;3;38;5;51m07\u001b[0m\u001b[1;3;38;5;51m-15T\u001b[0m\u001b[1;3;38;5;51m21:43:26\u001b[0m\u001b[1;3;38;5;51m.\u001b[0m\u001b[1;3;38;5;51m345998\u001b[0m\n",
       "\u001b[1;3;4;38;5;40mLisa Carter\u001b[0m\u001b[1;3;38;5;40m acts: \u001b[0m\u001b[1;3;38;5;40m[\u001b[0m\u001b[1;3;38;5;40mTALK\u001b[0m\u001b[1;3;38;5;40m]\u001b[0m\u001b[1;3;38;5;40m \u001b[0m\n",
       "\u001b[1;3;38;5;40m                 > Thanks for sharing, Oscar! Your work in sustainable architecture sounds\u001b[0m\n",
       "\u001b[1;3;38;5;40m                 > fascinating, and I admire your passion for modernist design. I have a Master's in\u001b[0m\n",
       "\u001b[1;3;38;5;40m                 > Data Science from the University of Toronto, and I currently work as a data\u001b[0m\n",
       "\u001b[1;3;38;5;40m                 > scientist at Microsoft, focusing on improving search relevance using AI. In my\u001b[0m\n",
       "\u001b[1;3;38;5;40m                 > free time, I enjoy cooking, playing the piano, and watching movies. I'm also\u001b[0m\n",
       "\u001b[1;3;38;5;40m                 > interested in how technology can enhance user experiences. It's great to connect\u001b[0m\n",
       "\u001b[1;3;38;5;40m                 > with someone who has such a creative background!\u001b[0m\n",
       "\u001b[1;3;38;5;51mAgent simulation trajectory event #\u001b[0m\u001b[1;3;38;5;51m9\u001b[0m\u001b[1;3;38;5;51m:\u001b[0m\n",
       "\u001b[1;3;38;5;51m>>>>>>>>> Date and time of events: \u001b[0m\u001b[1;3;38;5;51m2025\u001b[0m\u001b[1;3;38;5;51m-\u001b[0m\u001b[1;3;38;5;51m07\u001b[0m\u001b[1;3;38;5;51m-15T\u001b[0m\u001b[1;3;38;5;51m21:43:26\u001b[0m\u001b[1;3;38;5;51m.\u001b[0m\u001b[1;3;38;5;51m345998\u001b[0m\n",
       "\u001b[1;3;4;38;5;252mLisa Carter\u001b[0m\u001b[1;3;38;5;252m acts: \u001b[0m\u001b[1;3;38;5;252m[\u001b[0m\u001b[1;3;38;5;252mDONE\u001b[0m\u001b[1;3;38;5;252m]\u001b[0m\u001b[1;3;38;5;252m \u001b[0m\n",
       "\n",
       "\u001b[1;3;38;5;51mAgent simulation trajectory event #\u001b[0m\u001b[1;3;38;5;51m10\u001b[0m\u001b[1;3;38;5;51m:\u001b[0m\n",
       "\u001b[1;3;38;5;51m>>>>>>>>> Date and time of events: \u001b[0m\u001b[1;3;38;5;51m2025\u001b[0m\u001b[1;3;38;5;51m-\u001b[0m\u001b[1;3;38;5;51m07\u001b[0m\u001b[1;3;38;5;51m-15T\u001b[0m\u001b[1;3;38;5;51m21:43:26\u001b[0m\u001b[1;3;38;5;51m.\u001b[0m\u001b[1;3;38;5;51m345998\u001b[0m\n",
       "\u001b[1;3;4;38;5;252mLisa Carter\u001b[0m\u001b[1;3;38;5;252m acts: \u001b[0m\u001b[1;3;38;5;252m[\u001b[0m\u001b[1;3;38;5;252mDONE\u001b[0m\u001b[1;3;38;5;252m]\u001b[0m\u001b[1;3;38;5;252m \u001b[0m\n",
       "\n",
       "\u001b[1;3;38;5;51mAgent simulation trajectory event #\u001b[0m\u001b[1;3;38;5;51m11\u001b[0m\u001b[1;3;38;5;51m:\u001b[0m\n",
       "\u001b[1;3;38;5;51m>>>>>>>>> Date and time of events: \u001b[0m\u001b[1;3;38;5;51m2025\u001b[0m\u001b[1;3;38;5;51m-\u001b[0m\u001b[1;3;38;5;51m07\u001b[0m\u001b[1;3;38;5;51m-15T\u001b[0m\u001b[1;3;38;5;51m21:43:26\u001b[0m\u001b[1;3;38;5;51m.\u001b[0m\u001b[1;3;38;5;51m345998\u001b[0m\n",
       "\u001b[1;3;4;38;5;51mOscar\u001b[0m\u001b[1;3;38;5;51m --> \u001b[0m\u001b[1;3;4;38;5;51mLisa Carter\u001b[0m\u001b[1;3;38;5;51m: \u001b[0m\u001b[1;3;38;5;51m[\u001b[0m\u001b[1;3;38;5;51mCONVERSATION\u001b[0m\u001b[1;3;38;5;51m]\u001b[0m\u001b[1;3;38;5;51m \u001b[0m\n",
       "\u001b[1;3;38;5;51m           > Thank you, Lisa! It's wonderful to connect with someone from the tech side of things.\u001b[0m\n",
       "\u001b[1;3;38;5;51m           > Your work at Microsoft sounds really interesting, especially with AI and improving\u001b[0m\n",
       "\u001b[1;3;38;5;51m           > search relevance. I think technology plays a crucial role in enhancing user\u001b[0m\n",
       "\u001b[1;3;38;5;51m           > experiences, just like architecture does in creating functional and beautiful spaces.\u001b[0m\n",
       "\u001b[1;3;38;5;51m           > Cooking and playing the piano are great hobbies too! What kind of dishes do you enjoy\u001b[0m\n",
       "\u001b[1;3;38;5;51m           > making?\u001b[0m\n",
       "\u001b[1;3;38;5;51mThe last agent simulation trajectory event number was \u001b[0m\u001b[1;3;38;5;51m11\u001b[0m\u001b[1;3;38;5;51m, thus the current number of the NEXT POTENTIAL TRAJECTORY \u001b[0m\n",
       "\u001b[1;3;38;5;51mEVENT is \u001b[0m\u001b[1;3;38;5;51m12\u001b[0m\u001b[1;3;38;5;51m.\u001b[0m\n",
       "\u001b[1;3;38;5;51m**** END SIMULATION TRAJECTORY FOR Lisa Carter ****\u001b[0m\n",
       "\n",
       "\n"
      ]
     },
     "metadata": {},
     "output_type": "display_data"
    }
   ],
   "source": [
    "lisa.pp_current_interactions()"
   ]
  },
  {
   "cell_type": "code",
   "execution_count": 6,
   "metadata": {
    "execution": {
     "iopub.execute_input": "2025-07-14T03:49:39.699189Z",
     "iopub.status.busy": "2025-07-14T03:49:39.698190Z",
     "iopub.status.idle": "2025-07-14T03:49:39.741189Z",
     "shell.execute_reply": "2025-07-14T03:49:39.740200Z"
    }
   },
   "outputs": [
    {
     "data": {
      "text/html": [
       "<pre style=\"margin:0px;;white-space:pre;overflow-x:auto;line-height:normal;font-family:Menlo,'DejaVu Sans Mono',consolas,'Courier New',monospace\">**** BEGIN SIMULATION TRAJECTORY FOR Oscar ****\n",
       "Agent simulation trajectory event #<span style=\"color: #008080; text-decoration-color: #008080; font-weight: bold\">0</span>:\n",
       "&gt;&gt;&gt;&gt;&gt;&gt;&gt;&gt;&gt; Date and time of events: <span style=\"color: #008080; text-decoration-color: #008080; font-weight: bold\">2025</span>-<span style=\"color: #008080; text-decoration-color: #008080; font-weight: bold\">07</span>-15T<span style=\"color: #00ff00; text-decoration-color: #00ff00; font-weight: bold\">21:43:26</span>.<span style=\"color: #008080; text-decoration-color: #008080; font-weight: bold\">345998</span>\n",
       "<span style=\"color: #d0d0d0; text-decoration-color: #d0d0d0; text-decoration: underline\">Oscar</span><span style=\"color: #d0d0d0; text-decoration-color: #d0d0d0\"> acts: </span><span style=\"color: #d0d0d0; text-decoration-color: #d0d0d0; font-weight: bold\">[</span><span style=\"color: #d0d0d0; text-decoration-color: #d0d0d0\">DONE</span><span style=\"color: #d0d0d0; text-decoration-color: #d0d0d0; font-weight: bold\">]</span><span style=\"color: #d0d0d0; text-decoration-color: #d0d0d0\"> </span>\n",
       "\n",
       "Agent simulation trajectory event #<span style=\"color: #008080; text-decoration-color: #008080; font-weight: bold\">1</span>:\n",
       "&gt;&gt;&gt;&gt;&gt;&gt;&gt;&gt;&gt; Date and time of events: <span style=\"color: #008080; text-decoration-color: #008080; font-weight: bold\">2025</span>-<span style=\"color: #008080; text-decoration-color: #008080; font-weight: bold\">07</span>-15T<span style=\"color: #00ff00; text-decoration-color: #00ff00; font-weight: bold\">21:43:26</span>.<span style=\"color: #008080; text-decoration-color: #008080; font-weight: bold\">345998</span>\n",
       "<span style=\"font-style: italic; text-decoration: underline\">Chat Room</span><span style=\"font-style: italic\"> --&gt; </span><span style=\"font-style: italic; text-decoration: underline\">Oscar</span><span style=\"font-style: italic\">: </span><span style=\"font-weight: bold; font-style: italic\">[</span><span style=\"font-style: italic\">SOCIAL</span><span style=\"font-weight: bold; font-style: italic\">]</span><span style=\"font-style: italic\"> </span>\n",
       "<span style=\"font-style: italic\">               &gt; Lisa Carter reached out to you, and is now available for interaction.</span>\n",
       "<span style=\"font-style: italic\">Agent simulation trajectory event #</span><span style=\"color: #008080; text-decoration-color: #008080; font-weight: bold; font-style: italic\">2</span><span style=\"font-style: italic\">:</span>\n",
       "<span style=\"font-style: italic\">&gt;&gt;&gt;&gt;&gt;&gt;&gt;&gt;&gt; Date and time of events: </span><span style=\"color: #008080; text-decoration-color: #008080; font-weight: bold; font-style: italic\">2025</span><span style=\"font-style: italic\">-</span><span style=\"color: #008080; text-decoration-color: #008080; font-weight: bold; font-style: italic\">07</span><span style=\"font-style: italic\">-15T</span><span style=\"color: #00ff00; text-decoration-color: #00ff00; font-weight: bold; font-style: italic\">21:43:26</span><span style=\"font-style: italic\">.</span><span style=\"color: #008080; text-decoration-color: #008080; font-weight: bold; font-style: italic\">345998</span>\n",
       "<span style=\"color: #00ffff; text-decoration-color: #00ffff; font-weight: bold; font-style: italic; text-decoration: underline\">Lisa Carter</span><span style=\"color: #00ffff; text-decoration-color: #00ffff; font-weight: bold; font-style: italic\"> --&gt; </span><span style=\"color: #00ffff; text-decoration-color: #00ffff; font-weight: bold; font-style: italic; text-decoration: underline\">Oscar</span><span style=\"color: #00ffff; text-decoration-color: #00ffff; font-weight: bold; font-style: italic\">: [CONVERSATION] </span>\n",
       "<span style=\"color: #00ffff; text-decoration-color: #00ffff; font-weight: bold; font-style: italic\">                 &gt; Hi Oscar! I was encouraged to reach out and learn more about you. Can you tell me</span>\n",
       "<span style=\"color: #00ffff; text-decoration-color: #00ffff; font-weight: bold; font-style: italic\">                 &gt; a bit about your background and interests?</span>\n",
       "<span style=\"color: #00ffff; text-decoration-color: #00ffff; font-weight: bold; font-style: italic\">Agent simulation trajectory event #3:</span>\n",
       "<span style=\"color: #00ffff; text-decoration-color: #00ffff; font-weight: bold; font-style: italic\">&gt;&gt;&gt;&gt;&gt;&gt;&gt;&gt;&gt; Date and time of events: 2025-07-15T21:43:26.345998</span>\n",
       "<span style=\"color: #00d700; text-decoration-color: #00d700; font-weight: bold; font-style: italic; text-decoration: underline\">Oscar</span><span style=\"color: #00d700; text-decoration-color: #00d700; font-weight: bold; font-style: italic\"> acts: [TALK] </span>\n",
       "<span style=\"color: #00d700; text-decoration-color: #00d700; font-weight: bold; font-style: italic\">           &gt; Hi Lisa! It's great to hear from you. I'm an architect working at Awesome Inc., where I</span>\n",
       "<span style=\"color: #00d700; text-decoration-color: #00d700; font-weight: bold; font-style: italic\">           &gt; focus on designing sustainable and innovative housing solutions. I have a Master's in</span>\n",
       "<span style=\"color: #00d700; text-decoration-color: #00d700; font-weight: bold; font-style: italic\">           &gt; Architecture from the Technical University of Munich, and my thesis was about modular</span>\n",
       "<span style=\"color: #00d700; text-decoration-color: #00d700; font-weight: bold; font-style: italic\">           &gt; housing for urban environments. I'm really passionate about modernist architecture and</span>\n",
       "<span style=\"color: #00d700; text-decoration-color: #00d700; font-weight: bold; font-style: italic\">           &gt; sustainable practices. In my free time, I enjoy playing the guitar, reading science</span>\n",
       "<span style=\"color: #00d700; text-decoration-color: #00d700; font-weight: bold; font-style: italic\">           &gt; fiction, and exploring new architectural landmarks. What about you?</span>\n",
       "<span style=\"color: #00ffff; text-decoration-color: #00ffff; font-weight: bold; font-style: italic\">Agent simulation trajectory event #4:</span>\n",
       "<span style=\"color: #00ffff; text-decoration-color: #00ffff; font-weight: bold; font-style: italic\">&gt;&gt;&gt;&gt;&gt;&gt;&gt;&gt;&gt; Date and time of events: 2025-07-15T21:43:26.345998</span>\n",
       "<span style=\"color: #d0d0d0; text-decoration-color: #d0d0d0; font-weight: bold; font-style: italic; text-decoration: underline\">Oscar</span><span style=\"color: #d0d0d0; text-decoration-color: #d0d0d0; font-weight: bold; font-style: italic\"> acts: [DONE] </span>\n",
       "\n",
       "<span style=\"color: #00ffff; text-decoration-color: #00ffff; font-weight: bold; font-style: italic\">Agent simulation trajectory event #5:</span>\n",
       "<span style=\"color: #00ffff; text-decoration-color: #00ffff; font-weight: bold; font-style: italic\">&gt;&gt;&gt;&gt;&gt;&gt;&gt;&gt;&gt; Date and time of events: 2025-07-15T21:43:26.345998</span>\n",
       "<span style=\"color: #00ffff; text-decoration-color: #00ffff; font-weight: bold; font-style: italic; text-decoration: underline\">Lisa Carter</span><span style=\"color: #00ffff; text-decoration-color: #00ffff; font-weight: bold; font-style: italic\"> --&gt; </span><span style=\"color: #00ffff; text-decoration-color: #00ffff; font-weight: bold; font-style: italic; text-decoration: underline\">Oscar</span><span style=\"color: #00ffff; text-decoration-color: #00ffff; font-weight: bold; font-style: italic\">: [CONVERSATION] </span>\n",
       "<span style=\"color: #00ffff; text-decoration-color: #00ffff; font-weight: bold; font-style: italic\">                 &gt; Great! Oscar, I'm glad you're available. I was wondering if you could share a bit</span>\n",
       "<span style=\"color: #00ffff; text-decoration-color: #00ffff; font-weight: bold; font-style: italic\">                 &gt; about your background and interests?</span>\n",
       "<span style=\"color: #00ffff; text-decoration-color: #00ffff; font-weight: bold; font-style: italic\">Agent simulation trajectory event #7:</span>\n",
       "<span style=\"color: #00ffff; text-decoration-color: #00ffff; font-weight: bold; font-style: italic\">&gt;&gt;&gt;&gt;&gt;&gt;&gt;&gt;&gt; Date and time of events: 2025-07-15T21:43:26.345998</span>\n",
       "<span style=\"color: #d0d0d0; text-decoration-color: #d0d0d0; font-weight: bold; font-style: italic; text-decoration: underline\">Oscar</span><span style=\"color: #d0d0d0; text-decoration-color: #d0d0d0; font-weight: bold; font-style: italic\"> acts: [DONE] </span>\n",
       "\n",
       "<span style=\"color: #00ffff; text-decoration-color: #00ffff; font-weight: bold; font-style: italic\">Agent simulation trajectory event #8:</span>\n",
       "<span style=\"color: #00ffff; text-decoration-color: #00ffff; font-weight: bold; font-style: italic\">&gt;&gt;&gt;&gt;&gt;&gt;&gt;&gt;&gt; Date and time of events: 2025-07-15T21:43:26.345998</span>\n",
       "<span style=\"color: #00ffff; text-decoration-color: #00ffff; font-weight: bold; font-style: italic; text-decoration: underline\">Lisa Carter</span><span style=\"color: #00ffff; text-decoration-color: #00ffff; font-weight: bold; font-style: italic\"> --&gt; </span><span style=\"color: #00ffff; text-decoration-color: #00ffff; font-weight: bold; font-style: italic; text-decoration: underline\">Oscar</span><span style=\"color: #00ffff; text-decoration-color: #00ffff; font-weight: bold; font-style: italic\">: [CONVERSATION] </span>\n",
       "<span style=\"color: #00ffff; text-decoration-color: #00ffff; font-weight: bold; font-style: italic\">                 &gt; Thanks for sharing, Oscar! Your work in sustainable architecture sounds</span>\n",
       "<span style=\"color: #00ffff; text-decoration-color: #00ffff; font-weight: bold; font-style: italic\">                 &gt; fascinating, and I admire your passion for modernist design. I have a Master's in</span>\n",
       "<span style=\"color: #00ffff; text-decoration-color: #00ffff; font-weight: bold; font-style: italic\">                 &gt; Data Science from the University of Toronto, and I currently work as a data</span>\n",
       "<span style=\"color: #00ffff; text-decoration-color: #00ffff; font-weight: bold; font-style: italic\">                 &gt; scientist at Microsoft, focusing on improving search relevance using AI. In my</span>\n",
       "<span style=\"color: #00ffff; text-decoration-color: #00ffff; font-weight: bold; font-style: italic\">                 &gt; free time, I enjoy cooking, playing the piano, and watching movies. I'm also</span>\n",
       "<span style=\"color: #00ffff; text-decoration-color: #00ffff; font-weight: bold; font-style: italic\">                 &gt; interested in how technology can enhance user experiences. It's great to connect</span>\n",
       "<span style=\"color: #00ffff; text-decoration-color: #00ffff; font-weight: bold; font-style: italic\">                 &gt; with someone who has such a creative background!</span>\n",
       "<span style=\"color: #00ffff; text-decoration-color: #00ffff; font-weight: bold; font-style: italic\">Agent simulation trajectory event #9:</span>\n",
       "<span style=\"color: #00ffff; text-decoration-color: #00ffff; font-weight: bold; font-style: italic\">&gt;&gt;&gt;&gt;&gt;&gt;&gt;&gt;&gt; Date and time of events: 2025-07-15T21:43:26.345998</span>\n",
       "<span style=\"color: #00d700; text-decoration-color: #00d700; font-weight: bold; font-style: italic; text-decoration: underline\">Oscar</span><span style=\"color: #00d700; text-decoration-color: #00d700; font-weight: bold; font-style: italic\"> acts: [TALK] </span>\n",
       "<span style=\"color: #00d700; text-decoration-color: #00d700; font-weight: bold; font-style: italic\">           &gt; Thank you, Lisa! It's wonderful to connect with someone from the tech side of things.</span>\n",
       "<span style=\"color: #00d700; text-decoration-color: #00d700; font-weight: bold; font-style: italic\">           &gt; Your work at Microsoft sounds really interesting, especially with AI and improving</span>\n",
       "<span style=\"color: #00d700; text-decoration-color: #00d700; font-weight: bold; font-style: italic\">           &gt; search relevance. I think technology plays a crucial role in enhancing user</span>\n",
       "<span style=\"color: #00d700; text-decoration-color: #00d700; font-weight: bold; font-style: italic\">           &gt; experiences, just like architecture does in creating functional and beautiful spaces.</span>\n",
       "<span style=\"color: #00d700; text-decoration-color: #00d700; font-weight: bold; font-style: italic\">           &gt; Cooking and playing the piano are great hobbies too! What kind of dishes do you enjoy</span>\n",
       "<span style=\"color: #00d700; text-decoration-color: #00d700; font-weight: bold; font-style: italic\">           &gt; making?</span>\n",
       "<span style=\"color: #00ffff; text-decoration-color: #00ffff; font-weight: bold; font-style: italic\">Agent simulation trajectory event #10:</span>\n",
       "<span style=\"color: #00ffff; text-decoration-color: #00ffff; font-weight: bold; font-style: italic\">&gt;&gt;&gt;&gt;&gt;&gt;&gt;&gt;&gt; Date and time of events: 2025-07-15T21:43:26.345998</span>\n",
       "<span style=\"color: #d0d0d0; text-decoration-color: #d0d0d0; font-weight: bold; font-style: italic; text-decoration: underline\">Oscar</span><span style=\"color: #d0d0d0; text-decoration-color: #d0d0d0; font-weight: bold; font-style: italic\"> acts: [DONE] </span>\n",
       "\n",
       "<span style=\"color: #00ffff; text-decoration-color: #00ffff; font-weight: bold; font-style: italic\">The last agent simulation trajectory event number was 10, thus the current number of the NEXT POTENTIAL TRAJECTORY </span>\n",
       "<span style=\"color: #00ffff; text-decoration-color: #00ffff; font-weight: bold; font-style: italic\">EVENT is 11.</span>\n",
       "<span style=\"color: #00ffff; text-decoration-color: #00ffff; font-weight: bold; font-style: italic\">**** END SIMULATION TRAJECTORY FOR Oscar ****</span>\n",
       "\n",
       "\n",
       "</pre>\n"
      ],
      "text/plain": [
       "**** BEGIN SIMULATION TRAJECTORY FOR Oscar ****\n",
       "Agent simulation trajectory event #\u001b[1;36m0\u001b[0m:\n",
       ">>>>>>>>> Date and time of events: \u001b[1;36m2025\u001b[0m-\u001b[1;36m07\u001b[0m-15T\u001b[1;92m21:43:26\u001b[0m.\u001b[1;36m345998\u001b[0m\n",
       "\u001b[4;38;5;252mOscar\u001b[0m\u001b[38;5;252m acts: \u001b[0m\u001b[1;38;5;252m[\u001b[0m\u001b[38;5;252mDONE\u001b[0m\u001b[1;38;5;252m]\u001b[0m\u001b[38;5;252m \u001b[0m\n",
       "\n",
       "Agent simulation trajectory event #\u001b[1;36m1\u001b[0m:\n",
       ">>>>>>>>> Date and time of events: \u001b[1;36m2025\u001b[0m-\u001b[1;36m07\u001b[0m-15T\u001b[1;92m21:43:26\u001b[0m.\u001b[1;36m345998\u001b[0m\n",
       "\u001b[3;4mChat Room\u001b[0m\u001b[3m --> \u001b[0m\u001b[3;4mOscar\u001b[0m\u001b[3m: \u001b[0m\u001b[1;3m[\u001b[0m\u001b[3mSOCIAL\u001b[0m\u001b[1;3m]\u001b[0m\u001b[3m \u001b[0m\n",
       "\u001b[3m               > Lisa Carter reached out to you, and is now available for interaction.\u001b[0m\n",
       "\u001b[3mAgent simulation trajectory event #\u001b[0m\u001b[1;3;36m2\u001b[0m\u001b[3m:\u001b[0m\n",
       "\u001b[3m>>>>>>>>> Date and time of events: \u001b[0m\u001b[1;3;36m2025\u001b[0m\u001b[3m-\u001b[0m\u001b[1;3;36m07\u001b[0m\u001b[3m-15T\u001b[0m\u001b[1;3;92m21:43:26\u001b[0m\u001b[3m.\u001b[0m\u001b[1;3;36m345998\u001b[0m\n",
       "\u001b[1;3;4;38;5;51mLisa Carter\u001b[0m\u001b[1;3;38;5;51m --> \u001b[0m\u001b[1;3;4;38;5;51mOscar\u001b[0m\u001b[1;3;38;5;51m: \u001b[0m\u001b[1;3;38;5;51m[\u001b[0m\u001b[1;3;38;5;51mCONVERSATION\u001b[0m\u001b[1;3;38;5;51m]\u001b[0m\u001b[1;3;38;5;51m \u001b[0m\n",
       "\u001b[1;3;38;5;51m                 > Hi Oscar! I was encouraged to reach out and learn more about you. Can you tell me\u001b[0m\n",
       "\u001b[1;3;38;5;51m                 > a bit about your background and interests?\u001b[0m\n",
       "\u001b[1;3;38;5;51mAgent simulation trajectory event #\u001b[0m\u001b[1;3;38;5;51m3\u001b[0m\u001b[1;3;38;5;51m:\u001b[0m\n",
       "\u001b[1;3;38;5;51m>>>>>>>>> Date and time of events: \u001b[0m\u001b[1;3;38;5;51m2025\u001b[0m\u001b[1;3;38;5;51m-\u001b[0m\u001b[1;3;38;5;51m07\u001b[0m\u001b[1;3;38;5;51m-15T\u001b[0m\u001b[1;3;38;5;51m21:43:26\u001b[0m\u001b[1;3;38;5;51m.\u001b[0m\u001b[1;3;38;5;51m345998\u001b[0m\n",
       "\u001b[1;3;4;38;5;40mOscar\u001b[0m\u001b[1;3;38;5;40m acts: \u001b[0m\u001b[1;3;38;5;40m[\u001b[0m\u001b[1;3;38;5;40mTALK\u001b[0m\u001b[1;3;38;5;40m]\u001b[0m\u001b[1;3;38;5;40m \u001b[0m\n",
       "\u001b[1;3;38;5;40m           > Hi Lisa! It's great to hear from you. I'm an architect working at Awesome Inc., where I\u001b[0m\n",
       "\u001b[1;3;38;5;40m           > focus on designing sustainable and innovative housing solutions. I have a Master's in\u001b[0m\n",
       "\u001b[1;3;38;5;40m           > Architecture from the Technical University of Munich, and my thesis was about modular\u001b[0m\n",
       "\u001b[1;3;38;5;40m           > housing for urban environments. I'm really passionate about modernist architecture and\u001b[0m\n",
       "\u001b[1;3;38;5;40m           > sustainable practices. In my free time, I enjoy playing the guitar, reading science\u001b[0m\n",
       "\u001b[1;3;38;5;40m           > fiction, and exploring new architectural landmarks. What about you?\u001b[0m\n",
       "\u001b[1;3;38;5;51mAgent simulation trajectory event #\u001b[0m\u001b[1;3;38;5;51m4\u001b[0m\u001b[1;3;38;5;51m:\u001b[0m\n",
       "\u001b[1;3;38;5;51m>>>>>>>>> Date and time of events: \u001b[0m\u001b[1;3;38;5;51m2025\u001b[0m\u001b[1;3;38;5;51m-\u001b[0m\u001b[1;3;38;5;51m07\u001b[0m\u001b[1;3;38;5;51m-15T\u001b[0m\u001b[1;3;38;5;51m21:43:26\u001b[0m\u001b[1;3;38;5;51m.\u001b[0m\u001b[1;3;38;5;51m345998\u001b[0m\n",
       "\u001b[1;3;4;38;5;252mOscar\u001b[0m\u001b[1;3;38;5;252m acts: \u001b[0m\u001b[1;3;38;5;252m[\u001b[0m\u001b[1;3;38;5;252mDONE\u001b[0m\u001b[1;3;38;5;252m]\u001b[0m\u001b[1;3;38;5;252m \u001b[0m\n",
       "\n",
       "\u001b[1;3;38;5;51mAgent simulation trajectory event #\u001b[0m\u001b[1;3;38;5;51m5\u001b[0m\u001b[1;3;38;5;51m:\u001b[0m\n",
       "\u001b[1;3;38;5;51m>>>>>>>>> Date and time of events: \u001b[0m\u001b[1;3;38;5;51m2025\u001b[0m\u001b[1;3;38;5;51m-\u001b[0m\u001b[1;3;38;5;51m07\u001b[0m\u001b[1;3;38;5;51m-15T\u001b[0m\u001b[1;3;38;5;51m21:43:26\u001b[0m\u001b[1;3;38;5;51m.\u001b[0m\u001b[1;3;38;5;51m345998\u001b[0m\n",
       "\u001b[1;3;4;38;5;51mLisa Carter\u001b[0m\u001b[1;3;38;5;51m --> \u001b[0m\u001b[1;3;4;38;5;51mOscar\u001b[0m\u001b[1;3;38;5;51m: \u001b[0m\u001b[1;3;38;5;51m[\u001b[0m\u001b[1;3;38;5;51mCONVERSATION\u001b[0m\u001b[1;3;38;5;51m]\u001b[0m\u001b[1;3;38;5;51m \u001b[0m\n",
       "\u001b[1;3;38;5;51m                 > Great! Oscar, I'm glad you're available. I was wondering if you could share a bit\u001b[0m\n",
       "\u001b[1;3;38;5;51m                 > about your background and interests?\u001b[0m\n",
       "\u001b[1;3;38;5;51mAgent simulation trajectory event #\u001b[0m\u001b[1;3;38;5;51m7\u001b[0m\u001b[1;3;38;5;51m:\u001b[0m\n",
       "\u001b[1;3;38;5;51m>>>>>>>>> Date and time of events: \u001b[0m\u001b[1;3;38;5;51m2025\u001b[0m\u001b[1;3;38;5;51m-\u001b[0m\u001b[1;3;38;5;51m07\u001b[0m\u001b[1;3;38;5;51m-15T\u001b[0m\u001b[1;3;38;5;51m21:43:26\u001b[0m\u001b[1;3;38;5;51m.\u001b[0m\u001b[1;3;38;5;51m345998\u001b[0m\n",
       "\u001b[1;3;4;38;5;252mOscar\u001b[0m\u001b[1;3;38;5;252m acts: \u001b[0m\u001b[1;3;38;5;252m[\u001b[0m\u001b[1;3;38;5;252mDONE\u001b[0m\u001b[1;3;38;5;252m]\u001b[0m\u001b[1;3;38;5;252m \u001b[0m\n",
       "\n",
       "\u001b[1;3;38;5;51mAgent simulation trajectory event #\u001b[0m\u001b[1;3;38;5;51m8\u001b[0m\u001b[1;3;38;5;51m:\u001b[0m\n",
       "\u001b[1;3;38;5;51m>>>>>>>>> Date and time of events: \u001b[0m\u001b[1;3;38;5;51m2025\u001b[0m\u001b[1;3;38;5;51m-\u001b[0m\u001b[1;3;38;5;51m07\u001b[0m\u001b[1;3;38;5;51m-15T\u001b[0m\u001b[1;3;38;5;51m21:43:26\u001b[0m\u001b[1;3;38;5;51m.\u001b[0m\u001b[1;3;38;5;51m345998\u001b[0m\n",
       "\u001b[1;3;4;38;5;51mLisa Carter\u001b[0m\u001b[1;3;38;5;51m --> \u001b[0m\u001b[1;3;4;38;5;51mOscar\u001b[0m\u001b[1;3;38;5;51m: \u001b[0m\u001b[1;3;38;5;51m[\u001b[0m\u001b[1;3;38;5;51mCONVERSATION\u001b[0m\u001b[1;3;38;5;51m]\u001b[0m\u001b[1;3;38;5;51m \u001b[0m\n",
       "\u001b[1;3;38;5;51m                 > Thanks for sharing, Oscar! Your work in sustainable architecture sounds\u001b[0m\n",
       "\u001b[1;3;38;5;51m                 > fascinating, and I admire your passion for modernist design. I have a Master's in\u001b[0m\n",
       "\u001b[1;3;38;5;51m                 > Data Science from the University of Toronto, and I currently work as a data\u001b[0m\n",
       "\u001b[1;3;38;5;51m                 > scientist at Microsoft, focusing on improving search relevance using AI. In my\u001b[0m\n",
       "\u001b[1;3;38;5;51m                 > free time, I enjoy cooking, playing the piano, and watching movies. I'm also\u001b[0m\n",
       "\u001b[1;3;38;5;51m                 > interested in how technology can enhance user experiences. It's great to connect\u001b[0m\n",
       "\u001b[1;3;38;5;51m                 > with someone who has such a creative background!\u001b[0m\n",
       "\u001b[1;3;38;5;51mAgent simulation trajectory event #\u001b[0m\u001b[1;3;38;5;51m9\u001b[0m\u001b[1;3;38;5;51m:\u001b[0m\n",
       "\u001b[1;3;38;5;51m>>>>>>>>> Date and time of events: \u001b[0m\u001b[1;3;38;5;51m2025\u001b[0m\u001b[1;3;38;5;51m-\u001b[0m\u001b[1;3;38;5;51m07\u001b[0m\u001b[1;3;38;5;51m-15T\u001b[0m\u001b[1;3;38;5;51m21:43:26\u001b[0m\u001b[1;3;38;5;51m.\u001b[0m\u001b[1;3;38;5;51m345998\u001b[0m\n",
       "\u001b[1;3;4;38;5;40mOscar\u001b[0m\u001b[1;3;38;5;40m acts: \u001b[0m\u001b[1;3;38;5;40m[\u001b[0m\u001b[1;3;38;5;40mTALK\u001b[0m\u001b[1;3;38;5;40m]\u001b[0m\u001b[1;3;38;5;40m \u001b[0m\n",
       "\u001b[1;3;38;5;40m           > Thank you, Lisa! It's wonderful to connect with someone from the tech side of things.\u001b[0m\n",
       "\u001b[1;3;38;5;40m           > Your work at Microsoft sounds really interesting, especially with AI and improving\u001b[0m\n",
       "\u001b[1;3;38;5;40m           > search relevance. I think technology plays a crucial role in enhancing user\u001b[0m\n",
       "\u001b[1;3;38;5;40m           > experiences, just like architecture does in creating functional and beautiful spaces.\u001b[0m\n",
       "\u001b[1;3;38;5;40m           > Cooking and playing the piano are great hobbies too! What kind of dishes do you enjoy\u001b[0m\n",
       "\u001b[1;3;38;5;40m           > making?\u001b[0m\n",
       "\u001b[1;3;38;5;51mAgent simulation trajectory event #\u001b[0m\u001b[1;3;38;5;51m10\u001b[0m\u001b[1;3;38;5;51m:\u001b[0m\n",
       "\u001b[1;3;38;5;51m>>>>>>>>> Date and time of events: \u001b[0m\u001b[1;3;38;5;51m2025\u001b[0m\u001b[1;3;38;5;51m-\u001b[0m\u001b[1;3;38;5;51m07\u001b[0m\u001b[1;3;38;5;51m-15T\u001b[0m\u001b[1;3;38;5;51m21:43:26\u001b[0m\u001b[1;3;38;5;51m.\u001b[0m\u001b[1;3;38;5;51m345998\u001b[0m\n",
       "\u001b[1;3;4;38;5;252mOscar\u001b[0m\u001b[1;3;38;5;252m acts: \u001b[0m\u001b[1;3;38;5;252m[\u001b[0m\u001b[1;3;38;5;252mDONE\u001b[0m\u001b[1;3;38;5;252m]\u001b[0m\u001b[1;3;38;5;252m \u001b[0m\n",
       "\n",
       "\u001b[1;3;38;5;51mThe last agent simulation trajectory event number was \u001b[0m\u001b[1;3;38;5;51m10\u001b[0m\u001b[1;3;38;5;51m, thus the current number of the NEXT POTENTIAL TRAJECTORY \u001b[0m\n",
       "\u001b[1;3;38;5;51mEVENT is \u001b[0m\u001b[1;3;38;5;51m11\u001b[0m\u001b[1;3;38;5;51m.\u001b[0m\n",
       "\u001b[1;3;38;5;51m**** END SIMULATION TRAJECTORY FOR Oscar ****\u001b[0m\n",
       "\n",
       "\n"
      ]
     },
     "metadata": {},
     "output_type": "display_data"
    }
   ],
   "source": [
    "oscar.pp_current_interactions()"
   ]
  },
  {
   "cell_type": "code",
   "execution_count": null,
   "metadata": {},
   "outputs": [],
   "source": []
  }
 ],
 "metadata": {
  "kernelspec": {
   "display_name": "py310",
   "language": "python",
   "name": "python3"
  },
  "language_info": {
   "codemirror_mode": {
    "name": "ipython",
    "version": 3
   },
   "file_extension": ".py",
   "mimetype": "text/x-python",
   "name": "python",
   "nbconvert_exporter": "python",
   "pygments_lexer": "ipython3",
   "version": "3.10.13"
  }
 },
 "nbformat": 4,
 "nbformat_minor": 2
}
