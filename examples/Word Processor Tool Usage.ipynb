{
 "cells": [
  {
   "cell_type": "markdown",
   "metadata": {},
   "source": [
    "# Wordprocessor usage example\n",
    "\n"
   ]
  },
  {
   "cell_type": "code",
   "execution_count": 1,
   "metadata": {
    "execution": {
     "iopub.execute_input": "2025-07-14T20:20:49.360302Z",
     "iopub.status.busy": "2025-07-14T20:20:49.359307Z",
     "iopub.status.idle": "2025-07-14T20:20:51.187011Z",
     "shell.execute_reply": "2025-07-14T20:20:51.186084Z"
    }
   },
   "outputs": [
    {
     "name": "stdout",
     "output_type": "stream",
     "text": [
      "\n",
      "!!!!\n",
      "DISCLAIMER: TinyTroupe relies on Artificial Intelligence (AI) models to generate content. \n",
      "The AI models are not perfect and may produce inappropriate or inacurate results. \n",
      "For any serious or consequential use, please review the generated content before using it.\n",
      "!!!!\n",
      "\n",
      "Looking for default config on: c:\\Users\\pdasilva\\repos\\TinyTroupe\\examples\\..\\tinytroupe\\utils\\..\\config.ini\n",
      "Found custom config on: c:\\Users\\pdasilva\\repos\\TinyTroupe\\examples\\config.ini\n",
      "TinyTroupe version: 0.5.1\n",
      "Current date and time (local): 2025-07-15 21:30:09\n",
      "Current date and time (UTC):   2025-07-16 00:30:09\n",
      "\n",
      "=================================\n",
      "Current TinyTroupe configuration \n",
      "=================================\n",
      "[OpenAI]\n",
      "api_type = openai\n",
      "azure_api_version = 2024-08-01-preview\n",
      "model = gpt-4o-mini\n",
      "reasoning_model = o3-mini\n",
      "embedding_model = text-embedding-3-small\n",
      "max_tokens = 16000\n",
      "temperature = 1.7\n",
      "freq_penalty = 0.1\n",
      "presence_penalty = 0.1\n",
      "timeout = 480\n",
      "max_attempts = 5\n",
      "waiting_time = 0\n",
      "exponential_backoff_factor = 5\n",
      "reasoning_effort = high\n",
      "cache_api_calls = False\n",
      "cache_file_name = openai_api_cache.pickle\n",
      "max_content_display_length = 1024\n",
      "azure_embedding_model_api_version = 2023-05-15\n",
      "\n",
      "[Simulation]\n",
      "parallel_agent_generation = True\n",
      "parallel_agent_actions = True\n",
      "rai_harmful_content_prevention = True\n",
      "rai_copyright_infringement_prevention = True\n",
      "\n",
      "[Cognition]\n",
      "enable_memory_consolidation = True\n",
      "min_episode_length = 15\n",
      "max_episode_length = 50\n",
      "episodic_memory_fixed_prefix_length = 10\n",
      "episodic_memory_lookback_length = 20\n",
      "\n",
      "[ActionGenerator]\n",
      "max_attempts = 2\n",
      "enable_quality_checks = False\n",
      "enable_regeneration = True\n",
      "enable_direct_correction = False\n",
      "enable_quality_check_for_persona_adherence = True\n",
      "enable_quality_check_for_selfconsistency = False\n",
      "enable_quality_check_for_fluency = False\n",
      "enable_quality_check_for_suitability = False\n",
      "enable_quality_check_for_similarity = False\n",
      "continue_on_failure = True\n",
      "quality_threshold = 5\n",
      "\n",
      "[Logging]\n",
      "loglevel = ERROR\n",
      "\n"
     ]
    }
   ],
   "source": [
    "import json\n",
    "import sys\n",
    "import csv\n",
    "sys.path.insert(0, '..') # ensures that the package is imported from the parent directory, not the Python installation\n",
    "\n",
    "\n",
    "import tinytroupe\n",
    "from tinytroupe.openai_utils import force_api_type\n",
    "from tinytroupe.factory import TinyPersonFactory\n",
    "from tinytroupe.agent import TinyPerson, TinyToolUse\n",
    "from tinytroupe.environment import TinyWorld\n",
    "from tinytroupe import control\n",
    "from tinytroupe.extraction import ResultsExtractor, ResultsReducer\n",
    "from tinytroupe.enrichment import TinyEnricher\n",
    "from tinytroupe.extraction import ArtifactExporter\n",
    "from tinytroupe.tools import TinyWordProcessor\n",
    "from tinytroupe.steering import TinyStory\n",
    "import tinytroupe.utils as utils\n",
    "from tinytroupe.examples import create_lisa_the_data_scientist, create_oscar_the_architect, create_marcos_the_physician"
   ]
  },
  {
   "cell_type": "code",
   "execution_count": 2,
   "metadata": {
    "execution": {
     "iopub.execute_input": "2025-07-14T04:01:41.411976Z",
     "iopub.status.busy": "2025-07-14T04:01:41.410994Z",
     "iopub.status.idle": "2025-07-14T04:01:41.423310Z",
     "shell.execute_reply": "2025-07-14T04:01:41.422309Z"
    }
   },
   "outputs": [],
   "source": [
    "data_export_folder = \"../data/extractions/wordprocessor\""
   ]
  },
  {
   "cell_type": "code",
   "execution_count": 3,
   "metadata": {
    "execution": {
     "iopub.execute_input": "2025-07-14T04:01:41.428388Z",
     "iopub.status.busy": "2025-07-14T04:01:41.428388Z",
     "iopub.status.idle": "2025-07-14T04:01:41.438479Z",
     "shell.execute_reply": "2025-07-14T04:01:41.437467Z"
    }
   },
   "outputs": [],
   "source": [
    "exporter = ArtifactExporter(base_output_folder=data_export_folder)\n",
    "enricher = TinyEnricher()\n",
    "tooluse_faculty = TinyToolUse(tools=[TinyWordProcessor(exporter=exporter, enricher=enricher)])"
   ]
  },
  {
   "cell_type": "code",
   "execution_count": 4,
   "metadata": {
    "execution": {
     "iopub.execute_input": "2025-07-14T04:01:41.444550Z",
     "iopub.status.busy": "2025-07-14T04:01:41.443547Z",
     "iopub.status.idle": "2025-07-14T04:01:41.517179Z",
     "shell.execute_reply": "2025-07-14T04:01:41.515229Z"
    }
   },
   "outputs": [],
   "source": [
    "lisa = create_lisa_the_data_scientist()"
   ]
  },
  {
   "cell_type": "code",
   "execution_count": 5,
   "metadata": {
    "execution": {
     "iopub.execute_input": "2025-07-14T04:01:41.524177Z",
     "iopub.status.busy": "2025-07-14T04:01:41.523166Z",
     "iopub.status.idle": "2025-07-14T04:01:41.547620Z",
     "shell.execute_reply": "2025-07-14T04:01:41.546587Z"
    }
   },
   "outputs": [
    {
     "data": {
      "text/plain": [
       "TinyPerson(name='Lisa Carter')"
      ]
     },
     "execution_count": 5,
     "metadata": {},
     "output_type": "execute_result"
    }
   ],
   "source": [
    "lisa.add_mental_faculties([tooluse_faculty])\n"
   ]
  },
  {
   "cell_type": "code",
   "execution_count": 6,
   "metadata": {
    "execution": {
     "iopub.execute_input": "2025-07-14T04:01:41.552682Z",
     "iopub.status.busy": "2025-07-14T04:01:41.552682Z",
     "iopub.status.idle": "2025-07-14T04:02:13.817995Z",
     "shell.execute_reply": "2025-07-14T04:02:13.817080Z"
    }
   },
   "outputs": [
    {
     "data": {
      "text/html": [
       "<pre style=\"margin:0px;;white-space:pre;overflow-x:auto;line-height:normal;font-family:Menlo,'DejaVu Sans Mono',consolas,'Courier New',monospace\"><span style=\"color: #00ffff; text-decoration-color: #00ffff; font-weight: bold; font-style: italic; text-decoration: underline\">USER</span><span style=\"color: #00ffff; text-decoration-color: #00ffff; font-weight: bold; font-style: italic\"> --&gt; </span><span style=\"color: #00ffff; text-decoration-color: #00ffff; font-weight: bold; font-style: italic; text-decoration: underline\">Lisa Carter</span><span style=\"color: #00ffff; text-decoration-color: #00ffff; font-weight: bold; font-style: italic\">: [CONVERSATION] </span>\n",
       "<span style=\"color: #00ffff; text-decoration-color: #00ffff; font-weight: bold; font-style: italic\">          &gt; You have just been fired and need to find a new job. You decide to think about what you</span>\n",
       "<span style=\"color: #00ffff; text-decoration-color: #00ffff; font-weight: bold; font-style: italic\">          &gt; want in life and then write a resume. Make it very detailed.</span>\n",
       "</pre>\n"
      ],
      "text/plain": [
       "\u001b[1;3;4;38;5;51mUSER\u001b[0m\u001b[1;3;38;5;51m --> \u001b[0m\u001b[1;3;4;38;5;51mLisa Carter\u001b[0m\u001b[1;3;38;5;51m: \u001b[0m\u001b[1;3;38;5;51m[\u001b[0m\u001b[1;3;38;5;51mCONVERSATION\u001b[0m\u001b[1;3;38;5;51m]\u001b[0m\u001b[1;3;38;5;51m \u001b[0m\n",
       "\u001b[1;3;38;5;51m          > You have just been fired and need to find a new job. You decide to think about what you\u001b[0m\n",
       "\u001b[1;3;38;5;51m          > want in life and then write a resume. Make it very detailed.\u001b[0m\n"
      ]
     },
     "metadata": {},
     "output_type": "display_data"
    },
    {
     "data": {
      "text/html": [
       "<pre style=\"margin:0px;;white-space:pre;overflow-x:auto;line-height:normal;font-family:Menlo,'DejaVu Sans Mono',consolas,'Courier New',monospace\"><span style=\"color: #008000; text-decoration-color: #008000; text-decoration: underline\">Lisa Carter</span><span style=\"color: #008000; text-decoration-color: #008000\"> acts: </span><span style=\"color: #008000; text-decoration-color: #008000; font-weight: bold\">[</span><span style=\"color: #008000; text-decoration-color: #008000\">THINK</span><span style=\"color: #008000; text-decoration-color: #008000; font-weight: bold\">]</span><span style=\"color: #008000; text-decoration-color: #008000\"> </span>\n",
       "<span style=\"color: #008000; text-decoration-color: #008000\">                 &gt; I've just been fired, and I need to reflect on what I truly want in my career and</span>\n",
       "<span style=\"color: #008000; text-decoration-color: #008000\">                 &gt; life. I should consider my long-term goals, the type of work environment I thrive</span>\n",
       "<span style=\"color: #008000; text-decoration-color: #008000\">                 &gt; in, and the skills I want to utilize. It's important to think about the kind of</span>\n",
       "<span style=\"color: #008000; text-decoration-color: #008000\">                 &gt; impact I want to have in my next role, especially in the field of AI and data</span>\n",
       "<span style=\"color: #008000; text-decoration-color: #008000\">                 &gt; science. I also need to prepare a detailed resume that highlights my skills,</span>\n",
       "<span style=\"color: #008000; text-decoration-color: #008000\">                 &gt; experiences, and achievements effectively.</span>\n",
       "</pre>\n"
      ],
      "text/plain": [
       "\u001b[4;32mLisa Carter\u001b[0m\u001b[32m acts: \u001b[0m\u001b[1;32m[\u001b[0m\u001b[32mTHINK\u001b[0m\u001b[1;32m]\u001b[0m\u001b[32m \u001b[0m\n",
       "\u001b[32m                 > I've just been fired, and I need to reflect on what I truly want in my career and\u001b[0m\n",
       "\u001b[32m                 > life. I should consider my long-term goals, the type of work environment I thrive\u001b[0m\n",
       "\u001b[32m                 > in, and the skills I want to utilize. It's important to think about the kind of\u001b[0m\n",
       "\u001b[32m                 > impact I want to have in my next role, especially in the field of AI and data\u001b[0m\n",
       "\u001b[32m                 > science. I also need to prepare a detailed resume that highlights my skills,\u001b[0m\n",
       "\u001b[32m                 > experiences, and achievements effectively.\u001b[0m\n"
      ]
     },
     "metadata": {},
     "output_type": "display_data"
    },
    {
     "data": {
      "text/html": [
       "<pre style=\"margin:0px;;white-space:pre;overflow-x:auto;line-height:normal;font-family:Menlo,'DejaVu Sans Mono',consolas,'Courier New',monospace\"><span style=\"color: #af00ff; text-decoration-color: #af00ff; text-decoration: underline\">Lisa Carter</span><span style=\"color: #af00ff; text-decoration-color: #af00ff\"> acts: </span><span style=\"color: #af00ff; text-decoration-color: #af00ff; font-weight: bold\">[</span><span style=\"color: #af00ff; text-decoration-color: #af00ff\">WRITE_DOCUMENT</span><span style=\"color: #af00ff; text-decoration-color: #af00ff; font-weight: bold\">]</span><span style=\"color: #af00ff; text-decoration-color: #af00ff\"> </span>\n",
       "<span style=\"color: #af00ff; text-decoration-color: #af00ff\">                 &gt; </span><span style=\"color: #af00ff; text-decoration-color: #af00ff; font-weight: bold\">{</span><span style=\"color: #af00ff; text-decoration-color: #af00ff\">   </span><span style=\"color: #af00ff; text-decoration-color: #af00ff\">\"title\"</span><span style=\"color: #af00ff; text-decoration-color: #af00ff\">: </span><span style=\"color: #af00ff; text-decoration-color: #af00ff\">\"Resume of Lisa Carter\"</span><span style=\"color: #af00ff; text-decoration-color: #af00ff\">,   </span><span style=\"color: #af00ff; text-decoration-color: #af00ff\">\"content\"</span><span style=\"color: #af00ff; text-decoration-color: #af00ff\">: \"# Lisa Carter\\n\\n## Contact</span>\n",
       "<span style=\"color: #af00ff; text-decoration-color: #af00ff\">                 &gt; Information\\n- **Email:** lisa.carter@example.com\\n- **Phone:** </span><span style=\"color: #af00ff; text-decoration-color: #af00ff; font-weight: bold\">(</span><span style=\"color: #af00ff; text-decoration-color: #af00ff; font-weight: bold\">123</span><span style=\"color: #af00ff; text-decoration-color: #af00ff; font-weight: bold\">)</span><span style=\"color: #af00ff; text-decoration-color: #af00ff\"> </span><span style=\"color: #af00ff; text-decoration-color: #af00ff; font-weight: bold\">456</span><span style=\"color: #af00ff; text-decoration-color: #af00ff\">-</span><span style=\"color: #af00ff; text-decoration-color: #af00ff; font-weight: bold\">7890</span><span style=\"color: #af00ff; text-decoration-color: #af00ff\">\\n-</span>\n",
       "<span style=\"color: #af00ff; text-decoration-color: #af00ff\">                 &gt; **LinkedIn:** linkedin.com/in/lisacarter\\n\\n## Summary\\nData Scientist with a</span>\n",
       "<span style=\"color: #af00ff; text-decoration-color: #af00ff\">                 &gt; Master's in Data Science from the University of Toronto, specializing in</span>\n",
       "<span style=\"color: #af00ff; text-decoration-color: #af00ff\">                 &gt; improving search relevance through context-aware models. Proven experience in</span>\n",
       "<span style=\"color: #af00ff; text-decoration-color: #af00ff\">                 &gt; analyzing user behavior and feedback data to enhance search results. Passionate</span>\n",
       "<span style=\"color: #af00ff; text-decoration-color: #af00ff\">                 &gt; about advancing AI technology to improve human productivity and decision-</span>\n",
       "<span style=\"color: #af00ff; text-decoration-color: #af00ff\">                 &gt; making.\\n\\n## Education\\n### University of Toronto\\n- **Master's in Data</span>\n",
       "<span style=\"color: #af00ff; text-decoration-color: #af00ff\">                 &gt; Science**     Thesis: Improving Search Relevance Using Context-Aware Models</span>\n",
       "<span style=\"color: #af00ff; text-decoration-color: #af00ff\">                 &gt; Graduated: </span><span style=\"color: #af00ff; text-decoration-color: #af00ff; font-weight: bold\">2018</span><span style=\"color: #af00ff; text-decoration-color: #af00ff\">\\n\\n## Work Experience\\n### Microsoft, M365 Search Team   **Data</span>\n",
       "<span style=\"color: #af00ff; text-decoration-color: #af00ff\">                 &gt; Scientist**   </span><span style=\"color: #af00ff; text-decoration-color: #af00ff; font-weight: bold\">2018</span><span style=\"color: #af00ff; text-decoration-color: #af00ff\"> - Present   - Analyzed user behavior and feedback data to</span>\n",
       "<span style=\"color: #af00ff; text-decoration-color: #af00ff\">                 &gt; improve search relevance and quality.   - Built and tested machine learning</span>\n",
       "<span style=\"color: #af00ff; text-decoration-color: #af00ff\">                 &gt; models for natural language understanding, query expansion, and ranking.   -</span>\n",
       "<span style=\"color: #af00ff; text-decoration-color: #af00ff\">                 &gt; Collaborated with </span><span style=\"color: #af00ff; text-decoration-color: #af00ff; font-weight: bold\">(</span><span style=\"color: #af00ff; text-decoration-color: #af00ff\">...</span><span style=\"color: #af00ff; text-decoration-color: #af00ff; font-weight: bold\">)</span>\n",
       "</pre>\n"
      ],
      "text/plain": [
       "\u001b[4;38;5;129mLisa Carter\u001b[0m\u001b[38;5;129m acts: \u001b[0m\u001b[1;38;5;129m[\u001b[0m\u001b[38;5;129mWRITE_DOCUMENT\u001b[0m\u001b[1;38;5;129m]\u001b[0m\u001b[38;5;129m \u001b[0m\n",
       "\u001b[38;5;129m                 > \u001b[0m\u001b[1;38;5;129m{\u001b[0m\u001b[38;5;129m   \u001b[0m\u001b[38;5;129m\"title\"\u001b[0m\u001b[38;5;129m: \u001b[0m\u001b[38;5;129m\"Resume of Lisa Carter\"\u001b[0m\u001b[38;5;129m,   \u001b[0m\u001b[38;5;129m\"content\"\u001b[0m\u001b[38;5;129m: \"# Lisa Carter\\n\\n## Contact\u001b[0m\n",
       "\u001b[38;5;129m                 > Information\\n- **Email:** lisa.carter@example.com\\n- **Phone:** \u001b[0m\u001b[1;38;5;129m(\u001b[0m\u001b[1;38;5;129m123\u001b[0m\u001b[1;38;5;129m)\u001b[0m\u001b[38;5;129m \u001b[0m\u001b[1;38;5;129m456\u001b[0m\u001b[38;5;129m-\u001b[0m\u001b[1;38;5;129m7890\u001b[0m\u001b[38;5;129m\\n-\u001b[0m\n",
       "\u001b[38;5;129m                 > **LinkedIn:** linkedin.com/in/lisacarter\\n\\n## Summary\\nData Scientist with a\u001b[0m\n",
       "\u001b[38;5;129m                 > Master's in Data Science from the University of Toronto, specializing in\u001b[0m\n",
       "\u001b[38;5;129m                 > improving search relevance through context-aware models. Proven experience in\u001b[0m\n",
       "\u001b[38;5;129m                 > analyzing user behavior and feedback data to enhance search results. Passionate\u001b[0m\n",
       "\u001b[38;5;129m                 > about advancing AI technology to improve human productivity and decision-\u001b[0m\n",
       "\u001b[38;5;129m                 > making.\\n\\n## Education\\n### University of Toronto\\n- **Master's in Data\u001b[0m\n",
       "\u001b[38;5;129m                 > Science**     Thesis: Improving Search Relevance Using Context-Aware Models\u001b[0m\n",
       "\u001b[38;5;129m                 > Graduated: \u001b[0m\u001b[1;38;5;129m2018\u001b[0m\u001b[38;5;129m\\n\\n## Work Experience\\n### Microsoft, M365 Search Team   **Data\u001b[0m\n",
       "\u001b[38;5;129m                 > Scientist**   \u001b[0m\u001b[1;38;5;129m2018\u001b[0m\u001b[38;5;129m - Present   - Analyzed user behavior and feedback data to\u001b[0m\n",
       "\u001b[38;5;129m                 > improve search relevance and quality.   - Built and tested machine learning\u001b[0m\n",
       "\u001b[38;5;129m                 > models for natural language understanding, query expansion, and ranking.   -\u001b[0m\n",
       "\u001b[38;5;129m                 > Collaborated with \u001b[0m\u001b[1;38;5;129m(\u001b[0m\u001b[38;5;129m...\u001b[0m\u001b[1;38;5;129m)\u001b[0m\n"
      ]
     },
     "metadata": {},
     "output_type": "display_data"
    },
    {
     "data": {
      "text/html": [
       "<pre style=\"margin:0px;;white-space:pre;overflow-x:auto;line-height:normal;font-family:Menlo,'DejaVu Sans Mono',consolas,'Courier New',monospace\"><span style=\"color: #d0d0d0; text-decoration-color: #d0d0d0; text-decoration: underline\">Lisa Carter</span><span style=\"color: #d0d0d0; text-decoration-color: #d0d0d0\"> acts: </span><span style=\"color: #d0d0d0; text-decoration-color: #d0d0d0; font-weight: bold\">[</span><span style=\"color: #d0d0d0; text-decoration-color: #d0d0d0\">DONE</span><span style=\"color: #d0d0d0; text-decoration-color: #d0d0d0; font-weight: bold\">]</span><span style=\"color: #d0d0d0; text-decoration-color: #d0d0d0\"> </span>\n",
       "\n",
       "</pre>\n"
      ],
      "text/plain": [
       "\u001b[4;38;5;252mLisa Carter\u001b[0m\u001b[38;5;252m acts: \u001b[0m\u001b[1;38;5;252m[\u001b[0m\u001b[38;5;252mDONE\u001b[0m\u001b[1;38;5;252m]\u001b[0m\u001b[38;5;252m \u001b[0m\n",
       "\n"
      ]
     },
     "metadata": {},
     "output_type": "display_data"
    }
   ],
   "source": [
    "lisa.listen_and_act(\"You have just been fired and need to find a new job. You decide to think about what you want in life and then write a resume. Make it very detailed.\")"
   ]
  },
  {
   "cell_type": "code",
   "execution_count": 7,
   "metadata": {
    "execution": {
     "iopub.execute_input": "2025-07-14T04:02:13.825004Z",
     "iopub.status.busy": "2025-07-14T04:02:13.823988Z",
     "iopub.status.idle": "2025-07-14T04:02:21.741855Z",
     "shell.execute_reply": "2025-07-14T04:02:21.739908Z"
    }
   },
   "outputs": [
    {
     "data": {
      "text/html": [
       "<pre style=\"margin:0px;;white-space:pre;overflow-x:auto;line-height:normal;font-family:Menlo,'DejaVu Sans Mono',consolas,'Courier New',monospace\"><span style=\"color: #00ffff; text-decoration-color: #00ffff; font-weight: bold; font-style: italic; text-decoration: underline\">USER</span><span style=\"color: #00ffff; text-decoration-color: #00ffff; font-weight: bold; font-style: italic\"> --&gt; </span><span style=\"color: #00ffff; text-decoration-color: #00ffff; font-weight: bold; font-style: italic; text-decoration: underline\">Lisa Carter</span><span style=\"color: #00ffff; text-decoration-color: #00ffff; font-weight: bold; font-style: italic\">: [CONVERSATION] </span>\n",
       "<span style=\"color: #00ffff; text-decoration-color: #00ffff; font-weight: bold; font-style: italic\">          &gt; What did I just told you?</span>\n",
       "</pre>\n"
      ],
      "text/plain": [
       "\u001b[1;3;4;38;5;51mUSER\u001b[0m\u001b[1;3;38;5;51m --> \u001b[0m\u001b[1;3;4;38;5;51mLisa Carter\u001b[0m\u001b[1;3;38;5;51m: \u001b[0m\u001b[1;3;38;5;51m[\u001b[0m\u001b[1;3;38;5;51mCONVERSATION\u001b[0m\u001b[1;3;38;5;51m]\u001b[0m\u001b[1;3;38;5;51m \u001b[0m\n",
       "\u001b[1;3;38;5;51m          > What did I just told you?\u001b[0m\n"
      ]
     },
     "metadata": {},
     "output_type": "display_data"
    },
    {
     "data": {
      "text/html": [
       "<pre style=\"margin:0px;;white-space:pre;overflow-x:auto;line-height:normal;font-family:Menlo,'DejaVu Sans Mono',consolas,'Courier New',monospace\"><span style=\"color: #00d700; text-decoration-color: #00d700; font-weight: bold; text-decoration: underline\">Lisa Carter</span><span style=\"color: #00d700; text-decoration-color: #00d700; font-weight: bold\"> acts: [TALK] </span>\n",
       "<span style=\"color: #00d700; text-decoration-color: #00d700; font-weight: bold\">                 &gt; You mentioned that I need to think about what I want in life and then write a</span>\n",
       "<span style=\"color: #00d700; text-decoration-color: #00d700; font-weight: bold\">                 &gt; detailed resume since I've just been fired. I'm currently reflecting on my career</span>\n",
       "<span style=\"color: #00d700; text-decoration-color: #00d700; font-weight: bold\">                 &gt; goals and preparing my resume to find a new job.</span>\n",
       "</pre>\n"
      ],
      "text/plain": [
       "\u001b[1;4;38;5;40mLisa Carter\u001b[0m\u001b[1;38;5;40m acts: \u001b[0m\u001b[1;38;5;40m[\u001b[0m\u001b[1;38;5;40mTALK\u001b[0m\u001b[1;38;5;40m]\u001b[0m\u001b[1;38;5;40m \u001b[0m\n",
       "\u001b[1;38;5;40m                 > You mentioned that I need to think about what I want in life and then write a\u001b[0m\n",
       "\u001b[1;38;5;40m                 > detailed resume since I've just been fired. I'm currently reflecting on my career\u001b[0m\n",
       "\u001b[1;38;5;40m                 > goals and preparing my resume to find a new job.\u001b[0m\n"
      ]
     },
     "metadata": {},
     "output_type": "display_data"
    },
    {
     "data": {
      "text/html": [
       "<pre style=\"margin:0px;;white-space:pre;overflow-x:auto;line-height:normal;font-family:Menlo,'DejaVu Sans Mono',consolas,'Courier New',monospace\"><span style=\"color: #d0d0d0; text-decoration-color: #d0d0d0; text-decoration: underline\">Lisa Carter</span><span style=\"color: #d0d0d0; text-decoration-color: #d0d0d0\"> acts: </span><span style=\"color: #d0d0d0; text-decoration-color: #d0d0d0; font-weight: bold\">[</span><span style=\"color: #d0d0d0; text-decoration-color: #d0d0d0\">DONE</span><span style=\"color: #d0d0d0; text-decoration-color: #d0d0d0; font-weight: bold\">]</span><span style=\"color: #d0d0d0; text-decoration-color: #d0d0d0\"> </span>\n",
       "\n",
       "</pre>\n"
      ],
      "text/plain": [
       "\u001b[4;38;5;252mLisa Carter\u001b[0m\u001b[38;5;252m acts: \u001b[0m\u001b[1;38;5;252m[\u001b[0m\u001b[38;5;252mDONE\u001b[0m\u001b[1;38;5;252m]\u001b[0m\u001b[38;5;252m \u001b[0m\n",
       "\n"
      ]
     },
     "metadata": {},
     "output_type": "display_data"
    }
   ],
   "source": [
    "lisa.listen_and_act(\"What did I just told you?\")"
   ]
  }
 ],
 "metadata": {
  "kernelspec": {
   "display_name": "py310",
   "language": "python",
   "name": "python3"
  },
  "language_info": {
   "codemirror_mode": {
    "name": "ipython",
    "version": 3
   },
   "file_extension": ".py",
   "mimetype": "text/x-python",
   "name": "python",
   "nbconvert_exporter": "python",
   "pygments_lexer": "ipython3",
   "version": "3.10.13"
  }
 },
 "nbformat": 4,
 "nbformat_minor": 2
}
