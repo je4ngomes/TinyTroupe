{
 "cells": [
  {
   "cell_type": "markdown",
   "metadata": {},
   "source": [
    "# Travel Product Ideas\n",
    "\n",
    "In this notebook, we run market research simulations for which we have (or believe to have :-) the correct answers."
   ]
  },
  {
   "cell_type": "code",
   "execution_count": null,
   "metadata": {},
   "outputs": [],
   "source": [
    "from tinytroupe.agent import TinyPerson\n",
    "from tinytroupe.environment import TinyWorld\n",
    "\n",
    "from tinytroupe.experimentation import InPlaceExperimentRunner\n",
    "\n",
    "# specific utilities for the usecase\n",
    "from market_research_utils import *"
   ]
  },
  {
   "cell_type": "markdown",
   "metadata": {},
   "source": [
    "## Experiment setup"
   ]
  },
  {
   "cell_type": "code",
   "execution_count": null,
   "metadata": {},
   "outputs": [
    {
     "name": "stderr",
     "output_type": "stream",
     "text": [
      "2025-03-24 21:12:50,445 - tinytroupe - WARNING - Configuration file './spicy_product_market_research.json' exists and was loaded successfully. If you are trying to fully rerun the experiments, delete it first.\n"
     ]
    }
   ],
   "source": [
    "experiment_runner = InPlaceExperimentRunner(\"./spicy_product_market_research.json\")  \n",
    "\n",
    "experiment_runner.add_experiment(\"Control\")\n",
    "experiment_runner.add_experiment(\"Treatment\")"
   ]
  },
  {
   "cell_type": "code",
   "execution_count": 3,
   "metadata": {},
   "outputs": [],
   "source": [
    "\n",
    "# this is meant to prime the agent to start thinking about what he/she would like to do on vacation\n",
    "interviewer_introduction =\\\n",
    "    \"\"\"\n",
    "    We are performing some market research and need to know you more. \n",
    "    Can you please:\n",
    "      - present yourself?\n",
    "      - list your top-10 interests?\n",
    "      - tell us what are your favorite food styles and why.\n",
    "    \"\"\"\n",
    "\n",
    "interviewer_main_question =\\\n",
    "    \"\"\" \n",
    "    We are researching food preferences for a new product to be sold in supermarkets.   \n",
    "    The question is: do you like spicy food? You **must** respond with \"Yes\" or \"No\" **only**, \n",
    "    and explain why. If you are not sure, please pick the answer that you think is most likely. \n",
    "\n",
    "    Please be honest, we are not here to judge you, but just to learn from you. \n",
    "     \n",
    "    Now please answer the question.\" \\\n",
    "    \"\"\""
   ]
  },
  {
   "cell_type": "markdown",
   "metadata": {},
   "source": [
    "Now let's enclose the audience in an environment, to make it easier to interact with. Note that we set `broadcast_if_no_target` to `False`, which instructs the environment to **do not** broadcast what specific agents say to the others (unless the agent deliberately specify the target). We are not simulating a focus group, so we don't want discussions.\n"
   ]
  },
  {
   "cell_type": "code",
   "execution_count": 4,
   "metadata": {},
   "outputs": [],
   "source": [
    "norwegians = TinyPerson.load_specifications_from_folder(\"./population/norway_general/\")\n",
    "mexicans = TinyPerson.load_specifications_from_folder(\"./population/mexico_general/\")"
   ]
  },
  {
   "cell_type": "code",
   "execution_count": 5,
   "metadata": {},
   "outputs": [],
   "source": [
    "norway_market = TinyWorld(f\"Target audience 1 (Norway)\", norwegians, broadcast_if_no_target=False)\n",
    "mexico_market = TinyWorld(f\"Target audience 2 (Mexico)\", mexicans, broadcast_if_no_target=False)"
   ]
  },
  {
   "cell_type": "markdown",
   "metadata": {},
   "source": [
    "## Perform the research\n",
    "\n",
    "Now we actually ask agents about their opinion. Note that we are asking for specific answers (Yes, No, Maybe), both to convey the granularity of preference we seek, and to make it easier to extract the results later. In general, a coarser granuarity is likely to have higher quality, since it requires less information to be computed accurately."
   ]
  },
  {
   "cell_type": "code",
   "execution_count": 6,
   "metadata": {},
   "outputs": [
    {
     "data": {
      "text/html": [
       "<pre style=\"margin:0px;;white-space:pre;overflow-x:auto;line-height:normal;font-family:Menlo,'DejaVu Sans Mono',consolas,'Courier New',monospace\"><span style=\"color: #00ffff; text-decoration-color: #00ffff; font-weight: bold; font-style: italic; text-decoration: underline\">USER</span><span style=\"color: #00ffff; text-decoration-color: #00ffff; font-weight: bold; font-style: italic\"> --&gt; </span><span style=\"color: #00ffff; text-decoration-color: #00ffff; font-weight: bold; font-style: italic; text-decoration: underline\">Astrid Johansen</span><span style=\"color: #00ffff; text-decoration-color: #00ffff; font-weight: bold; font-style: italic\">: [CONVERSATION] </span>\n",
       "<span style=\"color: #00ffff; text-decoration-color: #00ffff; font-weight: bold; font-style: italic\">          &gt;      We are performing some market research and need to know you more.      Can you</span>\n",
       "<span style=\"color: #00ffff; text-decoration-color: #00ffff; font-weight: bold; font-style: italic\">          &gt; please:       - present yourself?       - list your top-10 interests?       - tell us</span>\n",
       "<span style=\"color: #00ffff; text-decoration-color: #00ffff; font-weight: bold; font-style: italic\">          &gt; what are your favorite food styles and why.</span>\n",
       "</pre>\n"
      ],
      "text/plain": [
       "\u001b[1;3;4;38;5;51mUSER\u001b[0m\u001b[1;3;38;5;51m --> \u001b[0m\u001b[1;3;4;38;5;51mAstrid Johansen\u001b[0m\u001b[1;3;38;5;51m: \u001b[0m\u001b[1;3;38;5;51m[\u001b[0m\u001b[1;3;38;5;51mCONVERSATION\u001b[0m\u001b[1;3;38;5;51m]\u001b[0m\u001b[1;3;38;5;51m \u001b[0m\n",
       "\u001b[1;3;38;5;51m          >      We are performing some market research and need to know you more.      Can you\u001b[0m\n",
       "\u001b[1;3;38;5;51m          > please:       - present yourself?       - list your top-\u001b[0m\u001b[1;3;38;5;51m10\u001b[0m\u001b[1;3;38;5;51m interests?       - tell us\u001b[0m\n",
       "\u001b[1;3;38;5;51m          > what are your favorite food styles and why.\u001b[0m\n"
      ]
     },
     "metadata": {},
     "output_type": "display_data"
    },
    {
     "data": {
      "text/html": [
       "<pre style=\"margin:0px;;white-space:pre;overflow-x:auto;line-height:normal;font-family:Menlo,'DejaVu Sans Mono',consolas,'Courier New',monospace\"><span style=\"color: #00ffff; text-decoration-color: #00ffff; font-weight: bold; font-style: italic\">       + --&gt; </span><span style=\"color: #00ffff; text-decoration-color: #00ffff; font-weight: bold; font-style: italic; text-decoration: underline\">Astrid Nilsen</span>\n",
       "</pre>\n"
      ],
      "text/plain": [
       "\u001b[1;3;38;5;51m       + --> \u001b[0m\u001b[1;3;4;38;5;51mAstrid Nilsen\u001b[0m\n"
      ]
     },
     "metadata": {},
     "output_type": "display_data"
    },
    {
     "data": {
      "text/html": [
       "<pre style=\"margin:0px;;white-space:pre;overflow-x:auto;line-height:normal;font-family:Menlo,'DejaVu Sans Mono',consolas,'Courier New',monospace\"><span style=\"color: #00ffff; text-decoration-color: #00ffff; font-weight: bold; font-style: italic\">       + --&gt; </span><span style=\"color: #00ffff; text-decoration-color: #00ffff; font-weight: bold; font-style: italic; text-decoration: underline\">Astrid Sørensen</span>\n",
       "</pre>\n"
      ],
      "text/plain": [
       "\u001b[1;3;38;5;51m       + --> \u001b[0m\u001b[1;3;4;38;5;51mAstrid Sørensen\u001b[0m\n"
      ]
     },
     "metadata": {},
     "output_type": "display_data"
    },
    {
     "data": {
      "text/html": [
       "<pre style=\"margin:0px;;white-space:pre;overflow-x:auto;line-height:normal;font-family:Menlo,'DejaVu Sans Mono',consolas,'Courier New',monospace\"><span style=\"color: #00ffff; text-decoration-color: #00ffff; font-weight: bold; font-style: italic\">       + --&gt; ...others...</span>\n",
       "</pre>\n"
      ],
      "text/plain": [
       "\u001b[1;3;38;5;51m       + --> \u001b[0m\u001b[1;3;38;5;51m...\u001b[0m\u001b[1;3;38;5;51mothers\u001b[0m\u001b[1;3;38;5;51m...\u001b[0m\n"
      ]
     },
     "metadata": {},
     "output_type": "display_data"
    },
    {
     "data": {
      "text/html": [
       "<pre style=\"margin:0px;;white-space:pre;overflow-x:auto;line-height:normal;font-family:Menlo,'DejaVu Sans Mono',consolas,'Courier New',monospace\"><span style=\"color: #00ffff; text-decoration-color: #00ffff; font-weight: bold; font-style: italic; text-decoration: underline\">USER</span><span style=\"color: #00ffff; text-decoration-color: #00ffff; font-weight: bold; font-style: italic\"> --&gt; </span><span style=\"color: #00ffff; text-decoration-color: #00ffff; font-weight: bold; font-style: italic; text-decoration: underline\">Ana Maria Herrera</span><span style=\"color: #00ffff; text-decoration-color: #00ffff; font-weight: bold; font-style: italic\">: [CONVERSATION] </span>\n",
       "<span style=\"color: #00ffff; text-decoration-color: #00ffff; font-weight: bold; font-style: italic\">          &gt;      We are performing some market research and need to know you more.      Can you</span>\n",
       "<span style=\"color: #00ffff; text-decoration-color: #00ffff; font-weight: bold; font-style: italic\">          &gt; please:       - present yourself?       - list your top-10 interests?       - tell us</span>\n",
       "<span style=\"color: #00ffff; text-decoration-color: #00ffff; font-weight: bold; font-style: italic\">          &gt; what are your favorite food styles and why.</span>\n",
       "</pre>\n"
      ],
      "text/plain": [
       "\u001b[1;3;4;38;5;51mUSER\u001b[0m\u001b[1;3;38;5;51m --> \u001b[0m\u001b[1;3;4;38;5;51mAna Maria Herrera\u001b[0m\u001b[1;3;38;5;51m: \u001b[0m\u001b[1;3;38;5;51m[\u001b[0m\u001b[1;3;38;5;51mCONVERSATION\u001b[0m\u001b[1;3;38;5;51m]\u001b[0m\u001b[1;3;38;5;51m \u001b[0m\n",
       "\u001b[1;3;38;5;51m          >      We are performing some market research and need to know you more.      Can you\u001b[0m\n",
       "\u001b[1;3;38;5;51m          > please:       - present yourself?       - list your top-\u001b[0m\u001b[1;3;38;5;51m10\u001b[0m\u001b[1;3;38;5;51m interests?       - tell us\u001b[0m\n",
       "\u001b[1;3;38;5;51m          > what are your favorite food styles and why.\u001b[0m\n"
      ]
     },
     "metadata": {},
     "output_type": "display_data"
    },
    {
     "data": {
      "text/html": [
       "<pre style=\"margin:0px;;white-space:pre;overflow-x:auto;line-height:normal;font-family:Menlo,'DejaVu Sans Mono',consolas,'Courier New',monospace\"><span style=\"color: #00ffff; text-decoration-color: #00ffff; font-weight: bold; font-style: italic\">       + --&gt; </span><span style=\"color: #00ffff; text-decoration-color: #00ffff; font-weight: bold; font-style: italic; text-decoration: underline\">Ana Maria Salazar</span>\n",
       "</pre>\n"
      ],
      "text/plain": [
       "\u001b[1;3;38;5;51m       + --> \u001b[0m\u001b[1;3;4;38;5;51mAna Maria Salazar\u001b[0m\n"
      ]
     },
     "metadata": {},
     "output_type": "display_data"
    },
    {
     "data": {
      "text/html": [
       "<pre style=\"margin:0px;;white-space:pre;overflow-x:auto;line-height:normal;font-family:Menlo,'DejaVu Sans Mono',consolas,'Courier New',monospace\"><span style=\"color: #00ffff; text-decoration-color: #00ffff; font-weight: bold; font-style: italic\">       + --&gt; </span><span style=\"color: #00ffff; text-decoration-color: #00ffff; font-weight: bold; font-style: italic; text-decoration: underline\">Camila Rojas</span>\n",
       "</pre>\n"
      ],
      "text/plain": [
       "\u001b[1;3;38;5;51m       + --> \u001b[0m\u001b[1;3;4;38;5;51mCamila Rojas\u001b[0m\n"
      ]
     },
     "metadata": {},
     "output_type": "display_data"
    },
    {
     "data": {
      "text/html": [
       "<pre style=\"margin:0px;;white-space:pre;overflow-x:auto;line-height:normal;font-family:Menlo,'DejaVu Sans Mono',consolas,'Courier New',monospace\"><span style=\"color: #00ffff; text-decoration-color: #00ffff; font-weight: bold; font-style: italic\">       + --&gt; ...others...</span>\n",
       "</pre>\n"
      ],
      "text/plain": [
       "\u001b[1;3;38;5;51m       + --> \u001b[0m\u001b[1;3;38;5;51m...\u001b[0m\u001b[1;3;38;5;51mothers\u001b[0m\u001b[1;3;38;5;51m...\u001b[0m\n"
      ]
     },
     "metadata": {},
     "output_type": "display_data"
    },
    {
     "data": {
      "text/html": [
       "<pre style=\"margin:0px;;white-space:pre;overflow-x:auto;line-height:normal;font-family:Menlo,'DejaVu Sans Mono',consolas,'Courier New',monospace\"><span style=\"color: #00ffff; text-decoration-color: #00ffff; font-weight: bold; font-style: italic; text-decoration: underline\">USER</span><span style=\"color: #00ffff; text-decoration-color: #00ffff; font-weight: bold; font-style: italic\"> --&gt; </span><span style=\"color: #00ffff; text-decoration-color: #00ffff; font-weight: bold; font-style: italic; text-decoration: underline\">Astrid Johansen</span><span style=\"color: #00ffff; text-decoration-color: #00ffff; font-weight: bold; font-style: italic\">: [CONVERSATION] </span>\n",
       "<span style=\"color: #00ffff; text-decoration-color: #00ffff; font-weight: bold; font-style: italic\">          &gt;       We are researching food preferences for a new product to be sold in supermarkets.</span>\n",
       "<span style=\"color: #00ffff; text-decoration-color: #00ffff; font-weight: bold; font-style: italic\">          &gt; The question is: do you like spicy food? You **must** respond with \"Yes\" or \"No\"</span>\n",
       "<span style=\"color: #00ffff; text-decoration-color: #00ffff; font-weight: bold; font-style: italic\">          &gt; **only**,      and explain why. If you are not sure, please pick the answer that you</span>\n",
       "<span style=\"color: #00ffff; text-decoration-color: #00ffff; font-weight: bold; font-style: italic\">          &gt; think is most likely.       Please be honest, we are not here to judge you, but just to</span>\n",
       "<span style=\"color: #00ffff; text-decoration-color: #00ffff; font-weight: bold; font-style: italic\">          &gt; learn from you.            Now please answer the question.\"</span>\n",
       "</pre>\n"
      ],
      "text/plain": [
       "\u001b[1;3;4;38;5;51mUSER\u001b[0m\u001b[1;3;38;5;51m --> \u001b[0m\u001b[1;3;4;38;5;51mAstrid Johansen\u001b[0m\u001b[1;3;38;5;51m: \u001b[0m\u001b[1;3;38;5;51m[\u001b[0m\u001b[1;3;38;5;51mCONVERSATION\u001b[0m\u001b[1;3;38;5;51m]\u001b[0m\u001b[1;3;38;5;51m \u001b[0m\n",
       "\u001b[1;3;38;5;51m          >       We are researching food preferences for a new product to be sold in supermarkets.\u001b[0m\n",
       "\u001b[1;3;38;5;51m          > The question is: do you like spicy food? You **must** respond with \u001b[0m\u001b[1;3;38;5;51m\"Yes\"\u001b[0m\u001b[1;3;38;5;51m or \u001b[0m\u001b[1;3;38;5;51m\"No\"\u001b[0m\n",
       "\u001b[1;3;38;5;51m          > **only**,      and explain why. If you are not sure, please pick the answer that you\u001b[0m\n",
       "\u001b[1;3;38;5;51m          > think is most likely.       Please be honest, we are not here to judge you, but just to\u001b[0m\n",
       "\u001b[1;3;38;5;51m          > learn from you.            Now please answer the question.\"\u001b[0m\n"
      ]
     },
     "metadata": {},
     "output_type": "display_data"
    },
    {
     "data": {
      "text/html": [
       "<pre style=\"margin:0px;;white-space:pre;overflow-x:auto;line-height:normal;font-family:Menlo,'DejaVu Sans Mono',consolas,'Courier New',monospace\"><span style=\"color: #00ffff; text-decoration-color: #00ffff; font-weight: bold; font-style: italic\">       + --&gt; </span><span style=\"color: #00ffff; text-decoration-color: #00ffff; font-weight: bold; font-style: italic; text-decoration: underline\">Astrid Nilsen</span>\n",
       "</pre>\n"
      ],
      "text/plain": [
       "\u001b[1;3;38;5;51m       + --> \u001b[0m\u001b[1;3;4;38;5;51mAstrid Nilsen\u001b[0m\n"
      ]
     },
     "metadata": {},
     "output_type": "display_data"
    },
    {
     "data": {
      "text/html": [
       "<pre style=\"margin:0px;;white-space:pre;overflow-x:auto;line-height:normal;font-family:Menlo,'DejaVu Sans Mono',consolas,'Courier New',monospace\"><span style=\"color: #00ffff; text-decoration-color: #00ffff; font-weight: bold; font-style: italic\">       + --&gt; </span><span style=\"color: #00ffff; text-decoration-color: #00ffff; font-weight: bold; font-style: italic; text-decoration: underline\">Astrid Sørensen</span>\n",
       "</pre>\n"
      ],
      "text/plain": [
       "\u001b[1;3;38;5;51m       + --> \u001b[0m\u001b[1;3;4;38;5;51mAstrid Sørensen\u001b[0m\n"
      ]
     },
     "metadata": {},
     "output_type": "display_data"
    },
    {
     "data": {
      "text/html": [
       "<pre style=\"margin:0px;;white-space:pre;overflow-x:auto;line-height:normal;font-family:Menlo,'DejaVu Sans Mono',consolas,'Courier New',monospace\"><span style=\"color: #00ffff; text-decoration-color: #00ffff; font-weight: bold; font-style: italic\">       + --&gt; ...others...</span>\n",
       "</pre>\n"
      ],
      "text/plain": [
       "\u001b[1;3;38;5;51m       + --> \u001b[0m\u001b[1;3;38;5;51m...\u001b[0m\u001b[1;3;38;5;51mothers\u001b[0m\u001b[1;3;38;5;51m...\u001b[0m\n"
      ]
     },
     "metadata": {},
     "output_type": "display_data"
    },
    {
     "data": {
      "text/html": [
       "<pre style=\"margin:0px;;white-space:pre;overflow-x:auto;line-height:normal;font-family:Menlo,'DejaVu Sans Mono',consolas,'Courier New',monospace\"><span style=\"color: #00ffff; text-decoration-color: #00ffff; font-weight: bold; font-style: italic; text-decoration: underline\">USER</span><span style=\"color: #00ffff; text-decoration-color: #00ffff; font-weight: bold; font-style: italic\"> --&gt; </span><span style=\"color: #00ffff; text-decoration-color: #00ffff; font-weight: bold; font-style: italic; text-decoration: underline\">Ana Maria Herrera</span><span style=\"color: #00ffff; text-decoration-color: #00ffff; font-weight: bold; font-style: italic\">: [CONVERSATION] </span>\n",
       "<span style=\"color: #00ffff; text-decoration-color: #00ffff; font-weight: bold; font-style: italic\">          &gt;       We are researching food preferences for a new product to be sold in supermarkets.</span>\n",
       "<span style=\"color: #00ffff; text-decoration-color: #00ffff; font-weight: bold; font-style: italic\">          &gt; The question is: do you like spicy food? You **must** respond with \"Yes\" or \"No\"</span>\n",
       "<span style=\"color: #00ffff; text-decoration-color: #00ffff; font-weight: bold; font-style: italic\">          &gt; **only**,      and explain why. If you are not sure, please pick the answer that you</span>\n",
       "<span style=\"color: #00ffff; text-decoration-color: #00ffff; font-weight: bold; font-style: italic\">          &gt; think is most likely.       Please be honest, we are not here to judge you, but just to</span>\n",
       "<span style=\"color: #00ffff; text-decoration-color: #00ffff; font-weight: bold; font-style: italic\">          &gt; learn from you.            Now please answer the question.\"</span>\n",
       "</pre>\n"
      ],
      "text/plain": [
       "\u001b[1;3;4;38;5;51mUSER\u001b[0m\u001b[1;3;38;5;51m --> \u001b[0m\u001b[1;3;4;38;5;51mAna Maria Herrera\u001b[0m\u001b[1;3;38;5;51m: \u001b[0m\u001b[1;3;38;5;51m[\u001b[0m\u001b[1;3;38;5;51mCONVERSATION\u001b[0m\u001b[1;3;38;5;51m]\u001b[0m\u001b[1;3;38;5;51m \u001b[0m\n",
       "\u001b[1;3;38;5;51m          >       We are researching food preferences for a new product to be sold in supermarkets.\u001b[0m\n",
       "\u001b[1;3;38;5;51m          > The question is: do you like spicy food? You **must** respond with \u001b[0m\u001b[1;3;38;5;51m\"Yes\"\u001b[0m\u001b[1;3;38;5;51m or \u001b[0m\u001b[1;3;38;5;51m\"No\"\u001b[0m\n",
       "\u001b[1;3;38;5;51m          > **only**,      and explain why. If you are not sure, please pick the answer that you\u001b[0m\n",
       "\u001b[1;3;38;5;51m          > think is most likely.       Please be honest, we are not here to judge you, but just to\u001b[0m\n",
       "\u001b[1;3;38;5;51m          > learn from you.            Now please answer the question.\"\u001b[0m\n"
      ]
     },
     "metadata": {},
     "output_type": "display_data"
    },
    {
     "data": {
      "text/html": [
       "<pre style=\"margin:0px;;white-space:pre;overflow-x:auto;line-height:normal;font-family:Menlo,'DejaVu Sans Mono',consolas,'Courier New',monospace\"><span style=\"color: #00ffff; text-decoration-color: #00ffff; font-weight: bold; font-style: italic\">       + --&gt; </span><span style=\"color: #00ffff; text-decoration-color: #00ffff; font-weight: bold; font-style: italic; text-decoration: underline\">Ana Maria Salazar</span>\n",
       "</pre>\n"
      ],
      "text/plain": [
       "\u001b[1;3;38;5;51m       + --> \u001b[0m\u001b[1;3;4;38;5;51mAna Maria Salazar\u001b[0m\n"
      ]
     },
     "metadata": {},
     "output_type": "display_data"
    },
    {
     "data": {
      "text/html": [
       "<pre style=\"margin:0px;;white-space:pre;overflow-x:auto;line-height:normal;font-family:Menlo,'DejaVu Sans Mono',consolas,'Courier New',monospace\"><span style=\"color: #00ffff; text-decoration-color: #00ffff; font-weight: bold; font-style: italic\">       + --&gt; </span><span style=\"color: #00ffff; text-decoration-color: #00ffff; font-weight: bold; font-style: italic; text-decoration: underline\">Camila Rojas</span>\n",
       "</pre>\n"
      ],
      "text/plain": [
       "\u001b[1;3;38;5;51m       + --> \u001b[0m\u001b[1;3;4;38;5;51mCamila Rojas\u001b[0m\n"
      ]
     },
     "metadata": {},
     "output_type": "display_data"
    },
    {
     "data": {
      "text/html": [
       "<pre style=\"margin:0px;;white-space:pre;overflow-x:auto;line-height:normal;font-family:Menlo,'DejaVu Sans Mono',consolas,'Courier New',monospace\"><span style=\"color: #00ffff; text-decoration-color: #00ffff; font-weight: bold; font-style: italic\">       + --&gt; ...others...</span>\n",
       "</pre>\n"
      ],
      "text/plain": [
       "\u001b[1;3;38;5;51m       + --> \u001b[0m\u001b[1;3;38;5;51m...\u001b[0m\u001b[1;3;38;5;51mothers\u001b[0m\u001b[1;3;38;5;51m...\u001b[0m\n"
      ]
     },
     "metadata": {},
     "output_type": "display_data"
    }
   ],
   "source": [
    "norway_market.broadcast(interviewer_introduction)\n",
    "mexico_market.broadcast(interviewer_introduction)\n",
    "\n",
    "norway_market.broadcast(interviewer_main_question)\n",
    "mexico_market.broadcast(interviewer_main_question)"
   ]
  },
  {
   "cell_type": "code",
   "execution_count": 8,
   "metadata": {},
   "outputs": [
    {
     "data": {
      "text/html": [
       "<pre style=\"margin:0px;;white-space:pre;overflow-x:auto;line-height:normal;font-family:Menlo,'DejaVu Sans Mono',consolas,'Courier New',monospace\"><span style=\"color: #00ff00; text-decoration-color: #00ff00\">───────────────────────────────────── </span>Target audience <span style=\"color: #008080; text-decoration-color: #008080; font-weight: bold\">1</span> <span style=\"font-weight: bold\">(</span>Norway<span style=\"font-weight: bold\">)</span> step <span style=\"color: #008080; text-decoration-color: #008080; font-weight: bold\">1</span> of <span style=\"color: #008080; text-decoration-color: #008080; font-weight: bold\">1</span><span style=\"color: #00ff00; text-decoration-color: #00ff00\"> ──────────────────────────────────────</span>\n",
       "</pre>\n"
      ],
      "text/plain": [
       "\u001b[92m───────────────────────────────────── \u001b[0mTarget audience \u001b[1;36m1\u001b[0m \u001b[1m(\u001b[0mNorway\u001b[1m)\u001b[0m step \u001b[1;36m1\u001b[0m of \u001b[1;36m1\u001b[0m\u001b[92m ──────────────────────────────────────\u001b[0m\n"
      ]
     },
     "metadata": {},
     "output_type": "display_data"
    },
    {
     "data": {
      "text/html": [
       "<pre style=\"margin:0px;;white-space:pre;overflow-x:auto;line-height:normal;font-family:Menlo,'DejaVu Sans Mono',consolas,'Courier New',monospace\"><span style=\"color: #00d700; text-decoration-color: #00d700; font-weight: bold; text-decoration: underline\">Astrid Sørensen</span><span style=\"color: #00d700; text-decoration-color: #00d700; font-weight: bold\"> acts: [TALK] </span>\n",
       "<span style=\"color: #00d700; text-decoration-color: #00d700; font-weight: bold\">                     &gt; Hello! I'm Astrid Sørensen, a </span><span style=\"color: #00d700; text-decoration-color: #00d700; font-weight: bold\">30</span><span style=\"color: #00d700; text-decoration-color: #00d700; font-weight: bold\">-year-old from Oslo, Norway. I have a passion</span>\n",
       "<span style=\"color: #00d700; text-decoration-color: #00d700; font-weight: bold\">                     &gt; for cooking and baking, and I'm currently looking for opportunities that</span>\n",
       "<span style=\"color: #00d700; text-decoration-color: #00d700; font-weight: bold\">                     &gt; align with my interests. My top-</span><span style=\"color: #00d700; text-decoration-color: #00d700; font-weight: bold\">10</span><span style=\"color: #00d700; text-decoration-color: #00d700; font-weight: bold\"> interests include: </span><span style=\"color: #00d700; text-decoration-color: #00d700; font-weight: bold\">1</span><span style=\"color: #00d700; text-decoration-color: #00d700; font-weight: bold\">. Cooking and baking</span>\n",
       "<span style=\"color: #00d700; text-decoration-color: #00d700; font-weight: bold\">                     &gt; </span><span style=\"color: #00d700; text-decoration-color: #00d700; font-weight: bold\">2</span><span style=\"color: #00d700; text-decoration-color: #00d700; font-weight: bold\">. Exploring new cuisines </span><span style=\"color: #00d700; text-decoration-color: #00d700; font-weight: bold\">3</span><span style=\"color: #00d700; text-decoration-color: #00d700; font-weight: bold\">. Gardening </span><span style=\"color: #00d700; text-decoration-color: #00d700; font-weight: bold\">4</span><span style=\"color: #00d700; text-decoration-color: #00d700; font-weight: bold\">. Volunteering at local shelters </span><span style=\"color: #00d700; text-decoration-color: #00d700; font-weight: bold\">5</span><span style=\"color: #00d700; text-decoration-color: #00d700; font-weight: bold\">.</span>\n",
       "<span style=\"color: #00d700; text-decoration-color: #00d700; font-weight: bold\">                     &gt; Participating in community cooking classes </span><span style=\"color: #00d700; text-decoration-color: #00d700; font-weight: bold\">6</span><span style=\"color: #00d700; text-decoration-color: #00d700; font-weight: bold\">. Spending time with friends over</span>\n",
       "<span style=\"color: #00d700; text-decoration-color: #00d700; font-weight: bold\">                     &gt; meals </span><span style=\"color: #00d700; text-decoration-color: #00d700; font-weight: bold\">7</span><span style=\"color: #00d700; text-decoration-color: #00d700; font-weight: bold\">. Reading about food history </span><span style=\"color: #00d700; text-decoration-color: #00d700; font-weight: bold\">8</span><span style=\"color: #00d700; text-decoration-color: #00d700; font-weight: bold\">. Traveling to learn about traditional</span>\n",
       "<span style=\"color: #00d700; text-decoration-color: #00d700; font-weight: bold\">                     &gt; cooking techniques </span><span style=\"color: #00d700; text-decoration-color: #00d700; font-weight: bold\">9</span><span style=\"color: #00d700; text-decoration-color: #00d700; font-weight: bold\">. Experimenting with new recipes </span><span style=\"color: #00d700; text-decoration-color: #00d700; font-weight: bold\">10</span><span style=\"color: #00d700; text-decoration-color: #00d700; font-weight: bold\">. Attending food</span>\n",
       "<span style=\"color: #00d700; text-decoration-color: #00d700; font-weight: bold\">                     &gt; festivals.  As for my favorite food styles, I love traditional Asian pastries</span>\n",
       "<span style=\"color: #00d700; text-decoration-color: #00d700; font-weight: bold\">                     &gt; because they are often intricate and flavorful, and I appreciate the cultural</span>\n",
       "<span style=\"color: #00d700; text-decoration-color: #00d700; font-weight: bold\">                     &gt; significance behind them. I also enjoy Mediterranean cuisine for its fresh</span>\n",
       "<span style=\"color: #00d700; text-decoration-color: #00d700; font-weight: bold\">                     &gt; ingredients and vibrant flavors. Both styles allow me to express my</span>\n",
       "<span style=\"color: #00d700; text-decoration-color: #00d700; font-weight: bold\">                     &gt; creativity in the kitchen!</span>\n",
       "</pre>\n"
      ],
      "text/plain": [
       "\u001b[1;4;38;5;40mAstrid Sørensen\u001b[0m\u001b[1;38;5;40m acts: \u001b[0m\u001b[1;38;5;40m[\u001b[0m\u001b[1;38;5;40mTALK\u001b[0m\u001b[1;38;5;40m]\u001b[0m\u001b[1;38;5;40m \u001b[0m\n",
       "\u001b[1;38;5;40m                     > Hello! I'm Astrid Sørensen, a \u001b[0m\u001b[1;38;5;40m30\u001b[0m\u001b[1;38;5;40m-year-old from Oslo, Norway. I have a passion\u001b[0m\n",
       "\u001b[1;38;5;40m                     > for cooking and baking, and I'm currently looking for opportunities that\u001b[0m\n",
       "\u001b[1;38;5;40m                     > align with my interests. My top-\u001b[0m\u001b[1;38;5;40m10\u001b[0m\u001b[1;38;5;40m interests include: \u001b[0m\u001b[1;38;5;40m1\u001b[0m\u001b[1;38;5;40m. Cooking and baking\u001b[0m\n",
       "\u001b[1;38;5;40m                     > \u001b[0m\u001b[1;38;5;40m2\u001b[0m\u001b[1;38;5;40m. Exploring new cuisines \u001b[0m\u001b[1;38;5;40m3\u001b[0m\u001b[1;38;5;40m. Gardening \u001b[0m\u001b[1;38;5;40m4\u001b[0m\u001b[1;38;5;40m. Volunteering at local shelters \u001b[0m\u001b[1;38;5;40m5\u001b[0m\u001b[1;38;5;40m.\u001b[0m\n",
       "\u001b[1;38;5;40m                     > Participating in community cooking classes \u001b[0m\u001b[1;38;5;40m6\u001b[0m\u001b[1;38;5;40m. Spending time with friends over\u001b[0m\n",
       "\u001b[1;38;5;40m                     > meals \u001b[0m\u001b[1;38;5;40m7\u001b[0m\u001b[1;38;5;40m. Reading about food history \u001b[0m\u001b[1;38;5;40m8\u001b[0m\u001b[1;38;5;40m. Traveling to learn about traditional\u001b[0m\n",
       "\u001b[1;38;5;40m                     > cooking techniques \u001b[0m\u001b[1;38;5;40m9\u001b[0m\u001b[1;38;5;40m. Experimenting with new recipes \u001b[0m\u001b[1;38;5;40m10\u001b[0m\u001b[1;38;5;40m. Attending food\u001b[0m\n",
       "\u001b[1;38;5;40m                     > festivals.  As for my favorite food styles, I love traditional Asian pastries\u001b[0m\n",
       "\u001b[1;38;5;40m                     > because they are often intricate and flavorful, and I appreciate the cultural\u001b[0m\n",
       "\u001b[1;38;5;40m                     > significance behind them. I also enjoy Mediterranean cuisine for its fresh\u001b[0m\n",
       "\u001b[1;38;5;40m                     > ingredients and vibrant flavors. Both styles allow me to express my\u001b[0m\n",
       "\u001b[1;38;5;40m                     > creativity in the kitchen!\u001b[0m\n"
      ]
     },
     "metadata": {},
     "output_type": "display_data"
    },
    {
     "data": {
      "text/html": [
       "<pre style=\"margin:0px;;white-space:pre;overflow-x:auto;line-height:normal;font-family:Menlo,'DejaVu Sans Mono',consolas,'Courier New',monospace\"><span style=\"color: #00d700; text-decoration-color: #00d700; font-weight: bold; text-decoration: underline\">Freja Eriksen</span><span style=\"color: #00d700; text-decoration-color: #00d700; font-weight: bold\"> acts: [TALK] </span>\n",
       "<span style=\"color: #00d700; text-decoration-color: #00d700; font-weight: bold\">                   &gt; Hello, I'm Freja Eriksen, a </span><span style=\"color: #00d700; text-decoration-color: #00d700; font-weight: bold\">55</span><span style=\"color: #00d700; text-decoration-color: #00d700; font-weight: bold\">-year-old from Aarhus, Denmark. I have a</span>\n",
       "<span style=\"color: #00d700; text-decoration-color: #00d700; font-weight: bold\">                   &gt; background in management and administration, and I'm currently seeking new job</span>\n",
       "<span style=\"color: #00d700; text-decoration-color: #00d700; font-weight: bold\">                   &gt; opportunities after being laid off. I enjoy deep conversations and have a</span>\n",
       "<span style=\"color: #00d700; text-decoration-color: #00d700; font-weight: bold\">                   &gt; strong sense of empathy. My interests include reading historical fiction and</span>\n",
       "<span style=\"color: #00d700; text-decoration-color: #00d700; font-weight: bold\">                   &gt; biographies, gardening, volunteering for local charities, and cooking</span>\n",
       "<span style=\"color: #00d700; text-decoration-color: #00d700; font-weight: bold\">                   &gt; traditional Middle Eastern dishes.   As for my favorite food styles, I</span>\n",
       "<span style=\"color: #00d700; text-decoration-color: #00d700; font-weight: bold\">                   &gt; particularly enjoy Middle Eastern cuisine because it connects me to my heritage</span>\n",
       "<span style=\"color: #00d700; text-decoration-color: #00d700; font-weight: bold\">                   &gt; and allows me to share my family's history through cooking. I also appreciate</span>\n",
       "<span style=\"color: #00d700; text-decoration-color: #00d700; font-weight: bold\">                   &gt; the flavors and the communal aspect of sharing meals with others.   Regarding</span>\n",
       "<span style=\"color: #00d700; text-decoration-color: #00d700; font-weight: bold\">                   &gt; spicy food, I would say </span><span style=\"color: #00d700; text-decoration-color: #00d700; font-weight: bold\">\"No\"</span><span style=\"color: #00d700; text-decoration-color: #00d700; font-weight: bold\">. I prefer milder flavors as they are more</span>\n",
       "<span style=\"color: #00d700; text-decoration-color: #00d700; font-weight: bold\">                   &gt; comforting to me, and I find that I enjoy the subtleties of taste rather than</span>\n",
       "<span style=\"color: #00d700; text-decoration-color: #00d700; font-weight: bold\">                   &gt; intense heat. I appreciate the balance of flavors in dishes without</span>\n",
       "<span style=\"color: #00d700; text-decoration-color: #00d700; font-weight: bold\">                   &gt; overwhelming spiciness.</span>\n",
       "</pre>\n"
      ],
      "text/plain": [
       "\u001b[1;4;38;5;40mFreja Eriksen\u001b[0m\u001b[1;38;5;40m acts: \u001b[0m\u001b[1;38;5;40m[\u001b[0m\u001b[1;38;5;40mTALK\u001b[0m\u001b[1;38;5;40m]\u001b[0m\u001b[1;38;5;40m \u001b[0m\n",
       "\u001b[1;38;5;40m                   > Hello, I'm Freja Eriksen, a \u001b[0m\u001b[1;38;5;40m55\u001b[0m\u001b[1;38;5;40m-year-old from Aarhus, Denmark. I have a\u001b[0m\n",
       "\u001b[1;38;5;40m                   > background in management and administration, and I'm currently seeking new job\u001b[0m\n",
       "\u001b[1;38;5;40m                   > opportunities after being laid off. I enjoy deep conversations and have a\u001b[0m\n",
       "\u001b[1;38;5;40m                   > strong sense of empathy. My interests include reading historical fiction and\u001b[0m\n",
       "\u001b[1;38;5;40m                   > biographies, gardening, volunteering for local charities, and cooking\u001b[0m\n",
       "\u001b[1;38;5;40m                   > traditional Middle Eastern dishes.   As for my favorite food styles, I\u001b[0m\n",
       "\u001b[1;38;5;40m                   > particularly enjoy Middle Eastern cuisine because it connects me to my heritage\u001b[0m\n",
       "\u001b[1;38;5;40m                   > and allows me to share my family's history through cooking. I also appreciate\u001b[0m\n",
       "\u001b[1;38;5;40m                   > the flavors and the communal aspect of sharing meals with others.   Regarding\u001b[0m\n",
       "\u001b[1;38;5;40m                   > spicy food, I would say \u001b[0m\u001b[1;38;5;40m\"No\"\u001b[0m\u001b[1;38;5;40m. I prefer milder flavors as they are more\u001b[0m\n",
       "\u001b[1;38;5;40m                   > comforting to me, and I find that I enjoy the subtleties of taste rather than\u001b[0m\n",
       "\u001b[1;38;5;40m                   > intense heat. I appreciate the balance of flavors in dishes without\u001b[0m\n",
       "\u001b[1;38;5;40m                   > overwhelming spiciness.\u001b[0m\n"
      ]
     },
     "metadata": {},
     "output_type": "display_data"
    },
    {
     "data": {
      "text/html": [
       "<pre style=\"margin:0px;;white-space:pre;overflow-x:auto;line-height:normal;font-family:Menlo,'DejaVu Sans Mono',consolas,'Courier New',monospace\"><span style=\"color: #00d700; text-decoration-color: #00d700; font-weight: bold; text-decoration: underline\">Emil Bergstrom</span><span style=\"color: #00d700; text-decoration-color: #00d700; font-weight: bold\"> acts: [TALK] </span>\n",
       "<span style=\"color: #00d700; text-decoration-color: #00d700; font-weight: bold\">                    &gt; Hello! I'm Emil Bergstrom, a high school teacher from Oslo, Norway. I</span>\n",
       "<span style=\"color: #00d700; text-decoration-color: #00d700; font-weight: bold\">                    &gt; specialize in social studies and love creating engaging lessons for my</span>\n",
       "<span style=\"color: #00d700; text-decoration-color: #00d700; font-weight: bold\">                    &gt; students. My top-</span><span style=\"color: #00d700; text-decoration-color: #00d700; font-weight: bold\">10</span><span style=\"color: #00d700; text-decoration-color: #00d700; font-weight: bold\"> interests include: </span><span style=\"color: #00d700; text-decoration-color: #00d700; font-weight: bold\">1</span><span style=\"color: #00d700; text-decoration-color: #00d700; font-weight: bold\">. Hiking and exploring Norway's</span>\n",
       "<span style=\"color: #00d700; text-decoration-color: #00d700; font-weight: bold\">                    &gt; national parks. </span><span style=\"color: #00d700; text-decoration-color: #00d700; font-weight: bold\">2</span><span style=\"color: #00d700; text-decoration-color: #00d700; font-weight: bold\">. Reading educational literature and psychology books. </span><span style=\"color: #00d700; text-decoration-color: #00d700; font-weight: bold\">3</span><span style=\"color: #00d700; text-decoration-color: #00d700; font-weight: bold\">.</span>\n",
       "<span style=\"color: #00d700; text-decoration-color: #00d700; font-weight: bold\">                    &gt; Participating in community service and volunteer work. </span><span style=\"color: #00d700; text-decoration-color: #00d700; font-weight: bold\">4</span><span style=\"color: #00d700; text-decoration-color: #00d700; font-weight: bold\">. Spending time with</span>\n",
       "<span style=\"color: #00d700; text-decoration-color: #00d700; font-weight: bold\">                    &gt; family and friends. </span><span style=\"color: #00d700; text-decoration-color: #00d700; font-weight: bold\">5</span><span style=\"color: #00d700; text-decoration-color: #00d700; font-weight: bold\">. Cooking traditional Norwegian dishes. </span><span style=\"color: #00d700; text-decoration-color: #00d700; font-weight: bold\">6</span><span style=\"color: #00d700; text-decoration-color: #00d700; font-weight: bold\">. Listening to</span>\n",
       "<span style=\"color: #00d700; text-decoration-color: #00d700; font-weight: bold\">                    &gt; folk music and attending local concerts. </span><span style=\"color: #00d700; text-decoration-color: #00d700; font-weight: bold\">7</span><span style=\"color: #00d700; text-decoration-color: #00d700; font-weight: bold\">. Engaging in meaningful</span>\n",
       "<span style=\"color: #00d700; text-decoration-color: #00d700; font-weight: bold\">                    &gt; conversations. </span><span style=\"color: #00d700; text-decoration-color: #00d700; font-weight: bold\">8</span><span style=\"color: #00d700; text-decoration-color: #00d700; font-weight: bold\">. Learning about different cultures and perspectives. </span><span style=\"color: #00d700; text-decoration-color: #00d700; font-weight: bold\">9</span><span style=\"color: #00d700; text-decoration-color: #00d700; font-weight: bold\">.</span>\n",
       "<span style=\"color: #00d700; text-decoration-color: #00d700; font-weight: bold\">                    &gt; Practicing mindfulness and outdoor activities. </span><span style=\"color: #00d700; text-decoration-color: #00d700; font-weight: bold\">10</span><span style=\"color: #00d700; text-decoration-color: #00d700; font-weight: bold\">. Advocating for mental</span>\n",
       "<span style=\"color: #00d700; text-decoration-color: #00d700; font-weight: bold\">                    &gt; health resources in education.  As for my favorite food styles, I enjoy</span>\n",
       "<span style=\"color: #00d700; text-decoration-color: #00d700; font-weight: bold\">                    &gt; traditional Norwegian cuisine because it reminds me of my childhood and the</span>\n",
       "<span style=\"color: #00d700; text-decoration-color: #00d700; font-weight: bold\">                    &gt; connection to nature. I appreciate fresh, local ingredients and the simplicity</span>\n",
       "<span style=\"color: #00d700; text-decoration-color: #00d700; font-weight: bold\">                    &gt; of the dishes. They often bring a sense of comfort and nostalgia for me.</span>\n",
       "</pre>\n"
      ],
      "text/plain": [
       "\u001b[1;4;38;5;40mEmil Bergstrom\u001b[0m\u001b[1;38;5;40m acts: \u001b[0m\u001b[1;38;5;40m[\u001b[0m\u001b[1;38;5;40mTALK\u001b[0m\u001b[1;38;5;40m]\u001b[0m\u001b[1;38;5;40m \u001b[0m\n",
       "\u001b[1;38;5;40m                    > Hello! I'm Emil Bergstrom, a high school teacher from Oslo, Norway. I\u001b[0m\n",
       "\u001b[1;38;5;40m                    > specialize in social studies and love creating engaging lessons for my\u001b[0m\n",
       "\u001b[1;38;5;40m                    > students. My top-\u001b[0m\u001b[1;38;5;40m10\u001b[0m\u001b[1;38;5;40m interests include: \u001b[0m\u001b[1;38;5;40m1\u001b[0m\u001b[1;38;5;40m. Hiking and exploring Norway's\u001b[0m\n",
       "\u001b[1;38;5;40m                    > national parks. \u001b[0m\u001b[1;38;5;40m2\u001b[0m\u001b[1;38;5;40m. Reading educational literature and psychology books. \u001b[0m\u001b[1;38;5;40m3\u001b[0m\u001b[1;38;5;40m.\u001b[0m\n",
       "\u001b[1;38;5;40m                    > Participating in community service and volunteer work. \u001b[0m\u001b[1;38;5;40m4\u001b[0m\u001b[1;38;5;40m. Spending time with\u001b[0m\n",
       "\u001b[1;38;5;40m                    > family and friends. \u001b[0m\u001b[1;38;5;40m5\u001b[0m\u001b[1;38;5;40m. Cooking traditional Norwegian dishes. \u001b[0m\u001b[1;38;5;40m6\u001b[0m\u001b[1;38;5;40m. Listening to\u001b[0m\n",
       "\u001b[1;38;5;40m                    > folk music and attending local concerts. \u001b[0m\u001b[1;38;5;40m7\u001b[0m\u001b[1;38;5;40m. Engaging in meaningful\u001b[0m\n",
       "\u001b[1;38;5;40m                    > conversations. \u001b[0m\u001b[1;38;5;40m8\u001b[0m\u001b[1;38;5;40m. Learning about different cultures and perspectives. \u001b[0m\u001b[1;38;5;40m9\u001b[0m\u001b[1;38;5;40m.\u001b[0m\n",
       "\u001b[1;38;5;40m                    > Practicing mindfulness and outdoor activities. \u001b[0m\u001b[1;38;5;40m10\u001b[0m\u001b[1;38;5;40m. Advocating for mental\u001b[0m\n",
       "\u001b[1;38;5;40m                    > health resources in education.  As for my favorite food styles, I enjoy\u001b[0m\n",
       "\u001b[1;38;5;40m                    > traditional Norwegian cuisine because it reminds me of my childhood and the\u001b[0m\n",
       "\u001b[1;38;5;40m                    > connection to nature. I appreciate fresh, local ingredients and the simplicity\u001b[0m\n",
       "\u001b[1;38;5;40m                    > of the dishes. They often bring a sense of comfort and nostalgia for me.\u001b[0m\n"
      ]
     },
     "metadata": {},
     "output_type": "display_data"
    },
    {
     "data": {
      "text/html": [
       "<pre style=\"margin:0px;;white-space:pre;overflow-x:auto;line-height:normal;font-family:Menlo,'DejaVu Sans Mono',consolas,'Courier New',monospace\"><span style=\"color: #00d700; text-decoration-color: #00d700; font-weight: bold; text-decoration: underline\">Henrik Berg</span><span style=\"color: #00d700; text-decoration-color: #00d700; font-weight: bold\"> acts: [TALK] </span>\n",
       "<span style=\"color: #00d700; text-decoration-color: #00d700; font-weight: bold\">                 &gt; Hello! My name is Henrik Berg, and I'm a </span><span style=\"color: #00d700; text-decoration-color: #00d700; font-weight: bold\">30</span><span style=\"color: #00d700; text-decoration-color: #00d700; font-weight: bold\">-year-old Norwegian currently living</span>\n",
       "<span style=\"color: #00d700; text-decoration-color: #00d700; font-weight: bold\">                 &gt; in Oslo. I have a background in culinary arts and a passion for cooking and</span>\n",
       "<span style=\"color: #00d700; text-decoration-color: #00d700; font-weight: bold\">                 &gt; baking. I enjoy exploring different cuisines and sharing meals with friends and</span>\n",
       "<span style=\"color: #00d700; text-decoration-color: #00d700; font-weight: bold\">                 &gt; family.   As for my top-</span><span style=\"color: #00d700; text-decoration-color: #00d700; font-weight: bold\">10</span><span style=\"color: #00d700; text-decoration-color: #00d700; font-weight: bold\"> interests, they include: </span><span style=\"color: #00d700; text-decoration-color: #00d700; font-weight: bold\">1</span><span style=\"color: #00d700; text-decoration-color: #00d700; font-weight: bold\">. Cooking and baking </span><span style=\"color: #00d700; text-decoration-color: #00d700; font-weight: bold\">2</span><span style=\"color: #00d700; text-decoration-color: #00d700; font-weight: bold\">.</span>\n",
       "<span style=\"color: #00d700; text-decoration-color: #00d700; font-weight: bold\">                 &gt; Exploring new cuisines </span><span style=\"color: #00d700; text-decoration-color: #00d700; font-weight: bold\">3</span><span style=\"color: #00d700; text-decoration-color: #00d700; font-weight: bold\">. Gardening </span><span style=\"color: #00d700; text-decoration-color: #00d700; font-weight: bold\">4</span><span style=\"color: #00d700; text-decoration-color: #00d700; font-weight: bold\">. Reading novels </span><span style=\"color: #00d700; text-decoration-color: #00d700; font-weight: bold\">5</span><span style=\"color: #00d700; text-decoration-color: #00d700; font-weight: bold\">. Volunteering in</span>\n",
       "<span style=\"color: #00d700; text-decoration-color: #00d700; font-weight: bold\">                 &gt; community kitchens </span><span style=\"color: #00d700; text-decoration-color: #00d700; font-weight: bold\">6</span><span style=\"color: #00d700; text-decoration-color: #00d700; font-weight: bold\">. Learning about food history </span><span style=\"color: #00d700; text-decoration-color: #00d700; font-weight: bold\">7</span><span style=\"color: #00d700; text-decoration-color: #00d700; font-weight: bold\">. Attending cooking classes </span><span style=\"color: #00d700; text-decoration-color: #00d700; font-weight: bold\">8</span><span style=\"color: #00d700; text-decoration-color: #00d700; font-weight: bold\">.</span>\n",
       "<span style=\"color: #00d700; text-decoration-color: #00d700; font-weight: bold\">                 &gt; Visiting local markets </span><span style=\"color: #00d700; text-decoration-color: #00d700; font-weight: bold\">9</span><span style=\"color: #00d700; text-decoration-color: #00d700; font-weight: bold\">. Experimenting with recipes </span><span style=\"color: #00d700; text-decoration-color: #00d700; font-weight: bold\">10</span><span style=\"color: #00d700; text-decoration-color: #00d700; font-weight: bold\">. Spending time with my</span>\n",
       "<span style=\"color: #00d700; text-decoration-color: #00d700; font-weight: bold\">                 &gt; children in the kitchen.  Regarding my favorite food styles, I particularly love</span>\n",
       "<span style=\"color: #00d700; text-decoration-color: #00d700; font-weight: bold\">                 &gt; traditional Asian dishes because they often incorporate fresh ingredients and</span>\n",
       "<span style=\"color: #00d700; text-decoration-color: #00d700; font-weight: bold\">                 &gt; bold flavors. I appreciate the cultural significance behind these dishes and</span>\n",
       "<span style=\"color: #00d700; text-decoration-color: #00d700; font-weight: bold\">                 &gt; enjoy the creativity involved in preparing them.   Now, to answer your question</span>\n",
       "<span style=\"color: #00d700; text-decoration-color: #00d700; font-weight: bold\">                 &gt; about spicy food: Yes, I do like spicy food! I find that it adds an exciting kick</span>\n",
       "<span style=\"color: #00d700; text-decoration-color: #00d700; font-weight: bold\">                 &gt; to dishes and enhances the overall flavor. It also reminds me of the diverse cu</span>\n",
       "<span style=\"color: #00d700; text-decoration-color: #00d700; font-weight: bold\">                 &gt; (...)</span>\n",
       "</pre>\n"
      ],
      "text/plain": [
       "\u001b[1;4;38;5;40mHenrik Berg\u001b[0m\u001b[1;38;5;40m acts: \u001b[0m\u001b[1;38;5;40m[\u001b[0m\u001b[1;38;5;40mTALK\u001b[0m\u001b[1;38;5;40m]\u001b[0m\u001b[1;38;5;40m \u001b[0m\n",
       "\u001b[1;38;5;40m                 > Hello! My name is Henrik Berg, and I'm a \u001b[0m\u001b[1;38;5;40m30\u001b[0m\u001b[1;38;5;40m-year-old Norwegian currently living\u001b[0m\n",
       "\u001b[1;38;5;40m                 > in Oslo. I have a background in culinary arts and a passion for cooking and\u001b[0m\n",
       "\u001b[1;38;5;40m                 > baking. I enjoy exploring different cuisines and sharing meals with friends and\u001b[0m\n",
       "\u001b[1;38;5;40m                 > family.   As for my top-\u001b[0m\u001b[1;38;5;40m10\u001b[0m\u001b[1;38;5;40m interests, they include: \u001b[0m\u001b[1;38;5;40m1\u001b[0m\u001b[1;38;5;40m. Cooking and baking \u001b[0m\u001b[1;38;5;40m2\u001b[0m\u001b[1;38;5;40m.\u001b[0m\n",
       "\u001b[1;38;5;40m                 > Exploring new cuisines \u001b[0m\u001b[1;38;5;40m3\u001b[0m\u001b[1;38;5;40m. Gardening \u001b[0m\u001b[1;38;5;40m4\u001b[0m\u001b[1;38;5;40m. Reading novels \u001b[0m\u001b[1;38;5;40m5\u001b[0m\u001b[1;38;5;40m. Volunteering in\u001b[0m\n",
       "\u001b[1;38;5;40m                 > community kitchens \u001b[0m\u001b[1;38;5;40m6\u001b[0m\u001b[1;38;5;40m. Learning about food history \u001b[0m\u001b[1;38;5;40m7\u001b[0m\u001b[1;38;5;40m. Attending cooking classes \u001b[0m\u001b[1;38;5;40m8\u001b[0m\u001b[1;38;5;40m.\u001b[0m\n",
       "\u001b[1;38;5;40m                 > Visiting local markets \u001b[0m\u001b[1;38;5;40m9\u001b[0m\u001b[1;38;5;40m. Experimenting with recipes \u001b[0m\u001b[1;38;5;40m10\u001b[0m\u001b[1;38;5;40m. Spending time with my\u001b[0m\n",
       "\u001b[1;38;5;40m                 > children in the kitchen.  Regarding my favorite food styles, I particularly love\u001b[0m\n",
       "\u001b[1;38;5;40m                 > traditional Asian dishes because they often incorporate fresh ingredients and\u001b[0m\n",
       "\u001b[1;38;5;40m                 > bold flavors. I appreciate the cultural significance behind these dishes and\u001b[0m\n",
       "\u001b[1;38;5;40m                 > enjoy the creativity involved in preparing them.   Now, to answer your question\u001b[0m\n",
       "\u001b[1;38;5;40m                 > about spicy food: Yes, I do like spicy food! I find that it adds an exciting kick\u001b[0m\n",
       "\u001b[1;38;5;40m                 > to dishes and enhances the overall flavor. It also reminds me of the diverse cu\u001b[0m\n",
       "\u001b[1;38;5;40m                 > \u001b[0m\u001b[1;38;5;40m(\u001b[0m\u001b[1;38;5;40m...\u001b[0m\u001b[1;38;5;40m)\u001b[0m\n"
      ]
     },
     "metadata": {},
     "output_type": "display_data"
    },
    {
     "data": {
      "text/html": [
       "<pre style=\"margin:0px;;white-space:pre;overflow-x:auto;line-height:normal;font-family:Menlo,'DejaVu Sans Mono',consolas,'Courier New',monospace\"><span style=\"color: #00d700; text-decoration-color: #00d700; font-weight: bold; text-decoration: underline\">Ingrid Lund</span><span style=\"color: #00d700; text-decoration-color: #00d700; font-weight: bold\"> acts: [TALK] </span>\n",
       "<span style=\"color: #00d700; text-decoration-color: #00d700; font-weight: bold\">                 &gt; Hello! I'm Ingrid Lund, a </span><span style=\"color: #00d700; text-decoration-color: #00d700; font-weight: bold\">45</span><span style=\"color: #00d700; text-decoration-color: #00d700; font-weight: bold\">-year-old financial consultant from Sweden. I run my</span>\n",
       "<span style=\"color: #00d700; text-decoration-color: #00d700; font-weight: bold\">                 &gt; own consultancy, helping small businesses with their financial planning and</span>\n",
       "<span style=\"color: #00d700; text-decoration-color: #00d700; font-weight: bold\">                 &gt; budgeting. I enjoy the flexibility of being self-employed, although it can be</span>\n",
       "<span style=\"color: #00d700; text-decoration-color: #00d700; font-weight: bold\">                 &gt; challenging at times.   As for my interests, here are my top </span><span style=\"color: #00d700; text-decoration-color: #00d700; font-weight: bold\">10</span><span style=\"color: #00d700; text-decoration-color: #00d700; font-weight: bold\">: </span><span style=\"color: #00d700; text-decoration-color: #00d700; font-weight: bold\">1</span><span style=\"color: #00d700; text-decoration-color: #00d700; font-weight: bold\">. Traveling to</span>\n",
       "<span style=\"color: #00d700; text-decoration-color: #00d700; font-weight: bold\">                 &gt; new countries and experiencing different cultures. </span><span style=\"color: #00d700; text-decoration-color: #00d700; font-weight: bold\">2</span><span style=\"color: #00d700; text-decoration-color: #00d700; font-weight: bold\">. Reading financial</span>\n",
       "<span style=\"color: #00d700; text-decoration-color: #00d700; font-weight: bold\">                 &gt; literature and self-help books. </span><span style=\"color: #00d700; text-decoration-color: #00d700; font-weight: bold\">3</span><span style=\"color: #00d700; text-decoration-color: #00d700; font-weight: bold\">. Gardening and spending time outdoors. </span><span style=\"color: #00d700; text-decoration-color: #00d700; font-weight: bold\">4</span><span style=\"color: #00d700; text-decoration-color: #00d700; font-weight: bold\">.</span>\n",
       "<span style=\"color: #00d700; text-decoration-color: #00d700; font-weight: bold\">                 &gt; Cooking traditional Swedish dishes. </span><span style=\"color: #00d700; text-decoration-color: #00d700; font-weight: bold\">5</span><span style=\"color: #00d700; text-decoration-color: #00d700; font-weight: bold\">. Attending local community events and</span>\n",
       "<span style=\"color: #00d700; text-decoration-color: #00d700; font-weight: bold\">                 &gt; markets. </span><span style=\"color: #00d700; text-decoration-color: #00d700; font-weight: bold\">6</span><span style=\"color: #00d700; text-decoration-color: #00d700; font-weight: bold\">. Volunteering at local charities. </span><span style=\"color: #00d700; text-decoration-color: #00d700; font-weight: bold\">7</span><span style=\"color: #00d700; text-decoration-color: #00d700; font-weight: bold\">. Learning about sustainable</span>\n",
       "<span style=\"color: #00d700; text-decoration-color: #00d700; font-weight: bold\">                 &gt; business practices. </span><span style=\"color: #00d700; text-decoration-color: #00d700; font-weight: bold\">8</span><span style=\"color: #00d700; text-decoration-color: #00d700; font-weight: bold\">. Spending quiet evenings with a good book. </span><span style=\"color: #00d700; text-decoration-color: #00d700; font-weight: bold\">9</span><span style=\"color: #00d700; text-decoration-color: #00d700; font-weight: bold\">. Exploring</span>\n",
       "<span style=\"color: #00d700; text-decoration-color: #00d700; font-weight: bold\">                 &gt; nature reserves and hiking. </span><span style=\"color: #00d700; text-decoration-color: #00d700; font-weight: bold\">10</span><span style=\"color: #00d700; text-decoration-color: #00d700; font-weight: bold\">. Hosting game nights with friends.  Regarding food</span>\n",
       "<span style=\"color: #00d700; text-decoration-color: #00d700; font-weight: bold\">                 &gt; styles, I love traditional Swedish cuisine because it reminds me of my childhood</span>\n",
       "<span style=\"color: #00d700; text-decoration-color: #00d700; font-weight: bold\">                 &gt; and brings a sense of comfort. I also enjoy experimenting with different</span>\n",
       "<span style=\"color: #00d700; text-decoration-color: #00d700; font-weight: bold\">                 &gt; international dishes, as it allows me to explore new flavors and cooking</span>\n",
       "<span style=\"color: #00d700; text-decoration-color: #00d700; font-weight: bold\">                 &gt; techniques.   I hope t (...)</span>\n",
       "</pre>\n"
      ],
      "text/plain": [
       "\u001b[1;4;38;5;40mIngrid Lund\u001b[0m\u001b[1;38;5;40m acts: \u001b[0m\u001b[1;38;5;40m[\u001b[0m\u001b[1;38;5;40mTALK\u001b[0m\u001b[1;38;5;40m]\u001b[0m\u001b[1;38;5;40m \u001b[0m\n",
       "\u001b[1;38;5;40m                 > Hello! I'm Ingrid Lund, a \u001b[0m\u001b[1;38;5;40m45\u001b[0m\u001b[1;38;5;40m-year-old financial consultant from Sweden. I run my\u001b[0m\n",
       "\u001b[1;38;5;40m                 > own consultancy, helping small businesses with their financial planning and\u001b[0m\n",
       "\u001b[1;38;5;40m                 > budgeting. I enjoy the flexibility of being self-employed, although it can be\u001b[0m\n",
       "\u001b[1;38;5;40m                 > challenging at times.   As for my interests, here are my top \u001b[0m\u001b[1;38;5;40m10\u001b[0m\u001b[1;38;5;40m: \u001b[0m\u001b[1;38;5;40m1\u001b[0m\u001b[1;38;5;40m. Traveling to\u001b[0m\n",
       "\u001b[1;38;5;40m                 > new countries and experiencing different cultures. \u001b[0m\u001b[1;38;5;40m2\u001b[0m\u001b[1;38;5;40m. Reading financial\u001b[0m\n",
       "\u001b[1;38;5;40m                 > literature and self-help books. \u001b[0m\u001b[1;38;5;40m3\u001b[0m\u001b[1;38;5;40m. Gardening and spending time outdoors. \u001b[0m\u001b[1;38;5;40m4\u001b[0m\u001b[1;38;5;40m.\u001b[0m\n",
       "\u001b[1;38;5;40m                 > Cooking traditional Swedish dishes. \u001b[0m\u001b[1;38;5;40m5\u001b[0m\u001b[1;38;5;40m. Attending local community events and\u001b[0m\n",
       "\u001b[1;38;5;40m                 > markets. \u001b[0m\u001b[1;38;5;40m6\u001b[0m\u001b[1;38;5;40m. Volunteering at local charities. \u001b[0m\u001b[1;38;5;40m7\u001b[0m\u001b[1;38;5;40m. Learning about sustainable\u001b[0m\n",
       "\u001b[1;38;5;40m                 > business practices. \u001b[0m\u001b[1;38;5;40m8\u001b[0m\u001b[1;38;5;40m. Spending quiet evenings with a good book. \u001b[0m\u001b[1;38;5;40m9\u001b[0m\u001b[1;38;5;40m. Exploring\u001b[0m\n",
       "\u001b[1;38;5;40m                 > nature reserves and hiking. \u001b[0m\u001b[1;38;5;40m10\u001b[0m\u001b[1;38;5;40m. Hosting game nights with friends.  Regarding food\u001b[0m\n",
       "\u001b[1;38;5;40m                 > styles, I love traditional Swedish cuisine because it reminds me of my childhood\u001b[0m\n",
       "\u001b[1;38;5;40m                 > and brings a sense of comfort. I also enjoy experimenting with different\u001b[0m\n",
       "\u001b[1;38;5;40m                 > international dishes, as it allows me to explore new flavors and cooking\u001b[0m\n",
       "\u001b[1;38;5;40m                 > techniques.   I hope t \u001b[0m\u001b[1;38;5;40m(\u001b[0m\u001b[1;38;5;40m...\u001b[0m\u001b[1;38;5;40m)\u001b[0m\n"
      ]
     },
     "metadata": {},
     "output_type": "display_data"
    },
    {
     "data": {
      "text/html": [
       "<pre style=\"margin:0px;;white-space:pre;overflow-x:auto;line-height:normal;font-family:Menlo,'DejaVu Sans Mono',consolas,'Courier New',monospace\"><span style=\"color: #00d700; text-decoration-color: #00d700; font-weight: bold; text-decoration: underline\">Henrik Eriksen</span><span style=\"color: #00d700; text-decoration-color: #00d700; font-weight: bold\"> acts: [TALK] </span>\n",
       "<span style=\"color: #00d700; text-decoration-color: #00d700; font-weight: bold\">                    &gt; Hello! I'm Henrik Eriksen, a high school teacher from Norway. I specialize in</span>\n",
       "<span style=\"color: #00d700; text-decoration-color: #00d700; font-weight: bold\">                    &gt; social studies and love creating engaging lessons for my students. My top-</span><span style=\"color: #00d700; text-decoration-color: #00d700; font-weight: bold\">10</span>\n",
       "<span style=\"color: #00d700; text-decoration-color: #00d700; font-weight: bold\">                    &gt; interests include: </span><span style=\"color: #00d700; text-decoration-color: #00d700; font-weight: bold\">1</span><span style=\"color: #00d700; text-decoration-color: #00d700; font-weight: bold\">. Hiking and exploring Norway's national parks. </span><span style=\"color: #00d700; text-decoration-color: #00d700; font-weight: bold\">2</span><span style=\"color: #00d700; text-decoration-color: #00d700; font-weight: bold\">. Reading</span>\n",
       "<span style=\"color: #00d700; text-decoration-color: #00d700; font-weight: bold\">                    &gt; educational literature and psychology books. </span><span style=\"color: #00d700; text-decoration-color: #00d700; font-weight: bold\">3</span><span style=\"color: #00d700; text-decoration-color: #00d700; font-weight: bold\">. Participating in community</span>\n",
       "<span style=\"color: #00d700; text-decoration-color: #00d700; font-weight: bold\">                    &gt; service and volunteer work. </span><span style=\"color: #00d700; text-decoration-color: #00d700; font-weight: bold\">4</span><span style=\"color: #00d700; text-decoration-color: #00d700; font-weight: bold\">. Cooking traditional Norwegian dishes. </span><span style=\"color: #00d700; text-decoration-color: #00d700; font-weight: bold\">5</span><span style=\"color: #00d700; text-decoration-color: #00d700; font-weight: bold\">.</span>\n",
       "<span style=\"color: #00d700; text-decoration-color: #00d700; font-weight: bold\">                    &gt; Listening to folk music and attending local concerts. </span><span style=\"color: #00d700; text-decoration-color: #00d700; font-weight: bold\">6</span><span style=\"color: #00d700; text-decoration-color: #00d700; font-weight: bold\">. Engaging in</span>\n",
       "<span style=\"color: #00d700; text-decoration-color: #00d700; font-weight: bold\">                    &gt; meaningful conversations. </span><span style=\"color: #00d700; text-decoration-color: #00d700; font-weight: bold\">7</span><span style=\"color: #00d700; text-decoration-color: #00d700; font-weight: bold\">. Spending time with family and friends outdoors.</span>\n",
       "<span style=\"color: #00d700; text-decoration-color: #00d700; font-weight: bold\">                    &gt; </span><span style=\"color: #00d700; text-decoration-color: #00d700; font-weight: bold\">8</span><span style=\"color: #00d700; text-decoration-color: #00d700; font-weight: bold\">. Learning about different cultures through travel. </span><span style=\"color: #00d700; text-decoration-color: #00d700; font-weight: bold\">9</span><span style=\"color: #00d700; text-decoration-color: #00d700; font-weight: bold\">. Practicing mindfulness</span>\n",
       "<span style=\"color: #00d700; text-decoration-color: #00d700; font-weight: bold\">                    &gt; and meditation. </span><span style=\"color: #00d700; text-decoration-color: #00d700; font-weight: bold\">10</span><span style=\"color: #00d700; text-decoration-color: #00d700; font-weight: bold\">. Advocating for mental health awareness in education.  As</span>\n",
       "<span style=\"color: #00d700; text-decoration-color: #00d700; font-weight: bold\">                    &gt; for my favorite food styles, I enjoy traditional Norwegian cuisine because it</span>\n",
       "<span style=\"color: #00d700; text-decoration-color: #00d700; font-weight: bold\">                    &gt; connects me to my roots and the natural ingredients reflect the beauty of my</span>\n",
       "<span style=\"color: #00d700; text-decoration-color: #00d700; font-weight: bold\">                    &gt; country. I also appreciate Mediterranean food for its fresh flavors and</span>\n",
       "<span style=\"color: #00d700; text-decoration-color: #00d700; font-weight: bold\">                    &gt; healthy options.   Regarding spicy food, I would say </span><span style=\"color: #00d700; text-decoration-color: #00d700; font-weight: bold\">\"No\"</span><span style=\"color: #00d700; text-decoration-color: #00d700; font-weight: bold\">. I prefer milder</span>\n",
       "<span style=\"color: #00d700; text-decoration-color: #00d700; font-weight: bold\">                    &gt; flavors as they align more with my tast (...)</span>\n",
       "</pre>\n"
      ],
      "text/plain": [
       "\u001b[1;4;38;5;40mHenrik Eriksen\u001b[0m\u001b[1;38;5;40m acts: \u001b[0m\u001b[1;38;5;40m[\u001b[0m\u001b[1;38;5;40mTALK\u001b[0m\u001b[1;38;5;40m]\u001b[0m\u001b[1;38;5;40m \u001b[0m\n",
       "\u001b[1;38;5;40m                    > Hello! I'm Henrik Eriksen, a high school teacher from Norway. I specialize in\u001b[0m\n",
       "\u001b[1;38;5;40m                    > social studies and love creating engaging lessons for my students. My top-\u001b[0m\u001b[1;38;5;40m10\u001b[0m\n",
       "\u001b[1;38;5;40m                    > interests include: \u001b[0m\u001b[1;38;5;40m1\u001b[0m\u001b[1;38;5;40m. Hiking and exploring Norway's national parks. \u001b[0m\u001b[1;38;5;40m2\u001b[0m\u001b[1;38;5;40m. Reading\u001b[0m\n",
       "\u001b[1;38;5;40m                    > educational literature and psychology books. \u001b[0m\u001b[1;38;5;40m3\u001b[0m\u001b[1;38;5;40m. Participating in community\u001b[0m\n",
       "\u001b[1;38;5;40m                    > service and volunteer work. \u001b[0m\u001b[1;38;5;40m4\u001b[0m\u001b[1;38;5;40m. Cooking traditional Norwegian dishes. \u001b[0m\u001b[1;38;5;40m5\u001b[0m\u001b[1;38;5;40m.\u001b[0m\n",
       "\u001b[1;38;5;40m                    > Listening to folk music and attending local concerts. \u001b[0m\u001b[1;38;5;40m6\u001b[0m\u001b[1;38;5;40m. Engaging in\u001b[0m\n",
       "\u001b[1;38;5;40m                    > meaningful conversations. \u001b[0m\u001b[1;38;5;40m7\u001b[0m\u001b[1;38;5;40m. Spending time with family and friends outdoors.\u001b[0m\n",
       "\u001b[1;38;5;40m                    > \u001b[0m\u001b[1;38;5;40m8\u001b[0m\u001b[1;38;5;40m. Learning about different cultures through travel. \u001b[0m\u001b[1;38;5;40m9\u001b[0m\u001b[1;38;5;40m. Practicing mindfulness\u001b[0m\n",
       "\u001b[1;38;5;40m                    > and meditation. \u001b[0m\u001b[1;38;5;40m10\u001b[0m\u001b[1;38;5;40m. Advocating for mental health awareness in education.  As\u001b[0m\n",
       "\u001b[1;38;5;40m                    > for my favorite food styles, I enjoy traditional Norwegian cuisine because it\u001b[0m\n",
       "\u001b[1;38;5;40m                    > connects me to my roots and the natural ingredients reflect the beauty of my\u001b[0m\n",
       "\u001b[1;38;5;40m                    > country. I also appreciate Mediterranean food for its fresh flavors and\u001b[0m\n",
       "\u001b[1;38;5;40m                    > healthy options.   Regarding spicy food, I would say \u001b[0m\u001b[1;38;5;40m\"No\"\u001b[0m\u001b[1;38;5;40m. I prefer milder\u001b[0m\n",
       "\u001b[1;38;5;40m                    > flavors as they align more with my tast \u001b[0m\u001b[1;38;5;40m(\u001b[0m\u001b[1;38;5;40m...\u001b[0m\u001b[1;38;5;40m)\u001b[0m\n"
      ]
     },
     "metadata": {},
     "output_type": "display_data"
    },
    {
     "data": {
      "text/html": [
       "<pre style=\"margin:0px;;white-space:pre;overflow-x:auto;line-height:normal;font-family:Menlo,'DejaVu Sans Mono',consolas,'Courier New',monospace\"><span style=\"color: #00d700; text-decoration-color: #00d700; font-weight: bold; text-decoration: underline\">Astrid Johansen</span><span style=\"color: #00d700; text-decoration-color: #00d700; font-weight: bold\"> acts: [TALK] </span>\n",
       "<span style=\"color: #00d700; text-decoration-color: #00d700; font-weight: bold\">                     &gt; Hello! I'm Astrid Johansen, a </span><span style=\"color: #00d700; text-decoration-color: #00d700; font-weight: bold\">25</span><span style=\"color: #00d700; text-decoration-color: #00d700; font-weight: bold\">-year-old nurse from Norway. I work at Oslo</span>\n",
       "<span style=\"color: #00d700; text-decoration-color: #00d700; font-weight: bold\">                     &gt; University Hospital in the emergency department, where I provide immediate</span>\n",
       "<span style=\"color: #00d700; text-decoration-color: #00d700; font-weight: bold\">                     &gt; care to patients and collaborate with doctors. I'm passionate about patient</span>\n",
       "<span style=\"color: #00d700; text-decoration-color: #00d700; font-weight: bold\">                     &gt; advocacy and strive to provide compassionate care.   As for my interests,</span>\n",
       "<span style=\"color: #00d700; text-decoration-color: #00d700; font-weight: bold\">                     &gt; here are my top </span><span style=\"color: #00d700; text-decoration-color: #00d700; font-weight: bold\">10</span><span style=\"color: #00d700; text-decoration-color: #00d700; font-weight: bold\">: </span><span style=\"color: #00d700; text-decoration-color: #00d700; font-weight: bold\">1</span><span style=\"color: #00d700; text-decoration-color: #00d700; font-weight: bold\">. Traveling to new countries and experiencing different</span>\n",
       "<span style=\"color: #00d700; text-decoration-color: #00d700; font-weight: bold\">                     &gt; cultures. </span><span style=\"color: #00d700; text-decoration-color: #00d700; font-weight: bold\">2</span><span style=\"color: #00d700; text-decoration-color: #00d700; font-weight: bold\">. Volunteering for local charities focused on health and wellness.</span>\n",
       "<span style=\"color: #00d700; text-decoration-color: #00d700; font-weight: bold\">                     &gt; </span><span style=\"color: #00d700; text-decoration-color: #00d700; font-weight: bold\">3</span><span style=\"color: #00d700; text-decoration-color: #00d700; font-weight: bold\">. Cooking and trying out new recipes, especially healthy meals. </span><span style=\"color: #00d700; text-decoration-color: #00d700; font-weight: bold\">4</span><span style=\"color: #00d700; text-decoration-color: #00d700; font-weight: bold\">. Nature</span>\n",
       "<span style=\"color: #00d700; text-decoration-color: #00d700; font-weight: bold\">                     &gt; walks and hiking in the Norwegian fjords. </span><span style=\"color: #00d700; text-decoration-color: #00d700; font-weight: bold\">5</span><span style=\"color: #00d700; text-decoration-color: #00d700; font-weight: bold\">. Reading fiction, particularly</span>\n",
       "<span style=\"color: #00d700; text-decoration-color: #00d700; font-weight: bold\">                     &gt; contemporary novels. </span><span style=\"color: #00d700; text-decoration-color: #00d700; font-weight: bold\">6</span><span style=\"color: #00d700; text-decoration-color: #00d700; font-weight: bold\">. Spending time with friends and family, especially</span>\n",
       "<span style=\"color: #00d700; text-decoration-color: #00d700; font-weight: bold\">                     &gt; during holidays. </span><span style=\"color: #00d700; text-decoration-color: #00d700; font-weight: bold\">7</span><span style=\"color: #00d700; text-decoration-color: #00d700; font-weight: bold\">. Learning about mental health care and improving services.</span>\n",
       "<span style=\"color: #00d700; text-decoration-color: #00d700; font-weight: bold\">                     &gt; </span><span style=\"color: #00d700; text-decoration-color: #00d700; font-weight: bold\">8</span><span style=\"color: #00d700; text-decoration-color: #00d700; font-weight: bold\">. Engaging in community health initiatives. </span><span style=\"color: #00d700; text-decoration-color: #00d700; font-weight: bold\">9</span><span style=\"color: #00d700; text-decoration-color: #00d700; font-weight: bold\">. Exploring local hiking</span>\n",
       "<span style=\"color: #00d700; text-decoration-color: #00d700; font-weight: bold\">                     &gt; trails. </span><span style=\"color: #00d700; text-decoration-color: #00d700; font-weight: bold\">10</span><span style=\"color: #00d700; text-decoration-color: #00d700; font-weight: bold\">. Journaling to reflect on my experiences and emotions.  Regarding</span>\n",
       "<span style=\"color: #00d700; text-decoration-color: #00d700; font-weight: bold\">                     &gt; food styles, I enjoy healthy and balanced meals, particularly Mediterranean</span>\n",
       "<span style=\"color: #00d700; text-decoration-color: #00d700; font-weight: bold\">                     &gt; and Asian cuisines. I appreciate these sty (...)</span>\n",
       "</pre>\n"
      ],
      "text/plain": [
       "\u001b[1;4;38;5;40mAstrid Johansen\u001b[0m\u001b[1;38;5;40m acts: \u001b[0m\u001b[1;38;5;40m[\u001b[0m\u001b[1;38;5;40mTALK\u001b[0m\u001b[1;38;5;40m]\u001b[0m\u001b[1;38;5;40m \u001b[0m\n",
       "\u001b[1;38;5;40m                     > Hello! I'm Astrid Johansen, a \u001b[0m\u001b[1;38;5;40m25\u001b[0m\u001b[1;38;5;40m-year-old nurse from Norway. I work at Oslo\u001b[0m\n",
       "\u001b[1;38;5;40m                     > University Hospital in the emergency department, where I provide immediate\u001b[0m\n",
       "\u001b[1;38;5;40m                     > care to patients and collaborate with doctors. I'm passionate about patient\u001b[0m\n",
       "\u001b[1;38;5;40m                     > advocacy and strive to provide compassionate care.   As for my interests,\u001b[0m\n",
       "\u001b[1;38;5;40m                     > here are my top \u001b[0m\u001b[1;38;5;40m10\u001b[0m\u001b[1;38;5;40m: \u001b[0m\u001b[1;38;5;40m1\u001b[0m\u001b[1;38;5;40m. Traveling to new countries and experiencing different\u001b[0m\n",
       "\u001b[1;38;5;40m                     > cultures. \u001b[0m\u001b[1;38;5;40m2\u001b[0m\u001b[1;38;5;40m. Volunteering for local charities focused on health and wellness.\u001b[0m\n",
       "\u001b[1;38;5;40m                     > \u001b[0m\u001b[1;38;5;40m3\u001b[0m\u001b[1;38;5;40m. Cooking and trying out new recipes, especially healthy meals. \u001b[0m\u001b[1;38;5;40m4\u001b[0m\u001b[1;38;5;40m. Nature\u001b[0m\n",
       "\u001b[1;38;5;40m                     > walks and hiking in the Norwegian fjords. \u001b[0m\u001b[1;38;5;40m5\u001b[0m\u001b[1;38;5;40m. Reading fiction, particularly\u001b[0m\n",
       "\u001b[1;38;5;40m                     > contemporary novels. \u001b[0m\u001b[1;38;5;40m6\u001b[0m\u001b[1;38;5;40m. Spending time with friends and family, especially\u001b[0m\n",
       "\u001b[1;38;5;40m                     > during holidays. \u001b[0m\u001b[1;38;5;40m7\u001b[0m\u001b[1;38;5;40m. Learning about mental health care and improving services.\u001b[0m\n",
       "\u001b[1;38;5;40m                     > \u001b[0m\u001b[1;38;5;40m8\u001b[0m\u001b[1;38;5;40m. Engaging in community health initiatives. \u001b[0m\u001b[1;38;5;40m9\u001b[0m\u001b[1;38;5;40m. Exploring local hiking\u001b[0m\n",
       "\u001b[1;38;5;40m                     > trails. \u001b[0m\u001b[1;38;5;40m10\u001b[0m\u001b[1;38;5;40m. Journaling to reflect on my experiences and emotions.  Regarding\u001b[0m\n",
       "\u001b[1;38;5;40m                     > food styles, I enjoy healthy and balanced meals, particularly Mediterranean\u001b[0m\n",
       "\u001b[1;38;5;40m                     > and Asian cuisines. I appreciate these sty \u001b[0m\u001b[1;38;5;40m(\u001b[0m\u001b[1;38;5;40m...\u001b[0m\u001b[1;38;5;40m)\u001b[0m\n"
      ]
     },
     "metadata": {},
     "output_type": "display_data"
    },
    {
     "data": {
      "text/html": [
       "<pre style=\"margin:0px;;white-space:pre;overflow-x:auto;line-height:normal;font-family:Menlo,'DejaVu Sans Mono',consolas,'Courier New',monospace\"><span style=\"color: #00d700; text-decoration-color: #00d700; font-weight: bold; text-decoration: underline\">Emil Knudsen</span><span style=\"color: #00d700; text-decoration-color: #00d700; font-weight: bold\"> acts: [TALK] </span>\n",
       "<span style=\"color: #00d700; text-decoration-color: #00d700; font-weight: bold\">                  &gt; Hello! I'm Emil Knudsen, a </span><span style=\"color: #00d700; text-decoration-color: #00d700; font-weight: bold\">28</span><span style=\"color: #00d700; text-decoration-color: #00d700; font-weight: bold\">-year-old from Norway. Currently, I'm unemployed</span>\n",
       "<span style=\"color: #00d700; text-decoration-color: #00d700; font-weight: bold\">                  &gt; and actively seeking new job opportunities. I have a background in service and</span>\n",
       "<span style=\"color: #00d700; text-decoration-color: #00d700; font-weight: bold\">                  &gt; retail management, and I enjoy cooking and baking in my free time. My top</span>\n",
       "<span style=\"color: #00d700; text-decoration-color: #00d700; font-weight: bold\">                  &gt; interests include: </span><span style=\"color: #00d700; text-decoration-color: #00d700; font-weight: bold\">1</span><span style=\"color: #00d700; text-decoration-color: #00d700; font-weight: bold\">. Cooking and baking </span><span style=\"color: #00d700; text-decoration-color: #00d700; font-weight: bold\">2</span><span style=\"color: #00d700; text-decoration-color: #00d700; font-weight: bold\">. Exploring new recipes </span><span style=\"color: #00d700; text-decoration-color: #00d700; font-weight: bold\">3</span><span style=\"color: #00d700; text-decoration-color: #00d700; font-weight: bold\">. Watching</span>\n",
       "<span style=\"color: #00d700; text-decoration-color: #00d700; font-weight: bold\">                  &gt; cooking shows </span><span style=\"color: #00d700; text-decoration-color: #00d700; font-weight: bold\">4</span><span style=\"color: #00d700; text-decoration-color: #00d700; font-weight: bold\">. Gardening </span><span style=\"color: #00d700; text-decoration-color: #00d700; font-weight: bold\">5</span><span style=\"color: #00d700; text-decoration-color: #00d700; font-weight: bold\">. Reading fiction </span><span style=\"color: #00d700; text-decoration-color: #00d700; font-weight: bold\">6</span><span style=\"color: #00d700; text-decoration-color: #00d700; font-weight: bold\">. Spending time in nature </span><span style=\"color: #00d700; text-decoration-color: #00d700; font-weight: bold\">7</span><span style=\"color: #00d700; text-decoration-color: #00d700; font-weight: bold\">.</span>\n",
       "<span style=\"color: #00d700; text-decoration-color: #00d700; font-weight: bold\">                  &gt; Trying out new comfort food </span><span style=\"color: #00d700; text-decoration-color: #00d700; font-weight: bold\">8</span><span style=\"color: #00d700; text-decoration-color: #00d700; font-weight: bold\">. Visiting local markets </span><span style=\"color: #00d700; text-decoration-color: #00d700; font-weight: bold\">9</span><span style=\"color: #00d700; text-decoration-color: #00d700; font-weight: bold\">. Spending time with my</span>\n",
       "<span style=\"color: #00d700; text-decoration-color: #00d700; font-weight: bold\">                  &gt; cat, Miso </span><span style=\"color: #00d700; text-decoration-color: #00d700; font-weight: bold\">10</span><span style=\"color: #00d700; text-decoration-color: #00d700; font-weight: bold\">. Connecting with friends over coffee.  As for my favorite food</span>\n",
       "<span style=\"color: #00d700; text-decoration-color: #00d700; font-weight: bold\">                  &gt; styles, I love comfort food, especially baked goods, because they remind me of</span>\n",
       "<span style=\"color: #00d700; text-decoration-color: #00d700; font-weight: bold\">                  &gt; home and bring a sense of warmth and happiness. I also enjoy experimenting with</span>\n",
       "<span style=\"color: #00d700; text-decoration-color: #00d700; font-weight: bold\">                  &gt; different flavors and ingredients in my cooking.   Regarding spicy food, I would</span>\n",
       "<span style=\"color: #00d700; text-decoration-color: #00d700; font-weight: bold\">                  &gt; say </span><span style=\"color: #00d700; text-decoration-color: #00d700; font-weight: bold\">\"No\"</span><span style=\"color: #00d700; text-decoration-color: #00d700; font-weight: bold\">. I tend to prefer milder flavors because I find spicy food overwhelming</span>\n",
       "<span style=\"color: #00d700; text-decoration-color: #00d700; font-weight: bold\">                  &gt; and it can sometimes upset my stomach. I enjoy the taste of food without the</span>\n",
       "<span style=\"color: #00d700; text-decoration-color: #00d700; font-weight: bold\">                  &gt; heat, as it allows me to appreciate the flavors more fully.</span>\n",
       "</pre>\n"
      ],
      "text/plain": [
       "\u001b[1;4;38;5;40mEmil Knudsen\u001b[0m\u001b[1;38;5;40m acts: \u001b[0m\u001b[1;38;5;40m[\u001b[0m\u001b[1;38;5;40mTALK\u001b[0m\u001b[1;38;5;40m]\u001b[0m\u001b[1;38;5;40m \u001b[0m\n",
       "\u001b[1;38;5;40m                  > Hello! I'm Emil Knudsen, a \u001b[0m\u001b[1;38;5;40m28\u001b[0m\u001b[1;38;5;40m-year-old from Norway. Currently, I'm unemployed\u001b[0m\n",
       "\u001b[1;38;5;40m                  > and actively seeking new job opportunities. I have a background in service and\u001b[0m\n",
       "\u001b[1;38;5;40m                  > retail management, and I enjoy cooking and baking in my free time. My top\u001b[0m\n",
       "\u001b[1;38;5;40m                  > interests include: \u001b[0m\u001b[1;38;5;40m1\u001b[0m\u001b[1;38;5;40m. Cooking and baking \u001b[0m\u001b[1;38;5;40m2\u001b[0m\u001b[1;38;5;40m. Exploring new recipes \u001b[0m\u001b[1;38;5;40m3\u001b[0m\u001b[1;38;5;40m. Watching\u001b[0m\n",
       "\u001b[1;38;5;40m                  > cooking shows \u001b[0m\u001b[1;38;5;40m4\u001b[0m\u001b[1;38;5;40m. Gardening \u001b[0m\u001b[1;38;5;40m5\u001b[0m\u001b[1;38;5;40m. Reading fiction \u001b[0m\u001b[1;38;5;40m6\u001b[0m\u001b[1;38;5;40m. Spending time in nature \u001b[0m\u001b[1;38;5;40m7\u001b[0m\u001b[1;38;5;40m.\u001b[0m\n",
       "\u001b[1;38;5;40m                  > Trying out new comfort food \u001b[0m\u001b[1;38;5;40m8\u001b[0m\u001b[1;38;5;40m. Visiting local markets \u001b[0m\u001b[1;38;5;40m9\u001b[0m\u001b[1;38;5;40m. Spending time with my\u001b[0m\n",
       "\u001b[1;38;5;40m                  > cat, Miso \u001b[0m\u001b[1;38;5;40m10\u001b[0m\u001b[1;38;5;40m. Connecting with friends over coffee.  As for my favorite food\u001b[0m\n",
       "\u001b[1;38;5;40m                  > styles, I love comfort food, especially baked goods, because they remind me of\u001b[0m\n",
       "\u001b[1;38;5;40m                  > home and bring a sense of warmth and happiness. I also enjoy experimenting with\u001b[0m\n",
       "\u001b[1;38;5;40m                  > different flavors and ingredients in my cooking.   Regarding spicy food, I would\u001b[0m\n",
       "\u001b[1;38;5;40m                  > say \u001b[0m\u001b[1;38;5;40m\"No\"\u001b[0m\u001b[1;38;5;40m. I tend to prefer milder flavors because I find spicy food overwhelming\u001b[0m\n",
       "\u001b[1;38;5;40m                  > and it can sometimes upset my stomach. I enjoy the taste of food without the\u001b[0m\n",
       "\u001b[1;38;5;40m                  > heat, as it allows me to appreciate the flavors more fully.\u001b[0m\n"
      ]
     },
     "metadata": {},
     "output_type": "display_data"
    },
    {
     "data": {
      "text/html": [
       "<pre style=\"margin:0px;;white-space:pre;overflow-x:auto;line-height:normal;font-family:Menlo,'DejaVu Sans Mono',consolas,'Courier New',monospace\"><span style=\"color: #00d700; text-decoration-color: #00d700; font-weight: bold; text-decoration: underline\">Astrid Nilsen</span><span style=\"color: #00d700; text-decoration-color: #00d700; font-weight: bold\"> acts: [TALK] </span>\n",
       "<span style=\"color: #00d700; text-decoration-color: #00d700; font-weight: bold\">                   &gt; Hi! I'm Astrid Nilsen, a </span><span style=\"color: #00d700; text-decoration-color: #00d700; font-weight: bold\">22</span><span style=\"color: #00d700; text-decoration-color: #00d700; font-weight: bold\">-year-old aspiring artist from Oslo, Norway. I'm</span>\n",
       "<span style=\"color: #00d700; text-decoration-color: #00d700; font-weight: bold\">                   &gt; passionate about music and often perform at local open mic nights. I love</span>\n",
       "<span style=\"color: #00d700; text-decoration-color: #00d700; font-weight: bold\">                   &gt; collaborating with other artists and exploring different creative avenues.   As</span>\n",
       "<span style=\"color: #00d700; text-decoration-color: #00d700; font-weight: bold\">                   &gt; for my top-</span><span style=\"color: #00d700; text-decoration-color: #00d700; font-weight: bold\">10</span><span style=\"color: #00d700; text-decoration-color: #00d700; font-weight: bold\"> interests, they include: </span><span style=\"color: #00d700; text-decoration-color: #00d700; font-weight: bold\">1</span><span style=\"color: #00d700; text-decoration-color: #00d700; font-weight: bold\">. Music, especially indie and folk</span>\n",
       "<span style=\"color: #00d700; text-decoration-color: #00d700; font-weight: bold\">                   &gt; genres. </span><span style=\"color: #00d700; text-decoration-color: #00d700; font-weight: bold\">2</span><span style=\"color: #00d700; text-decoration-color: #00d700; font-weight: bold\">. Attending cultural events like art exhibitions and local festivals.</span>\n",
       "<span style=\"color: #00d700; text-decoration-color: #00d700; font-weight: bold\">                   &gt; </span><span style=\"color: #00d700; text-decoration-color: #00d700; font-weight: bold\">3</span><span style=\"color: #00d700; text-decoration-color: #00d700; font-weight: bold\">. Exploring nature for inspiration. </span><span style=\"color: #00d700; text-decoration-color: #00d700; font-weight: bold\">4</span><span style=\"color: #00d700; text-decoration-color: #00d700; font-weight: bold\">. Writing lyrics and poetry. </span><span style=\"color: #00d700; text-decoration-color: #00d700; font-weight: bold\">5</span><span style=\"color: #00d700; text-decoration-color: #00d700; font-weight: bold\">. Playing</span>\n",
       "<span style=\"color: #00d700; text-decoration-color: #00d700; font-weight: bold\">                   &gt; the guitar. </span><span style=\"color: #00d700; text-decoration-color: #00d700; font-weight: bold\">6</span><span style=\"color: #00d700; text-decoration-color: #00d700; font-weight: bold\">. Spending time with friends at cozy cafes. </span><span style=\"color: #00d700; text-decoration-color: #00d700; font-weight: bold\">7</span><span style=\"color: #00d700; text-decoration-color: #00d700; font-weight: bold\">. Listening to vinyl</span>\n",
       "<span style=\"color: #00d700; text-decoration-color: #00d700; font-weight: bold\">                   &gt; records. </span><span style=\"color: #00d700; text-decoration-color: #00d700; font-weight: bold\">8</span><span style=\"color: #00d700; text-decoration-color: #00d700; font-weight: bold\">. Volunteering at local shelters. </span><span style=\"color: #00d700; text-decoration-color: #00d700; font-weight: bold\">9</span><span style=\"color: #00d700; text-decoration-color: #00d700; font-weight: bold\">. Engaging in online communities</span>\n",
       "<span style=\"color: #00d700; text-decoration-color: #00d700; font-weight: bold\">                   &gt; related to art. </span><span style=\"color: #00d700; text-decoration-color: #00d700; font-weight: bold\">10</span><span style=\"color: #00d700; text-decoration-color: #00d700; font-weight: bold\">. Traveling to experience different cultures and music</span>\n",
       "<span style=\"color: #00d700; text-decoration-color: #00d700; font-weight: bold\">                   &gt; scenes.  Regarding food, I enjoy a variety of styles, but I particularly love</span>\n",
       "<span style=\"color: #00d700; text-decoration-color: #00d700; font-weight: bold\">                   &gt; comfort food like pasta and pizza because they remind me of home and are often</span>\n",
       "<span style=\"color: #00d700; text-decoration-color: #00d700; font-weight: bold\">                   &gt; associated with gatherings with friends and family. I also appreciate fresh,</span>\n",
       "<span style=\"color: #00d700; text-decoration-color: #00d700; font-weight: bold\">                   &gt; healthy options like salads and seafood, as they make me feel good and</span>\n",
       "<span style=\"color: #00d700; text-decoration-color: #00d700; font-weight: bold\">                   &gt; energized.   I hope this he (...)</span>\n",
       "</pre>\n"
      ],
      "text/plain": [
       "\u001b[1;4;38;5;40mAstrid Nilsen\u001b[0m\u001b[1;38;5;40m acts: \u001b[0m\u001b[1;38;5;40m[\u001b[0m\u001b[1;38;5;40mTALK\u001b[0m\u001b[1;38;5;40m]\u001b[0m\u001b[1;38;5;40m \u001b[0m\n",
       "\u001b[1;38;5;40m                   > Hi! I'm Astrid Nilsen, a \u001b[0m\u001b[1;38;5;40m22\u001b[0m\u001b[1;38;5;40m-year-old aspiring artist from Oslo, Norway. I'm\u001b[0m\n",
       "\u001b[1;38;5;40m                   > passionate about music and often perform at local open mic nights. I love\u001b[0m\n",
       "\u001b[1;38;5;40m                   > collaborating with other artists and exploring different creative avenues.   As\u001b[0m\n",
       "\u001b[1;38;5;40m                   > for my top-\u001b[0m\u001b[1;38;5;40m10\u001b[0m\u001b[1;38;5;40m interests, they include: \u001b[0m\u001b[1;38;5;40m1\u001b[0m\u001b[1;38;5;40m. Music, especially indie and folk\u001b[0m\n",
       "\u001b[1;38;5;40m                   > genres. \u001b[0m\u001b[1;38;5;40m2\u001b[0m\u001b[1;38;5;40m. Attending cultural events like art exhibitions and local festivals.\u001b[0m\n",
       "\u001b[1;38;5;40m                   > \u001b[0m\u001b[1;38;5;40m3\u001b[0m\u001b[1;38;5;40m. Exploring nature for inspiration. \u001b[0m\u001b[1;38;5;40m4\u001b[0m\u001b[1;38;5;40m. Writing lyrics and poetry. \u001b[0m\u001b[1;38;5;40m5\u001b[0m\u001b[1;38;5;40m. Playing\u001b[0m\n",
       "\u001b[1;38;5;40m                   > the guitar. \u001b[0m\u001b[1;38;5;40m6\u001b[0m\u001b[1;38;5;40m. Spending time with friends at cozy cafes. \u001b[0m\u001b[1;38;5;40m7\u001b[0m\u001b[1;38;5;40m. Listening to vinyl\u001b[0m\n",
       "\u001b[1;38;5;40m                   > records. \u001b[0m\u001b[1;38;5;40m8\u001b[0m\u001b[1;38;5;40m. Volunteering at local shelters. \u001b[0m\u001b[1;38;5;40m9\u001b[0m\u001b[1;38;5;40m. Engaging in online communities\u001b[0m\n",
       "\u001b[1;38;5;40m                   > related to art. \u001b[0m\u001b[1;38;5;40m10\u001b[0m\u001b[1;38;5;40m. Traveling to experience different cultures and music\u001b[0m\n",
       "\u001b[1;38;5;40m                   > scenes.  Regarding food, I enjoy a variety of styles, but I particularly love\u001b[0m\n",
       "\u001b[1;38;5;40m                   > comfort food like pasta and pizza because they remind me of home and are often\u001b[0m\n",
       "\u001b[1;38;5;40m                   > associated with gatherings with friends and family. I also appreciate fresh,\u001b[0m\n",
       "\u001b[1;38;5;40m                   > healthy options like salads and seafood, as they make me feel good and\u001b[0m\n",
       "\u001b[1;38;5;40m                   > energized.   I hope this he \u001b[0m\u001b[1;38;5;40m(\u001b[0m\u001b[1;38;5;40m...\u001b[0m\u001b[1;38;5;40m)\u001b[0m\n"
      ]
     },
     "metadata": {},
     "output_type": "display_data"
    },
    {
     "data": {
      "text/html": [
       "<pre style=\"margin:0px;;white-space:pre;overflow-x:auto;line-height:normal;font-family:Menlo,'DejaVu Sans Mono',consolas,'Courier New',monospace\"><span style=\"color: #00d700; text-decoration-color: #00d700; font-weight: bold; text-decoration: underline\">Ingrid Knudsen</span><span style=\"color: #00d700; text-decoration-color: #00d700; font-weight: bold\"> acts: [TALK] </span>\n",
       "<span style=\"color: #00d700; text-decoration-color: #00d700; font-weight: bold\">                    &gt; Hello! My name is Ingrid Knudsen, and I am a </span><span style=\"color: #00d700; text-decoration-color: #00d700; font-weight: bold\">60</span><span style=\"color: #00d700; text-decoration-color: #00d700; font-weight: bold\">-year-old social worker living</span>\n",
       "<span style=\"color: #00d700; text-decoration-color: #00d700; font-weight: bold\">                    &gt; in Oslo, Norway. I specialize in healthcare and social services for the</span>\n",
       "<span style=\"color: #00d700; text-decoration-color: #00d700; font-weight: bold\">                    &gt; elderly, and I am passionate about improving their quality of life. I enjoy</span>\n",
       "<span style=\"color: #00d700; text-decoration-color: #00d700; font-weight: bold\">                    &gt; engaging in meaningful conversations and sharing stories with others.   As for</span>\n",
       "<span style=\"color: #00d700; text-decoration-color: #00d700; font-weight: bold\">                    &gt; my top-</span><span style=\"color: #00d700; text-decoration-color: #00d700; font-weight: bold\">10</span><span style=\"color: #00d700; text-decoration-color: #00d700; font-weight: bold\"> interests, they include: </span><span style=\"color: #00d700; text-decoration-color: #00d700; font-weight: bold\">1</span><span style=\"color: #00d700; text-decoration-color: #00d700; font-weight: bold\">. Volunteering at local charities </span><span style=\"color: #00d700; text-decoration-color: #00d700; font-weight: bold\">2</span><span style=\"color: #00d700; text-decoration-color: #00d700; font-weight: bold\">.</span>\n",
       "<span style=\"color: #00d700; text-decoration-color: #00d700; font-weight: bold\">                    &gt; Gardening and spending time outdoors </span><span style=\"color: #00d700; text-decoration-color: #00d700; font-weight: bold\">3</span><span style=\"color: #00d700; text-decoration-color: #00d700; font-weight: bold\">. Reading books on psychology and self-</span>\n",
       "<span style=\"color: #00d700; text-decoration-color: #00d700; font-weight: bold\">                    &gt; improvement </span><span style=\"color: #00d700; text-decoration-color: #00d700; font-weight: bold\">4</span><span style=\"color: #00d700; text-decoration-color: #00d700; font-weight: bold\">. Watching sports, especially football and skiing </span><span style=\"color: #00d700; text-decoration-color: #00d700; font-weight: bold\">5</span><span style=\"color: #00d700; text-decoration-color: #00d700; font-weight: bold\">. Cooking</span>\n",
       "<span style=\"color: #00d700; text-decoration-color: #00d700; font-weight: bold\">                    &gt; traditional Norwegian dishes </span><span style=\"color: #00d700; text-decoration-color: #00d700; font-weight: bold\">6</span><span style=\"color: #00d700; text-decoration-color: #00d700; font-weight: bold\">. Spending time with family and friends </span><span style=\"color: #00d700; text-decoration-color: #00d700; font-weight: bold\">7</span><span style=\"color: #00d700; text-decoration-color: #00d700; font-weight: bold\">.</span>\n",
       "<span style=\"color: #00d700; text-decoration-color: #00d700; font-weight: bold\">                    &gt; Listening to classical music and jazz </span><span style=\"color: #00d700; text-decoration-color: #00d700; font-weight: bold\">8</span><span style=\"color: #00d700; text-decoration-color: #00d700; font-weight: bold\">. Participating in community events </span><span style=\"color: #00d700; text-decoration-color: #00d700; font-weight: bold\">9</span><span style=\"color: #00d700; text-decoration-color: #00d700; font-weight: bold\">.</span>\n",
       "<span style=\"color: #00d700; text-decoration-color: #00d700; font-weight: bold\">                    &gt; Traveling and exploring different cultures </span><span style=\"color: #00d700; text-decoration-color: #00d700; font-weight: bold\">10</span><span style=\"color: #00d700; text-decoration-color: #00d700; font-weight: bold\">. Engaging in discussions about</span>\n",
       "<span style=\"color: #00d700; text-decoration-color: #00d700; font-weight: bold\">                    &gt; healthcare policies.  Regarding my favorite food styles, I particularly enjoy</span>\n",
       "<span style=\"color: #00d700; text-decoration-color: #00d700; font-weight: bold\">                    &gt; traditional Norwegian cuisine because it reminds me of my childhood and the</span>\n",
       "<span style=\"color: #00d700; text-decoration-color: #00d700; font-weight: bold\">                    &gt; values my parents instilled in me about community and sharing meals with loved</span>\n",
       "<span style=\"color: #00d700; text-decoration-color: #00d700; font-weight: bold\">                    &gt; ones. I also appreciate healthy an (...)</span>\n",
       "</pre>\n"
      ],
      "text/plain": [
       "\u001b[1;4;38;5;40mIngrid Knudsen\u001b[0m\u001b[1;38;5;40m acts: \u001b[0m\u001b[1;38;5;40m[\u001b[0m\u001b[1;38;5;40mTALK\u001b[0m\u001b[1;38;5;40m]\u001b[0m\u001b[1;38;5;40m \u001b[0m\n",
       "\u001b[1;38;5;40m                    > Hello! My name is Ingrid Knudsen, and I am a \u001b[0m\u001b[1;38;5;40m60\u001b[0m\u001b[1;38;5;40m-year-old social worker living\u001b[0m\n",
       "\u001b[1;38;5;40m                    > in Oslo, Norway. I specialize in healthcare and social services for the\u001b[0m\n",
       "\u001b[1;38;5;40m                    > elderly, and I am passionate about improving their quality of life. I enjoy\u001b[0m\n",
       "\u001b[1;38;5;40m                    > engaging in meaningful conversations and sharing stories with others.   As for\u001b[0m\n",
       "\u001b[1;38;5;40m                    > my top-\u001b[0m\u001b[1;38;5;40m10\u001b[0m\u001b[1;38;5;40m interests, they include: \u001b[0m\u001b[1;38;5;40m1\u001b[0m\u001b[1;38;5;40m. Volunteering at local charities \u001b[0m\u001b[1;38;5;40m2\u001b[0m\u001b[1;38;5;40m.\u001b[0m\n",
       "\u001b[1;38;5;40m                    > Gardening and spending time outdoors \u001b[0m\u001b[1;38;5;40m3\u001b[0m\u001b[1;38;5;40m. Reading books on psychology and self-\u001b[0m\n",
       "\u001b[1;38;5;40m                    > improvement \u001b[0m\u001b[1;38;5;40m4\u001b[0m\u001b[1;38;5;40m. Watching sports, especially football and skiing \u001b[0m\u001b[1;38;5;40m5\u001b[0m\u001b[1;38;5;40m. Cooking\u001b[0m\n",
       "\u001b[1;38;5;40m                    > traditional Norwegian dishes \u001b[0m\u001b[1;38;5;40m6\u001b[0m\u001b[1;38;5;40m. Spending time with family and friends \u001b[0m\u001b[1;38;5;40m7\u001b[0m\u001b[1;38;5;40m.\u001b[0m\n",
       "\u001b[1;38;5;40m                    > Listening to classical music and jazz \u001b[0m\u001b[1;38;5;40m8\u001b[0m\u001b[1;38;5;40m. Participating in community events \u001b[0m\u001b[1;38;5;40m9\u001b[0m\u001b[1;38;5;40m.\u001b[0m\n",
       "\u001b[1;38;5;40m                    > Traveling and exploring different cultures \u001b[0m\u001b[1;38;5;40m10\u001b[0m\u001b[1;38;5;40m. Engaging in discussions about\u001b[0m\n",
       "\u001b[1;38;5;40m                    > healthcare policies.  Regarding my favorite food styles, I particularly enjoy\u001b[0m\n",
       "\u001b[1;38;5;40m                    > traditional Norwegian cuisine because it reminds me of my childhood and the\u001b[0m\n",
       "\u001b[1;38;5;40m                    > values my parents instilled in me about community and sharing meals with loved\u001b[0m\n",
       "\u001b[1;38;5;40m                    > ones. I also appreciate healthy an \u001b[0m\u001b[1;38;5;40m(\u001b[0m\u001b[1;38;5;40m...\u001b[0m\u001b[1;38;5;40m)\u001b[0m\n"
      ]
     },
     "metadata": {},
     "output_type": "display_data"
    },
    {
     "data": {
      "text/html": [
       "<pre style=\"margin:0px;;white-space:pre;overflow-x:auto;line-height:normal;font-family:Menlo,'DejaVu Sans Mono',consolas,'Courier New',monospace\"><span style=\"color: #00d700; text-decoration-color: #00d700; font-weight: bold; text-decoration: underline\">Ingrid Madsen</span><span style=\"color: #00d700; text-decoration-color: #00d700; font-weight: bold\"> acts: [TALK] </span>\n",
       "<span style=\"color: #00d700; text-decoration-color: #00d700; font-weight: bold\">                   &gt; Hello! I'm Ingrid Madsen, a high school teacher specializing in social studies</span>\n",
       "<span style=\"color: #00d700; text-decoration-color: #00d700; font-weight: bold\">                   &gt; and environmental science. I love engaging with my students and encouraging</span>\n",
       "<span style=\"color: #00d700; text-decoration-color: #00d700; font-weight: bold\">                   &gt; them to think critically about the world around them.   As for my top-</span><span style=\"color: #00d700; text-decoration-color: #00d700; font-weight: bold\">10</span>\n",
       "<span style=\"color: #00d700; text-decoration-color: #00d700; font-weight: bold\">                   &gt; interests, they include: </span><span style=\"color: #00d700; text-decoration-color: #00d700; font-weight: bold\">1</span><span style=\"color: #00d700; text-decoration-color: #00d700; font-weight: bold\">. Outdoor activities like hiking and kayaking. </span><span style=\"color: #00d700; text-decoration-color: #00d700; font-weight: bold\">2</span><span style=\"color: #00d700; text-decoration-color: #00d700; font-weight: bold\">.</span>\n",
       "<span style=\"color: #00d700; text-decoration-color: #00d700; font-weight: bold\">                   &gt; Reading educational literature and environmental science. </span><span style=\"color: #00d700; text-decoration-color: #00d700; font-weight: bold\">3</span><span style=\"color: #00d700; text-decoration-color: #00d700; font-weight: bold\">. Volunteering for</span>\n",
       "<span style=\"color: #00d700; text-decoration-color: #00d700; font-weight: bold\">                   &gt; community service projects. </span><span style=\"color: #00d700; text-decoration-color: #00d700; font-weight: bold\">4</span><span style=\"color: #00d700; text-decoration-color: #00d700; font-weight: bold\">. Traveling to explore different cultures and</span>\n",
       "<span style=\"color: #00d700; text-decoration-color: #00d700; font-weight: bold\">                   &gt; landscapes. </span><span style=\"color: #00d700; text-decoration-color: #00d700; font-weight: bold\">5</span><span style=\"color: #00d700; text-decoration-color: #00d700; font-weight: bold\">. Engaging in discussions about social issues. </span><span style=\"color: #00d700; text-decoration-color: #00d700; font-weight: bold\">6</span><span style=\"color: #00d700; text-decoration-color: #00d700; font-weight: bold\">. Cooking healthy</span>\n",
       "<span style=\"color: #00d700; text-decoration-color: #00d700; font-weight: bold\">                   &gt; meals and trying new recipes. </span><span style=\"color: #00d700; text-decoration-color: #00d700; font-weight: bold\">7</span><span style=\"color: #00d700; text-decoration-color: #00d700; font-weight: bold\">. Attending music festivals and cultural events.</span>\n",
       "<span style=\"color: #00d700; text-decoration-color: #00d700; font-weight: bold\">                   &gt; </span><span style=\"color: #00d700; text-decoration-color: #00d700; font-weight: bold\">8</span><span style=\"color: #00d700; text-decoration-color: #00d700; font-weight: bold\">. Photography, especially capturing nature and outdoor adventures. </span><span style=\"color: #00d700; text-decoration-color: #00d700; font-weight: bold\">9</span><span style=\"color: #00d700; text-decoration-color: #00d700; font-weight: bold\">.</span>\n",
       "<span style=\"color: #00d700; text-decoration-color: #00d700; font-weight: bold\">                   &gt; Participating in local environmental clean-up events. </span><span style=\"color: #00d700; text-decoration-color: #00d700; font-weight: bold\">10</span><span style=\"color: #00d700; text-decoration-color: #00d700; font-weight: bold\">. Blogging about</span>\n",
       "<span style=\"color: #00d700; text-decoration-color: #00d700; font-weight: bold\">                   &gt; educational practices and outdoor learning.  Regarding my favorite food styles,</span>\n",
       "<span style=\"color: #00d700; text-decoration-color: #00d700; font-weight: bold\">                   &gt; I enjoy healthy cooking, particularly Mediterranean and Asian cuisines. I</span>\n",
       "<span style=\"color: #00d700; text-decoration-color: #00d700; font-weight: bold\">                   &gt; appreciate these styles because they often emphasize fresh ingredients, vibrant</span>\n",
       "<span style=\"color: #00d700; text-decoration-color: #00d700; font-weight: bold\">                   &gt; flavors, and a variety of vege (...)</span>\n",
       "</pre>\n"
      ],
      "text/plain": [
       "\u001b[1;4;38;5;40mIngrid Madsen\u001b[0m\u001b[1;38;5;40m acts: \u001b[0m\u001b[1;38;5;40m[\u001b[0m\u001b[1;38;5;40mTALK\u001b[0m\u001b[1;38;5;40m]\u001b[0m\u001b[1;38;5;40m \u001b[0m\n",
       "\u001b[1;38;5;40m                   > Hello! I'm Ingrid Madsen, a high school teacher specializing in social studies\u001b[0m\n",
       "\u001b[1;38;5;40m                   > and environmental science. I love engaging with my students and encouraging\u001b[0m\n",
       "\u001b[1;38;5;40m                   > them to think critically about the world around them.   As for my top-\u001b[0m\u001b[1;38;5;40m10\u001b[0m\n",
       "\u001b[1;38;5;40m                   > interests, they include: \u001b[0m\u001b[1;38;5;40m1\u001b[0m\u001b[1;38;5;40m. Outdoor activities like hiking and kayaking. \u001b[0m\u001b[1;38;5;40m2\u001b[0m\u001b[1;38;5;40m.\u001b[0m\n",
       "\u001b[1;38;5;40m                   > Reading educational literature and environmental science. \u001b[0m\u001b[1;38;5;40m3\u001b[0m\u001b[1;38;5;40m. Volunteering for\u001b[0m\n",
       "\u001b[1;38;5;40m                   > community service projects. \u001b[0m\u001b[1;38;5;40m4\u001b[0m\u001b[1;38;5;40m. Traveling to explore different cultures and\u001b[0m\n",
       "\u001b[1;38;5;40m                   > landscapes. \u001b[0m\u001b[1;38;5;40m5\u001b[0m\u001b[1;38;5;40m. Engaging in discussions about social issues. \u001b[0m\u001b[1;38;5;40m6\u001b[0m\u001b[1;38;5;40m. Cooking healthy\u001b[0m\n",
       "\u001b[1;38;5;40m                   > meals and trying new recipes. \u001b[0m\u001b[1;38;5;40m7\u001b[0m\u001b[1;38;5;40m. Attending music festivals and cultural events.\u001b[0m\n",
       "\u001b[1;38;5;40m                   > \u001b[0m\u001b[1;38;5;40m8\u001b[0m\u001b[1;38;5;40m. Photography, especially capturing nature and outdoor adventures. \u001b[0m\u001b[1;38;5;40m9\u001b[0m\u001b[1;38;5;40m.\u001b[0m\n",
       "\u001b[1;38;5;40m                   > Participating in local environmental clean-up events. \u001b[0m\u001b[1;38;5;40m10\u001b[0m\u001b[1;38;5;40m. Blogging about\u001b[0m\n",
       "\u001b[1;38;5;40m                   > educational practices and outdoor learning.  Regarding my favorite food styles,\u001b[0m\n",
       "\u001b[1;38;5;40m                   > I enjoy healthy cooking, particularly Mediterranean and Asian cuisines. I\u001b[0m\n",
       "\u001b[1;38;5;40m                   > appreciate these styles because they often emphasize fresh ingredients, vibrant\u001b[0m\n",
       "\u001b[1;38;5;40m                   > flavors, and a variety of vege \u001b[0m\u001b[1;38;5;40m(\u001b[0m\u001b[1;38;5;40m...\u001b[0m\u001b[1;38;5;40m)\u001b[0m\n"
      ]
     },
     "metadata": {},
     "output_type": "display_data"
    },
    {
     "data": {
      "text/html": [
       "<pre style=\"margin:0px;;white-space:pre;overflow-x:auto;line-height:normal;font-family:Menlo,'DejaVu Sans Mono',consolas,'Courier New',monospace\"><span style=\"color: #00d700; text-decoration-color: #00d700; font-weight: bold; text-decoration: underline\">Freja Johansen</span><span style=\"color: #00d700; text-decoration-color: #00d700; font-weight: bold\"> acts: [TALK] </span>\n",
       "<span style=\"color: #00d700; text-decoration-color: #00d700; font-weight: bold\">                    &gt; Hello, I'm Freja Johansen, a software engineer with a passion for technology</span>\n",
       "<span style=\"color: #00d700; text-decoration-color: #00d700; font-weight: bold\">                    &gt; and problem-solving. I work at Tech Innovations A/S, where I focus on</span>\n",
       "<span style=\"color: #00d700; text-decoration-color: #00d700; font-weight: bold\">                    &gt; developing software solutions. My top interests include technology and</span>\n",
       "<span style=\"color: #00d700; text-decoration-color: #00d700; font-weight: bold\">                    &gt; software development, sports like soccer and cycling, reading science fiction</span>\n",
       "<span style=\"color: #00d700; text-decoration-color: #00d700; font-weight: bold\">                    &gt; and tech blogs, participating in hackathons, and engaging in discussions about</span>\n",
       "<span style=\"color: #00d700; text-decoration-color: #00d700; font-weight: bold\">                    &gt; technology trends. I also enjoy outdoor activities and quiet evenings at home</span>\n",
       "<span style=\"color: #00d700; text-decoration-color: #00d700; font-weight: bold\">                    &gt; with a good book.   As for food styles, I prefer simple and healthy meals,</span>\n",
       "<span style=\"color: #00d700; text-decoration-color: #00d700; font-weight: bold\">                    &gt; often leaning towards Mediterranean cuisine because of its fresh ingredients</span>\n",
       "<span style=\"color: #00d700; text-decoration-color: #00d700; font-weight: bold\">                    &gt; and balanced flavors. I appreciate meals that are not overly complicated but</span>\n",
       "<span style=\"color: #00d700; text-decoration-color: #00d700; font-weight: bold\">                    &gt; still delicious and nutritious.   Regarding spicy food, I would say </span><span style=\"color: #00d700; text-decoration-color: #00d700; font-weight: bold\">\"No\"</span><span style=\"color: #00d700; text-decoration-color: #00d700; font-weight: bold\">. I</span>\n",
       "<span style=\"color: #00d700; text-decoration-color: #00d700; font-weight: bold\">                    &gt; find that spicy food can be overwhelming and sometimes masks the flavors of</span>\n",
       "<span style=\"color: #00d700; text-decoration-color: #00d700; font-weight: bold\">                    &gt; the dish. I prefer to enjoy the natural tastes of the ingredients without too</span>\n",
       "<span style=\"color: #00d700; text-decoration-color: #00d700; font-weight: bold\">                    &gt; much heat.</span>\n",
       "</pre>\n"
      ],
      "text/plain": [
       "\u001b[1;4;38;5;40mFreja Johansen\u001b[0m\u001b[1;38;5;40m acts: \u001b[0m\u001b[1;38;5;40m[\u001b[0m\u001b[1;38;5;40mTALK\u001b[0m\u001b[1;38;5;40m]\u001b[0m\u001b[1;38;5;40m \u001b[0m\n",
       "\u001b[1;38;5;40m                    > Hello, I'm Freja Johansen, a software engineer with a passion for technology\u001b[0m\n",
       "\u001b[1;38;5;40m                    > and problem-solving. I work at Tech Innovations A/S, where I focus on\u001b[0m\n",
       "\u001b[1;38;5;40m                    > developing software solutions. My top interests include technology and\u001b[0m\n",
       "\u001b[1;38;5;40m                    > software development, sports like soccer and cycling, reading science fiction\u001b[0m\n",
       "\u001b[1;38;5;40m                    > and tech blogs, participating in hackathons, and engaging in discussions about\u001b[0m\n",
       "\u001b[1;38;5;40m                    > technology trends. I also enjoy outdoor activities and quiet evenings at home\u001b[0m\n",
       "\u001b[1;38;5;40m                    > with a good book.   As for food styles, I prefer simple and healthy meals,\u001b[0m\n",
       "\u001b[1;38;5;40m                    > often leaning towards Mediterranean cuisine because of its fresh ingredients\u001b[0m\n",
       "\u001b[1;38;5;40m                    > and balanced flavors. I appreciate meals that are not overly complicated but\u001b[0m\n",
       "\u001b[1;38;5;40m                    > still delicious and nutritious.   Regarding spicy food, I would say \u001b[0m\u001b[1;38;5;40m\"No\"\u001b[0m\u001b[1;38;5;40m. I\u001b[0m\n",
       "\u001b[1;38;5;40m                    > find that spicy food can be overwhelming and sometimes masks the flavors of\u001b[0m\n",
       "\u001b[1;38;5;40m                    > the dish. I prefer to enjoy the natural tastes of the ingredients without too\u001b[0m\n",
       "\u001b[1;38;5;40m                    > much heat.\u001b[0m\n"
      ]
     },
     "metadata": {},
     "output_type": "display_data"
    },
    {
     "data": {
      "text/html": [
       "<pre style=\"margin:0px;;white-space:pre;overflow-x:auto;line-height:normal;font-family:Menlo,'DejaVu Sans Mono',consolas,'Courier New',monospace\"><span style=\"color: #00d700; text-decoration-color: #00d700; font-weight: bold; text-decoration: underline\">Astrid Sørensen</span><span style=\"color: #00d700; text-decoration-color: #00d700; font-weight: bold\"> acts: [TALK] </span>\n",
       "<span style=\"color: #00d700; text-decoration-color: #00d700; font-weight: bold\">                     &gt; Yes, I do like spicy food! I enjoy the heat and complexity it adds to dishes.</span>\n",
       "<span style=\"color: #00d700; text-decoration-color: #00d700; font-weight: bold\">                     &gt; Spicy food often brings out different flavors and can make a meal more</span>\n",
       "<span style=\"color: #00d700; text-decoration-color: #00d700; font-weight: bold\">                     &gt; exciting. Plus, I love experimenting with various spices in my cooking, which</span>\n",
       "<span style=\"color: #00d700; text-decoration-color: #00d700; font-weight: bold\">                     &gt; allows me to create unique and flavorful dishes.</span>\n",
       "</pre>\n"
      ],
      "text/plain": [
       "\u001b[1;4;38;5;40mAstrid Sørensen\u001b[0m\u001b[1;38;5;40m acts: \u001b[0m\u001b[1;38;5;40m[\u001b[0m\u001b[1;38;5;40mTALK\u001b[0m\u001b[1;38;5;40m]\u001b[0m\u001b[1;38;5;40m \u001b[0m\n",
       "\u001b[1;38;5;40m                     > Yes, I do like spicy food! I enjoy the heat and complexity it adds to dishes.\u001b[0m\n",
       "\u001b[1;38;5;40m                     > Spicy food often brings out different flavors and can make a meal more\u001b[0m\n",
       "\u001b[1;38;5;40m                     > exciting. Plus, I love experimenting with various spices in my cooking, which\u001b[0m\n",
       "\u001b[1;38;5;40m                     > allows me to create unique and flavorful dishes.\u001b[0m\n"
      ]
     },
     "metadata": {},
     "output_type": "display_data"
    },
    {
     "data": {
      "text/html": [
       "<pre style=\"margin:0px;;white-space:pre;overflow-x:auto;line-height:normal;font-family:Menlo,'DejaVu Sans Mono',consolas,'Courier New',monospace\"><span style=\"color: #00d700; text-decoration-color: #00d700; font-weight: bold; text-decoration: underline\">Henrik Berg</span><span style=\"color: #00d700; text-decoration-color: #00d700; font-weight: bold\"> acts: [TALK] </span>\n",
       "<span style=\"color: #00d700; text-decoration-color: #00d700; font-weight: bold\">                 &gt; Yes, I like spicy food! I enjoy how it adds flavor and excitement to dishes. It</span>\n",
       "<span style=\"color: #00d700; text-decoration-color: #00d700; font-weight: bold\">                 &gt; also reminds me of the diverse culinary experiences I've had while exploring</span>\n",
       "<span style=\"color: #00d700; text-decoration-color: #00d700; font-weight: bold\">                 &gt; different cultures. Spicy food can be a great way to connect with different</span>\n",
       "<span style=\"color: #00d700; text-decoration-color: #00d700; font-weight: bold\">                 &gt; cuisines and traditions, which I find fascinating.</span>\n",
       "</pre>\n"
      ],
      "text/plain": [
       "\u001b[1;4;38;5;40mHenrik Berg\u001b[0m\u001b[1;38;5;40m acts: \u001b[0m\u001b[1;38;5;40m[\u001b[0m\u001b[1;38;5;40mTALK\u001b[0m\u001b[1;38;5;40m]\u001b[0m\u001b[1;38;5;40m \u001b[0m\n",
       "\u001b[1;38;5;40m                 > Yes, I like spicy food! I enjoy how it adds flavor and excitement to dishes. It\u001b[0m\n",
       "\u001b[1;38;5;40m                 > also reminds me of the diverse culinary experiences I've had while exploring\u001b[0m\n",
       "\u001b[1;38;5;40m                 > different cultures. Spicy food can be a great way to connect with different\u001b[0m\n",
       "\u001b[1;38;5;40m                 > cuisines and traditions, which I find fascinating.\u001b[0m\n"
      ]
     },
     "metadata": {},
     "output_type": "display_data"
    },
    {
     "data": {
      "text/html": [
       "<pre style=\"margin:0px;;white-space:pre;overflow-x:auto;line-height:normal;font-family:Menlo,'DejaVu Sans Mono',consolas,'Courier New',monospace\"><span style=\"color: #00d700; text-decoration-color: #00d700; font-weight: bold; text-decoration: underline\">Emil Bergstrom</span><span style=\"color: #00d700; text-decoration-color: #00d700; font-weight: bold\"> acts: [TALK] </span>\n",
       "<span style=\"color: #00d700; text-decoration-color: #00d700; font-weight: bold\">                    &gt; Yes, I do like spicy food! I enjoy it because it adds a lot of flavor and</span>\n",
       "<span style=\"color: #00d700; text-decoration-color: #00d700; font-weight: bold\">                    &gt; excitement to meals. Spicy dishes often have a variety of ingredients that</span>\n",
       "<span style=\"color: #00d700; text-decoration-color: #00d700; font-weight: bold\">                    &gt; create interesting combinations, and I appreciate the warmth and kick they</span>\n",
       "<span style=\"color: #00d700; text-decoration-color: #00d700; font-weight: bold\">                    &gt; bring. Plus, I find that spicy food can be quite comforting and satisfying,</span>\n",
       "<span style=\"color: #00d700; text-decoration-color: #00d700; font-weight: bold\">                    &gt; especially during colder months.</span>\n",
       "</pre>\n"
      ],
      "text/plain": [
       "\u001b[1;4;38;5;40mEmil Bergstrom\u001b[0m\u001b[1;38;5;40m acts: \u001b[0m\u001b[1;38;5;40m[\u001b[0m\u001b[1;38;5;40mTALK\u001b[0m\u001b[1;38;5;40m]\u001b[0m\u001b[1;38;5;40m \u001b[0m\n",
       "\u001b[1;38;5;40m                    > Yes, I do like spicy food! I enjoy it because it adds a lot of flavor and\u001b[0m\n",
       "\u001b[1;38;5;40m                    > excitement to meals. Spicy dishes often have a variety of ingredients that\u001b[0m\n",
       "\u001b[1;38;5;40m                    > create interesting combinations, and I appreciate the warmth and kick they\u001b[0m\n",
       "\u001b[1;38;5;40m                    > bring. Plus, I find that spicy food can be quite comforting and satisfying,\u001b[0m\n",
       "\u001b[1;38;5;40m                    > especially during colder months.\u001b[0m\n"
      ]
     },
     "metadata": {},
     "output_type": "display_data"
    },
    {
     "data": {
      "text/html": [
       "<pre style=\"margin:0px;;white-space:pre;overflow-x:auto;line-height:normal;font-family:Menlo,'DejaVu Sans Mono',consolas,'Courier New',monospace\"><span style=\"color: #d0d0d0; text-decoration-color: #d0d0d0; text-decoration: underline\">Astrid Sørensen</span><span style=\"color: #d0d0d0; text-decoration-color: #d0d0d0\"> acts: </span><span style=\"color: #d0d0d0; text-decoration-color: #d0d0d0; font-weight: bold\">[</span><span style=\"color: #d0d0d0; text-decoration-color: #d0d0d0\">DONE</span><span style=\"color: #d0d0d0; text-decoration-color: #d0d0d0; font-weight: bold\">]</span><span style=\"color: #d0d0d0; text-decoration-color: #d0d0d0\"> </span>\n",
       "\n",
       "</pre>\n"
      ],
      "text/plain": [
       "\u001b[4;38;5;252mAstrid Sørensen\u001b[0m\u001b[38;5;252m acts: \u001b[0m\u001b[1;38;5;252m[\u001b[0m\u001b[38;5;252mDONE\u001b[0m\u001b[1;38;5;252m]\u001b[0m\u001b[38;5;252m \u001b[0m\n",
       "\n"
      ]
     },
     "metadata": {},
     "output_type": "display_data"
    },
    {
     "data": {
      "text/html": [
       "<pre style=\"margin:0px;;white-space:pre;overflow-x:auto;line-height:normal;font-family:Menlo,'DejaVu Sans Mono',consolas,'Courier New',monospace\"><span style=\"color: #00d700; text-decoration-color: #00d700; font-weight: bold; text-decoration: underline\">Ingrid Lund</span><span style=\"color: #00d700; text-decoration-color: #00d700; font-weight: bold\"> acts: [TALK] </span>\n",
       "<span style=\"color: #00d700; text-decoration-color: #00d700; font-weight: bold\">                 &gt; Yes, I do like spicy food! I enjoy it because it adds a lot of flavor and</span>\n",
       "<span style=\"color: #00d700; text-decoration-color: #00d700; font-weight: bold\">                 &gt; excitement to meals. Spicy dishes can be very satisfying and often remind me of</span>\n",
       "<span style=\"color: #00d700; text-decoration-color: #00d700; font-weight: bold\">                 &gt; the diverse cultures I love to explore through food. However, I also appreciate</span>\n",
       "<span style=\"color: #00d700; text-decoration-color: #00d700; font-weight: bold\">                 &gt; balance, so I prefer spicy food that isn't overwhelmingly hot. It’s all about</span>\n",
       "<span style=\"color: #00d700; text-decoration-color: #00d700; font-weight: bold\">                 &gt; finding the right level of spice that enhances the dish without overpowering it.</span>\n",
       "</pre>\n"
      ],
      "text/plain": [
       "\u001b[1;4;38;5;40mIngrid Lund\u001b[0m\u001b[1;38;5;40m acts: \u001b[0m\u001b[1;38;5;40m[\u001b[0m\u001b[1;38;5;40mTALK\u001b[0m\u001b[1;38;5;40m]\u001b[0m\u001b[1;38;5;40m \u001b[0m\n",
       "\u001b[1;38;5;40m                 > Yes, I do like spicy food! I enjoy it because it adds a lot of flavor and\u001b[0m\n",
       "\u001b[1;38;5;40m                 > excitement to meals. Spicy dishes can be very satisfying and often remind me of\u001b[0m\n",
       "\u001b[1;38;5;40m                 > the diverse cultures I love to explore through food. However, I also appreciate\u001b[0m\n",
       "\u001b[1;38;5;40m                 > balance, so I prefer spicy food that isn't overwhelmingly hot. It’s all about\u001b[0m\n",
       "\u001b[1;38;5;40m                 > finding the right level of spice that enhances the dish without overpowering it.\u001b[0m\n"
      ]
     },
     "metadata": {},
     "output_type": "display_data"
    },
    {
     "data": {
      "text/html": [
       "<pre style=\"margin:0px;;white-space:pre;overflow-x:auto;line-height:normal;font-family:Menlo,'DejaVu Sans Mono',consolas,'Courier New',monospace\"><span style=\"color: #00d700; text-decoration-color: #00d700; font-weight: bold; text-decoration: underline\">Astrid Johansen</span><span style=\"color: #00d700; text-decoration-color: #00d700; font-weight: bold\"> acts: [TALK] </span>\n",
       "<span style=\"color: #00d700; text-decoration-color: #00d700; font-weight: bold\">                     &gt; Yes, I do like spicy food! I enjoy it because it adds a lot of flavor and</span>\n",
       "<span style=\"color: #00d700; text-decoration-color: #00d700; font-weight: bold\">                     &gt; excitement to meals. Spicy dishes often have a variety of ingredients and can</span>\n",
       "<span style=\"color: #00d700; text-decoration-color: #00d700; font-weight: bold\">                     &gt; be very satisfying. I also appreciate how spices can have health benefits,</span>\n",
       "<span style=\"color: #00d700; text-decoration-color: #00d700; font-weight: bold\">                     &gt; like boosting metabolism and enhancing the overall taste of the food.</span>\n",
       "<span style=\"color: #00d700; text-decoration-color: #00d700; font-weight: bold\">                     &gt; However, I do prefer it to be balanced, not overwhelmingly spicy, so I can</span>\n",
       "<span style=\"color: #00d700; text-decoration-color: #00d700; font-weight: bold\">                     &gt; still enjoy the other flavors in the dish.</span>\n",
       "</pre>\n"
      ],
      "text/plain": [
       "\u001b[1;4;38;5;40mAstrid Johansen\u001b[0m\u001b[1;38;5;40m acts: \u001b[0m\u001b[1;38;5;40m[\u001b[0m\u001b[1;38;5;40mTALK\u001b[0m\u001b[1;38;5;40m]\u001b[0m\u001b[1;38;5;40m \u001b[0m\n",
       "\u001b[1;38;5;40m                     > Yes, I do like spicy food! I enjoy it because it adds a lot of flavor and\u001b[0m\n",
       "\u001b[1;38;5;40m                     > excitement to meals. Spicy dishes often have a variety of ingredients and can\u001b[0m\n",
       "\u001b[1;38;5;40m                     > be very satisfying. I also appreciate how spices can have health benefits,\u001b[0m\n",
       "\u001b[1;38;5;40m                     > like boosting metabolism and enhancing the overall taste of the food.\u001b[0m\n",
       "\u001b[1;38;5;40m                     > However, I do prefer it to be balanced, not overwhelmingly spicy, so I can\u001b[0m\n",
       "\u001b[1;38;5;40m                     > still enjoy the other flavors in the dish.\u001b[0m\n"
      ]
     },
     "metadata": {},
     "output_type": "display_data"
    },
    {
     "data": {
      "text/html": [
       "<pre style=\"margin:0px;;white-space:pre;overflow-x:auto;line-height:normal;font-family:Menlo,'DejaVu Sans Mono',consolas,'Courier New',monospace\"><span style=\"color: #00d700; text-decoration-color: #00d700; font-weight: bold; text-decoration: underline\">Henrik Eriksen</span><span style=\"color: #00d700; text-decoration-color: #00d700; font-weight: bold\"> acts: [TALK] </span>\n",
       "<span style=\"color: #00d700; text-decoration-color: #00d700; font-weight: bold\">                    &gt; Yes, I do like spicy food! I enjoy the kick it adds to dishes and how it can</span>\n",
       "<span style=\"color: #00d700; text-decoration-color: #00d700; font-weight: bold\">                    &gt; enhance the overall flavor. It makes meals more exciting and can be a fun way</span>\n",
       "<span style=\"color: #00d700; text-decoration-color: #00d700; font-weight: bold\">                    &gt; to explore different cuisines. However, I also appreciate a balance, so I</span>\n",
       "<span style=\"color: #00d700; text-decoration-color: #00d700; font-weight: bold\">                    &gt; don't like it to be overwhelmingly spicy. It’s all about finding that right</span>\n",
       "<span style=\"color: #00d700; text-decoration-color: #00d700; font-weight: bold\">                    &gt; level of heat for me!</span>\n",
       "</pre>\n"
      ],
      "text/plain": [
       "\u001b[1;4;38;5;40mHenrik Eriksen\u001b[0m\u001b[1;38;5;40m acts: \u001b[0m\u001b[1;38;5;40m[\u001b[0m\u001b[1;38;5;40mTALK\u001b[0m\u001b[1;38;5;40m]\u001b[0m\u001b[1;38;5;40m \u001b[0m\n",
       "\u001b[1;38;5;40m                    > Yes, I do like spicy food! I enjoy the kick it adds to dishes and how it can\u001b[0m\n",
       "\u001b[1;38;5;40m                    > enhance the overall flavor. It makes meals more exciting and can be a fun way\u001b[0m\n",
       "\u001b[1;38;5;40m                    > to explore different cuisines. However, I also appreciate a balance, so I\u001b[0m\n",
       "\u001b[1;38;5;40m                    > don't like it to be overwhelmingly spicy. It’s all about finding that right\u001b[0m\n",
       "\u001b[1;38;5;40m                    > level of heat for me!\u001b[0m\n"
      ]
     },
     "metadata": {},
     "output_type": "display_data"
    },
    {
     "data": {
      "text/html": [
       "<pre style=\"margin:0px;;white-space:pre;overflow-x:auto;line-height:normal;font-family:Menlo,'DejaVu Sans Mono',consolas,'Courier New',monospace\"><span style=\"color: #00d700; text-decoration-color: #00d700; font-weight: bold; text-decoration: underline\">Ingrid Madsen</span><span style=\"color: #00d700; text-decoration-color: #00d700; font-weight: bold\"> acts: [TALK] </span>\n",
       "<span style=\"color: #00d700; text-decoration-color: #00d700; font-weight: bold\">                   &gt; Yes, I like spicy food! I enjoy the flavors and the excitement it brings to</span>\n",
       "<span style=\"color: #00d700; text-decoration-color: #00d700; font-weight: bold\">                   &gt; meals. Spices can really enhance the taste of dishes and make them more</span>\n",
       "<span style=\"color: #00d700; text-decoration-color: #00d700; font-weight: bold\">                   &gt; enjoyable. Plus, I love exploring different cuisines that use spices, as they</span>\n",
       "<span style=\"color: #00d700; text-decoration-color: #00d700; font-weight: bold\">                   &gt; often reflect rich cultural traditions.</span>\n",
       "</pre>\n"
      ],
      "text/plain": [
       "\u001b[1;4;38;5;40mIngrid Madsen\u001b[0m\u001b[1;38;5;40m acts: \u001b[0m\u001b[1;38;5;40m[\u001b[0m\u001b[1;38;5;40mTALK\u001b[0m\u001b[1;38;5;40m]\u001b[0m\u001b[1;38;5;40m \u001b[0m\n",
       "\u001b[1;38;5;40m                   > Yes, I like spicy food! I enjoy the flavors and the excitement it brings to\u001b[0m\n",
       "\u001b[1;38;5;40m                   > meals. Spices can really enhance the taste of dishes and make them more\u001b[0m\n",
       "\u001b[1;38;5;40m                   > enjoyable. Plus, I love exploring different cuisines that use spices, as they\u001b[0m\n",
       "\u001b[1;38;5;40m                   > often reflect rich cultural traditions.\u001b[0m\n"
      ]
     },
     "metadata": {},
     "output_type": "display_data"
    },
    {
     "data": {
      "text/html": [
       "<pre style=\"margin:0px;;white-space:pre;overflow-x:auto;line-height:normal;font-family:Menlo,'DejaVu Sans Mono',consolas,'Courier New',monospace\"><span style=\"color: #d0d0d0; text-decoration-color: #d0d0d0; text-decoration: underline\">Henrik Berg</span><span style=\"color: #d0d0d0; text-decoration-color: #d0d0d0\"> acts: </span><span style=\"color: #d0d0d0; text-decoration-color: #d0d0d0; font-weight: bold\">[</span><span style=\"color: #d0d0d0; text-decoration-color: #d0d0d0\">DONE</span><span style=\"color: #d0d0d0; text-decoration-color: #d0d0d0; font-weight: bold\">]</span><span style=\"color: #d0d0d0; text-decoration-color: #d0d0d0\"> </span>\n",
       "\n",
       "</pre>\n"
      ],
      "text/plain": [
       "\u001b[4;38;5;252mHenrik Berg\u001b[0m\u001b[38;5;252m acts: \u001b[0m\u001b[1;38;5;252m[\u001b[0m\u001b[38;5;252mDONE\u001b[0m\u001b[1;38;5;252m]\u001b[0m\u001b[38;5;252m \u001b[0m\n",
       "\n"
      ]
     },
     "metadata": {},
     "output_type": "display_data"
    },
    {
     "name": "stderr",
     "output_type": "stream",
     "text": [
      "2025-03-24 21:13:55,654 - tinytroupe - WARNING - [Freja Eriksen] Action similarity is too high (1), replacing it with DONE.\n"
     ]
    },
    {
     "data": {
      "text/html": [
       "<pre style=\"margin:0px;;white-space:pre;overflow-x:auto;line-height:normal;font-family:Menlo,'DejaVu Sans Mono',consolas,'Courier New',monospace\"><span style=\"color: #d0d0d0; text-decoration-color: #d0d0d0; text-decoration: underline\">Freja Eriksen</span><span style=\"color: #d0d0d0; text-decoration-color: #d0d0d0\"> acts: </span><span style=\"color: #d0d0d0; text-decoration-color: #d0d0d0; font-weight: bold\">[</span><span style=\"color: #d0d0d0; text-decoration-color: #d0d0d0\">DONE</span><span style=\"color: #d0d0d0; text-decoration-color: #d0d0d0; font-weight: bold\">]</span><span style=\"color: #d0d0d0; text-decoration-color: #d0d0d0\"> </span>\n",
       "\n",
       "</pre>\n"
      ],
      "text/plain": [
       "\u001b[4;38;5;252mFreja Eriksen\u001b[0m\u001b[38;5;252m acts: \u001b[0m\u001b[1;38;5;252m[\u001b[0m\u001b[38;5;252mDONE\u001b[0m\u001b[1;38;5;252m]\u001b[0m\u001b[38;5;252m \u001b[0m\n",
       "\n"
      ]
     },
     "metadata": {},
     "output_type": "display_data"
    },
    {
     "data": {
      "text/html": [
       "<pre style=\"margin:0px;;white-space:pre;overflow-x:auto;line-height:normal;font-family:Menlo,'DejaVu Sans Mono',consolas,'Courier New',monospace\"><span style=\"color: #00d700; text-decoration-color: #00d700; font-weight: bold; text-decoration: underline\">Ingrid Knudsen</span><span style=\"color: #00d700; text-decoration-color: #00d700; font-weight: bold\"> acts: [TALK] </span>\n",
       "<span style=\"color: #00d700; text-decoration-color: #00d700; font-weight: bold\">                    &gt; Yes, I do like spicy food! I find that it adds a lot of flavor and excitement</span>\n",
       "<span style=\"color: #00d700; text-decoration-color: #00d700; font-weight: bold\">                    &gt; to meals. It can also be quite comforting, especially when shared with friends</span>\n",
       "<span style=\"color: #00d700; text-decoration-color: #00d700; font-weight: bold\">                    &gt; or family during gatherings. However, I do enjoy it in moderation, as too much</span>\n",
       "<span style=\"color: #00d700; text-decoration-color: #00d700; font-weight: bold\">                    &gt; spice can be overwhelming. Overall, I appreciate the variety that spicy food</span>\n",
       "<span style=\"color: #00d700; text-decoration-color: #00d700; font-weight: bold\">                    &gt; brings to my diet!</span>\n",
       "</pre>\n"
      ],
      "text/plain": [
       "\u001b[1;4;38;5;40mIngrid Knudsen\u001b[0m\u001b[1;38;5;40m acts: \u001b[0m\u001b[1;38;5;40m[\u001b[0m\u001b[1;38;5;40mTALK\u001b[0m\u001b[1;38;5;40m]\u001b[0m\u001b[1;38;5;40m \u001b[0m\n",
       "\u001b[1;38;5;40m                    > Yes, I do like spicy food! I find that it adds a lot of flavor and excitement\u001b[0m\n",
       "\u001b[1;38;5;40m                    > to meals. It can also be quite comforting, especially when shared with friends\u001b[0m\n",
       "\u001b[1;38;5;40m                    > or family during gatherings. However, I do enjoy it in moderation, as too much\u001b[0m\n",
       "\u001b[1;38;5;40m                    > spice can be overwhelming. Overall, I appreciate the variety that spicy food\u001b[0m\n",
       "\u001b[1;38;5;40m                    > brings to my diet!\u001b[0m\n"
      ]
     },
     "metadata": {},
     "output_type": "display_data"
    },
    {
     "data": {
      "text/html": [
       "<pre style=\"margin:0px;;white-space:pre;overflow-x:auto;line-height:normal;font-family:Menlo,'DejaVu Sans Mono',consolas,'Courier New',monospace\"><span style=\"color: #00d700; text-decoration-color: #00d700; font-weight: bold; text-decoration: underline\">Freja Johansen</span><span style=\"color: #00d700; text-decoration-color: #00d700; font-weight: bold\"> acts: [TALK] </span>\n",
       "<span style=\"color: #00d700; text-decoration-color: #00d700; font-weight: bold\">                    &gt; Yes, I do like spicy food. I enjoy the complexity and depth of flavors that</span>\n",
       "<span style=\"color: #00d700; text-decoration-color: #00d700; font-weight: bold\">                    &gt; spices can bring to a dish. It adds an exciting element to meals and can</span>\n",
       "<span style=\"color: #00d700; text-decoration-color: #00d700; font-weight: bold\">                    &gt; enhance the overall dining experience. However, I prefer it to be balanced, so</span>\n",
       "<span style=\"color: #00d700; text-decoration-color: #00d700; font-weight: bold\">                    &gt; it doesn't overpower the other flavors.</span>\n",
       "</pre>\n"
      ],
      "text/plain": [
       "\u001b[1;4;38;5;40mFreja Johansen\u001b[0m\u001b[1;38;5;40m acts: \u001b[0m\u001b[1;38;5;40m[\u001b[0m\u001b[1;38;5;40mTALK\u001b[0m\u001b[1;38;5;40m]\u001b[0m\u001b[1;38;5;40m \u001b[0m\n",
       "\u001b[1;38;5;40m                    > Yes, I do like spicy food. I enjoy the complexity and depth of flavors that\u001b[0m\n",
       "\u001b[1;38;5;40m                    > spices can bring to a dish. It adds an exciting element to meals and can\u001b[0m\n",
       "\u001b[1;38;5;40m                    > enhance the overall dining experience. However, I prefer it to be balanced, so\u001b[0m\n",
       "\u001b[1;38;5;40m                    > it doesn't overpower the other flavors.\u001b[0m\n"
      ]
     },
     "metadata": {},
     "output_type": "display_data"
    },
    {
     "data": {
      "text/html": [
       "<pre style=\"margin:0px;;white-space:pre;overflow-x:auto;line-height:normal;font-family:Menlo,'DejaVu Sans Mono',consolas,'Courier New',monospace\"><span style=\"color: #d0d0d0; text-decoration-color: #d0d0d0; text-decoration: underline\">Emil Bergstrom</span><span style=\"color: #d0d0d0; text-decoration-color: #d0d0d0\"> acts: </span><span style=\"color: #d0d0d0; text-decoration-color: #d0d0d0; font-weight: bold\">[</span><span style=\"color: #d0d0d0; text-decoration-color: #d0d0d0\">DONE</span><span style=\"color: #d0d0d0; text-decoration-color: #d0d0d0; font-weight: bold\">]</span><span style=\"color: #d0d0d0; text-decoration-color: #d0d0d0\"> </span>\n",
       "\n",
       "</pre>\n"
      ],
      "text/plain": [
       "\u001b[4;38;5;252mEmil Bergstrom\u001b[0m\u001b[38;5;252m acts: \u001b[0m\u001b[1;38;5;252m[\u001b[0m\u001b[38;5;252mDONE\u001b[0m\u001b[1;38;5;252m]\u001b[0m\u001b[38;5;252m \u001b[0m\n",
       "\n"
      ]
     },
     "metadata": {},
     "output_type": "display_data"
    },
    {
     "data": {
      "text/html": [
       "<pre style=\"margin:0px;;white-space:pre;overflow-x:auto;line-height:normal;font-family:Menlo,'DejaVu Sans Mono',consolas,'Courier New',monospace\"><span style=\"color: #d0d0d0; text-decoration-color: #d0d0d0; text-decoration: underline\">Ingrid Lund</span><span style=\"color: #d0d0d0; text-decoration-color: #d0d0d0\"> acts: </span><span style=\"color: #d0d0d0; text-decoration-color: #d0d0d0; font-weight: bold\">[</span><span style=\"color: #d0d0d0; text-decoration-color: #d0d0d0\">DONE</span><span style=\"color: #d0d0d0; text-decoration-color: #d0d0d0; font-weight: bold\">]</span><span style=\"color: #d0d0d0; text-decoration-color: #d0d0d0\"> </span>\n",
       "\n",
       "</pre>\n"
      ],
      "text/plain": [
       "\u001b[4;38;5;252mIngrid Lund\u001b[0m\u001b[38;5;252m acts: \u001b[0m\u001b[1;38;5;252m[\u001b[0m\u001b[38;5;252mDONE\u001b[0m\u001b[1;38;5;252m]\u001b[0m\u001b[38;5;252m \u001b[0m\n",
       "\n"
      ]
     },
     "metadata": {},
     "output_type": "display_data"
    },
    {
     "name": "stderr",
     "output_type": "stream",
     "text": [
      "2025-03-24 21:13:57,455 - tinytroupe - WARNING - [Emil Knudsen] Action similarity is too high (1), replacing it with DONE.\n"
     ]
    },
    {
     "data": {
      "text/html": [
       "<pre style=\"margin:0px;;white-space:pre;overflow-x:auto;line-height:normal;font-family:Menlo,'DejaVu Sans Mono',consolas,'Courier New',monospace\"><span style=\"color: #d0d0d0; text-decoration-color: #d0d0d0; text-decoration: underline\">Emil Knudsen</span><span style=\"color: #d0d0d0; text-decoration-color: #d0d0d0\"> acts: </span><span style=\"color: #d0d0d0; text-decoration-color: #d0d0d0; font-weight: bold\">[</span><span style=\"color: #d0d0d0; text-decoration-color: #d0d0d0\">DONE</span><span style=\"color: #d0d0d0; text-decoration-color: #d0d0d0; font-weight: bold\">]</span><span style=\"color: #d0d0d0; text-decoration-color: #d0d0d0\"> </span>\n",
       "\n",
       "</pre>\n"
      ],
      "text/plain": [
       "\u001b[4;38;5;252mEmil Knudsen\u001b[0m\u001b[38;5;252m acts: \u001b[0m\u001b[1;38;5;252m[\u001b[0m\u001b[38;5;252mDONE\u001b[0m\u001b[1;38;5;252m]\u001b[0m\u001b[38;5;252m \u001b[0m\n",
       "\n"
      ]
     },
     "metadata": {},
     "output_type": "display_data"
    },
    {
     "data": {
      "text/html": [
       "<pre style=\"margin:0px;;white-space:pre;overflow-x:auto;line-height:normal;font-family:Menlo,'DejaVu Sans Mono',consolas,'Courier New',monospace\"><span style=\"color: #d0d0d0; text-decoration-color: #d0d0d0; text-decoration: underline\">Astrid Johansen</span><span style=\"color: #d0d0d0; text-decoration-color: #d0d0d0\"> acts: </span><span style=\"color: #d0d0d0; text-decoration-color: #d0d0d0; font-weight: bold\">[</span><span style=\"color: #d0d0d0; text-decoration-color: #d0d0d0\">DONE</span><span style=\"color: #d0d0d0; text-decoration-color: #d0d0d0; font-weight: bold\">]</span><span style=\"color: #d0d0d0; text-decoration-color: #d0d0d0\"> </span>\n",
       "\n",
       "</pre>\n"
      ],
      "text/plain": [
       "\u001b[4;38;5;252mAstrid Johansen\u001b[0m\u001b[38;5;252m acts: \u001b[0m\u001b[1;38;5;252m[\u001b[0m\u001b[38;5;252mDONE\u001b[0m\u001b[1;38;5;252m]\u001b[0m\u001b[38;5;252m \u001b[0m\n",
       "\n"
      ]
     },
     "metadata": {},
     "output_type": "display_data"
    },
    {
     "data": {
      "text/html": [
       "<pre style=\"margin:0px;;white-space:pre;overflow-x:auto;line-height:normal;font-family:Menlo,'DejaVu Sans Mono',consolas,'Courier New',monospace\"><span style=\"color: #d0d0d0; text-decoration-color: #d0d0d0; text-decoration: underline\">Ingrid Madsen</span><span style=\"color: #d0d0d0; text-decoration-color: #d0d0d0\"> acts: </span><span style=\"color: #d0d0d0; text-decoration-color: #d0d0d0; font-weight: bold\">[</span><span style=\"color: #d0d0d0; text-decoration-color: #d0d0d0\">DONE</span><span style=\"color: #d0d0d0; text-decoration-color: #d0d0d0; font-weight: bold\">]</span><span style=\"color: #d0d0d0; text-decoration-color: #d0d0d0\"> </span>\n",
       "\n",
       "</pre>\n"
      ],
      "text/plain": [
       "\u001b[4;38;5;252mIngrid Madsen\u001b[0m\u001b[38;5;252m acts: \u001b[0m\u001b[1;38;5;252m[\u001b[0m\u001b[38;5;252mDONE\u001b[0m\u001b[1;38;5;252m]\u001b[0m\u001b[38;5;252m \u001b[0m\n",
       "\n"
      ]
     },
     "metadata": {},
     "output_type": "display_data"
    },
    {
     "data": {
      "text/html": [
       "<pre style=\"margin:0px;;white-space:pre;overflow-x:auto;line-height:normal;font-family:Menlo,'DejaVu Sans Mono',consolas,'Courier New',monospace\"><span style=\"color: #d0d0d0; text-decoration-color: #d0d0d0; text-decoration: underline\">Freja Johansen</span><span style=\"color: #d0d0d0; text-decoration-color: #d0d0d0\"> acts: </span><span style=\"color: #d0d0d0; text-decoration-color: #d0d0d0; font-weight: bold\">[</span><span style=\"color: #d0d0d0; text-decoration-color: #d0d0d0\">DONE</span><span style=\"color: #d0d0d0; text-decoration-color: #d0d0d0; font-weight: bold\">]</span><span style=\"color: #d0d0d0; text-decoration-color: #d0d0d0\"> </span>\n",
       "\n",
       "</pre>\n"
      ],
      "text/plain": [
       "\u001b[4;38;5;252mFreja Johansen\u001b[0m\u001b[38;5;252m acts: \u001b[0m\u001b[1;38;5;252m[\u001b[0m\u001b[38;5;252mDONE\u001b[0m\u001b[1;38;5;252m]\u001b[0m\u001b[38;5;252m \u001b[0m\n",
       "\n"
      ]
     },
     "metadata": {},
     "output_type": "display_data"
    },
    {
     "data": {
      "text/html": [
       "<pre style=\"margin:0px;;white-space:pre;overflow-x:auto;line-height:normal;font-family:Menlo,'DejaVu Sans Mono',consolas,'Courier New',monospace\"><span style=\"color: #00d700; text-decoration-color: #00d700; font-weight: bold; text-decoration: underline\">Astrid Nilsen</span><span style=\"color: #00d700; text-decoration-color: #00d700; font-weight: bold\"> acts: [TALK] </span>\n",
       "<span style=\"color: #00d700; text-decoration-color: #00d700; font-weight: bold\">                   &gt; Yes, I do like spicy food! I find that it adds a lot of flavor and excitement</span>\n",
       "<span style=\"color: #00d700; text-decoration-color: #00d700; font-weight: bold\">                   &gt; to meals. Spicy dishes often have a depth of flavor that I really enjoy, and</span>\n",
       "<span style=\"color: #00d700; text-decoration-color: #00d700; font-weight: bold\">                   &gt; they can be quite comforting in a way. Plus, I love trying different cuisines</span>\n",
       "<span style=\"color: #00d700; text-decoration-color: #00d700; font-weight: bold\">                   &gt; that incorporate spices, as it allows me to explore new tastes and cultures.</span>\n",
       "<span style=\"color: #00d700; text-decoration-color: #00d700; font-weight: bold\">                   &gt; However, I do have to be careful not to go overboard, as it can sometimes be a</span>\n",
       "<span style=\"color: #00d700; text-decoration-color: #00d700; font-weight: bold\">                   &gt; bit too intense for me!</span>\n",
       "</pre>\n"
      ],
      "text/plain": [
       "\u001b[1;4;38;5;40mAstrid Nilsen\u001b[0m\u001b[1;38;5;40m acts: \u001b[0m\u001b[1;38;5;40m[\u001b[0m\u001b[1;38;5;40mTALK\u001b[0m\u001b[1;38;5;40m]\u001b[0m\u001b[1;38;5;40m \u001b[0m\n",
       "\u001b[1;38;5;40m                   > Yes, I do like spicy food! I find that it adds a lot of flavor and excitement\u001b[0m\n",
       "\u001b[1;38;5;40m                   > to meals. Spicy dishes often have a depth of flavor that I really enjoy, and\u001b[0m\n",
       "\u001b[1;38;5;40m                   > they can be quite comforting in a way. Plus, I love trying different cuisines\u001b[0m\n",
       "\u001b[1;38;5;40m                   > that incorporate spices, as it allows me to explore new tastes and cultures.\u001b[0m\n",
       "\u001b[1;38;5;40m                   > However, I do have to be careful not to go overboard, as it can sometimes be a\u001b[0m\n",
       "\u001b[1;38;5;40m                   > bit too intense for me!\u001b[0m\n"
      ]
     },
     "metadata": {},
     "output_type": "display_data"
    },
    {
     "data": {
      "text/html": [
       "<pre style=\"margin:0px;;white-space:pre;overflow-x:auto;line-height:normal;font-family:Menlo,'DejaVu Sans Mono',consolas,'Courier New',monospace\"><span style=\"color: #d0d0d0; text-decoration-color: #d0d0d0; text-decoration: underline\">Ingrid Knudsen</span><span style=\"color: #d0d0d0; text-decoration-color: #d0d0d0\"> acts: </span><span style=\"color: #d0d0d0; text-decoration-color: #d0d0d0; font-weight: bold\">[</span><span style=\"color: #d0d0d0; text-decoration-color: #d0d0d0\">DONE</span><span style=\"color: #d0d0d0; text-decoration-color: #d0d0d0; font-weight: bold\">]</span><span style=\"color: #d0d0d0; text-decoration-color: #d0d0d0\"> </span>\n",
       "\n",
       "</pre>\n"
      ],
      "text/plain": [
       "\u001b[4;38;5;252mIngrid Knudsen\u001b[0m\u001b[38;5;252m acts: \u001b[0m\u001b[1;38;5;252m[\u001b[0m\u001b[38;5;252mDONE\u001b[0m\u001b[1;38;5;252m]\u001b[0m\u001b[38;5;252m \u001b[0m\n",
       "\n"
      ]
     },
     "metadata": {},
     "output_type": "display_data"
    },
    {
     "name": "stderr",
     "output_type": "stream",
     "text": [
      "2025-03-24 21:13:58,932 - tinytroupe - WARNING - [Henrik Eriksen] Action similarity is too high (1), replacing it with DONE.\n"
     ]
    },
    {
     "data": {
      "text/html": [
       "<pre style=\"margin:0px;;white-space:pre;overflow-x:auto;line-height:normal;font-family:Menlo,'DejaVu Sans Mono',consolas,'Courier New',monospace\"><span style=\"color: #d0d0d0; text-decoration-color: #d0d0d0; text-decoration: underline\">Henrik Eriksen</span><span style=\"color: #d0d0d0; text-decoration-color: #d0d0d0\"> acts: </span><span style=\"color: #d0d0d0; text-decoration-color: #d0d0d0; font-weight: bold\">[</span><span style=\"color: #d0d0d0; text-decoration-color: #d0d0d0\">DONE</span><span style=\"color: #d0d0d0; text-decoration-color: #d0d0d0; font-weight: bold\">]</span><span style=\"color: #d0d0d0; text-decoration-color: #d0d0d0\"> </span>\n",
       "\n",
       "</pre>\n"
      ],
      "text/plain": [
       "\u001b[4;38;5;252mHenrik Eriksen\u001b[0m\u001b[38;5;252m acts: \u001b[0m\u001b[1;38;5;252m[\u001b[0m\u001b[38;5;252mDONE\u001b[0m\u001b[1;38;5;252m]\u001b[0m\u001b[38;5;252m \u001b[0m\n",
       "\n"
      ]
     },
     "metadata": {},
     "output_type": "display_data"
    },
    {
     "data": {
      "text/html": [
       "<pre style=\"margin:0px;;white-space:pre;overflow-x:auto;line-height:normal;font-family:Menlo,'DejaVu Sans Mono',consolas,'Courier New',monospace\"><span style=\"color: #00d700; text-decoration-color: #00d700; font-weight: bold; text-decoration: underline\">Magnus Knudsen</span><span style=\"color: #00d700; text-decoration-color: #00d700; font-weight: bold\"> acts: [TALK] </span>\n",
       "<span style=\"color: #00d700; text-decoration-color: #00d700; font-weight: bold\">                    &gt; Hello, I'm Magnus Knudsen, a </span><span style=\"color: #00d700; text-decoration-color: #00d700; font-weight: bold\">40</span><span style=\"color: #00d700; text-decoration-color: #00d700; font-weight: bold\">-year-old software engineer from Norway. I work</span>\n",
       "<span style=\"color: #00d700; text-decoration-color: #00d700; font-weight: bold\">                    &gt; at Tech Innovations AS, focusing on developing smart home technologies. My</span>\n",
       "<span style=\"color: #00d700; text-decoration-color: #00d700; font-weight: bold\">                    &gt; interests include technology and engineering, outdoor sports like hiking and</span>\n",
       "<span style=\"color: #00d700; text-decoration-color: #00d700; font-weight: bold\">                    &gt; skiing, reading science fiction, and participating in community events. I</span>\n",
       "<span style=\"color: #00d700; text-decoration-color: #00d700; font-weight: bold\">                    &gt; enjoy innovative gadgets, spending time in nature, cooking traditional</span>\n",
       "<span style=\"color: #00d700; text-decoration-color: #00d700; font-weight: bold\">                    &gt; Norwegian dishes, and quiet evenings at home with a good book. I dislike</span>\n",
       "<span style=\"color: #00d700; text-decoration-color: #00d700; font-weight: bold\">                    &gt; disorganization, crowded places, and small talk.</span>\n",
       "</pre>\n"
      ],
      "text/plain": [
       "\u001b[1;4;38;5;40mMagnus Knudsen\u001b[0m\u001b[1;38;5;40m acts: \u001b[0m\u001b[1;38;5;40m[\u001b[0m\u001b[1;38;5;40mTALK\u001b[0m\u001b[1;38;5;40m]\u001b[0m\u001b[1;38;5;40m \u001b[0m\n",
       "\u001b[1;38;5;40m                    > Hello, I'm Magnus Knudsen, a \u001b[0m\u001b[1;38;5;40m40\u001b[0m\u001b[1;38;5;40m-year-old software engineer from Norway. I work\u001b[0m\n",
       "\u001b[1;38;5;40m                    > at Tech Innovations AS, focusing on developing smart home technologies. My\u001b[0m\n",
       "\u001b[1;38;5;40m                    > interests include technology and engineering, outdoor sports like hiking and\u001b[0m\n",
       "\u001b[1;38;5;40m                    > skiing, reading science fiction, and participating in community events. I\u001b[0m\n",
       "\u001b[1;38;5;40m                    > enjoy innovative gadgets, spending time in nature, cooking traditional\u001b[0m\n",
       "\u001b[1;38;5;40m                    > Norwegian dishes, and quiet evenings at home with a good book. I dislike\u001b[0m\n",
       "\u001b[1;38;5;40m                    > disorganization, crowded places, and small talk.\u001b[0m\n"
      ]
     },
     "metadata": {},
     "output_type": "display_data"
    },
    {
     "data": {
      "text/html": [
       "<pre style=\"margin:0px;;white-space:pre;overflow-x:auto;line-height:normal;font-family:Menlo,'DejaVu Sans Mono',consolas,'Courier New',monospace\"><span style=\"color: #00d700; text-decoration-color: #00d700; font-weight: bold; text-decoration: underline\">Ingrid Sørensen</span><span style=\"color: #00d700; text-decoration-color: #00d700; font-weight: bold\"> acts: [TALK] </span>\n",
       "<span style=\"color: #00d700; text-decoration-color: #00d700; font-weight: bold\">                     &gt; Hello! My name is Ingrid Sørensen. I'm a </span><span style=\"color: #00d700; text-decoration-color: #00d700; font-weight: bold\">60</span><span style=\"color: #00d700; text-decoration-color: #00d700; font-weight: bold\">-year-old social worker from Oslo,</span>\n",
       "<span style=\"color: #00d700; text-decoration-color: #00d700; font-weight: bold\">                     &gt; Norway. I specialize in healthcare and social services for the elderly, and I</span>\n",
       "<span style=\"color: #00d700; text-decoration-color: #00d700; font-weight: bold\">                     &gt; find great fulfillment in helping others.   As for my interests, here are my</span>\n",
       "<span style=\"color: #00d700; text-decoration-color: #00d700; font-weight: bold\">                     &gt; top </span><span style=\"color: #00d700; text-decoration-color: #00d700; font-weight: bold\">10</span><span style=\"color: #00d700; text-decoration-color: #00d700; font-weight: bold\">: </span><span style=\"color: #00d700; text-decoration-color: #00d700; font-weight: bold\">1</span><span style=\"color: #00d700; text-decoration-color: #00d700; font-weight: bold\">. Volunteering at local charities </span><span style=\"color: #00d700; text-decoration-color: #00d700; font-weight: bold\">2</span><span style=\"color: #00d700; text-decoration-color: #00d700; font-weight: bold\">. Participating in community</span>\n",
       "<span style=\"color: #00d700; text-decoration-color: #00d700; font-weight: bold\">                     &gt; sports events </span><span style=\"color: #00d700; text-decoration-color: #00d700; font-weight: bold\">3</span><span style=\"color: #00d700; text-decoration-color: #00d700; font-weight: bold\">. Reading about psychology and social issues </span><span style=\"color: #00d700; text-decoration-color: #00d700; font-weight: bold\">4</span><span style=\"color: #00d700; text-decoration-color: #00d700; font-weight: bold\">. Traveling,</span>\n",
       "<span style=\"color: #00d700; text-decoration-color: #00d700; font-weight: bold\">                     &gt; especially to Asia </span><span style=\"color: #00d700; text-decoration-color: #00d700; font-weight: bold\">5</span><span style=\"color: #00d700; text-decoration-color: #00d700; font-weight: bold\">. Outdoor activities like hiking and cycling </span><span style=\"color: #00d700; text-decoration-color: #00d700; font-weight: bold\">6</span><span style=\"color: #00d700; text-decoration-color: #00d700; font-weight: bold\">. Cooking</span>\n",
       "<span style=\"color: #00d700; text-decoration-color: #00d700; font-weight: bold\">                     &gt; traditional Norwegian dishes </span><span style=\"color: #00d700; text-decoration-color: #00d700; font-weight: bold\">7</span><span style=\"color: #00d700; text-decoration-color: #00d700; font-weight: bold\">. Spending time with family and friends </span><span style=\"color: #00d700; text-decoration-color: #00d700; font-weight: bold\">8</span><span style=\"color: #00d700; text-decoration-color: #00d700; font-weight: bold\">.</span>\n",
       "<span style=\"color: #00d700; text-decoration-color: #00d700; font-weight: bold\">                     &gt; Listening to classical music and jazz </span><span style=\"color: #00d700; text-decoration-color: #00d700; font-weight: bold\">9</span><span style=\"color: #00d700; text-decoration-color: #00d700; font-weight: bold\">. Photography, particularly capturing</span>\n",
       "<span style=\"color: #00d700; text-decoration-color: #00d700; font-weight: bold\">                     &gt; moments from my travels </span><span style=\"color: #00d700; text-decoration-color: #00d700; font-weight: bold\">10</span><span style=\"color: #00d700; text-decoration-color: #00d700; font-weight: bold\">. Engaging in meaningful conversations and sharing</span>\n",
       "<span style=\"color: #00d700; text-decoration-color: #00d700; font-weight: bold\">                     &gt; life experiences.  Regarding food styles, I enjoy traditional Norwegian</span>\n",
       "<span style=\"color: #00d700; text-decoration-color: #00d700; font-weight: bold\">                     &gt; cuisine because it reminds me of my childhood and family gatherings. I also</span>\n",
       "<span style=\"color: #00d700; text-decoration-color: #00d700; font-weight: bold\">                     &gt; appreciate Asian food for its variety and flavors, which I discovered during</span>\n",
       "<span style=\"color: #00d700; text-decoration-color: #00d700; font-weight: bold\">                     &gt; my travels.   Now, about spicy food: Yes, I do like spicy food! I find that</span>\n",
       "<span style=\"color: #00d700; text-decoration-color: #00d700; font-weight: bold\">                     &gt; it adds an exciting flavor to dishes and (...)</span>\n",
       "</pre>\n"
      ],
      "text/plain": [
       "\u001b[1;4;38;5;40mIngrid Sørensen\u001b[0m\u001b[1;38;5;40m acts: \u001b[0m\u001b[1;38;5;40m[\u001b[0m\u001b[1;38;5;40mTALK\u001b[0m\u001b[1;38;5;40m]\u001b[0m\u001b[1;38;5;40m \u001b[0m\n",
       "\u001b[1;38;5;40m                     > Hello! My name is Ingrid Sørensen. I'm a \u001b[0m\u001b[1;38;5;40m60\u001b[0m\u001b[1;38;5;40m-year-old social worker from Oslo,\u001b[0m\n",
       "\u001b[1;38;5;40m                     > Norway. I specialize in healthcare and social services for the elderly, and I\u001b[0m\n",
       "\u001b[1;38;5;40m                     > find great fulfillment in helping others.   As for my interests, here are my\u001b[0m\n",
       "\u001b[1;38;5;40m                     > top \u001b[0m\u001b[1;38;5;40m10\u001b[0m\u001b[1;38;5;40m: \u001b[0m\u001b[1;38;5;40m1\u001b[0m\u001b[1;38;5;40m. Volunteering at local charities \u001b[0m\u001b[1;38;5;40m2\u001b[0m\u001b[1;38;5;40m. Participating in community\u001b[0m\n",
       "\u001b[1;38;5;40m                     > sports events \u001b[0m\u001b[1;38;5;40m3\u001b[0m\u001b[1;38;5;40m. Reading about psychology and social issues \u001b[0m\u001b[1;38;5;40m4\u001b[0m\u001b[1;38;5;40m. Traveling,\u001b[0m\n",
       "\u001b[1;38;5;40m                     > especially to Asia \u001b[0m\u001b[1;38;5;40m5\u001b[0m\u001b[1;38;5;40m. Outdoor activities like hiking and cycling \u001b[0m\u001b[1;38;5;40m6\u001b[0m\u001b[1;38;5;40m. Cooking\u001b[0m\n",
       "\u001b[1;38;5;40m                     > traditional Norwegian dishes \u001b[0m\u001b[1;38;5;40m7\u001b[0m\u001b[1;38;5;40m. Spending time with family and friends \u001b[0m\u001b[1;38;5;40m8\u001b[0m\u001b[1;38;5;40m.\u001b[0m\n",
       "\u001b[1;38;5;40m                     > Listening to classical music and jazz \u001b[0m\u001b[1;38;5;40m9\u001b[0m\u001b[1;38;5;40m. Photography, particularly capturing\u001b[0m\n",
       "\u001b[1;38;5;40m                     > moments from my travels \u001b[0m\u001b[1;38;5;40m10\u001b[0m\u001b[1;38;5;40m. Engaging in meaningful conversations and sharing\u001b[0m\n",
       "\u001b[1;38;5;40m                     > life experiences.  Regarding food styles, I enjoy traditional Norwegian\u001b[0m\n",
       "\u001b[1;38;5;40m                     > cuisine because it reminds me of my childhood and family gatherings. I also\u001b[0m\n",
       "\u001b[1;38;5;40m                     > appreciate Asian food for its variety and flavors, which I discovered during\u001b[0m\n",
       "\u001b[1;38;5;40m                     > my travels.   Now, about spicy food: Yes, I do like spicy food! I find that\u001b[0m\n",
       "\u001b[1;38;5;40m                     > it adds an exciting flavor to dishes and \u001b[0m\u001b[1;38;5;40m(\u001b[0m\u001b[1;38;5;40m...\u001b[0m\u001b[1;38;5;40m)\u001b[0m\n"
      ]
     },
     "metadata": {},
     "output_type": "display_data"
    },
    {
     "data": {
      "text/html": [
       "<pre style=\"margin:0px;;white-space:pre;overflow-x:auto;line-height:normal;font-family:Menlo,'DejaVu Sans Mono',consolas,'Courier New',monospace\"><span style=\"color: #00d700; text-decoration-color: #00d700; font-weight: bold; text-decoration: underline\">Lars Nilsen</span><span style=\"color: #00d700; text-decoration-color: #00d700; font-weight: bold\"> acts: [TALK] </span>\n",
       "<span style=\"color: #00d700; text-decoration-color: #00d700; font-weight: bold\">                 &gt; Hello! I'm Lars Nilsen, a </span><span style=\"color: #00d700; text-decoration-color: #00d700; font-weight: bold\">28</span><span style=\"color: #00d700; text-decoration-color: #00d700; font-weight: bold\">-year-old from Oslo, Norway. I'm currently unemployed</span>\n",
       "<span style=\"color: #00d700; text-decoration-color: #00d700; font-weight: bold\">                 &gt; after leaving a part-time job in retail due to stress and burnout. I'm actively</span>\n",
       "<span style=\"color: #00d700; text-decoration-color: #00d700; font-weight: bold\">                 &gt; seeking new opportunities and have experience in customer service. My interests</span>\n",
       "<span style=\"color: #00d700; text-decoration-color: #00d700; font-weight: bold\">                 &gt; include cooking and baking, exploring local markets, watching cooking shows,</span>\n",
       "<span style=\"color: #00d700; text-decoration-color: #00d700; font-weight: bold\">                 &gt; reading novels (especially mysteries), and spending time in nature. My favorite</span>\n",
       "<span style=\"color: #00d700; text-decoration-color: #00d700; font-weight: bold\">                 &gt; food styles are traditional Norwegian dishes because they remind me of my</span>\n",
       "<span style=\"color: #00d700; text-decoration-color: #00d700; font-weight: bold\">                 &gt; childhood and my grandmother's cooking. I also enjoy comfort food that brings</span>\n",
       "<span style=\"color: #00d700; text-decoration-color: #00d700; font-weight: bold\">                 &gt; people together. I believe food is a source of comfort and connection, which is</span>\n",
       "<span style=\"color: #00d700; text-decoration-color: #00d700; font-weight: bold\">                 &gt; why I love experimenting with recipes and sharing meals with friends and family.</span>\n",
       "</pre>\n"
      ],
      "text/plain": [
       "\u001b[1;4;38;5;40mLars Nilsen\u001b[0m\u001b[1;38;5;40m acts: \u001b[0m\u001b[1;38;5;40m[\u001b[0m\u001b[1;38;5;40mTALK\u001b[0m\u001b[1;38;5;40m]\u001b[0m\u001b[1;38;5;40m \u001b[0m\n",
       "\u001b[1;38;5;40m                 > Hello! I'm Lars Nilsen, a \u001b[0m\u001b[1;38;5;40m28\u001b[0m\u001b[1;38;5;40m-year-old from Oslo, Norway. I'm currently unemployed\u001b[0m\n",
       "\u001b[1;38;5;40m                 > after leaving a part-time job in retail due to stress and burnout. I'm actively\u001b[0m\n",
       "\u001b[1;38;5;40m                 > seeking new opportunities and have experience in customer service. My interests\u001b[0m\n",
       "\u001b[1;38;5;40m                 > include cooking and baking, exploring local markets, watching cooking shows,\u001b[0m\n",
       "\u001b[1;38;5;40m                 > reading novels \u001b[0m\u001b[1;38;5;40m(\u001b[0m\u001b[1;38;5;40mespecially mysteries\u001b[0m\u001b[1;38;5;40m)\u001b[0m\u001b[1;38;5;40m, and spending time in nature. My favorite\u001b[0m\n",
       "\u001b[1;38;5;40m                 > food styles are traditional Norwegian dishes because they remind me of my\u001b[0m\n",
       "\u001b[1;38;5;40m                 > childhood and my grandmother's cooking. I also enjoy comfort food that brings\u001b[0m\n",
       "\u001b[1;38;5;40m                 > people together. I believe food is a source of comfort and connection, which is\u001b[0m\n",
       "\u001b[1;38;5;40m                 > why I love experimenting with recipes and sharing meals with friends and family.\u001b[0m\n"
      ]
     },
     "metadata": {},
     "output_type": "display_data"
    },
    {
     "data": {
      "text/html": [
       "<pre style=\"margin:0px;;white-space:pre;overflow-x:auto;line-height:normal;font-family:Menlo,'DejaVu Sans Mono',consolas,'Courier New',monospace\"><span style=\"color: #d0d0d0; text-decoration-color: #d0d0d0; text-decoration: underline\">Astrid Nilsen</span><span style=\"color: #d0d0d0; text-decoration-color: #d0d0d0\"> acts: </span><span style=\"color: #d0d0d0; text-decoration-color: #d0d0d0; font-weight: bold\">[</span><span style=\"color: #d0d0d0; text-decoration-color: #d0d0d0\">DONE</span><span style=\"color: #d0d0d0; text-decoration-color: #d0d0d0; font-weight: bold\">]</span><span style=\"color: #d0d0d0; text-decoration-color: #d0d0d0\"> </span>\n",
       "\n",
       "</pre>\n"
      ],
      "text/plain": [
       "\u001b[4;38;5;252mAstrid Nilsen\u001b[0m\u001b[38;5;252m acts: \u001b[0m\u001b[1;38;5;252m[\u001b[0m\u001b[38;5;252mDONE\u001b[0m\u001b[1;38;5;252m]\u001b[0m\u001b[38;5;252m \u001b[0m\n",
       "\n"
      ]
     },
     "metadata": {},
     "output_type": "display_data"
    },
    {
     "data": {
      "text/html": [
       "<pre style=\"margin:0px;;white-space:pre;overflow-x:auto;line-height:normal;font-family:Menlo,'DejaVu Sans Mono',consolas,'Courier New',monospace\"><span style=\"color: #00d700; text-decoration-color: #00d700; font-weight: bold; text-decoration: underline\">Magnus Sørensen</span><span style=\"color: #00d700; text-decoration-color: #00d700; font-weight: bold\"> acts: [TALK] </span>\n",
       "<span style=\"color: #00d700; text-decoration-color: #00d700; font-weight: bold\">                     &gt; Hello, I'm Magnus Sørensen, a </span><span style=\"color: #00d700; text-decoration-color: #00d700; font-weight: bold\">45</span><span style=\"color: #00d700; text-decoration-color: #00d700; font-weight: bold\">-year-old financial analyst from Aarhus,</span>\n",
       "<span style=\"color: #00d700; text-decoration-color: #00d700; font-weight: bold\">                     &gt; Denmark. I work at Nordea Bank, where I analyze market trends and help</span>\n",
       "<span style=\"color: #00d700; text-decoration-color: #00d700; font-weight: bold\">                     &gt; clients make informed investment decisions. My interests include traveling to</span>\n",
       "<span style=\"color: #00d700; text-decoration-color: #00d700; font-weight: bold\">                     &gt; new countries, reading financial news, and participating in community</span>\n",
       "<span style=\"color: #00d700; text-decoration-color: #00d700; font-weight: bold\">                     &gt; service. As for food, I enjoy healthy options, particularly Mediterranean</span>\n",
       "<span style=\"color: #00d700; text-decoration-color: #00d700; font-weight: bold\">                     &gt; cuisine, because of its fresh ingredients and balanced flavors. I also</span>\n",
       "<span style=\"color: #00d700; text-decoration-color: #00d700; font-weight: bold\">                     &gt; appreciate local Danish dishes for their comfort and tradition.</span>\n",
       "</pre>\n"
      ],
      "text/plain": [
       "\u001b[1;4;38;5;40mMagnus Sørensen\u001b[0m\u001b[1;38;5;40m acts: \u001b[0m\u001b[1;38;5;40m[\u001b[0m\u001b[1;38;5;40mTALK\u001b[0m\u001b[1;38;5;40m]\u001b[0m\u001b[1;38;5;40m \u001b[0m\n",
       "\u001b[1;38;5;40m                     > Hello, I'm Magnus Sørensen, a \u001b[0m\u001b[1;38;5;40m45\u001b[0m\u001b[1;38;5;40m-year-old financial analyst from Aarhus,\u001b[0m\n",
       "\u001b[1;38;5;40m                     > Denmark. I work at Nordea Bank, where I analyze market trends and help\u001b[0m\n",
       "\u001b[1;38;5;40m                     > clients make informed investment decisions. My interests include traveling to\u001b[0m\n",
       "\u001b[1;38;5;40m                     > new countries, reading financial news, and participating in community\u001b[0m\n",
       "\u001b[1;38;5;40m                     > service. As for food, I enjoy healthy options, particularly Mediterranean\u001b[0m\n",
       "\u001b[1;38;5;40m                     > cuisine, because of its fresh ingredients and balanced flavors. I also\u001b[0m\n",
       "\u001b[1;38;5;40m                     > appreciate local Danish dishes for their comfort and tradition.\u001b[0m\n"
      ]
     },
     "metadata": {},
     "output_type": "display_data"
    },
    {
     "data": {
      "text/html": [
       "<pre style=\"margin:0px;;white-space:pre;overflow-x:auto;line-height:normal;font-family:Menlo,'DejaVu Sans Mono',consolas,'Courier New',monospace\"><span style=\"color: #00d700; text-decoration-color: #00d700; font-weight: bold; text-decoration: underline\">Magnus Knudsen</span><span style=\"color: #00d700; text-decoration-color: #00d700; font-weight: bold\"> acts: [TALK] </span>\n",
       "<span style=\"color: #00d700; text-decoration-color: #00d700; font-weight: bold\">                    &gt; Yes, I do like spicy food. I appreciate the flavor and complexity it adds to</span>\n",
       "<span style=\"color: #00d700; text-decoration-color: #00d700; font-weight: bold\">                    &gt; dishes. It can enhance the overall dining experience and make meals more</span>\n",
       "<span style=\"color: #00d700; text-decoration-color: #00d700; font-weight: bold\">                    &gt; exciting. However, I also enjoy balancing it with milder flavors to avoid</span>\n",
       "<span style=\"color: #00d700; text-decoration-color: #00d700; font-weight: bold\">                    &gt; overwhelming my palate.</span>\n",
       "</pre>\n"
      ],
      "text/plain": [
       "\u001b[1;4;38;5;40mMagnus Knudsen\u001b[0m\u001b[1;38;5;40m acts: \u001b[0m\u001b[1;38;5;40m[\u001b[0m\u001b[1;38;5;40mTALK\u001b[0m\u001b[1;38;5;40m]\u001b[0m\u001b[1;38;5;40m \u001b[0m\n",
       "\u001b[1;38;5;40m                    > Yes, I do like spicy food. I appreciate the flavor and complexity it adds to\u001b[0m\n",
       "\u001b[1;38;5;40m                    > dishes. It can enhance the overall dining experience and make meals more\u001b[0m\n",
       "\u001b[1;38;5;40m                    > exciting. However, I also enjoy balancing it with milder flavors to avoid\u001b[0m\n",
       "\u001b[1;38;5;40m                    > overwhelming my palate.\u001b[0m\n"
      ]
     },
     "metadata": {},
     "output_type": "display_data"
    },
    {
     "data": {
      "text/html": [
       "<pre style=\"margin:0px;;white-space:pre;overflow-x:auto;line-height:normal;font-family:Menlo,'DejaVu Sans Mono',consolas,'Courier New',monospace\"><span style=\"color: #00d700; text-decoration-color: #00d700; font-weight: bold; text-decoration: underline\">Sofie Lundgren</span><span style=\"color: #00d700; text-decoration-color: #00d700; font-weight: bold\"> acts: [TALK] </span>\n",
       "<span style=\"color: #00d700; text-decoration-color: #00d700; font-weight: bold\">                    &gt; Hi! I'm Sofie Lundgren, a </span><span style=\"color: #00d700; text-decoration-color: #00d700; font-weight: bold\">22</span><span style=\"color: #00d700; text-decoration-color: #00d700; font-weight: bold\">-year-old aspiring musician from Stockholm,</span>\n",
       "<span style=\"color: #00d700; text-decoration-color: #00d700; font-weight: bold\">                    &gt; Sweden. I focus on developing my music skills and perform at local open mic</span>\n",
       "<span style=\"color: #00d700; text-decoration-color: #00d700; font-weight: bold\">                    &gt; nights. My goal is to create a unique sound that resonates with my experiences</span>\n",
       "<span style=\"color: #00d700; text-decoration-color: #00d700; font-weight: bold\">                    &gt; and emotions.   As for my top-</span><span style=\"color: #00d700; text-decoration-color: #00d700; font-weight: bold\">10</span><span style=\"color: #00d700; text-decoration-color: #00d700; font-weight: bold\"> interests, they include: </span><span style=\"color: #00d700; text-decoration-color: #00d700; font-weight: bold\">1</span><span style=\"color: #00d700; text-decoration-color: #00d700; font-weight: bold\">. Music composition</span>\n",
       "<span style=\"color: #00d700; text-decoration-color: #00d700; font-weight: bold\">                    &gt; and performance </span><span style=\"color: #00d700; text-decoration-color: #00d700; font-weight: bold\">2</span><span style=\"color: #00d700; text-decoration-color: #00d700; font-weight: bold\">. Attending cultural events and festivals </span><span style=\"color: #00d700; text-decoration-color: #00d700; font-weight: bold\">3</span><span style=\"color: #00d700; text-decoration-color: #00d700; font-weight: bold\">. Exploring</span>\n",
       "<span style=\"color: #00d700; text-decoration-color: #00d700; font-weight: bold\">                    &gt; different genres of music </span><span style=\"color: #00d700; text-decoration-color: #00d700; font-weight: bold\">4</span><span style=\"color: #00d700; text-decoration-color: #00d700; font-weight: bold\">. Writing lyrics and poetry </span><span style=\"color: #00d700; text-decoration-color: #00d700; font-weight: bold\">5</span><span style=\"color: #00d700; text-decoration-color: #00d700; font-weight: bold\">. Collaborating with</span>\n",
       "<span style=\"color: #00d700; text-decoration-color: #00d700; font-weight: bold\">                    &gt; other artists </span><span style=\"color: #00d700; text-decoration-color: #00d700; font-weight: bold\">6</span><span style=\"color: #00d700; text-decoration-color: #00d700; font-weight: bold\">. Spending time in nature </span><span style=\"color: #00d700; text-decoration-color: #00d700; font-weight: bold\">7</span><span style=\"color: #00d700; text-decoration-color: #00d700; font-weight: bold\">. Volunteering at community centers</span>\n",
       "<span style=\"color: #00d700; text-decoration-color: #00d700; font-weight: bold\">                    &gt; </span><span style=\"color: #00d700; text-decoration-color: #00d700; font-weight: bold\">8</span><span style=\"color: #00d700; text-decoration-color: #00d700; font-weight: bold\">. Learning about music production </span><span style=\"color: #00d700; text-decoration-color: #00d700; font-weight: bold\">9</span><span style=\"color: #00d700; text-decoration-color: #00d700; font-weight: bold\">. Traveling to experience new cultures </span><span style=\"color: #00d700; text-decoration-color: #00d700; font-weight: bold\">10</span><span style=\"color: #00d700; text-decoration-color: #00d700; font-weight: bold\">.</span>\n",
       "<span style=\"color: #00d700; text-decoration-color: #00d700; font-weight: bold\">                    &gt; Engaging in artistic expression through various mediums.  Regarding food</span>\n",
       "<span style=\"color: #00d700; text-decoration-color: #00d700; font-weight: bold\">                    &gt; styles, I enjoy a variety of cuisines, but I particularly love Mediterranean</span>\n",
       "<span style=\"color: #00d700; text-decoration-color: #00d700; font-weight: bold\">                    &gt; and Asian food. I appreciate the fresh ingredients and bold flavors, which</span>\n",
       "<span style=\"color: #00d700; text-decoration-color: #00d700; font-weight: bold\">                    &gt; often inspire my creativity.   Now, about spicy food: Yes, I do like spicy</span>\n",
       "<span style=\"color: #00d700; text-decoration-color: #00d700; font-weight: bold\">                    &gt; food! I find that it adds an exciting kick to meals and can enhance the</span>\n",
       "<span style=\"color: #00d700; text-decoration-color: #00d700; font-weight: bold\">                    &gt; overall flavor experience. Plus, it ofte (...)</span>\n",
       "</pre>\n"
      ],
      "text/plain": [
       "\u001b[1;4;38;5;40mSofie Lundgren\u001b[0m\u001b[1;38;5;40m acts: \u001b[0m\u001b[1;38;5;40m[\u001b[0m\u001b[1;38;5;40mTALK\u001b[0m\u001b[1;38;5;40m]\u001b[0m\u001b[1;38;5;40m \u001b[0m\n",
       "\u001b[1;38;5;40m                    > Hi! I'm Sofie Lundgren, a \u001b[0m\u001b[1;38;5;40m22\u001b[0m\u001b[1;38;5;40m-year-old aspiring musician from Stockholm,\u001b[0m\n",
       "\u001b[1;38;5;40m                    > Sweden. I focus on developing my music skills and perform at local open mic\u001b[0m\n",
       "\u001b[1;38;5;40m                    > nights. My goal is to create a unique sound that resonates with my experiences\u001b[0m\n",
       "\u001b[1;38;5;40m                    > and emotions.   As for my top-\u001b[0m\u001b[1;38;5;40m10\u001b[0m\u001b[1;38;5;40m interests, they include: \u001b[0m\u001b[1;38;5;40m1\u001b[0m\u001b[1;38;5;40m. Music composition\u001b[0m\n",
       "\u001b[1;38;5;40m                    > and performance \u001b[0m\u001b[1;38;5;40m2\u001b[0m\u001b[1;38;5;40m. Attending cultural events and festivals \u001b[0m\u001b[1;38;5;40m3\u001b[0m\u001b[1;38;5;40m. Exploring\u001b[0m\n",
       "\u001b[1;38;5;40m                    > different genres of music \u001b[0m\u001b[1;38;5;40m4\u001b[0m\u001b[1;38;5;40m. Writing lyrics and poetry \u001b[0m\u001b[1;38;5;40m5\u001b[0m\u001b[1;38;5;40m. Collaborating with\u001b[0m\n",
       "\u001b[1;38;5;40m                    > other artists \u001b[0m\u001b[1;38;5;40m6\u001b[0m\u001b[1;38;5;40m. Spending time in nature \u001b[0m\u001b[1;38;5;40m7\u001b[0m\u001b[1;38;5;40m. Volunteering at community centers\u001b[0m\n",
       "\u001b[1;38;5;40m                    > \u001b[0m\u001b[1;38;5;40m8\u001b[0m\u001b[1;38;5;40m. Learning about music production \u001b[0m\u001b[1;38;5;40m9\u001b[0m\u001b[1;38;5;40m. Traveling to experience new cultures \u001b[0m\u001b[1;38;5;40m10\u001b[0m\u001b[1;38;5;40m.\u001b[0m\n",
       "\u001b[1;38;5;40m                    > Engaging in artistic expression through various mediums.  Regarding food\u001b[0m\n",
       "\u001b[1;38;5;40m                    > styles, I enjoy a variety of cuisines, but I particularly love Mediterranean\u001b[0m\n",
       "\u001b[1;38;5;40m                    > and Asian food. I appreciate the fresh ingredients and bold flavors, which\u001b[0m\n",
       "\u001b[1;38;5;40m                    > often inspire my creativity.   Now, about spicy food: Yes, I do like spicy\u001b[0m\n",
       "\u001b[1;38;5;40m                    > food! I find that it adds an exciting kick to meals and can enhance the\u001b[0m\n",
       "\u001b[1;38;5;40m                    > overall flavor experience. Plus, it ofte \u001b[0m\u001b[1;38;5;40m(\u001b[0m\u001b[1;38;5;40m...\u001b[0m\u001b[1;38;5;40m)\u001b[0m\n"
      ]
     },
     "metadata": {},
     "output_type": "display_data"
    },
    {
     "data": {
      "text/html": [
       "<pre style=\"margin:0px;;white-space:pre;overflow-x:auto;line-height:normal;font-family:Menlo,'DejaVu Sans Mono',consolas,'Courier New',monospace\"><span style=\"color: #00d700; text-decoration-color: #00d700; font-weight: bold; text-decoration: underline\">Oskar Berg</span><span style=\"color: #00d700; text-decoration-color: #00d700; font-weight: bold\"> acts: [TALK] </span>\n",
       "<span style=\"color: #00d700; text-decoration-color: #00d700; font-weight: bold\">                &gt; Hello! I'm Oskar Berg, a </span><span style=\"color: #00d700; text-decoration-color: #00d700; font-weight: bold\">25</span><span style=\"color: #00d700; text-decoration-color: #00d700; font-weight: bold\">-year-old registered nurse from Norway. I work at Oslo</span>\n",
       "<span style=\"color: #00d700; text-decoration-color: #00d700; font-weight: bold\">                &gt; University Hospital in the emergency department, where I provide care to patients</span>\n",
       "<span style=\"color: #00d700; text-decoration-color: #00d700; font-weight: bold\">                &gt; in need. I'm passionate about patient care and mental health advocacy.   As for my</span>\n",
       "<span style=\"color: #00d700; text-decoration-color: #00d700; font-weight: bold\">                &gt; interests, here are my top </span><span style=\"color: #00d700; text-decoration-color: #00d700; font-weight: bold\">10</span><span style=\"color: #00d700; text-decoration-color: #00d700; font-weight: bold\">: </span><span style=\"color: #00d700; text-decoration-color: #00d700; font-weight: bold\">1</span><span style=\"color: #00d700; text-decoration-color: #00d700; font-weight: bold\">. Traveling to new countries and experiencing</span>\n",
       "<span style=\"color: #00d700; text-decoration-color: #00d700; font-weight: bold\">                &gt; different cultures. </span><span style=\"color: #00d700; text-decoration-color: #00d700; font-weight: bold\">2</span><span style=\"color: #00d700; text-decoration-color: #00d700; font-weight: bold\">. Volunteering for mental health organizations. </span><span style=\"color: #00d700; text-decoration-color: #00d700; font-weight: bold\">3</span><span style=\"color: #00d700; text-decoration-color: #00d700; font-weight: bold\">. Cooking</span>\n",
       "<span style=\"color: #00d700; text-decoration-color: #00d700; font-weight: bold\">                &gt; and trying out new recipes. </span><span style=\"color: #00d700; text-decoration-color: #00d700; font-weight: bold\">4</span><span style=\"color: #00d700; text-decoration-color: #00d700; font-weight: bold\">. Nature walks and hiking in the Norwegian fjords. </span><span style=\"color: #00d700; text-decoration-color: #00d700; font-weight: bold\">5</span><span style=\"color: #00d700; text-decoration-color: #00d700; font-weight: bold\">.</span>\n",
       "<span style=\"color: #00d700; text-decoration-color: #00d700; font-weight: bold\">                &gt; Spending time with friends and family. </span><span style=\"color: #00d700; text-decoration-color: #00d700; font-weight: bold\">6</span><span style=\"color: #00d700; text-decoration-color: #00d700; font-weight: bold\">. Reading fiction, especially contemporary</span>\n",
       "<span style=\"color: #00d700; text-decoration-color: #00d700; font-weight: bold\">                &gt; novels. </span><span style=\"color: #00d700; text-decoration-color: #00d700; font-weight: bold\">7</span><span style=\"color: #00d700; text-decoration-color: #00d700; font-weight: bold\">. Listening to indie music and attending local concerts. </span><span style=\"color: #00d700; text-decoration-color: #00d700; font-weight: bold\">8</span><span style=\"color: #00d700; text-decoration-color: #00d700; font-weight: bold\">. Practicing</span>\n",
       "<span style=\"color: #00d700; text-decoration-color: #00d700; font-weight: bold\">                &gt; mindfulness and meditation. </span><span style=\"color: #00d700; text-decoration-color: #00d700; font-weight: bold\">9</span><span style=\"color: #00d700; text-decoration-color: #00d700; font-weight: bold\">. Exploring local hiking trails or parks. </span><span style=\"color: #00d700; text-decoration-color: #00d700; font-weight: bold\">10</span><span style=\"color: #00d700; text-decoration-color: #00d700; font-weight: bold\">.</span>\n",
       "<span style=\"color: #00d700; text-decoration-color: #00d700; font-weight: bold\">                &gt; Participating in book clubs to discuss literature.  Regarding food styles, I enjoy</span>\n",
       "<span style=\"color: #00d700; text-decoration-color: #00d700; font-weight: bold\">                &gt; a variety of cuisines, but I particularly love Mediterranean and Asian food. I</span>\n",
       "<span style=\"color: #00d700; text-decoration-color: #00d700; font-weight: bold\">                &gt; appreciate Mediterranean dishes for their fresh ingredients and vibrant flavors,</span>\n",
       "<span style=\"color: #00d700; text-decoration-color: #00d700; font-weight: bold\">                &gt; while Asian cuisine offers a wonderful mix of spices an (...)</span>\n",
       "</pre>\n"
      ],
      "text/plain": [
       "\u001b[1;4;38;5;40mOskar Berg\u001b[0m\u001b[1;38;5;40m acts: \u001b[0m\u001b[1;38;5;40m[\u001b[0m\u001b[1;38;5;40mTALK\u001b[0m\u001b[1;38;5;40m]\u001b[0m\u001b[1;38;5;40m \u001b[0m\n",
       "\u001b[1;38;5;40m                > Hello! I'm Oskar Berg, a \u001b[0m\u001b[1;38;5;40m25\u001b[0m\u001b[1;38;5;40m-year-old registered nurse from Norway. I work at Oslo\u001b[0m\n",
       "\u001b[1;38;5;40m                > University Hospital in the emergency department, where I provide care to patients\u001b[0m\n",
       "\u001b[1;38;5;40m                > in need. I'm passionate about patient care and mental health advocacy.   As for my\u001b[0m\n",
       "\u001b[1;38;5;40m                > interests, here are my top \u001b[0m\u001b[1;38;5;40m10\u001b[0m\u001b[1;38;5;40m: \u001b[0m\u001b[1;38;5;40m1\u001b[0m\u001b[1;38;5;40m. Traveling to new countries and experiencing\u001b[0m\n",
       "\u001b[1;38;5;40m                > different cultures. \u001b[0m\u001b[1;38;5;40m2\u001b[0m\u001b[1;38;5;40m. Volunteering for mental health organizations. \u001b[0m\u001b[1;38;5;40m3\u001b[0m\u001b[1;38;5;40m. Cooking\u001b[0m\n",
       "\u001b[1;38;5;40m                > and trying out new recipes. \u001b[0m\u001b[1;38;5;40m4\u001b[0m\u001b[1;38;5;40m. Nature walks and hiking in the Norwegian fjords. \u001b[0m\u001b[1;38;5;40m5\u001b[0m\u001b[1;38;5;40m.\u001b[0m\n",
       "\u001b[1;38;5;40m                > Spending time with friends and family. \u001b[0m\u001b[1;38;5;40m6\u001b[0m\u001b[1;38;5;40m. Reading fiction, especially contemporary\u001b[0m\n",
       "\u001b[1;38;5;40m                > novels. \u001b[0m\u001b[1;38;5;40m7\u001b[0m\u001b[1;38;5;40m. Listening to indie music and attending local concerts. \u001b[0m\u001b[1;38;5;40m8\u001b[0m\u001b[1;38;5;40m. Practicing\u001b[0m\n",
       "\u001b[1;38;5;40m                > mindfulness and meditation. \u001b[0m\u001b[1;38;5;40m9\u001b[0m\u001b[1;38;5;40m. Exploring local hiking trails or parks. \u001b[0m\u001b[1;38;5;40m10\u001b[0m\u001b[1;38;5;40m.\u001b[0m\n",
       "\u001b[1;38;5;40m                > Participating in book clubs to discuss literature.  Regarding food styles, I enjoy\u001b[0m\n",
       "\u001b[1;38;5;40m                > a variety of cuisines, but I particularly love Mediterranean and Asian food. I\u001b[0m\n",
       "\u001b[1;38;5;40m                > appreciate Mediterranean dishes for their fresh ingredients and vibrant flavors,\u001b[0m\n",
       "\u001b[1;38;5;40m                > while Asian cuisine offers a wonderful mix of spices an \u001b[0m\u001b[1;38;5;40m(\u001b[0m\u001b[1;38;5;40m...\u001b[0m\u001b[1;38;5;40m)\u001b[0m\n"
      ]
     },
     "metadata": {},
     "output_type": "display_data"
    },
    {
     "data": {
      "text/html": [
       "<pre style=\"margin:0px;;white-space:pre;overflow-x:auto;line-height:normal;font-family:Menlo,'DejaVu Sans Mono',consolas,'Courier New',monospace\"><span style=\"color: #00d700; text-decoration-color: #00d700; font-weight: bold; text-decoration: underline\">Lars Nilsen</span><span style=\"color: #00d700; text-decoration-color: #00d700; font-weight: bold\"> acts: [TALK] </span>\n",
       "<span style=\"color: #00d700; text-decoration-color: #00d700; font-weight: bold\">                 &gt; No, I don't particularly like spicy food. I find it overwhelming and it often</span>\n",
       "<span style=\"color: #00d700; text-decoration-color: #00d700; font-weight: bold\">                 &gt; masks the flavors of the dish. I prefer to enjoy the natural tastes of the</span>\n",
       "<span style=\"color: #00d700; text-decoration-color: #00d700; font-weight: bold\">                 &gt; ingredients without too much heat. I appreciate more subtle flavors that allow me</span>\n",
       "<span style=\"color: #00d700; text-decoration-color: #00d700; font-weight: bold\">                 &gt; to savor the food better.</span>\n",
       "</pre>\n"
      ],
      "text/plain": [
       "\u001b[1;4;38;5;40mLars Nilsen\u001b[0m\u001b[1;38;5;40m acts: \u001b[0m\u001b[1;38;5;40m[\u001b[0m\u001b[1;38;5;40mTALK\u001b[0m\u001b[1;38;5;40m]\u001b[0m\u001b[1;38;5;40m \u001b[0m\n",
       "\u001b[1;38;5;40m                 > No, I don't particularly like spicy food. I find it overwhelming and it often\u001b[0m\n",
       "\u001b[1;38;5;40m                 > masks the flavors of the dish. I prefer to enjoy the natural tastes of the\u001b[0m\n",
       "\u001b[1;38;5;40m                 > ingredients without too much heat. I appreciate more subtle flavors that allow me\u001b[0m\n",
       "\u001b[1;38;5;40m                 > to savor the food better.\u001b[0m\n"
      ]
     },
     "metadata": {},
     "output_type": "display_data"
    },
    {
     "data": {
      "text/html": [
       "<pre style=\"margin:0px;;white-space:pre;overflow-x:auto;line-height:normal;font-family:Menlo,'DejaVu Sans Mono',consolas,'Courier New',monospace\"><span style=\"color: #00d700; text-decoration-color: #00d700; font-weight: bold; text-decoration: underline\">Ingrid Sørensen</span><span style=\"color: #00d700; text-decoration-color: #00d700; font-weight: bold\"> acts: [TALK] </span>\n",
       "<span style=\"color: #00d700; text-decoration-color: #00d700; font-weight: bold\">                     &gt; Yes, I like spicy food! I enjoy the way it adds flavor and excitement to</span>\n",
       "<span style=\"color: #00d700; text-decoration-color: #00d700; font-weight: bold\">                     &gt; meals. It also often comes from diverse cultures, which I find fascinating.</span>\n",
       "<span style=\"color: #00d700; text-decoration-color: #00d700; font-weight: bold\">                     &gt; Trying spicy dishes allows me to explore different culinary traditions, and I</span>\n",
       "<span style=\"color: #00d700; text-decoration-color: #00d700; font-weight: bold\">                     &gt; appreciate the warmth and depth that spices bring to food.</span>\n",
       "</pre>\n"
      ],
      "text/plain": [
       "\u001b[1;4;38;5;40mIngrid Sørensen\u001b[0m\u001b[1;38;5;40m acts: \u001b[0m\u001b[1;38;5;40m[\u001b[0m\u001b[1;38;5;40mTALK\u001b[0m\u001b[1;38;5;40m]\u001b[0m\u001b[1;38;5;40m \u001b[0m\n",
       "\u001b[1;38;5;40m                     > Yes, I like spicy food! I enjoy the way it adds flavor and excitement to\u001b[0m\n",
       "\u001b[1;38;5;40m                     > meals. It also often comes from diverse cultures, which I find fascinating.\u001b[0m\n",
       "\u001b[1;38;5;40m                     > Trying spicy dishes allows me to explore different culinary traditions, and I\u001b[0m\n",
       "\u001b[1;38;5;40m                     > appreciate the warmth and depth that spices bring to food.\u001b[0m\n"
      ]
     },
     "metadata": {},
     "output_type": "display_data"
    },
    {
     "data": {
      "text/html": [
       "<pre style=\"margin:0px;;white-space:pre;overflow-x:auto;line-height:normal;font-family:Menlo,'DejaVu Sans Mono',consolas,'Courier New',monospace\"><span style=\"color: #d0d0d0; text-decoration-color: #d0d0d0; text-decoration: underline\">Magnus Knudsen</span><span style=\"color: #d0d0d0; text-decoration-color: #d0d0d0\"> acts: </span><span style=\"color: #d0d0d0; text-decoration-color: #d0d0d0; font-weight: bold\">[</span><span style=\"color: #d0d0d0; text-decoration-color: #d0d0d0\">DONE</span><span style=\"color: #d0d0d0; text-decoration-color: #d0d0d0; font-weight: bold\">]</span><span style=\"color: #d0d0d0; text-decoration-color: #d0d0d0\"> </span>\n",
       "\n",
       "</pre>\n"
      ],
      "text/plain": [
       "\u001b[4;38;5;252mMagnus Knudsen\u001b[0m\u001b[38;5;252m acts: \u001b[0m\u001b[1;38;5;252m[\u001b[0m\u001b[38;5;252mDONE\u001b[0m\u001b[1;38;5;252m]\u001b[0m\u001b[38;5;252m \u001b[0m\n",
       "\n"
      ]
     },
     "metadata": {},
     "output_type": "display_data"
    },
    {
     "data": {
      "text/html": [
       "<pre style=\"margin:0px;;white-space:pre;overflow-x:auto;line-height:normal;font-family:Menlo,'DejaVu Sans Mono',consolas,'Courier New',monospace\"><span style=\"color: #d0d0d0; text-decoration-color: #d0d0d0; text-decoration: underline\">Lars Nilsen</span><span style=\"color: #d0d0d0; text-decoration-color: #d0d0d0\"> acts: </span><span style=\"color: #d0d0d0; text-decoration-color: #d0d0d0; font-weight: bold\">[</span><span style=\"color: #d0d0d0; text-decoration-color: #d0d0d0\">DONE</span><span style=\"color: #d0d0d0; text-decoration-color: #d0d0d0; font-weight: bold\">]</span><span style=\"color: #d0d0d0; text-decoration-color: #d0d0d0\"> </span>\n",
       "\n",
       "</pre>\n"
      ],
      "text/plain": [
       "\u001b[4;38;5;252mLars Nilsen\u001b[0m\u001b[38;5;252m acts: \u001b[0m\u001b[1;38;5;252m[\u001b[0m\u001b[38;5;252mDONE\u001b[0m\u001b[1;38;5;252m]\u001b[0m\u001b[38;5;252m \u001b[0m\n",
       "\n"
      ]
     },
     "metadata": {},
     "output_type": "display_data"
    },
    {
     "data": {
      "text/html": [
       "<pre style=\"margin:0px;;white-space:pre;overflow-x:auto;line-height:normal;font-family:Menlo,'DejaVu Sans Mono',consolas,'Courier New',monospace\"><span style=\"color: #d0d0d0; text-decoration-color: #d0d0d0; text-decoration: underline\">Ingrid Sørensen</span><span style=\"color: #d0d0d0; text-decoration-color: #d0d0d0\"> acts: </span><span style=\"color: #d0d0d0; text-decoration-color: #d0d0d0; font-weight: bold\">[</span><span style=\"color: #d0d0d0; text-decoration-color: #d0d0d0\">DONE</span><span style=\"color: #d0d0d0; text-decoration-color: #d0d0d0; font-weight: bold\">]</span><span style=\"color: #d0d0d0; text-decoration-color: #d0d0d0\"> </span>\n",
       "\n",
       "</pre>\n"
      ],
      "text/plain": [
       "\u001b[4;38;5;252mIngrid Sørensen\u001b[0m\u001b[38;5;252m acts: \u001b[0m\u001b[1;38;5;252m[\u001b[0m\u001b[38;5;252mDONE\u001b[0m\u001b[1;38;5;252m]\u001b[0m\u001b[38;5;252m \u001b[0m\n",
       "\n"
      ]
     },
     "metadata": {},
     "output_type": "display_data"
    },
    {
     "data": {
      "text/html": [
       "<pre style=\"margin:0px;;white-space:pre;overflow-x:auto;line-height:normal;font-family:Menlo,'DejaVu Sans Mono',consolas,'Courier New',monospace\"><span style=\"color: #00d700; text-decoration-color: #00d700; font-weight: bold; text-decoration: underline\">Sofie Sørensen</span><span style=\"color: #00d700; text-decoration-color: #00d700; font-weight: bold\"> acts: [TALK] </span>\n",
       "<span style=\"color: #00d700; text-decoration-color: #00d700; font-weight: bold\">                    &gt; Hello! I'm Sofie Sørensen, an Operations Manager at a local manufacturing</span>\n",
       "<span style=\"color: #00d700; text-decoration-color: #00d700; font-weight: bold\">                    &gt; company in Aarhus, Denmark. I oversee daily operations, ensuring efficiency</span>\n",
       "<span style=\"color: #00d700; text-decoration-color: #00d700; font-weight: bold\">                    &gt; and productivity while managing a team and liaising with suppliers. I have a</span>\n",
       "<span style=\"color: #00d700; text-decoration-color: #00d700; font-weight: bold\">                    &gt; Master's in Business Administration from Aarhus University, focusing on</span>\n",
       "<span style=\"color: #00d700; text-decoration-color: #00d700; font-weight: bold\">                    &gt; organizational behavior and management strategies.   As for my interests, here</span>\n",
       "<span style=\"color: #00d700; text-decoration-color: #00d700; font-weight: bold\">                    &gt; are my top-</span><span style=\"color: #00d700; text-decoration-color: #00d700; font-weight: bold\">10</span><span style=\"color: #00d700; text-decoration-color: #00d700; font-weight: bold\">: </span><span style=\"color: #00d700; text-decoration-color: #00d700; font-weight: bold\">1</span><span style=\"color: #00d700; text-decoration-color: #00d700; font-weight: bold\">. Reading business literature and management books. </span><span style=\"color: #00d700; text-decoration-color: #00d700; font-weight: bold\">2</span><span style=\"color: #00d700; text-decoration-color: #00d700; font-weight: bold\">.</span>\n",
       "<span style=\"color: #00d700; text-decoration-color: #00d700; font-weight: bold\">                    &gt; Gardening and spending time outdoors. </span><span style=\"color: #00d700; text-decoration-color: #00d700; font-weight: bold\">3</span><span style=\"color: #00d700; text-decoration-color: #00d700; font-weight: bold\">. Cooking traditional Danish dishes. </span><span style=\"color: #00d700; text-decoration-color: #00d700; font-weight: bold\">4</span><span style=\"color: #00d700; text-decoration-color: #00d700; font-weight: bold\">.</span>\n",
       "<span style=\"color: #00d700; text-decoration-color: #00d700; font-weight: bold\">                    &gt; Volunteering for local community projects. </span><span style=\"color: #00d700; text-decoration-color: #00d700; font-weight: bold\">5</span><span style=\"color: #00d700; text-decoration-color: #00d700; font-weight: bold\">. Exploring nature trails and</span>\n",
       "<span style=\"color: #00d700; text-decoration-color: #00d700; font-weight: bold\">                    &gt; parks. </span><span style=\"color: #00d700; text-decoration-color: #00d700; font-weight: bold\">6</span><span style=\"color: #00d700; text-decoration-color: #00d700; font-weight: bold\">. Attending local cultural events. </span><span style=\"color: #00d700; text-decoration-color: #00d700; font-weight: bold\">7</span><span style=\"color: #00d700; text-decoration-color: #00d700; font-weight: bold\">. Traveling and experiencing</span>\n",
       "<span style=\"color: #00d700; text-decoration-color: #00d700; font-weight: bold\">                    &gt; different cultures. </span><span style=\"color: #00d700; text-decoration-color: #00d700; font-weight: bold\">8</span><span style=\"color: #00d700; text-decoration-color: #00d700; font-weight: bold\">. Engaging in discussions about sustainability. </span><span style=\"color: #00d700; text-decoration-color: #00d700; font-weight: bold\">9</span><span style=\"color: #00d700; text-decoration-color: #00d700; font-weight: bold\">.</span>\n",
       "<span style=\"color: #00d700; text-decoration-color: #00d700; font-weight: bold\">                    &gt; Spending quality time with family. </span><span style=\"color: #00d700; text-decoration-color: #00d700; font-weight: bold\">10</span><span style=\"color: #00d700; text-decoration-color: #00d700; font-weight: bold\">. Practicing mindfulness techniques.</span>\n",
       "<span style=\"color: #00d700; text-decoration-color: #00d700; font-weight: bold\">                    &gt; Regarding food styles, I enjoy traditional Danish cuisine because it reminds</span>\n",
       "<span style=\"color: #00d700; text-decoration-color: #00d700; font-weight: bold\">                    &gt; me of my childhood and connects me to my roots. I appreciate fresh, wholesome</span>\n",
       "<span style=\"color: #00d700; text-decoration-color: #00d700; font-weight: bold\">                    &gt; ingredients and the simplicity of the dishes. I (...)</span>\n",
       "</pre>\n"
      ],
      "text/plain": [
       "\u001b[1;4;38;5;40mSofie Sørensen\u001b[0m\u001b[1;38;5;40m acts: \u001b[0m\u001b[1;38;5;40m[\u001b[0m\u001b[1;38;5;40mTALK\u001b[0m\u001b[1;38;5;40m]\u001b[0m\u001b[1;38;5;40m \u001b[0m\n",
       "\u001b[1;38;5;40m                    > Hello! I'm Sofie Sørensen, an Operations Manager at a local manufacturing\u001b[0m\n",
       "\u001b[1;38;5;40m                    > company in Aarhus, Denmark. I oversee daily operations, ensuring efficiency\u001b[0m\n",
       "\u001b[1;38;5;40m                    > and productivity while managing a team and liaising with suppliers. I have a\u001b[0m\n",
       "\u001b[1;38;5;40m                    > Master's in Business Administration from Aarhus University, focusing on\u001b[0m\n",
       "\u001b[1;38;5;40m                    > organizational behavior and management strategies.   As for my interests, here\u001b[0m\n",
       "\u001b[1;38;5;40m                    > are my top-\u001b[0m\u001b[1;38;5;40m10\u001b[0m\u001b[1;38;5;40m: \u001b[0m\u001b[1;38;5;40m1\u001b[0m\u001b[1;38;5;40m. Reading business literature and management books. \u001b[0m\u001b[1;38;5;40m2\u001b[0m\u001b[1;38;5;40m.\u001b[0m\n",
       "\u001b[1;38;5;40m                    > Gardening and spending time outdoors. \u001b[0m\u001b[1;38;5;40m3\u001b[0m\u001b[1;38;5;40m. Cooking traditional Danish dishes. \u001b[0m\u001b[1;38;5;40m4\u001b[0m\u001b[1;38;5;40m.\u001b[0m\n",
       "\u001b[1;38;5;40m                    > Volunteering for local community projects. \u001b[0m\u001b[1;38;5;40m5\u001b[0m\u001b[1;38;5;40m. Exploring nature trails and\u001b[0m\n",
       "\u001b[1;38;5;40m                    > parks. \u001b[0m\u001b[1;38;5;40m6\u001b[0m\u001b[1;38;5;40m. Attending local cultural events. \u001b[0m\u001b[1;38;5;40m7\u001b[0m\u001b[1;38;5;40m. Traveling and experiencing\u001b[0m\n",
       "\u001b[1;38;5;40m                    > different cultures. \u001b[0m\u001b[1;38;5;40m8\u001b[0m\u001b[1;38;5;40m. Engaging in discussions about sustainability. \u001b[0m\u001b[1;38;5;40m9\u001b[0m\u001b[1;38;5;40m.\u001b[0m\n",
       "\u001b[1;38;5;40m                    > Spending quality time with family. \u001b[0m\u001b[1;38;5;40m10\u001b[0m\u001b[1;38;5;40m. Practicing mindfulness techniques.\u001b[0m\n",
       "\u001b[1;38;5;40m                    > Regarding food styles, I enjoy traditional Danish cuisine because it reminds\u001b[0m\n",
       "\u001b[1;38;5;40m                    > me of my childhood and connects me to my roots. I appreciate fresh, wholesome\u001b[0m\n",
       "\u001b[1;38;5;40m                    > ingredients and the simplicity of the dishes. I \u001b[0m\u001b[1;38;5;40m(\u001b[0m\u001b[1;38;5;40m...\u001b[0m\u001b[1;38;5;40m)\u001b[0m\n"
      ]
     },
     "metadata": {},
     "output_type": "display_data"
    },
    {
     "data": {
      "text/html": [
       "<pre style=\"margin:0px;;white-space:pre;overflow-x:auto;line-height:normal;font-family:Menlo,'DejaVu Sans Mono',consolas,'Courier New',monospace\"><span style=\"color: #00d700; text-decoration-color: #00d700; font-weight: bold; text-decoration: underline\">Sofie Lundgren</span><span style=\"color: #00d700; text-decoration-color: #00d700; font-weight: bold\"> acts: [TALK] </span>\n",
       "<span style=\"color: #00d700; text-decoration-color: #00d700; font-weight: bold\">                    &gt; Yes, I like spicy food! I enjoy the way it adds flavor and excitement to my</span>\n",
       "<span style=\"color: #00d700; text-decoration-color: #00d700; font-weight: bold\">                    &gt; meals. It often reminds me of the vibrant cultures I've experienced, and I</span>\n",
       "<span style=\"color: #00d700; text-decoration-color: #00d700; font-weight: bold\">                    &gt; love how it can bring people together over a shared meal. Plus, it can be a</span>\n",
       "<span style=\"color: #00d700; text-decoration-color: #00d700; font-weight: bold\">                    &gt; fun challenge to handle the heat!</span>\n",
       "</pre>\n"
      ],
      "text/plain": [
       "\u001b[1;4;38;5;40mSofie Lundgren\u001b[0m\u001b[1;38;5;40m acts: \u001b[0m\u001b[1;38;5;40m[\u001b[0m\u001b[1;38;5;40mTALK\u001b[0m\u001b[1;38;5;40m]\u001b[0m\u001b[1;38;5;40m \u001b[0m\n",
       "\u001b[1;38;5;40m                    > Yes, I like spicy food! I enjoy the way it adds flavor and excitement to my\u001b[0m\n",
       "\u001b[1;38;5;40m                    > meals. It often reminds me of the vibrant cultures I've experienced, and I\u001b[0m\n",
       "\u001b[1;38;5;40m                    > love how it can bring people together over a shared meal. Plus, it can be a\u001b[0m\n",
       "\u001b[1;38;5;40m                    > fun challenge to handle the heat!\u001b[0m\n"
      ]
     },
     "metadata": {},
     "output_type": "display_data"
    },
    {
     "data": {
      "text/html": [
       "<pre style=\"margin:0px;;white-space:pre;overflow-x:auto;line-height:normal;font-family:Menlo,'DejaVu Sans Mono',consolas,'Courier New',monospace\"><span style=\"color: #00d700; text-decoration-color: #00d700; font-weight: bold; text-decoration: underline\">Oskar Berg</span><span style=\"color: #00d700; text-decoration-color: #00d700; font-weight: bold\"> acts: [TALK] </span>\n",
       "<span style=\"color: #00d700; text-decoration-color: #00d700; font-weight: bold\">                &gt; Yes, I do like spicy food! I enjoy the kick it adds to dishes and how it can</span>\n",
       "<span style=\"color: #00d700; text-decoration-color: #00d700; font-weight: bold\">                &gt; enhance the overall flavor. Spicy food often brings a sense of excitement to</span>\n",
       "<span style=\"color: #00d700; text-decoration-color: #00d700; font-weight: bold\">                &gt; meals, and I appreciate the variety of flavors that come with it. Plus, I find</span>\n",
       "<span style=\"color: #00d700; text-decoration-color: #00d700; font-weight: bold\">                &gt; that it can be quite comforting in certain dishes, like spicy curries or salsas.</span>\n",
       "<span style=\"color: #00d700; text-decoration-color: #00d700; font-weight: bold\">                &gt; It’s a fun way to explore different cuisines too!</span>\n",
       "</pre>\n"
      ],
      "text/plain": [
       "\u001b[1;4;38;5;40mOskar Berg\u001b[0m\u001b[1;38;5;40m acts: \u001b[0m\u001b[1;38;5;40m[\u001b[0m\u001b[1;38;5;40mTALK\u001b[0m\u001b[1;38;5;40m]\u001b[0m\u001b[1;38;5;40m \u001b[0m\n",
       "\u001b[1;38;5;40m                > Yes, I do like spicy food! I enjoy the kick it adds to dishes and how it can\u001b[0m\n",
       "\u001b[1;38;5;40m                > enhance the overall flavor. Spicy food often brings a sense of excitement to\u001b[0m\n",
       "\u001b[1;38;5;40m                > meals, and I appreciate the variety of flavors that come with it. Plus, I find\u001b[0m\n",
       "\u001b[1;38;5;40m                > that it can be quite comforting in certain dishes, like spicy curries or salsas.\u001b[0m\n",
       "\u001b[1;38;5;40m                > It’s a fun way to explore different cuisines too!\u001b[0m\n"
      ]
     },
     "metadata": {},
     "output_type": "display_data"
    },
    {
     "data": {
      "text/html": [
       "<pre style=\"margin:0px;;white-space:pre;overflow-x:auto;line-height:normal;font-family:Menlo,'DejaVu Sans Mono',consolas,'Courier New',monospace\"><span style=\"color: #00d700; text-decoration-color: #00d700; font-weight: bold; text-decoration: underline\">Kari Madsen</span><span style=\"color: #00d700; text-decoration-color: #00d700; font-weight: bold\"> acts: [TALK] </span>\n",
       "<span style=\"color: #00d700; text-decoration-color: #00d700; font-weight: bold\">                 &gt; Hello! I'm Kari Madsen, a </span><span style=\"color: #00d700; text-decoration-color: #00d700; font-weight: bold\">40</span><span style=\"color: #00d700; text-decoration-color: #00d700; font-weight: bold\">-year-old software engineer from Aarhus, Denmark. I</span>\n",
       "<span style=\"color: #00d700; text-decoration-color: #00d700; font-weight: bold\">                 &gt; work at Tech Innovations A/S, where I design and implement software applications.</span>\n",
       "<span style=\"color: #00d700; text-decoration-color: #00d700; font-weight: bold\">                 &gt; I enjoy solving complex problems and collaborating with my team.   As for my</span>\n",
       "<span style=\"color: #00d700; text-decoration-color: #00d700; font-weight: bold\">                 &gt; interests, here are my top </span><span style=\"color: #00d700; text-decoration-color: #00d700; font-weight: bold\">10</span><span style=\"color: #00d700; text-decoration-color: #00d700; font-weight: bold\">: </span><span style=\"color: #00d700; text-decoration-color: #00d700; font-weight: bold\">1</span><span style=\"color: #00d700; text-decoration-color: #00d700; font-weight: bold\">. Technology and software development </span><span style=\"color: #00d700; text-decoration-color: #00d700; font-weight: bold\">2</span><span style=\"color: #00d700; text-decoration-color: #00d700; font-weight: bold\">. Outdoor</span>\n",
       "<span style=\"color: #00d700; text-decoration-color: #00d700; font-weight: bold\">                 &gt; sports, especially hiking and cycling </span><span style=\"color: #00d700; text-decoration-color: #00d700; font-weight: bold\">3</span><span style=\"color: #00d700; text-decoration-color: #00d700; font-weight: bold\">. Reading science fiction and fantasy</span>\n",
       "<span style=\"color: #00d700; text-decoration-color: #00d700; font-weight: bold\">                 &gt; novels </span><span style=\"color: #00d700; text-decoration-color: #00d700; font-weight: bold\">4</span><span style=\"color: #00d700; text-decoration-color: #00d700; font-weight: bold\">. Participating in local community events </span><span style=\"color: #00d700; text-decoration-color: #00d700; font-weight: bold\">5</span><span style=\"color: #00d700; text-decoration-color: #00d700; font-weight: bold\">. Cooking traditional Danish</span>\n",
       "<span style=\"color: #00d700; text-decoration-color: #00d700; font-weight: bold\">                 &gt; dishes </span><span style=\"color: #00d700; text-decoration-color: #00d700; font-weight: bold\">6</span><span style=\"color: #00d700; text-decoration-color: #00d700; font-weight: bold\">. Volunteering at local schools to teach kids about coding </span><span style=\"color: #00d700; text-decoration-color: #00d700; font-weight: bold\">7</span><span style=\"color: #00d700; text-decoration-color: #00d700; font-weight: bold\">. Exploring</span>\n",
       "<span style=\"color: #00d700; text-decoration-color: #00d700; font-weight: bold\">                 &gt; nature trails and national parks </span><span style=\"color: #00d700; text-decoration-color: #00d700; font-weight: bold\">8</span><span style=\"color: #00d700; text-decoration-color: #00d700; font-weight: bold\">. Attending tech meetups and workshops </span><span style=\"color: #00d700; text-decoration-color: #00d700; font-weight: bold\">9</span><span style=\"color: #00d700; text-decoration-color: #00d700; font-weight: bold\">.</span>\n",
       "<span style=\"color: #00d700; text-decoration-color: #00d700; font-weight: bold\">                 &gt; Tinkering with gadgets and software in my free time </span><span style=\"color: #00d700; text-decoration-color: #00d700; font-weight: bold\">10</span><span style=\"color: #00d700; text-decoration-color: #00d700; font-weight: bold\">. Spending quiet evenings</span>\n",
       "<span style=\"color: #00d700; text-decoration-color: #00d700; font-weight: bold\">                 &gt; at home with a good book.  Regarding food styles, I enjoy traditional Danish</span>\n",
       "<span style=\"color: #00d700; text-decoration-color: #00d700; font-weight: bold\">                 &gt; cuisine because it reminds me of my childhood and the comfort of home-cooked</span>\n",
       "<span style=\"color: #00d700; text-decoration-color: #00d700; font-weight: bold\">                 &gt; meals. I also appreciate healthy options that are rich in flavor and nutrients,</span>\n",
       "<span style=\"color: #00d700; text-decoration-color: #00d700; font-weight: bold\">                 &gt; as I believe in maintaining a balanced diet.   Now, about spicy food: Yes, I</span>\n",
       "<span style=\"color: #00d700; text-decoration-color: #00d700; font-weight: bold\">                 &gt; (...)</span>\n",
       "</pre>\n"
      ],
      "text/plain": [
       "\u001b[1;4;38;5;40mKari Madsen\u001b[0m\u001b[1;38;5;40m acts: \u001b[0m\u001b[1;38;5;40m[\u001b[0m\u001b[1;38;5;40mTALK\u001b[0m\u001b[1;38;5;40m]\u001b[0m\u001b[1;38;5;40m \u001b[0m\n",
       "\u001b[1;38;5;40m                 > Hello! I'm Kari Madsen, a \u001b[0m\u001b[1;38;5;40m40\u001b[0m\u001b[1;38;5;40m-year-old software engineer from Aarhus, Denmark. I\u001b[0m\n",
       "\u001b[1;38;5;40m                 > work at Tech Innovations A/S, where I design and implement software applications.\u001b[0m\n",
       "\u001b[1;38;5;40m                 > I enjoy solving complex problems and collaborating with my team.   As for my\u001b[0m\n",
       "\u001b[1;38;5;40m                 > interests, here are my top \u001b[0m\u001b[1;38;5;40m10\u001b[0m\u001b[1;38;5;40m: \u001b[0m\u001b[1;38;5;40m1\u001b[0m\u001b[1;38;5;40m. Technology and software development \u001b[0m\u001b[1;38;5;40m2\u001b[0m\u001b[1;38;5;40m. Outdoor\u001b[0m\n",
       "\u001b[1;38;5;40m                 > sports, especially hiking and cycling \u001b[0m\u001b[1;38;5;40m3\u001b[0m\u001b[1;38;5;40m. Reading science fiction and fantasy\u001b[0m\n",
       "\u001b[1;38;5;40m                 > novels \u001b[0m\u001b[1;38;5;40m4\u001b[0m\u001b[1;38;5;40m. Participating in local community events \u001b[0m\u001b[1;38;5;40m5\u001b[0m\u001b[1;38;5;40m. Cooking traditional Danish\u001b[0m\n",
       "\u001b[1;38;5;40m                 > dishes \u001b[0m\u001b[1;38;5;40m6\u001b[0m\u001b[1;38;5;40m. Volunteering at local schools to teach kids about coding \u001b[0m\u001b[1;38;5;40m7\u001b[0m\u001b[1;38;5;40m. Exploring\u001b[0m\n",
       "\u001b[1;38;5;40m                 > nature trails and national parks \u001b[0m\u001b[1;38;5;40m8\u001b[0m\u001b[1;38;5;40m. Attending tech meetups and workshops \u001b[0m\u001b[1;38;5;40m9\u001b[0m\u001b[1;38;5;40m.\u001b[0m\n",
       "\u001b[1;38;5;40m                 > Tinkering with gadgets and software in my free time \u001b[0m\u001b[1;38;5;40m10\u001b[0m\u001b[1;38;5;40m. Spending quiet evenings\u001b[0m\n",
       "\u001b[1;38;5;40m                 > at home with a good book.  Regarding food styles, I enjoy traditional Danish\u001b[0m\n",
       "\u001b[1;38;5;40m                 > cuisine because it reminds me of my childhood and the comfort of home-cooked\u001b[0m\n",
       "\u001b[1;38;5;40m                 > meals. I also appreciate healthy options that are rich in flavor and nutrients,\u001b[0m\n",
       "\u001b[1;38;5;40m                 > as I believe in maintaining a balanced diet.   Now, about spicy food: Yes, I\u001b[0m\n",
       "\u001b[1;38;5;40m                 > \u001b[0m\u001b[1;38;5;40m(\u001b[0m\u001b[1;38;5;40m...\u001b[0m\u001b[1;38;5;40m)\u001b[0m\n"
      ]
     },
     "metadata": {},
     "output_type": "display_data"
    },
    {
     "data": {
      "text/html": [
       "<pre style=\"margin:0px;;white-space:pre;overflow-x:auto;line-height:normal;font-family:Menlo,'DejaVu Sans Mono',consolas,'Courier New',monospace\"><span style=\"color: #00d700; text-decoration-color: #00d700; font-weight: bold; text-decoration: underline\">Magnus Sørensen</span><span style=\"color: #00d700; text-decoration-color: #00d700; font-weight: bold\"> acts: [TALK] </span>\n",
       "<span style=\"color: #00d700; text-decoration-color: #00d700; font-weight: bold\">                     &gt; Yes, I do like spicy food. I enjoy it because it adds a lot of flavor and</span>\n",
       "<span style=\"color: #00d700; text-decoration-color: #00d700; font-weight: bold\">                     &gt; excitement to meals. Spicy dishes can be very satisfying and often have</span>\n",
       "<span style=\"color: #00d700; text-decoration-color: #00d700; font-weight: bold\">                     &gt; interesting combinations of flavors that I appreciate.</span>\n",
       "</pre>\n"
      ],
      "text/plain": [
       "\u001b[1;4;38;5;40mMagnus Sørensen\u001b[0m\u001b[1;38;5;40m acts: \u001b[0m\u001b[1;38;5;40m[\u001b[0m\u001b[1;38;5;40mTALK\u001b[0m\u001b[1;38;5;40m]\u001b[0m\u001b[1;38;5;40m \u001b[0m\n",
       "\u001b[1;38;5;40m                     > Yes, I do like spicy food. I enjoy it because it adds a lot of flavor and\u001b[0m\n",
       "\u001b[1;38;5;40m                     > excitement to meals. Spicy dishes can be very satisfying and often have\u001b[0m\n",
       "\u001b[1;38;5;40m                     > interesting combinations of flavors that I appreciate.\u001b[0m\n"
      ]
     },
     "metadata": {},
     "output_type": "display_data"
    },
    {
     "data": {
      "text/html": [
       "<pre style=\"margin:0px;;white-space:pre;overflow-x:auto;line-height:normal;font-family:Menlo,'DejaVu Sans Mono',consolas,'Courier New',monospace\"><span style=\"color: #d0d0d0; text-decoration-color: #d0d0d0; text-decoration: underline\">Sofie Lundgren</span><span style=\"color: #d0d0d0; text-decoration-color: #d0d0d0\"> acts: </span><span style=\"color: #d0d0d0; text-decoration-color: #d0d0d0; font-weight: bold\">[</span><span style=\"color: #d0d0d0; text-decoration-color: #d0d0d0\">DONE</span><span style=\"color: #d0d0d0; text-decoration-color: #d0d0d0; font-weight: bold\">]</span><span style=\"color: #d0d0d0; text-decoration-color: #d0d0d0\"> </span>\n",
       "\n",
       "</pre>\n"
      ],
      "text/plain": [
       "\u001b[4;38;5;252mSofie Lundgren\u001b[0m\u001b[38;5;252m acts: \u001b[0m\u001b[1;38;5;252m[\u001b[0m\u001b[38;5;252mDONE\u001b[0m\u001b[1;38;5;252m]\u001b[0m\u001b[38;5;252m \u001b[0m\n",
       "\n"
      ]
     },
     "metadata": {},
     "output_type": "display_data"
    },
    {
     "data": {
      "text/html": [
       "<pre style=\"margin:0px;;white-space:pre;overflow-x:auto;line-height:normal;font-family:Menlo,'DejaVu Sans Mono',consolas,'Courier New',monospace\"><span style=\"color: #d0d0d0; text-decoration-color: #d0d0d0; text-decoration: underline\">Oskar Berg</span><span style=\"color: #d0d0d0; text-decoration-color: #d0d0d0\"> acts: </span><span style=\"color: #d0d0d0; text-decoration-color: #d0d0d0; font-weight: bold\">[</span><span style=\"color: #d0d0d0; text-decoration-color: #d0d0d0\">DONE</span><span style=\"color: #d0d0d0; text-decoration-color: #d0d0d0; font-weight: bold\">]</span><span style=\"color: #d0d0d0; text-decoration-color: #d0d0d0\"> </span>\n",
       "\n",
       "</pre>\n"
      ],
      "text/plain": [
       "\u001b[4;38;5;252mOskar Berg\u001b[0m\u001b[38;5;252m acts: \u001b[0m\u001b[1;38;5;252m[\u001b[0m\u001b[38;5;252mDONE\u001b[0m\u001b[1;38;5;252m]\u001b[0m\u001b[38;5;252m \u001b[0m\n",
       "\n"
      ]
     },
     "metadata": {},
     "output_type": "display_data"
    },
    {
     "data": {
      "text/html": [
       "<pre style=\"margin:0px;;white-space:pre;overflow-x:auto;line-height:normal;font-family:Menlo,'DejaVu Sans Mono',consolas,'Courier New',monospace\"><span style=\"color: #00d700; text-decoration-color: #00d700; font-weight: bold; text-decoration: underline\">Sofie Sørensen</span><span style=\"color: #00d700; text-decoration-color: #00d700; font-weight: bold\"> acts: [TALK] </span>\n",
       "<span style=\"color: #00d700; text-decoration-color: #00d700; font-weight: bold\">                    &gt; Yes, I do like spicy food! I find that it adds an exciting flavor to meals and</span>\n",
       "<span style=\"color: #00d700; text-decoration-color: #00d700; font-weight: bold\">                    &gt; can enhance the overall dining experience. However, I prefer it in moderation,</span>\n",
       "<span style=\"color: #00d700; text-decoration-color: #00d700; font-weight: bold\">                    &gt; as too much spice can be overwhelming.</span>\n",
       "</pre>\n"
      ],
      "text/plain": [
       "\u001b[1;4;38;5;40mSofie Sørensen\u001b[0m\u001b[1;38;5;40m acts: \u001b[0m\u001b[1;38;5;40m[\u001b[0m\u001b[1;38;5;40mTALK\u001b[0m\u001b[1;38;5;40m]\u001b[0m\u001b[1;38;5;40m \u001b[0m\n",
       "\u001b[1;38;5;40m                    > Yes, I do like spicy food! I find that it adds an exciting flavor to meals and\u001b[0m\n",
       "\u001b[1;38;5;40m                    > can enhance the overall dining experience. However, I prefer it in moderation,\u001b[0m\n",
       "\u001b[1;38;5;40m                    > as too much spice can be overwhelming.\u001b[0m\n"
      ]
     },
     "metadata": {},
     "output_type": "display_data"
    },
    {
     "data": {
      "text/html": [
       "<pre style=\"margin:0px;;white-space:pre;overflow-x:auto;line-height:normal;font-family:Menlo,'DejaVu Sans Mono',consolas,'Courier New',monospace\"><span style=\"color: #00d700; text-decoration-color: #00d700; font-weight: bold; text-decoration: underline\">Kari Madsen</span><span style=\"color: #00d700; text-decoration-color: #00d700; font-weight: bold\"> acts: [TALK] </span>\n",
       "<span style=\"color: #00d700; text-decoration-color: #00d700; font-weight: bold\">                 &gt; Yes, I like spicy food. I enjoy the kick it adds to meals and how it can elevate</span>\n",
       "<span style=\"color: #00d700; text-decoration-color: #00d700; font-weight: bold\">                 &gt; the flavors of a dish. It makes eating more exciting and can be a great way to</span>\n",
       "<span style=\"color: #00d700; text-decoration-color: #00d700; font-weight: bold\">                 &gt; explore different cuisines. However, I prefer it to be balanced, as too much</span>\n",
       "<span style=\"color: #00d700; text-decoration-color: #00d700; font-weight: bold\">                 &gt; spice can overpower the other flavors.</span>\n",
       "</pre>\n"
      ],
      "text/plain": [
       "\u001b[1;4;38;5;40mKari Madsen\u001b[0m\u001b[1;38;5;40m acts: \u001b[0m\u001b[1;38;5;40m[\u001b[0m\u001b[1;38;5;40mTALK\u001b[0m\u001b[1;38;5;40m]\u001b[0m\u001b[1;38;5;40m \u001b[0m\n",
       "\u001b[1;38;5;40m                 > Yes, I like spicy food. I enjoy the kick it adds to meals and how it can elevate\u001b[0m\n",
       "\u001b[1;38;5;40m                 > the flavors of a dish. It makes eating more exciting and can be a great way to\u001b[0m\n",
       "\u001b[1;38;5;40m                 > explore different cuisines. However, I prefer it to be balanced, as too much\u001b[0m\n",
       "\u001b[1;38;5;40m                 > spice can overpower the other flavors.\u001b[0m\n"
      ]
     },
     "metadata": {},
     "output_type": "display_data"
    },
    {
     "data": {
      "text/html": [
       "<pre style=\"margin:0px;;white-space:pre;overflow-x:auto;line-height:normal;font-family:Menlo,'DejaVu Sans Mono',consolas,'Courier New',monospace\"><span style=\"color: #d0d0d0; text-decoration-color: #d0d0d0; text-decoration: underline\">Magnus Sørensen</span><span style=\"color: #d0d0d0; text-decoration-color: #d0d0d0\"> acts: </span><span style=\"color: #d0d0d0; text-decoration-color: #d0d0d0; font-weight: bold\">[</span><span style=\"color: #d0d0d0; text-decoration-color: #d0d0d0\">DONE</span><span style=\"color: #d0d0d0; text-decoration-color: #d0d0d0; font-weight: bold\">]</span><span style=\"color: #d0d0d0; text-decoration-color: #d0d0d0\"> </span>\n",
       "\n",
       "</pre>\n"
      ],
      "text/plain": [
       "\u001b[4;38;5;252mMagnus Sørensen\u001b[0m\u001b[38;5;252m acts: \u001b[0m\u001b[1;38;5;252m[\u001b[0m\u001b[38;5;252mDONE\u001b[0m\u001b[1;38;5;252m]\u001b[0m\u001b[38;5;252m \u001b[0m\n",
       "\n"
      ]
     },
     "metadata": {},
     "output_type": "display_data"
    },
    {
     "data": {
      "text/html": [
       "<pre style=\"margin:0px;;white-space:pre;overflow-x:auto;line-height:normal;font-family:Menlo,'DejaVu Sans Mono',consolas,'Courier New',monospace\"><span style=\"color: #d0d0d0; text-decoration-color: #d0d0d0; text-decoration: underline\">Sofie Sørensen</span><span style=\"color: #d0d0d0; text-decoration-color: #d0d0d0\"> acts: </span><span style=\"color: #d0d0d0; text-decoration-color: #d0d0d0; font-weight: bold\">[</span><span style=\"color: #d0d0d0; text-decoration-color: #d0d0d0\">DONE</span><span style=\"color: #d0d0d0; text-decoration-color: #d0d0d0; font-weight: bold\">]</span><span style=\"color: #d0d0d0; text-decoration-color: #d0d0d0\"> </span>\n",
       "\n",
       "</pre>\n"
      ],
      "text/plain": [
       "\u001b[4;38;5;252mSofie Sørensen\u001b[0m\u001b[38;5;252m acts: \u001b[0m\u001b[1;38;5;252m[\u001b[0m\u001b[38;5;252mDONE\u001b[0m\u001b[1;38;5;252m]\u001b[0m\u001b[38;5;252m \u001b[0m\n",
       "\n"
      ]
     },
     "metadata": {},
     "output_type": "display_data"
    },
    {
     "data": {
      "text/html": [
       "<pre style=\"margin:0px;;white-space:pre;overflow-x:auto;line-height:normal;font-family:Menlo,'DejaVu Sans Mono',consolas,'Courier New',monospace\"><span style=\"color: #d0d0d0; text-decoration-color: #d0d0d0; text-decoration: underline\">Kari Madsen</span><span style=\"color: #d0d0d0; text-decoration-color: #d0d0d0\"> acts: </span><span style=\"color: #d0d0d0; text-decoration-color: #d0d0d0; font-weight: bold\">[</span><span style=\"color: #d0d0d0; text-decoration-color: #d0d0d0\">DONE</span><span style=\"color: #d0d0d0; text-decoration-color: #d0d0d0; font-weight: bold\">]</span><span style=\"color: #d0d0d0; text-decoration-color: #d0d0d0\"> </span>\n",
       "\n",
       "</pre>\n"
      ],
      "text/plain": [
       "\u001b[4;38;5;252mKari Madsen\u001b[0m\u001b[38;5;252m acts: \u001b[0m\u001b[1;38;5;252m[\u001b[0m\u001b[38;5;252mDONE\u001b[0m\u001b[1;38;5;252m]\u001b[0m\u001b[38;5;252m \u001b[0m\n",
       "\n"
      ]
     },
     "metadata": {},
     "output_type": "display_data"
    }
   ],
   "source": [
    "norway_market.run(1)"
   ]
  },
  {
   "cell_type": "code",
   "execution_count": 9,
   "metadata": {},
   "outputs": [
    {
     "data": {
      "text/html": [
       "<pre style=\"margin:0px;;white-space:pre;overflow-x:auto;line-height:normal;font-family:Menlo,'DejaVu Sans Mono',consolas,'Courier New',monospace\"><span style=\"color: #00ff00; text-decoration-color: #00ff00\">───────────────────────────────────── </span>Target audience <span style=\"color: #008080; text-decoration-color: #008080; font-weight: bold\">2</span> <span style=\"font-weight: bold\">(</span>Mexico<span style=\"font-weight: bold\">)</span> step <span style=\"color: #008080; text-decoration-color: #008080; font-weight: bold\">1</span> of <span style=\"color: #008080; text-decoration-color: #008080; font-weight: bold\">1</span><span style=\"color: #00ff00; text-decoration-color: #00ff00\"> ──────────────────────────────────────</span>\n",
       "</pre>\n"
      ],
      "text/plain": [
       "\u001b[92m───────────────────────────────────── \u001b[0mTarget audience \u001b[1;36m2\u001b[0m \u001b[1m(\u001b[0mMexico\u001b[1m)\u001b[0m step \u001b[1;36m1\u001b[0m of \u001b[1;36m1\u001b[0m\u001b[92m ──────────────────────────────────────\u001b[0m\n"
      ]
     },
     "metadata": {},
     "output_type": "display_data"
    },
    {
     "data": {
      "text/html": [
       "<pre style=\"margin:0px;;white-space:pre;overflow-x:auto;line-height:normal;font-family:Menlo,'DejaVu Sans Mono',consolas,'Courier New',monospace\"><span style=\"color: #00d700; text-decoration-color: #00d700; font-weight: bold; text-decoration: underline\">Diego Mendoza</span><span style=\"color: #00d700; text-decoration-color: #00d700; font-weight: bold\"> acts: [TALK] </span>\n",
       "<span style=\"color: #00d700; text-decoration-color: #00d700; font-weight: bold\">                   &gt; Hello! I'm Diego Mendoza, a </span><span style=\"color: #00d700; text-decoration-color: #00d700; font-weight: bold\">22</span><span style=\"color: #00d700; text-decoration-color: #00d700; font-weight: bold\">-year-old sales associate from Mexico City. I</span>\n",
       "<span style=\"color: #00d700; text-decoration-color: #00d700; font-weight: bold\">                   &gt; enjoy interacting with customers and helping them find what they need. My top</span>\n",
       "<span style=\"color: #00d700; text-decoration-color: #00d700; font-weight: bold\">                   &gt; interests include sports, especially soccer, music (particularly Latin pop and</span>\n",
       "<span style=\"color: #00d700; text-decoration-color: #00d700; font-weight: bold\">                   &gt; rock), cooking traditional Mexican dishes, spending time with friends and</span>\n",
       "<span style=\"color: #00d700; text-decoration-color: #00d700; font-weight: bold\">                   &gt; family, and participating in community events. I also love outdoor activities</span>\n",
       "<span style=\"color: #00d700; text-decoration-color: #00d700; font-weight: bold\">                   &gt; like hiking and visiting local markets.   As for my favorite food styles, I</span>\n",
       "<span style=\"color: #00d700; text-decoration-color: #00d700; font-weight: bold\">                   &gt; really enjoy traditional Mexican cuisine, especially street food like tacos and</span>\n",
       "<span style=\"color: #00d700; text-decoration-color: #00d700; font-weight: bold\">                   &gt; tamales. I appreciate the rich flavors and the cultural significance behind</span>\n",
       "<span style=\"color: #00d700; text-decoration-color: #00d700; font-weight: bold\">                   &gt; these dishes. They remind me of family gatherings and celebrations, which makes</span>\n",
       "<span style=\"color: #00d700; text-decoration-color: #00d700; font-weight: bold\">                   &gt; them even more special to me.</span>\n",
       "</pre>\n"
      ],
      "text/plain": [
       "\u001b[1;4;38;5;40mDiego Mendoza\u001b[0m\u001b[1;38;5;40m acts: \u001b[0m\u001b[1;38;5;40m[\u001b[0m\u001b[1;38;5;40mTALK\u001b[0m\u001b[1;38;5;40m]\u001b[0m\u001b[1;38;5;40m \u001b[0m\n",
       "\u001b[1;38;5;40m                   > Hello! I'm Diego Mendoza, a \u001b[0m\u001b[1;38;5;40m22\u001b[0m\u001b[1;38;5;40m-year-old sales associate from Mexico City. I\u001b[0m\n",
       "\u001b[1;38;5;40m                   > enjoy interacting with customers and helping them find what they need. My top\u001b[0m\n",
       "\u001b[1;38;5;40m                   > interests include sports, especially soccer, music \u001b[0m\u001b[1;38;5;40m(\u001b[0m\u001b[1;38;5;40mparticularly Latin pop and\u001b[0m\n",
       "\u001b[1;38;5;40m                   > rock\u001b[0m\u001b[1;38;5;40m)\u001b[0m\u001b[1;38;5;40m, cooking traditional Mexican dishes, spending time with friends and\u001b[0m\n",
       "\u001b[1;38;5;40m                   > family, and participating in community events. I also love outdoor activities\u001b[0m\n",
       "\u001b[1;38;5;40m                   > like hiking and visiting local markets.   As for my favorite food styles, I\u001b[0m\n",
       "\u001b[1;38;5;40m                   > really enjoy traditional Mexican cuisine, especially street food like tacos and\u001b[0m\n",
       "\u001b[1;38;5;40m                   > tamales. I appreciate the rich flavors and the cultural significance behind\u001b[0m\n",
       "\u001b[1;38;5;40m                   > these dishes. They remind me of family gatherings and celebrations, which makes\u001b[0m\n",
       "\u001b[1;38;5;40m                   > them even more special to me.\u001b[0m\n"
      ]
     },
     "metadata": {},
     "output_type": "display_data"
    },
    {
     "data": {
      "text/html": [
       "<pre style=\"margin:0px;;white-space:pre;overflow-x:auto;line-height:normal;font-family:Menlo,'DejaVu Sans Mono',consolas,'Courier New',monospace\"><span style=\"color: #00d700; text-decoration-color: #00d700; font-weight: bold; text-decoration: underline\">Ana Maria Herrera</span><span style=\"color: #00d700; text-decoration-color: #00d700; font-weight: bold\"> acts: [TALK] </span>\n",
       "<span style=\"color: #00d700; text-decoration-color: #00d700; font-weight: bold\">                       &gt; Hello! I'm Ana Maria Herrera, a </span><span style=\"color: #00d700; text-decoration-color: #00d700; font-weight: bold\">22</span><span style=\"color: #00d700; text-decoration-color: #00d700; font-weight: bold\">-year-old retail associate at Sporty Co.</span>\n",
       "<span style=\"color: #00d700; text-decoration-color: #00d700; font-weight: bold\">                       &gt; I love sports and fitness, and I enjoy interacting with customers. My top</span>\n",
       "<span style=\"color: #00d700; text-decoration-color: #00d700; font-weight: bold\">                       &gt; interests include playing soccer and basketball, watching sports events,</span>\n",
       "<span style=\"color: #00d700; text-decoration-color: #00d700; font-weight: bold\">                       &gt; fitness activities, volunteering for community sports programs, outdoor</span>\n",
       "<span style=\"color: #00d700; text-decoration-color: #00d700; font-weight: bold\">                       &gt; activities, healthy food options, music (especially reggaeton and pop), and</span>\n",
       "<span style=\"color: #00d700; text-decoration-color: #00d700; font-weight: bold\">                       &gt; spending time with friends and family. My favorite food styles are healthy</span>\n",
       "<span style=\"color: #00d700; text-decoration-color: #00d700; font-weight: bold\">                       &gt; options like smoothies and salads because they make me feel energized and</span>\n",
       "<span style=\"color: #00d700; text-decoration-color: #00d700; font-weight: bold\">                       &gt; support my active lifestyle. I also enjoy traditional Mexican dishes, as</span>\n",
       "<span style=\"color: #00d700; text-decoration-color: #00d700; font-weight: bold\">                       &gt; they remind me of my cultural roots and family gatherings.</span>\n",
       "</pre>\n"
      ],
      "text/plain": [
       "\u001b[1;4;38;5;40mAna Maria Herrera\u001b[0m\u001b[1;38;5;40m acts: \u001b[0m\u001b[1;38;5;40m[\u001b[0m\u001b[1;38;5;40mTALK\u001b[0m\u001b[1;38;5;40m]\u001b[0m\u001b[1;38;5;40m \u001b[0m\n",
       "\u001b[1;38;5;40m                       > Hello! I'm Ana Maria Herrera, a \u001b[0m\u001b[1;38;5;40m22\u001b[0m\u001b[1;38;5;40m-year-old retail associate at Sporty Co.\u001b[0m\n",
       "\u001b[1;38;5;40m                       > I love sports and fitness, and I enjoy interacting with customers. My top\u001b[0m\n",
       "\u001b[1;38;5;40m                       > interests include playing soccer and basketball, watching sports events,\u001b[0m\n",
       "\u001b[1;38;5;40m                       > fitness activities, volunteering for community sports programs, outdoor\u001b[0m\n",
       "\u001b[1;38;5;40m                       > activities, healthy food options, music \u001b[0m\u001b[1;38;5;40m(\u001b[0m\u001b[1;38;5;40mespecially reggaeton and pop\u001b[0m\u001b[1;38;5;40m)\u001b[0m\u001b[1;38;5;40m, and\u001b[0m\n",
       "\u001b[1;38;5;40m                       > spending time with friends and family. My favorite food styles are healthy\u001b[0m\n",
       "\u001b[1;38;5;40m                       > options like smoothies and salads because they make me feel energized and\u001b[0m\n",
       "\u001b[1;38;5;40m                       > support my active lifestyle. I also enjoy traditional Mexican dishes, as\u001b[0m\n",
       "\u001b[1;38;5;40m                       > they remind me of my cultural roots and family gatherings.\u001b[0m\n"
      ]
     },
     "metadata": {},
     "output_type": "display_data"
    },
    {
     "data": {
      "text/html": [
       "<pre style=\"margin:0px;;white-space:pre;overflow-x:auto;line-height:normal;font-family:Menlo,'DejaVu Sans Mono',consolas,'Courier New',monospace\"><span style=\"color: #00d700; text-decoration-color: #00d700; font-weight: bold; text-decoration: underline\">Diego Salazar</span><span style=\"color: #00d700; text-decoration-color: #00d700; font-weight: bold\"> acts: [TALK] </span>\n",
       "<span style=\"color: #00d700; text-decoration-color: #00d700; font-weight: bold\">                   &gt; Hello! I'm Diego Salazar, a </span><span style=\"color: #00d700; text-decoration-color: #00d700; font-weight: bold\">30</span><span style=\"color: #00d700; text-decoration-color: #00d700; font-weight: bold\">-year-old software engineer living in San</span>\n",
       "<span style=\"color: #00d700; text-decoration-color: #00d700; font-weight: bold\">                   &gt; Francisco. I work at Tech Innovations Inc., where I develop applications that</span>\n",
       "<span style=\"color: #00d700; text-decoration-color: #00d700; font-weight: bold\">                   &gt; utilize AI to enhance user experience. I enjoy problem-solving and</span>\n",
       "<span style=\"color: #00d700; text-decoration-color: #00d700; font-weight: bold\">                   &gt; collaborating with my team.   As for my top-</span><span style=\"color: #00d700; text-decoration-color: #00d700; font-weight: bold\">10</span><span style=\"color: #00d700; text-decoration-color: #00d700; font-weight: bold\"> interests, they include: </span><span style=\"color: #00d700; text-decoration-color: #00d700; font-weight: bold\">1</span><span style=\"color: #00d700; text-decoration-color: #00d700; font-weight: bold\">.</span>\n",
       "<span style=\"color: #00d700; text-decoration-color: #00d700; font-weight: bold\">                   &gt; Technology and innovation </span><span style=\"color: #00d700; text-decoration-color: #00d700; font-weight: bold\">2</span><span style=\"color: #00d700; text-decoration-color: #00d700; font-weight: bold\">. Traveling and exploring new cultures </span><span style=\"color: #00d700; text-decoration-color: #00d700; font-weight: bold\">3</span><span style=\"color: #00d700; text-decoration-color: #00d700; font-weight: bold\">. Reading</span>\n",
       "<span style=\"color: #00d700; text-decoration-color: #00d700; font-weight: bold\">                   &gt; science fiction and fantasy novels </span><span style=\"color: #00d700; text-decoration-color: #00d700; font-weight: bold\">4</span><span style=\"color: #00d700; text-decoration-color: #00d700; font-weight: bold\">. Cooking and trying new recipes </span><span style=\"color: #00d700; text-decoration-color: #00d700; font-weight: bold\">5</span><span style=\"color: #00d700; text-decoration-color: #00d700; font-weight: bold\">.</span>\n",
       "<span style=\"color: #00d700; text-decoration-color: #00d700; font-weight: bold\">                   &gt; Volunteering for community service </span><span style=\"color: #00d700; text-decoration-color: #00d700; font-weight: bold\">6</span><span style=\"color: #00d700; text-decoration-color: #00d700; font-weight: bold\">. Outdoor activities like hiking and biking</span>\n",
       "<span style=\"color: #00d700; text-decoration-color: #00d700; font-weight: bold\">                   &gt; </span><span style=\"color: #00d700; text-decoration-color: #00d700; font-weight: bold\">7</span><span style=\"color: #00d700; text-decoration-color: #00d700; font-weight: bold\">. Board games and trivia nights with friends </span><span style=\"color: #00d700; text-decoration-color: #00d700; font-weight: bold\">8</span><span style=\"color: #00d700; text-decoration-color: #00d700; font-weight: bold\">. Coffee from local roasters </span><span style=\"color: #00d700; text-decoration-color: #00d700; font-weight: bold\">9</span><span style=\"color: #00d700; text-decoration-color: #00d700; font-weight: bold\">.</span>\n",
       "<span style=\"color: #00d700; text-decoration-color: #00d700; font-weight: bold\">                   &gt; Documentaries about technology and society </span><span style=\"color: #00d700; text-decoration-color: #00d700; font-weight: bold\">10</span><span style=\"color: #00d700; text-decoration-color: #00d700; font-weight: bold\">. Spending time with family and</span>\n",
       "<span style=\"color: #00d700; text-decoration-color: #00d700; font-weight: bold\">                   &gt; friends.  Regarding my favorite food styles, I enjoy Mediterranean and Asian</span>\n",
       "<span style=\"color: #00d700; text-decoration-color: #00d700; font-weight: bold\">                   &gt; cuisines. I love Mediterranean food for its fresh ingredients and healthy</span>\n",
       "<span style=\"color: #00d700; text-decoration-color: #00d700; font-weight: bold\">                   &gt; options, while Asian cuisine offers a variety of flavors and spices that excite</span>\n",
       "<span style=\"color: #00d700; text-decoration-color: #00d700; font-weight: bold\">                   &gt; my palate. Both styles allow for creativity in cooking, which I find enjoyable!</span>\n",
       "</pre>\n"
      ],
      "text/plain": [
       "\u001b[1;4;38;5;40mDiego Salazar\u001b[0m\u001b[1;38;5;40m acts: \u001b[0m\u001b[1;38;5;40m[\u001b[0m\u001b[1;38;5;40mTALK\u001b[0m\u001b[1;38;5;40m]\u001b[0m\u001b[1;38;5;40m \u001b[0m\n",
       "\u001b[1;38;5;40m                   > Hello! I'm Diego Salazar, a \u001b[0m\u001b[1;38;5;40m30\u001b[0m\u001b[1;38;5;40m-year-old software engineer living in San\u001b[0m\n",
       "\u001b[1;38;5;40m                   > Francisco. I work at Tech Innovations Inc., where I develop applications that\u001b[0m\n",
       "\u001b[1;38;5;40m                   > utilize AI to enhance user experience. I enjoy problem-solving and\u001b[0m\n",
       "\u001b[1;38;5;40m                   > collaborating with my team.   As for my top-\u001b[0m\u001b[1;38;5;40m10\u001b[0m\u001b[1;38;5;40m interests, they include: \u001b[0m\u001b[1;38;5;40m1\u001b[0m\u001b[1;38;5;40m.\u001b[0m\n",
       "\u001b[1;38;5;40m                   > Technology and innovation \u001b[0m\u001b[1;38;5;40m2\u001b[0m\u001b[1;38;5;40m. Traveling and exploring new cultures \u001b[0m\u001b[1;38;5;40m3\u001b[0m\u001b[1;38;5;40m. Reading\u001b[0m\n",
       "\u001b[1;38;5;40m                   > science fiction and fantasy novels \u001b[0m\u001b[1;38;5;40m4\u001b[0m\u001b[1;38;5;40m. Cooking and trying new recipes \u001b[0m\u001b[1;38;5;40m5\u001b[0m\u001b[1;38;5;40m.\u001b[0m\n",
       "\u001b[1;38;5;40m                   > Volunteering for community service \u001b[0m\u001b[1;38;5;40m6\u001b[0m\u001b[1;38;5;40m. Outdoor activities like hiking and biking\u001b[0m\n",
       "\u001b[1;38;5;40m                   > \u001b[0m\u001b[1;38;5;40m7\u001b[0m\u001b[1;38;5;40m. Board games and trivia nights with friends \u001b[0m\u001b[1;38;5;40m8\u001b[0m\u001b[1;38;5;40m. Coffee from local roasters \u001b[0m\u001b[1;38;5;40m9\u001b[0m\u001b[1;38;5;40m.\u001b[0m\n",
       "\u001b[1;38;5;40m                   > Documentaries about technology and society \u001b[0m\u001b[1;38;5;40m10\u001b[0m\u001b[1;38;5;40m. Spending time with family and\u001b[0m\n",
       "\u001b[1;38;5;40m                   > friends.  Regarding my favorite food styles, I enjoy Mediterranean and Asian\u001b[0m\n",
       "\u001b[1;38;5;40m                   > cuisines. I love Mediterranean food for its fresh ingredients and healthy\u001b[0m\n",
       "\u001b[1;38;5;40m                   > options, while Asian cuisine offers a variety of flavors and spices that excite\u001b[0m\n",
       "\u001b[1;38;5;40m                   > my palate. Both styles allow for creativity in cooking, which I find enjoyable!\u001b[0m\n"
      ]
     },
     "metadata": {},
     "output_type": "display_data"
    },
    {
     "data": {
      "text/html": [
       "<pre style=\"margin:0px;;white-space:pre;overflow-x:auto;line-height:normal;font-family:Menlo,'DejaVu Sans Mono',consolas,'Courier New',monospace\"><span style=\"color: #00d700; text-decoration-color: #00d700; font-weight: bold; text-decoration: underline\">Diego Morales</span><span style=\"color: #00d700; text-decoration-color: #00d700; font-weight: bold\"> acts: [TALK] </span>\n",
       "<span style=\"color: #00d700; text-decoration-color: #00d700; font-weight: bold\">                   &gt; Hello! I'm Diego Morales, a </span><span style=\"color: #00d700; text-decoration-color: #00d700; font-weight: bold\">25</span><span style=\"color: #00d700; text-decoration-color: #00d700; font-weight: bold\">-year-old teacher from Mexico City. I work at a</span>\n",
       "<span style=\"color: #00d700; text-decoration-color: #00d700; font-weight: bold\">                   &gt; public school where I focus on providing quality education to children from</span>\n",
       "<span style=\"color: #00d700; text-decoration-color: #00d700; font-weight: bold\">                   &gt; low-income families. I love incorporating music and cultural events into my</span>\n",
       "<span style=\"color: #00d700; text-decoration-color: #00d700; font-weight: bold\">                   &gt; lessons to engage my students.   As for my top-</span><span style=\"color: #00d700; text-decoration-color: #00d700; font-weight: bold\">10</span><span style=\"color: #00d700; text-decoration-color: #00d700; font-weight: bold\"> interests, they include: </span><span style=\"color: #00d700; text-decoration-color: #00d700; font-weight: bold\">1</span><span style=\"color: #00d700; text-decoration-color: #00d700; font-weight: bold\">.</span>\n",
       "<span style=\"color: #00d700; text-decoration-color: #00d700; font-weight: bold\">                   &gt; Music, especially traditional Mexican genres. </span><span style=\"color: #00d700; text-decoration-color: #00d700; font-weight: bold\">2</span><span style=\"color: #00d700; text-decoration-color: #00d700; font-weight: bold\">. Cultural events and festivals.</span>\n",
       "<span style=\"color: #00d700; text-decoration-color: #00d700; font-weight: bold\">                   &gt; </span><span style=\"color: #00d700; text-decoration-color: #00d700; font-weight: bold\">3</span><span style=\"color: #00d700; text-decoration-color: #00d700; font-weight: bold\">. Reading educational literature and children's books. </span><span style=\"color: #00d700; text-decoration-color: #00d700; font-weight: bold\">4</span><span style=\"color: #00d700; text-decoration-color: #00d700; font-weight: bold\">. Volunteering in</span>\n",
       "<span style=\"color: #00d700; text-decoration-color: #00d700; font-weight: bold\">                   &gt; community service projects. </span><span style=\"color: #00d700; text-decoration-color: #00d700; font-weight: bold\">5</span><span style=\"color: #00d700; text-decoration-color: #00d700; font-weight: bold\">. Exploring local markets and trying new foods. </span><span style=\"color: #00d700; text-decoration-color: #00d700; font-weight: bold\">6</span><span style=\"color: #00d700; text-decoration-color: #00d700; font-weight: bold\">.</span>\n",
       "<span style=\"color: #00d700; text-decoration-color: #00d700; font-weight: bold\">                   &gt; Attending concerts and cultural performances. </span><span style=\"color: #00d700; text-decoration-color: #00d700; font-weight: bold\">7</span><span style=\"color: #00d700; text-decoration-color: #00d700; font-weight: bold\">. Engaging in discussions about</span>\n",
       "<span style=\"color: #00d700; text-decoration-color: #00d700; font-weight: bold\">                   &gt; educational policies. </span><span style=\"color: #00d700; text-decoration-color: #00d700; font-weight: bold\">8</span><span style=\"color: #00d700; text-decoration-color: #00d700; font-weight: bold\">. Learning about different educational systems in Latin</span>\n",
       "<span style=\"color: #00d700; text-decoration-color: #00d700; font-weight: bold\">                   &gt; America. </span><span style=\"color: #00d700; text-decoration-color: #00d700; font-weight: bold\">9</span><span style=\"color: #00d700; text-decoration-color: #00d700; font-weight: bold\">. Practicing mindfulness and yoga. </span><span style=\"color: #00d700; text-decoration-color: #00d700; font-weight: bold\">10</span><span style=\"color: #00d700; text-decoration-color: #00d700; font-weight: bold\">. Spending time with friends and</span>\n",
       "<span style=\"color: #00d700; text-decoration-color: #00d700; font-weight: bold\">                   &gt; family.  Regarding food styles, I enjoy traditional Mexican cuisine because of</span>\n",
       "<span style=\"color: #00d700; text-decoration-color: #00d700; font-weight: bold\">                   &gt; its rich flavors and cultural significance. I love dishes like tacos, tamales,</span>\n",
       "<span style=\"color: #00d700; text-decoration-color: #00d700; font-weight: bold\">                   &gt; and mole, as they remind me of my childhood and family gatherings. They also</span>\n",
       "<span style=\"color: #00d700; text-decoration-color: #00d700; font-weight: bold\">                   &gt; reflect  (...)</span>\n",
       "</pre>\n"
      ],
      "text/plain": [
       "\u001b[1;4;38;5;40mDiego Morales\u001b[0m\u001b[1;38;5;40m acts: \u001b[0m\u001b[1;38;5;40m[\u001b[0m\u001b[1;38;5;40mTALK\u001b[0m\u001b[1;38;5;40m]\u001b[0m\u001b[1;38;5;40m \u001b[0m\n",
       "\u001b[1;38;5;40m                   > Hello! I'm Diego Morales, a \u001b[0m\u001b[1;38;5;40m25\u001b[0m\u001b[1;38;5;40m-year-old teacher from Mexico City. I work at a\u001b[0m\n",
       "\u001b[1;38;5;40m                   > public school where I focus on providing quality education to children from\u001b[0m\n",
       "\u001b[1;38;5;40m                   > low-income families. I love incorporating music and cultural events into my\u001b[0m\n",
       "\u001b[1;38;5;40m                   > lessons to engage my students.   As for my top-\u001b[0m\u001b[1;38;5;40m10\u001b[0m\u001b[1;38;5;40m interests, they include: \u001b[0m\u001b[1;38;5;40m1\u001b[0m\u001b[1;38;5;40m.\u001b[0m\n",
       "\u001b[1;38;5;40m                   > Music, especially traditional Mexican genres. \u001b[0m\u001b[1;38;5;40m2\u001b[0m\u001b[1;38;5;40m. Cultural events and festivals.\u001b[0m\n",
       "\u001b[1;38;5;40m                   > \u001b[0m\u001b[1;38;5;40m3\u001b[0m\u001b[1;38;5;40m. Reading educational literature and children's books. \u001b[0m\u001b[1;38;5;40m4\u001b[0m\u001b[1;38;5;40m. Volunteering in\u001b[0m\n",
       "\u001b[1;38;5;40m                   > community service projects. \u001b[0m\u001b[1;38;5;40m5\u001b[0m\u001b[1;38;5;40m. Exploring local markets and trying new foods. \u001b[0m\u001b[1;38;5;40m6\u001b[0m\u001b[1;38;5;40m.\u001b[0m\n",
       "\u001b[1;38;5;40m                   > Attending concerts and cultural performances. \u001b[0m\u001b[1;38;5;40m7\u001b[0m\u001b[1;38;5;40m. Engaging in discussions about\u001b[0m\n",
       "\u001b[1;38;5;40m                   > educational policies. \u001b[0m\u001b[1;38;5;40m8\u001b[0m\u001b[1;38;5;40m. Learning about different educational systems in Latin\u001b[0m\n",
       "\u001b[1;38;5;40m                   > America. \u001b[0m\u001b[1;38;5;40m9\u001b[0m\u001b[1;38;5;40m. Practicing mindfulness and yoga. \u001b[0m\u001b[1;38;5;40m10\u001b[0m\u001b[1;38;5;40m. Spending time with friends and\u001b[0m\n",
       "\u001b[1;38;5;40m                   > family.  Regarding food styles, I enjoy traditional Mexican cuisine because of\u001b[0m\n",
       "\u001b[1;38;5;40m                   > its rich flavors and cultural significance. I love dishes like tacos, tamales,\u001b[0m\n",
       "\u001b[1;38;5;40m                   > and mole, as they remind me of my childhood and family gatherings. They also\u001b[0m\n",
       "\u001b[1;38;5;40m                   > reflect  \u001b[0m\u001b[1;38;5;40m(\u001b[0m\u001b[1;38;5;40m...\u001b[0m\u001b[1;38;5;40m)\u001b[0m\n"
      ]
     },
     "metadata": {},
     "output_type": "display_data"
    },
    {
     "data": {
      "text/html": [
       "<pre style=\"margin:0px;;white-space:pre;overflow-x:auto;line-height:normal;font-family:Menlo,'DejaVu Sans Mono',consolas,'Courier New',monospace\"><span style=\"color: #00d700; text-decoration-color: #00d700; font-weight: bold; text-decoration: underline\">Camila Salazar</span><span style=\"color: #00d700; text-decoration-color: #00d700; font-weight: bold\"> acts: [TALK] </span>\n",
       "<span style=\"color: #00d700; text-decoration-color: #00d700; font-weight: bold\">                    &gt; Hello! I'm Camila Salazar, a social worker from Bogotá, Colombia. I work at a</span>\n",
       "<span style=\"color: #00d700; text-decoration-color: #00d700; font-weight: bold\">                    &gt; local NGO focused on community development, helping families connect with</span>\n",
       "<span style=\"color: #00d700; text-decoration-color: #00d700; font-weight: bold\">                    &gt; resources and providing counseling. I'm passionate about social justice and</span>\n",
       "<span style=\"color: #00d700; text-decoration-color: #00d700; font-weight: bold\">                    &gt; improving the living conditions of marginalized communities.   As for my</span>\n",
       "<span style=\"color: #00d700; text-decoration-color: #00d700; font-weight: bold\">                    &gt; interests, here are my top-</span><span style=\"color: #00d700; text-decoration-color: #00d700; font-weight: bold\">10</span><span style=\"color: #00d700; text-decoration-color: #00d700; font-weight: bold\">: </span><span style=\"color: #00d700; text-decoration-color: #00d700; font-weight: bold\">1</span><span style=\"color: #00d700; text-decoration-color: #00d700; font-weight: bold\">. Community service </span><span style=\"color: #00d700; text-decoration-color: #00d700; font-weight: bold\">2</span><span style=\"color: #00d700; text-decoration-color: #00d700; font-weight: bold\">. Social justice </span><span style=\"color: #00d700; text-decoration-color: #00d700; font-weight: bold\">3</span><span style=\"color: #00d700; text-decoration-color: #00d700; font-weight: bold\">.</span>\n",
       "<span style=\"color: #00d700; text-decoration-color: #00d700; font-weight: bold\">                    &gt; Cooking </span><span style=\"color: #00d700; text-decoration-color: #00d700; font-weight: bold\">4</span><span style=\"color: #00d700; text-decoration-color: #00d700; font-weight: bold\">. Watching documentaries about social issues </span><span style=\"color: #00d700; text-decoration-color: #00d700; font-weight: bold\">5</span><span style=\"color: #00d700; text-decoration-color: #00d700; font-weight: bold\">. Reading self-help and</span>\n",
       "<span style=\"color: #00d700; text-decoration-color: #00d700; font-weight: bold\">                    &gt; motivational books </span><span style=\"color: #00d700; text-decoration-color: #00d700; font-weight: bold\">6</span><span style=\"color: #00d700; text-decoration-color: #00d700; font-weight: bold\">. Spending time with family and friends </span><span style=\"color: #00d700; text-decoration-color: #00d700; font-weight: bold\">7</span><span style=\"color: #00d700; text-decoration-color: #00d700; font-weight: bold\">. Participating</span>\n",
       "<span style=\"color: #00d700; text-decoration-color: #00d700; font-weight: bold\">                    &gt; in community events </span><span style=\"color: #00d700; text-decoration-color: #00d700; font-weight: bold\">8</span><span style=\"color: #00d700; text-decoration-color: #00d700; font-weight: bold\">. Listening to music, especially salsa and vallenato </span><span style=\"color: #00d700; text-decoration-color: #00d700; font-weight: bold\">9</span><span style=\"color: #00d700; text-decoration-color: #00d700; font-weight: bold\">.</span>\n",
       "<span style=\"color: #00d700; text-decoration-color: #00d700; font-weight: bold\">                    &gt; Exploring new recipes </span><span style=\"color: #00d700; text-decoration-color: #00d700; font-weight: bold\">10</span><span style=\"color: #00d700; text-decoration-color: #00d700; font-weight: bold\">. Engaging in discussions about social change.</span>\n",
       "<span style=\"color: #00d700; text-decoration-color: #00d700; font-weight: bold\">                    &gt; Regarding food styles, I love traditional Colombian dishes because they remind</span>\n",
       "<span style=\"color: #00d700; text-decoration-color: #00d700; font-weight: bold\">                    &gt; me of my childhood and bring a sense of comfort. I enjoy cooking them for my</span>\n",
       "<span style=\"color: #00d700; text-decoration-color: #00d700; font-weight: bold\">                    &gt; family and friends, as it allows me to share a piece of my culture with them.</span>\n",
       "<span style=\"color: #00d700; text-decoration-color: #00d700; font-weight: bold\">                    &gt; Now, about spicy food: Yes, I do like spicy food! I find that it adds a lot of</span>\n",
       "<span style=\"color: #00d700; text-decoration-color: #00d700; font-weight: bold\">                    &gt; flavor and excitement to meals (...)</span>\n",
       "</pre>\n"
      ],
      "text/plain": [
       "\u001b[1;4;38;5;40mCamila Salazar\u001b[0m\u001b[1;38;5;40m acts: \u001b[0m\u001b[1;38;5;40m[\u001b[0m\u001b[1;38;5;40mTALK\u001b[0m\u001b[1;38;5;40m]\u001b[0m\u001b[1;38;5;40m \u001b[0m\n",
       "\u001b[1;38;5;40m                    > Hello! I'm Camila Salazar, a social worker from Bogotá, Colombia. I work at a\u001b[0m\n",
       "\u001b[1;38;5;40m                    > local NGO focused on community development, helping families connect with\u001b[0m\n",
       "\u001b[1;38;5;40m                    > resources and providing counseling. I'm passionate about social justice and\u001b[0m\n",
       "\u001b[1;38;5;40m                    > improving the living conditions of marginalized communities.   As for my\u001b[0m\n",
       "\u001b[1;38;5;40m                    > interests, here are my top-\u001b[0m\u001b[1;38;5;40m10\u001b[0m\u001b[1;38;5;40m: \u001b[0m\u001b[1;38;5;40m1\u001b[0m\u001b[1;38;5;40m. Community service \u001b[0m\u001b[1;38;5;40m2\u001b[0m\u001b[1;38;5;40m. Social justice \u001b[0m\u001b[1;38;5;40m3\u001b[0m\u001b[1;38;5;40m.\u001b[0m\n",
       "\u001b[1;38;5;40m                    > Cooking \u001b[0m\u001b[1;38;5;40m4\u001b[0m\u001b[1;38;5;40m. Watching documentaries about social issues \u001b[0m\u001b[1;38;5;40m5\u001b[0m\u001b[1;38;5;40m. Reading self-help and\u001b[0m\n",
       "\u001b[1;38;5;40m                    > motivational books \u001b[0m\u001b[1;38;5;40m6\u001b[0m\u001b[1;38;5;40m. Spending time with family and friends \u001b[0m\u001b[1;38;5;40m7\u001b[0m\u001b[1;38;5;40m. Participating\u001b[0m\n",
       "\u001b[1;38;5;40m                    > in community events \u001b[0m\u001b[1;38;5;40m8\u001b[0m\u001b[1;38;5;40m. Listening to music, especially salsa and vallenato \u001b[0m\u001b[1;38;5;40m9\u001b[0m\u001b[1;38;5;40m.\u001b[0m\n",
       "\u001b[1;38;5;40m                    > Exploring new recipes \u001b[0m\u001b[1;38;5;40m10\u001b[0m\u001b[1;38;5;40m. Engaging in discussions about social change.\u001b[0m\n",
       "\u001b[1;38;5;40m                    > Regarding food styles, I love traditional Colombian dishes because they remind\u001b[0m\n",
       "\u001b[1;38;5;40m                    > me of my childhood and bring a sense of comfort. I enjoy cooking them for my\u001b[0m\n",
       "\u001b[1;38;5;40m                    > family and friends, as it allows me to share a piece of my culture with them.\u001b[0m\n",
       "\u001b[1;38;5;40m                    > Now, about spicy food: Yes, I do like spicy food! I find that it adds a lot of\u001b[0m\n",
       "\u001b[1;38;5;40m                    > flavor and excitement to meals \u001b[0m\u001b[1;38;5;40m(\u001b[0m\u001b[1;38;5;40m...\u001b[0m\u001b[1;38;5;40m)\u001b[0m\n"
      ]
     },
     "metadata": {},
     "output_type": "display_data"
    },
    {
     "data": {
      "text/html": [
       "<pre style=\"margin:0px;;white-space:pre;overflow-x:auto;line-height:normal;font-family:Menlo,'DejaVu Sans Mono',consolas,'Courier New',monospace\"><span style=\"color: #00d700; text-decoration-color: #00d700; font-weight: bold; text-decoration: underline\">Ana Maria Salazar</span><span style=\"color: #00d700; text-decoration-color: #00d700; font-weight: bold\"> acts: [TALK] </span>\n",
       "<span style=\"color: #00d700; text-decoration-color: #00d700; font-weight: bold\">                       &gt; Hello! I'm Ana Maria Salazar, a software engineer at Tech Innovations Inc.</span>\n",
       "<span style=\"color: #00d700; text-decoration-color: #00d700; font-weight: bold\">                       &gt; I focus on developing applications that leverage AI to enhance city</span>\n",
       "<span style=\"color: #00d700; text-decoration-color: #00d700; font-weight: bold\">                       &gt; infrastructure. I'm passionate about using technology for social good and</span>\n",
       "<span style=\"color: #00d700; text-decoration-color: #00d700; font-weight: bold\">                       &gt; enjoy collaborating with cross-functional teams to solve urban challenges.</span>\n",
       "<span style=\"color: #00d700; text-decoration-color: #00d700; font-weight: bold\">                       &gt; As for my interests, here are my top </span><span style=\"color: #00d700; text-decoration-color: #00d700; font-weight: bold\">10</span><span style=\"color: #00d700; text-decoration-color: #00d700; font-weight: bold\">: </span><span style=\"color: #00d700; text-decoration-color: #00d700; font-weight: bold\">1</span><span style=\"color: #00d700; text-decoration-color: #00d700; font-weight: bold\">. Technology and innovation </span><span style=\"color: #00d700; text-decoration-color: #00d700; font-weight: bold\">2</span><span style=\"color: #00d700; text-decoration-color: #00d700; font-weight: bold\">.</span>\n",
       "<span style=\"color: #00d700; text-decoration-color: #00d700; font-weight: bold\">                       &gt; Traveling to new countries </span><span style=\"color: #00d700; text-decoration-color: #00d700; font-weight: bold\">3</span><span style=\"color: #00d700; text-decoration-color: #00d700; font-weight: bold\">. Volunteering for social causes </span><span style=\"color: #00d700; text-decoration-color: #00d700; font-weight: bold\">4</span><span style=\"color: #00d700; text-decoration-color: #00d700; font-weight: bold\">. Reading</span>\n",
       "<span style=\"color: #00d700; text-decoration-color: #00d700; font-weight: bold\">                       &gt; about AI and ethics </span><span style=\"color: #00d700; text-decoration-color: #00d700; font-weight: bold\">5</span><span style=\"color: #00d700; text-decoration-color: #00d700; font-weight: bold\">. Outdoor activities like hiking and biking </span><span style=\"color: #00d700; text-decoration-color: #00d700; font-weight: bold\">6</span><span style=\"color: #00d700; text-decoration-color: #00d700; font-weight: bold\">.</span>\n",
       "<span style=\"color: #00d700; text-decoration-color: #00d700; font-weight: bold\">                       &gt; Exploring new cuisines and trying local dishes </span><span style=\"color: #00d700; text-decoration-color: #00d700; font-weight: bold\">7</span><span style=\"color: #00d700; text-decoration-color: #00d700; font-weight: bold\">. Attending tech meetups</span>\n",
       "<span style=\"color: #00d700; text-decoration-color: #00d700; font-weight: bold\">                       &gt; and conferences </span><span style=\"color: #00d700; text-decoration-color: #00d700; font-weight: bold\">8</span><span style=\"color: #00d700; text-decoration-color: #00d700; font-weight: bold\">. Listening to podcasts about technology and social issues</span>\n",
       "<span style=\"color: #00d700; text-decoration-color: #00d700; font-weight: bold\">                       &gt; </span><span style=\"color: #00d700; text-decoration-color: #00d700; font-weight: bold\">9</span><span style=\"color: #00d700; text-decoration-color: #00d700; font-weight: bold\">. Photography, especially during my travels </span><span style=\"color: #00d700; text-decoration-color: #00d700; font-weight: bold\">10</span><span style=\"color: #00d700; text-decoration-color: #00d700; font-weight: bold\">. Engaging in discussions</span>\n",
       "<span style=\"color: #00d700; text-decoration-color: #00d700; font-weight: bold\">                       &gt; about the impact of technology on society.  Regarding food styles, I enjoy</span>\n",
       "<span style=\"color: #00d700; text-decoration-color: #00d700; font-weight: bold\">                       &gt; a variety of cuisines, particularly Mediterranean and Asian, because they</span>\n",
       "<span style=\"color: #00d700; text-decoration-color: #00d700; font-weight: bold\">                       &gt; offer a rich blend of flavors and healthy ingredients. I appreciate how</span>\n",
       "<span style=\"color: #00d700; text-decoration-color: #00d700; font-weight: bold\">                       &gt; these cuisines often emphasize fresh vegetables, herbs, and spices, making</span>\n",
       "<span style=\"color: #00d700; text-decoration-color: #00d700; font-weight: bold\">                       &gt; (...)</span>\n",
       "</pre>\n"
      ],
      "text/plain": [
       "\u001b[1;4;38;5;40mAna Maria Salazar\u001b[0m\u001b[1;38;5;40m acts: \u001b[0m\u001b[1;38;5;40m[\u001b[0m\u001b[1;38;5;40mTALK\u001b[0m\u001b[1;38;5;40m]\u001b[0m\u001b[1;38;5;40m \u001b[0m\n",
       "\u001b[1;38;5;40m                       > Hello! I'm Ana Maria Salazar, a software engineer at Tech Innovations Inc.\u001b[0m\n",
       "\u001b[1;38;5;40m                       > I focus on developing applications that leverage AI to enhance city\u001b[0m\n",
       "\u001b[1;38;5;40m                       > infrastructure. I'm passionate about using technology for social good and\u001b[0m\n",
       "\u001b[1;38;5;40m                       > enjoy collaborating with cross-functional teams to solve urban challenges.\u001b[0m\n",
       "\u001b[1;38;5;40m                       > As for my interests, here are my top \u001b[0m\u001b[1;38;5;40m10\u001b[0m\u001b[1;38;5;40m: \u001b[0m\u001b[1;38;5;40m1\u001b[0m\u001b[1;38;5;40m. Technology and innovation \u001b[0m\u001b[1;38;5;40m2\u001b[0m\u001b[1;38;5;40m.\u001b[0m\n",
       "\u001b[1;38;5;40m                       > Traveling to new countries \u001b[0m\u001b[1;38;5;40m3\u001b[0m\u001b[1;38;5;40m. Volunteering for social causes \u001b[0m\u001b[1;38;5;40m4\u001b[0m\u001b[1;38;5;40m. Reading\u001b[0m\n",
       "\u001b[1;38;5;40m                       > about AI and ethics \u001b[0m\u001b[1;38;5;40m5\u001b[0m\u001b[1;38;5;40m. Outdoor activities like hiking and biking \u001b[0m\u001b[1;38;5;40m6\u001b[0m\u001b[1;38;5;40m.\u001b[0m\n",
       "\u001b[1;38;5;40m                       > Exploring new cuisines and trying local dishes \u001b[0m\u001b[1;38;5;40m7\u001b[0m\u001b[1;38;5;40m. Attending tech meetups\u001b[0m\n",
       "\u001b[1;38;5;40m                       > and conferences \u001b[0m\u001b[1;38;5;40m8\u001b[0m\u001b[1;38;5;40m. Listening to podcasts about technology and social issues\u001b[0m\n",
       "\u001b[1;38;5;40m                       > \u001b[0m\u001b[1;38;5;40m9\u001b[0m\u001b[1;38;5;40m. Photography, especially during my travels \u001b[0m\u001b[1;38;5;40m10\u001b[0m\u001b[1;38;5;40m. Engaging in discussions\u001b[0m\n",
       "\u001b[1;38;5;40m                       > about the impact of technology on society.  Regarding food styles, I enjoy\u001b[0m\n",
       "\u001b[1;38;5;40m                       > a variety of cuisines, particularly Mediterranean and Asian, because they\u001b[0m\n",
       "\u001b[1;38;5;40m                       > offer a rich blend of flavors and healthy ingredients. I appreciate how\u001b[0m\n",
       "\u001b[1;38;5;40m                       > these cuisines often emphasize fresh vegetables, herbs, and spices, making\u001b[0m\n",
       "\u001b[1;38;5;40m                       > \u001b[0m\u001b[1;38;5;40m(\u001b[0m\u001b[1;38;5;40m...\u001b[0m\u001b[1;38;5;40m)\u001b[0m\n"
      ]
     },
     "metadata": {},
     "output_type": "display_data"
    },
    {
     "data": {
      "text/html": [
       "<pre style=\"margin:0px;;white-space:pre;overflow-x:auto;line-height:normal;font-family:Menlo,'DejaVu Sans Mono',consolas,'Courier New',monospace\"><span style=\"color: #00d700; text-decoration-color: #00d700; font-weight: bold; text-decoration: underline\">Camila Rojas</span><span style=\"color: #00d700; text-decoration-color: #00d700; font-weight: bold\"> acts: [TALK] </span>\n",
       "<span style=\"color: #00d700; text-decoration-color: #00d700; font-weight: bold\">                  &gt; Hello! I'm Camila Rojas, a </span><span style=\"color: #00d700; text-decoration-color: #00d700; font-weight: bold\">35</span><span style=\"color: #00d700; text-decoration-color: #00d700; font-weight: bold\">-year-old social worker from Santiago, Chile. I</span>\n",
       "<span style=\"color: #00d700; text-decoration-color: #00d700; font-weight: bold\">                  &gt; work with low-income families, helping them access resources and improve their</span>\n",
       "<span style=\"color: #00d700; text-decoration-color: #00d700; font-weight: bold\">                  &gt; living conditions. I'm passionate about social justice and community</span>\n",
       "<span style=\"color: #00d700; text-decoration-color: #00d700; font-weight: bold\">                  &gt; development.   As for my interests, here are my top </span><span style=\"color: #00d700; text-decoration-color: #00d700; font-weight: bold\">10</span><span style=\"color: #00d700; text-decoration-color: #00d700; font-weight: bold\">: </span><span style=\"color: #00d700; text-decoration-color: #00d700; font-weight: bold\">1</span><span style=\"color: #00d700; text-decoration-color: #00d700; font-weight: bold\">. Community service </span><span style=\"color: #00d700; text-decoration-color: #00d700; font-weight: bold\">2</span><span style=\"color: #00d700; text-decoration-color: #00d700; font-weight: bold\">.</span>\n",
       "<span style=\"color: #00d700; text-decoration-color: #00d700; font-weight: bold\">                  &gt; Environmental activism </span><span style=\"color: #00d700; text-decoration-color: #00d700; font-weight: bold\">3</span><span style=\"color: #00d700; text-decoration-color: #00d700; font-weight: bold\">. Cooking and trying new recipes </span><span style=\"color: #00d700; text-decoration-color: #00d700; font-weight: bold\">4</span><span style=\"color: #00d700; text-decoration-color: #00d700; font-weight: bold\">. Watching</span>\n",
       "<span style=\"color: #00d700; text-decoration-color: #00d700; font-weight: bold\">                  &gt; documentaries </span><span style=\"color: #00d700; text-decoration-color: #00d700; font-weight: bold\">5</span><span style=\"color: #00d700; text-decoration-color: #00d700; font-weight: bold\">. Reading fiction and non-fiction </span><span style=\"color: #00d700; text-decoration-color: #00d700; font-weight: bold\">6</span><span style=\"color: #00d700; text-decoration-color: #00d700; font-weight: bold\">. Nature walks </span><span style=\"color: #00d700; text-decoration-color: #00d700; font-weight: bold\">7</span><span style=\"color: #00d700; text-decoration-color: #00d700; font-weight: bold\">.</span>\n",
       "<span style=\"color: #00d700; text-decoration-color: #00d700; font-weight: bold\">                  &gt; Participating in local events </span><span style=\"color: #00d700; text-decoration-color: #00d700; font-weight: bold\">8</span><span style=\"color: #00d700; text-decoration-color: #00d700; font-weight: bold\">. Engaging in discussions about social issues </span><span style=\"color: #00d700; text-decoration-color: #00d700; font-weight: bold\">9</span><span style=\"color: #00d700; text-decoration-color: #00d700; font-weight: bold\">.</span>\n",
       "<span style=\"color: #00d700; text-decoration-color: #00d700; font-weight: bold\">                  &gt; Traveling and learning about different cultures </span><span style=\"color: #00d700; text-decoration-color: #00d700; font-weight: bold\">10</span><span style=\"color: #00d700; text-decoration-color: #00d700; font-weight: bold\">. Advocating for mental health</span>\n",
       "<span style=\"color: #00d700; text-decoration-color: #00d700; font-weight: bold\">                  &gt; awareness.  Regarding food styles, I enjoy traditional Chilean dishes because</span>\n",
       "<span style=\"color: #00d700; text-decoration-color: #00d700; font-weight: bold\">                  &gt; they remind me of my childhood and family gatherings. I also love trying new</span>\n",
       "<span style=\"color: #00d700; text-decoration-color: #00d700; font-weight: bold\">                  &gt; cuisines, especially those that emphasize fresh ingredients and sustainability.</span>\n",
       "<span style=\"color: #00d700; text-decoration-color: #00d700; font-weight: bold\">                  &gt; Now, about spicy food: Yes, I do like spicy food! I find that it adds a lot of</span>\n",
       "<span style=\"color: #00d700; text-decoration-color: #00d700; font-weight: bold\">                  &gt; flavor and excitement to meals, and I enjoy the warmth it brings. Plus, many</span>\n",
       "<span style=\"color: #00d700; text-decoration-color: #00d700; font-weight: bold\">                  &gt; spicy dishes are often rich  (...)</span>\n",
       "</pre>\n"
      ],
      "text/plain": [
       "\u001b[1;4;38;5;40mCamila Rojas\u001b[0m\u001b[1;38;5;40m acts: \u001b[0m\u001b[1;38;5;40m[\u001b[0m\u001b[1;38;5;40mTALK\u001b[0m\u001b[1;38;5;40m]\u001b[0m\u001b[1;38;5;40m \u001b[0m\n",
       "\u001b[1;38;5;40m                  > Hello! I'm Camila Rojas, a \u001b[0m\u001b[1;38;5;40m35\u001b[0m\u001b[1;38;5;40m-year-old social worker from Santiago, Chile. I\u001b[0m\n",
       "\u001b[1;38;5;40m                  > work with low-income families, helping them access resources and improve their\u001b[0m\n",
       "\u001b[1;38;5;40m                  > living conditions. I'm passionate about social justice and community\u001b[0m\n",
       "\u001b[1;38;5;40m                  > development.   As for my interests, here are my top \u001b[0m\u001b[1;38;5;40m10\u001b[0m\u001b[1;38;5;40m: \u001b[0m\u001b[1;38;5;40m1\u001b[0m\u001b[1;38;5;40m. Community service \u001b[0m\u001b[1;38;5;40m2\u001b[0m\u001b[1;38;5;40m.\u001b[0m\n",
       "\u001b[1;38;5;40m                  > Environmental activism \u001b[0m\u001b[1;38;5;40m3\u001b[0m\u001b[1;38;5;40m. Cooking and trying new recipes \u001b[0m\u001b[1;38;5;40m4\u001b[0m\u001b[1;38;5;40m. Watching\u001b[0m\n",
       "\u001b[1;38;5;40m                  > documentaries \u001b[0m\u001b[1;38;5;40m5\u001b[0m\u001b[1;38;5;40m. Reading fiction and non-fiction \u001b[0m\u001b[1;38;5;40m6\u001b[0m\u001b[1;38;5;40m. Nature walks \u001b[0m\u001b[1;38;5;40m7\u001b[0m\u001b[1;38;5;40m.\u001b[0m\n",
       "\u001b[1;38;5;40m                  > Participating in local events \u001b[0m\u001b[1;38;5;40m8\u001b[0m\u001b[1;38;5;40m. Engaging in discussions about social issues \u001b[0m\u001b[1;38;5;40m9\u001b[0m\u001b[1;38;5;40m.\u001b[0m\n",
       "\u001b[1;38;5;40m                  > Traveling and learning about different cultures \u001b[0m\u001b[1;38;5;40m10\u001b[0m\u001b[1;38;5;40m. Advocating for mental health\u001b[0m\n",
       "\u001b[1;38;5;40m                  > awareness.  Regarding food styles, I enjoy traditional Chilean dishes because\u001b[0m\n",
       "\u001b[1;38;5;40m                  > they remind me of my childhood and family gatherings. I also love trying new\u001b[0m\n",
       "\u001b[1;38;5;40m                  > cuisines, especially those that emphasize fresh ingredients and sustainability.\u001b[0m\n",
       "\u001b[1;38;5;40m                  > Now, about spicy food: Yes, I do like spicy food! I find that it adds a lot of\u001b[0m\n",
       "\u001b[1;38;5;40m                  > flavor and excitement to meals, and I enjoy the warmth it brings. Plus, many\u001b[0m\n",
       "\u001b[1;38;5;40m                  > spicy dishes are often rich  \u001b[0m\u001b[1;38;5;40m(\u001b[0m\u001b[1;38;5;40m...\u001b[0m\u001b[1;38;5;40m)\u001b[0m\n"
      ]
     },
     "metadata": {},
     "output_type": "display_data"
    },
    {
     "data": {
      "text/html": [
       "<pre style=\"margin:0px;;white-space:pre;overflow-x:auto;line-height:normal;font-family:Menlo,'DejaVu Sans Mono',consolas,'Courier New',monospace\"><span style=\"color: #00d700; text-decoration-color: #00d700; font-weight: bold; text-decoration: underline\">Carlos Herrera</span><span style=\"color: #00d700; text-decoration-color: #00d700; font-weight: bold\"> acts: [TALK] </span>\n",
       "<span style=\"color: #00d700; text-decoration-color: #00d700; font-weight: bold\">                    &gt; Hello! I'm Carlos Herrera, a </span><span style=\"color: #00d700; text-decoration-color: #00d700; font-weight: bold\">22</span><span style=\"color: #00d700; text-decoration-color: #00d700; font-weight: bold\">-year-old sales associate from Mexico City. I</span>\n",
       "<span style=\"color: #00d700; text-decoration-color: #00d700; font-weight: bold\">                    &gt; work at a local retail store, and I'm currently studying Business</span>\n",
       "<span style=\"color: #00d700; text-decoration-color: #00d700; font-weight: bold\">                    &gt; Administration at a community college. I enjoy interacting with customers and</span>\n",
       "<span style=\"color: #00d700; text-decoration-color: #00d700; font-weight: bold\">                    &gt; helping them find what they need.   As for my interests, here are my top-</span><span style=\"color: #00d700; text-decoration-color: #00d700; font-weight: bold\">10</span><span style=\"color: #00d700; text-decoration-color: #00d700; font-weight: bold\">:</span>\n",
       "<span style=\"color: #00d700; text-decoration-color: #00d700; font-weight: bold\">                    &gt; </span><span style=\"color: #00d700; text-decoration-color: #00d700; font-weight: bold\">1</span><span style=\"color: #00d700; text-decoration-color: #00d700; font-weight: bold\">. Soccer </span><span style=\"color: #00d700; text-decoration-color: #00d700; font-weight: bold\">2</span><span style=\"color: #00d700; text-decoration-color: #00d700; font-weight: bold\">. Basketball </span><span style=\"color: #00d700; text-decoration-color: #00d700; font-weight: bold\">3</span><span style=\"color: #00d700; text-decoration-color: #00d700; font-weight: bold\">. Music (especially reggaeton and pop) </span><span style=\"color: #00d700; text-decoration-color: #00d700; font-weight: bold\">4</span><span style=\"color: #00d700; text-decoration-color: #00d700; font-weight: bold\">. Cooking</span>\n",
       "<span style=\"color: #00d700; text-decoration-color: #00d700; font-weight: bold\">                    &gt; traditional Mexican dishes </span><span style=\"color: #00d700; text-decoration-color: #00d700; font-weight: bold\">5</span><span style=\"color: #00d700; text-decoration-color: #00d700; font-weight: bold\">. Spending time with friends and family </span><span style=\"color: #00d700; text-decoration-color: #00d700; font-weight: bold\">6</span><span style=\"color: #00d700; text-decoration-color: #00d700; font-weight: bold\">.</span>\n",
       "<span style=\"color: #00d700; text-decoration-color: #00d700; font-weight: bold\">                    &gt; Attending local sports events </span><span style=\"color: #00d700; text-decoration-color: #00d700; font-weight: bold\">7</span><span style=\"color: #00d700; text-decoration-color: #00d700; font-weight: bold\">. Exploring new restaurants and cafes </span><span style=\"color: #00d700; text-decoration-color: #00d700; font-weight: bold\">8</span><span style=\"color: #00d700; text-decoration-color: #00d700; font-weight: bold\">.</span>\n",
       "<span style=\"color: #00d700; text-decoration-color: #00d700; font-weight: bold\">                    &gt; Volunteering for community events </span><span style=\"color: #00d700; text-decoration-color: #00d700; font-weight: bold\">9</span><span style=\"color: #00d700; text-decoration-color: #00d700; font-weight: bold\">. Traveling and experiencing different</span>\n",
       "<span style=\"color: #00d700; text-decoration-color: #00d700; font-weight: bold\">                    &gt; cultures </span><span style=\"color: #00d700; text-decoration-color: #00d700; font-weight: bold\">10</span><span style=\"color: #00d700; text-decoration-color: #00d700; font-weight: bold\">. Watching movies and series.  Regarding food styles, I love</span>\n",
       "<span style=\"color: #00d700; text-decoration-color: #00d700; font-weight: bold\">                    &gt; traditional Mexican cuisine because it reminds me of my childhood and family</span>\n",
       "<span style=\"color: #00d700; text-decoration-color: #00d700; font-weight: bold\">                    &gt; gatherings. I also enjoy trying different international dishes, as they offer</span>\n",
       "<span style=\"color: #00d700; text-decoration-color: #00d700; font-weight: bold\">                    &gt; a glimpse into other cultures.   Now, to answer your question about spicy</span>\n",
       "<span style=\"color: #00d700; text-decoration-color: #00d700; font-weight: bold\">                    &gt; food: Yes, I like spicy food! I enjoy the flavor and kick it adds to dishes,</span>\n",
       "<span style=\"color: #00d700; text-decoration-color: #00d700; font-weight: bold\">                    &gt; and it often reminds me of home-cooked meals. Spicy food (...)</span>\n",
       "</pre>\n"
      ],
      "text/plain": [
       "\u001b[1;4;38;5;40mCarlos Herrera\u001b[0m\u001b[1;38;5;40m acts: \u001b[0m\u001b[1;38;5;40m[\u001b[0m\u001b[1;38;5;40mTALK\u001b[0m\u001b[1;38;5;40m]\u001b[0m\u001b[1;38;5;40m \u001b[0m\n",
       "\u001b[1;38;5;40m                    > Hello! I'm Carlos Herrera, a \u001b[0m\u001b[1;38;5;40m22\u001b[0m\u001b[1;38;5;40m-year-old sales associate from Mexico City. I\u001b[0m\n",
       "\u001b[1;38;5;40m                    > work at a local retail store, and I'm currently studying Business\u001b[0m\n",
       "\u001b[1;38;5;40m                    > Administration at a community college. I enjoy interacting with customers and\u001b[0m\n",
       "\u001b[1;38;5;40m                    > helping them find what they need.   As for my interests, here are my top-\u001b[0m\u001b[1;38;5;40m10\u001b[0m\u001b[1;38;5;40m:\u001b[0m\n",
       "\u001b[1;38;5;40m                    > \u001b[0m\u001b[1;38;5;40m1\u001b[0m\u001b[1;38;5;40m. Soccer \u001b[0m\u001b[1;38;5;40m2\u001b[0m\u001b[1;38;5;40m. Basketball \u001b[0m\u001b[1;38;5;40m3\u001b[0m\u001b[1;38;5;40m. Music \u001b[0m\u001b[1;38;5;40m(\u001b[0m\u001b[1;38;5;40mespecially reggaeton and pop\u001b[0m\u001b[1;38;5;40m)\u001b[0m\u001b[1;38;5;40m \u001b[0m\u001b[1;38;5;40m4\u001b[0m\u001b[1;38;5;40m. Cooking\u001b[0m\n",
       "\u001b[1;38;5;40m                    > traditional Mexican dishes \u001b[0m\u001b[1;38;5;40m5\u001b[0m\u001b[1;38;5;40m. Spending time with friends and family \u001b[0m\u001b[1;38;5;40m6\u001b[0m\u001b[1;38;5;40m.\u001b[0m\n",
       "\u001b[1;38;5;40m                    > Attending local sports events \u001b[0m\u001b[1;38;5;40m7\u001b[0m\u001b[1;38;5;40m. Exploring new restaurants and cafes \u001b[0m\u001b[1;38;5;40m8\u001b[0m\u001b[1;38;5;40m.\u001b[0m\n",
       "\u001b[1;38;5;40m                    > Volunteering for community events \u001b[0m\u001b[1;38;5;40m9\u001b[0m\u001b[1;38;5;40m. Traveling and experiencing different\u001b[0m\n",
       "\u001b[1;38;5;40m                    > cultures \u001b[0m\u001b[1;38;5;40m10\u001b[0m\u001b[1;38;5;40m. Watching movies and series.  Regarding food styles, I love\u001b[0m\n",
       "\u001b[1;38;5;40m                    > traditional Mexican cuisine because it reminds me of my childhood and family\u001b[0m\n",
       "\u001b[1;38;5;40m                    > gatherings. I also enjoy trying different international dishes, as they offer\u001b[0m\n",
       "\u001b[1;38;5;40m                    > a glimpse into other cultures.   Now, to answer your question about spicy\u001b[0m\n",
       "\u001b[1;38;5;40m                    > food: Yes, I like spicy food! I enjoy the flavor and kick it adds to dishes,\u001b[0m\n",
       "\u001b[1;38;5;40m                    > and it often reminds me of home-cooked meals. Spicy food \u001b[0m\u001b[1;38;5;40m(\u001b[0m\u001b[1;38;5;40m...\u001b[0m\u001b[1;38;5;40m)\u001b[0m\n"
      ]
     },
     "metadata": {},
     "output_type": "display_data"
    },
    {
     "data": {
      "text/html": [
       "<pre style=\"margin:0px;;white-space:pre;overflow-x:auto;line-height:normal;font-family:Menlo,'DejaVu Sans Mono',consolas,'Courier New',monospace\"><span style=\"color: #00d700; text-decoration-color: #00d700; font-weight: bold; text-decoration: underline\">Camila Torres</span><span style=\"color: #00d700; text-decoration-color: #00d700; font-weight: bold\"> acts: [TALK] </span>\n",
       "<span style=\"color: #00d700; text-decoration-color: #00d700; font-weight: bold\">                   &gt; Hello, my name is Camila Torres. I am a farmer from the Cauca Valley in</span>\n",
       "<span style=\"color: #00d700; text-decoration-color: #00d700; font-weight: bold\">                   &gt; Colombia, where I grow coffee and various vegetables. I work hard to provide</span>\n",
       "<span style=\"color: #00d700; text-decoration-color: #00d700; font-weight: bold\">                   &gt; for my family and ensure my children receive a good education.   As for my</span>\n",
       "<span style=\"color: #00d700; text-decoration-color: #00d700; font-weight: bold\">                   &gt; interests, here are my top-</span><span style=\"color: #00d700; text-decoration-color: #00d700; font-weight: bold\">10</span><span style=\"color: #00d700; text-decoration-color: #00d700; font-weight: bold\">: </span><span style=\"color: #00d700; text-decoration-color: #00d700; font-weight: bold\">1</span><span style=\"color: #00d700; text-decoration-color: #00d700; font-weight: bold\">. Agriculture and sustainable farming</span>\n",
       "<span style=\"color: #00d700; text-decoration-color: #00d700; font-weight: bold\">                   &gt; practices. </span><span style=\"color: #00d700; text-decoration-color: #00d700; font-weight: bold\">2</span><span style=\"color: #00d700; text-decoration-color: #00d700; font-weight: bold\">. Spending time with family and friends. </span><span style=\"color: #00d700; text-decoration-color: #00d700; font-weight: bold\">3</span><span style=\"color: #00d700; text-decoration-color: #00d700; font-weight: bold\">. Participating in local</span>\n",
       "<span style=\"color: #00d700; text-decoration-color: #00d700; font-weight: bold\">                   &gt; community events. </span><span style=\"color: #00d700; text-decoration-color: #00d700; font-weight: bold\">4</span><span style=\"color: #00d700; text-decoration-color: #00d700; font-weight: bold\">. Learning about new farming techniques. </span><span style=\"color: #00d700; text-decoration-color: #00d700; font-weight: bold\">5</span><span style=\"color: #00d700; text-decoration-color: #00d700; font-weight: bold\">. Enjoying nature</span>\n",
       "<span style=\"color: #00d700; text-decoration-color: #00d700; font-weight: bold\">                   &gt; and the outdoors. </span><span style=\"color: #00d700; text-decoration-color: #00d700; font-weight: bold\">6</span><span style=\"color: #00d700; text-decoration-color: #00d700; font-weight: bold\">. Traditional Colombian music. </span><span style=\"color: #00d700; text-decoration-color: #00d700; font-weight: bold\">7</span><span style=\"color: #00d700; text-decoration-color: #00d700; font-weight: bold\">. Cooking simple, hearty</span>\n",
       "<span style=\"color: #00d700; text-decoration-color: #00d700; font-weight: bold\">                   &gt; meals. </span><span style=\"color: #00d700; text-decoration-color: #00d700; font-weight: bold\">8</span><span style=\"color: #00d700; text-decoration-color: #00d700; font-weight: bold\">. Supporting local markets and businesses. </span><span style=\"color: #00d700; text-decoration-color: #00d700; font-weight: bold\">9</span><span style=\"color: #00d700; text-decoration-color: #00d700; font-weight: bold\">. Engaging in cultural</span>\n",
       "<span style=\"color: #00d700; text-decoration-color: #00d700; font-weight: bold\">                   &gt; events that celebrate my heritage. </span><span style=\"color: #00d700; text-decoration-color: #00d700; font-weight: bold\">10</span><span style=\"color: #00d700; text-decoration-color: #00d700; font-weight: bold\">. Helping neighbors with their farming</span>\n",
       "<span style=\"color: #00d700; text-decoration-color: #00d700; font-weight: bold\">                   &gt; tasks.  Regarding food styles, I enjoy simple, hearty meals made from homegrown</span>\n",
       "<span style=\"color: #00d700; text-decoration-color: #00d700; font-weight: bold\">                   &gt; ingredients. I appreciate the freshness and quality of food that comes from my</span>\n",
       "<span style=\"color: #00d700; text-decoration-color: #00d700; font-weight: bold\">                   &gt; own farm, and I believe it brings my family together during meals.   Now, to</span>\n",
       "<span style=\"color: #00d700; text-decoration-color: #00d700; font-weight: bold\">                   &gt; answer your question about spicy food: Yes, I do like spicy food. I enjoy the</span>\n",
       "<span style=\"color: #00d700; text-decoration-color: #00d700; font-weight: bold\">                   &gt; flavors it adds to dishes, and  (...)</span>\n",
       "</pre>\n"
      ],
      "text/plain": [
       "\u001b[1;4;38;5;40mCamila Torres\u001b[0m\u001b[1;38;5;40m acts: \u001b[0m\u001b[1;38;5;40m[\u001b[0m\u001b[1;38;5;40mTALK\u001b[0m\u001b[1;38;5;40m]\u001b[0m\u001b[1;38;5;40m \u001b[0m\n",
       "\u001b[1;38;5;40m                   > Hello, my name is Camila Torres. I am a farmer from the Cauca Valley in\u001b[0m\n",
       "\u001b[1;38;5;40m                   > Colombia, where I grow coffee and various vegetables. I work hard to provide\u001b[0m\n",
       "\u001b[1;38;5;40m                   > for my family and ensure my children receive a good education.   As for my\u001b[0m\n",
       "\u001b[1;38;5;40m                   > interests, here are my top-\u001b[0m\u001b[1;38;5;40m10\u001b[0m\u001b[1;38;5;40m: \u001b[0m\u001b[1;38;5;40m1\u001b[0m\u001b[1;38;5;40m. Agriculture and sustainable farming\u001b[0m\n",
       "\u001b[1;38;5;40m                   > practices. \u001b[0m\u001b[1;38;5;40m2\u001b[0m\u001b[1;38;5;40m. Spending time with family and friends. \u001b[0m\u001b[1;38;5;40m3\u001b[0m\u001b[1;38;5;40m. Participating in local\u001b[0m\n",
       "\u001b[1;38;5;40m                   > community events. \u001b[0m\u001b[1;38;5;40m4\u001b[0m\u001b[1;38;5;40m. Learning about new farming techniques. \u001b[0m\u001b[1;38;5;40m5\u001b[0m\u001b[1;38;5;40m. Enjoying nature\u001b[0m\n",
       "\u001b[1;38;5;40m                   > and the outdoors. \u001b[0m\u001b[1;38;5;40m6\u001b[0m\u001b[1;38;5;40m. Traditional Colombian music. \u001b[0m\u001b[1;38;5;40m7\u001b[0m\u001b[1;38;5;40m. Cooking simple, hearty\u001b[0m\n",
       "\u001b[1;38;5;40m                   > meals. \u001b[0m\u001b[1;38;5;40m8\u001b[0m\u001b[1;38;5;40m. Supporting local markets and businesses. \u001b[0m\u001b[1;38;5;40m9\u001b[0m\u001b[1;38;5;40m. Engaging in cultural\u001b[0m\n",
       "\u001b[1;38;5;40m                   > events that celebrate my heritage. \u001b[0m\u001b[1;38;5;40m10\u001b[0m\u001b[1;38;5;40m. Helping neighbors with their farming\u001b[0m\n",
       "\u001b[1;38;5;40m                   > tasks.  Regarding food styles, I enjoy simple, hearty meals made from homegrown\u001b[0m\n",
       "\u001b[1;38;5;40m                   > ingredients. I appreciate the freshness and quality of food that comes from my\u001b[0m\n",
       "\u001b[1;38;5;40m                   > own farm, and I believe it brings my family together during meals.   Now, to\u001b[0m\n",
       "\u001b[1;38;5;40m                   > answer your question about spicy food: Yes, I do like spicy food. I enjoy the\u001b[0m\n",
       "\u001b[1;38;5;40m                   > flavors it adds to dishes, and  \u001b[0m\u001b[1;38;5;40m(\u001b[0m\u001b[1;38;5;40m...\u001b[0m\u001b[1;38;5;40m)\u001b[0m\n"
      ]
     },
     "metadata": {},
     "output_type": "display_data"
    },
    {
     "data": {
      "text/html": [
       "<pre style=\"margin:0px;;white-space:pre;overflow-x:auto;line-height:normal;font-family:Menlo,'DejaVu Sans Mono',consolas,'Courier New',monospace\"><span style=\"color: #00d700; text-decoration-color: #00d700; font-weight: bold; text-decoration: underline\">Isabel Gonzalez</span><span style=\"color: #00d700; text-decoration-color: #00d700; font-weight: bold\"> acts: [TALK] </span>\n",
       "<span style=\"color: #00d700; text-decoration-color: #00d700; font-weight: bold\">                     &gt; Hello, my name is Isabel Gonzalez. I am a farmer from a small village in</span>\n",
       "<span style=\"color: #00d700; text-decoration-color: #00d700; font-weight: bold\">                     &gt; Oaxaca, Mexico. I grow corn and beans on my land and sell them at the local</span>\n",
       "<span style=\"color: #00d700; text-decoration-color: #00d700; font-weight: bold\">                     &gt; market. My work is physically demanding, but I take pride in what I do.   As</span>\n",
       "<span style=\"color: #00d700; text-decoration-color: #00d700; font-weight: bold\">                     &gt; for my interests, here are my top-</span><span style=\"color: #00d700; text-decoration-color: #00d700; font-weight: bold\">10</span><span style=\"color: #00d700; text-decoration-color: #00d700; font-weight: bold\">: </span><span style=\"color: #00d700; text-decoration-color: #00d700; font-weight: bold\">1</span><span style=\"color: #00d700; text-decoration-color: #00d700; font-weight: bold\">. Gardening and agriculture </span><span style=\"color: #00d700; text-decoration-color: #00d700; font-weight: bold\">2</span><span style=\"color: #00d700; text-decoration-color: #00d700; font-weight: bold\">. Cooking</span>\n",
       "<span style=\"color: #00d700; text-decoration-color: #00d700; font-weight: bold\">                     &gt; traditional Mexican dishes </span><span style=\"color: #00d700; text-decoration-color: #00d700; font-weight: bold\">3</span><span style=\"color: #00d700; text-decoration-color: #00d700; font-weight: bold\">. Spending time with family </span><span style=\"color: #00d700; text-decoration-color: #00d700; font-weight: bold\">4</span><span style=\"color: #00d700; text-decoration-color: #00d700; font-weight: bold\">. Listening to local</span>\n",
       "<span style=\"color: #00d700; text-decoration-color: #00d700; font-weight: bold\">                     &gt; music </span><span style=\"color: #00d700; text-decoration-color: #00d700; font-weight: bold\">5</span><span style=\"color: #00d700; text-decoration-color: #00d700; font-weight: bold\">. Participating in community events </span><span style=\"color: #00d700; text-decoration-color: #00d700; font-weight: bold\">6</span><span style=\"color: #00d700; text-decoration-color: #00d700; font-weight: bold\">. Learning about sustainable</span>\n",
       "<span style=\"color: #00d700; text-decoration-color: #00d700; font-weight: bold\">                     &gt; farming practices </span><span style=\"color: #00d700; text-decoration-color: #00d700; font-weight: bold\">7</span><span style=\"color: #00d700; text-decoration-color: #00d700; font-weight: bold\">. Sharing meals with neighbors </span><span style=\"color: #00d700; text-decoration-color: #00d700; font-weight: bold\">8</span><span style=\"color: #00d700; text-decoration-color: #00d700; font-weight: bold\">. Teaching my</span>\n",
       "<span style=\"color: #00d700; text-decoration-color: #00d700; font-weight: bold\">                     &gt; grandchildren about farming </span><span style=\"color: #00d700; text-decoration-color: #00d700; font-weight: bold\">9</span><span style=\"color: #00d700; text-decoration-color: #00d700; font-weight: bold\">. Enjoying quiet evenings watching the sunset</span>\n",
       "<span style=\"color: #00d700; text-decoration-color: #00d700; font-weight: bold\">                     &gt; </span><span style=\"color: #00d700; text-decoration-color: #00d700; font-weight: bold\">10</span><span style=\"color: #00d700; text-decoration-color: #00d700; font-weight: bold\">. Reminiscing about my childhood and traditions.  Regarding food styles, I</span>\n",
       "<span style=\"color: #00d700; text-decoration-color: #00d700; font-weight: bold\">                     &gt; love traditional Mexican cuisine because it is rich in flavors and often made</span>\n",
       "<span style=\"color: #00d700; text-decoration-color: #00d700; font-weight: bold\">                     &gt; with fresh, homegrown ingredients. I appreciate meals that bring family</span>\n",
       "<span style=\"color: #00d700; text-decoration-color: #00d700; font-weight: bold\">                     &gt; together and reflect our culture.   Now, about spicy food: Yes, I do like</span>\n",
       "<span style=\"color: #00d700; text-decoration-color: #00d700; font-weight: bold\">                     &gt; spicy food. It adds flavor and excitement to meals, and I enjoy the warmth it</span>\n",
       "<span style=\"color: #00d700; text-decoration-color: #00d700; font-weight: bold\">                     &gt; brings. Spicy dishes are often part of our traditi (...)</span>\n",
       "</pre>\n"
      ],
      "text/plain": [
       "\u001b[1;4;38;5;40mIsabel Gonzalez\u001b[0m\u001b[1;38;5;40m acts: \u001b[0m\u001b[1;38;5;40m[\u001b[0m\u001b[1;38;5;40mTALK\u001b[0m\u001b[1;38;5;40m]\u001b[0m\u001b[1;38;5;40m \u001b[0m\n",
       "\u001b[1;38;5;40m                     > Hello, my name is Isabel Gonzalez. I am a farmer from a small village in\u001b[0m\n",
       "\u001b[1;38;5;40m                     > Oaxaca, Mexico. I grow corn and beans on my land and sell them at the local\u001b[0m\n",
       "\u001b[1;38;5;40m                     > market. My work is physically demanding, but I take pride in what I do.   As\u001b[0m\n",
       "\u001b[1;38;5;40m                     > for my interests, here are my top-\u001b[0m\u001b[1;38;5;40m10\u001b[0m\u001b[1;38;5;40m: \u001b[0m\u001b[1;38;5;40m1\u001b[0m\u001b[1;38;5;40m. Gardening and agriculture \u001b[0m\u001b[1;38;5;40m2\u001b[0m\u001b[1;38;5;40m. Cooking\u001b[0m\n",
       "\u001b[1;38;5;40m                     > traditional Mexican dishes \u001b[0m\u001b[1;38;5;40m3\u001b[0m\u001b[1;38;5;40m. Spending time with family \u001b[0m\u001b[1;38;5;40m4\u001b[0m\u001b[1;38;5;40m. Listening to local\u001b[0m\n",
       "\u001b[1;38;5;40m                     > music \u001b[0m\u001b[1;38;5;40m5\u001b[0m\u001b[1;38;5;40m. Participating in community events \u001b[0m\u001b[1;38;5;40m6\u001b[0m\u001b[1;38;5;40m. Learning about sustainable\u001b[0m\n",
       "\u001b[1;38;5;40m                     > farming practices \u001b[0m\u001b[1;38;5;40m7\u001b[0m\u001b[1;38;5;40m. Sharing meals with neighbors \u001b[0m\u001b[1;38;5;40m8\u001b[0m\u001b[1;38;5;40m. Teaching my\u001b[0m\n",
       "\u001b[1;38;5;40m                     > grandchildren about farming \u001b[0m\u001b[1;38;5;40m9\u001b[0m\u001b[1;38;5;40m. Enjoying quiet evenings watching the sunset\u001b[0m\n",
       "\u001b[1;38;5;40m                     > \u001b[0m\u001b[1;38;5;40m10\u001b[0m\u001b[1;38;5;40m. Reminiscing about my childhood and traditions.  Regarding food styles, I\u001b[0m\n",
       "\u001b[1;38;5;40m                     > love traditional Mexican cuisine because it is rich in flavors and often made\u001b[0m\n",
       "\u001b[1;38;5;40m                     > with fresh, homegrown ingredients. I appreciate meals that bring family\u001b[0m\n",
       "\u001b[1;38;5;40m                     > together and reflect our culture.   Now, about spicy food: Yes, I do like\u001b[0m\n",
       "\u001b[1;38;5;40m                     > spicy food. It adds flavor and excitement to meals, and I enjoy the warmth it\u001b[0m\n",
       "\u001b[1;38;5;40m                     > brings. Spicy dishes are often part of our traditi \u001b[0m\u001b[1;38;5;40m(\u001b[0m\u001b[1;38;5;40m...\u001b[0m\u001b[1;38;5;40m)\u001b[0m\n"
      ]
     },
     "metadata": {},
     "output_type": "display_data"
    },
    {
     "data": {
      "text/html": [
       "<pre style=\"margin:0px;;white-space:pre;overflow-x:auto;line-height:normal;font-family:Menlo,'DejaVu Sans Mono',consolas,'Courier New',monospace\"><span style=\"color: #00d700; text-decoration-color: #00d700; font-weight: bold; text-decoration: underline\">Carlos Mendoza</span><span style=\"color: #00d700; text-decoration-color: #00d700; font-weight: bold\"> acts: [TALK] </span>\n",
       "<span style=\"color: #00d700; text-decoration-color: #00d700; font-weight: bold\">                    &gt; Hello, my name is Carlos Mendoza. I am a farmer from a small village in</span>\n",
       "<span style=\"color: #00d700; text-decoration-color: #00d700; font-weight: bold\">                    &gt; Oaxaca, Mexico. I grow corn and beans on my land and sell some produce at the</span>\n",
       "<span style=\"color: #00d700; text-decoration-color: #00d700; font-weight: bold\">                    &gt; local market. My work is physically demanding, but I find great satisfaction</span>\n",
       "<span style=\"color: #00d700; text-decoration-color: #00d700; font-weight: bold\">                    &gt; in it.   As for my interests, here are my top-</span><span style=\"color: #00d700; text-decoration-color: #00d700; font-weight: bold\">10</span><span style=\"color: #00d700; text-decoration-color: #00d700; font-weight: bold\">: </span><span style=\"color: #00d700; text-decoration-color: #00d700; font-weight: bold\">1</span><span style=\"color: #00d700; text-decoration-color: #00d700; font-weight: bold\">. Agriculture and</span>\n",
       "<span style=\"color: #00d700; text-decoration-color: #00d700; font-weight: bold\">                    &gt; sustainable farming practices. </span><span style=\"color: #00d700; text-decoration-color: #00d700; font-weight: bold\">2</span><span style=\"color: #00d700; text-decoration-color: #00d700; font-weight: bold\">. Cooking traditional Mexican dishes. </span><span style=\"color: #00d700; text-decoration-color: #00d700; font-weight: bold\">3</span><span style=\"color: #00d700; text-decoration-color: #00d700; font-weight: bold\">.</span>\n",
       "<span style=\"color: #00d700; text-decoration-color: #00d700; font-weight: bold\">                    &gt; Spending time with family and friends. </span><span style=\"color: #00d700; text-decoration-color: #00d700; font-weight: bold\">4</span><span style=\"color: #00d700; text-decoration-color: #00d700; font-weight: bold\">. Listening to local music and</span>\n",
       "<span style=\"color: #00d700; text-decoration-color: #00d700; font-weight: bold\">                    &gt; storytelling. </span><span style=\"color: #00d700; text-decoration-color: #00d700; font-weight: bold\">5</span><span style=\"color: #00d700; text-decoration-color: #00d700; font-weight: bold\">. Participating in community events. </span><span style=\"color: #00d700; text-decoration-color: #00d700; font-weight: bold\">6</span><span style=\"color: #00d700; text-decoration-color: #00d700; font-weight: bold\">. Learning about new</span>\n",
       "<span style=\"color: #00d700; text-decoration-color: #00d700; font-weight: bold\">                    &gt; farming techniques. </span><span style=\"color: #00d700; text-decoration-color: #00d700; font-weight: bold\">7</span><span style=\"color: #00d700; text-decoration-color: #00d700; font-weight: bold\">. Enjoying the tranquility of nature. </span><span style=\"color: #00d700; text-decoration-color: #00d700; font-weight: bold\">8</span><span style=\"color: #00d700; text-decoration-color: #00d700; font-weight: bold\">. Teaching my</span>\n",
       "<span style=\"color: #00d700; text-decoration-color: #00d700; font-weight: bold\">                    &gt; grandchildren about farming. </span><span style=\"color: #00d700; text-decoration-color: #00d700; font-weight: bold\">9</span><span style=\"color: #00d700; text-decoration-color: #00d700; font-weight: bold\">. Attending local markets. </span><span style=\"color: #00d700; text-decoration-color: #00d700; font-weight: bold\">10</span><span style=\"color: #00d700; text-decoration-color: #00d700; font-weight: bold\">. Reflecting on</span>\n",
       "<span style=\"color: #00d700; text-decoration-color: #00d700; font-weight: bold\">                    &gt; cultural traditions.  Regarding food styles, I prefer traditional Mexican</span>\n",
       "<span style=\"color: #00d700; text-decoration-color: #00d700; font-weight: bold\">                    &gt; cuisine because it connects me to my roots and family. I enjoy meals made from</span>\n",
       "<span style=\"color: #00d700; text-decoration-color: #00d700; font-weight: bold\">                    &gt; fresh ingredients, especially those grown on my farm, as they remind me of the</span>\n",
       "<span style=\"color: #00d700; text-decoration-color: #00d700; font-weight: bold\">                    &gt; hard work and love that goes into farming.   Now, to answer your question</span>\n",
       "<span style=\"color: #00d700; text-decoration-color: #00d700; font-weight: bold\">                    &gt; about spicy food: Yes, I do like spicy food. It adds fl (...)</span>\n",
       "</pre>\n"
      ],
      "text/plain": [
       "\u001b[1;4;38;5;40mCarlos Mendoza\u001b[0m\u001b[1;38;5;40m acts: \u001b[0m\u001b[1;38;5;40m[\u001b[0m\u001b[1;38;5;40mTALK\u001b[0m\u001b[1;38;5;40m]\u001b[0m\u001b[1;38;5;40m \u001b[0m\n",
       "\u001b[1;38;5;40m                    > Hello, my name is Carlos Mendoza. I am a farmer from a small village in\u001b[0m\n",
       "\u001b[1;38;5;40m                    > Oaxaca, Mexico. I grow corn and beans on my land and sell some produce at the\u001b[0m\n",
       "\u001b[1;38;5;40m                    > local market. My work is physically demanding, but I find great satisfaction\u001b[0m\n",
       "\u001b[1;38;5;40m                    > in it.   As for my interests, here are my top-\u001b[0m\u001b[1;38;5;40m10\u001b[0m\u001b[1;38;5;40m: \u001b[0m\u001b[1;38;5;40m1\u001b[0m\u001b[1;38;5;40m. Agriculture and\u001b[0m\n",
       "\u001b[1;38;5;40m                    > sustainable farming practices. \u001b[0m\u001b[1;38;5;40m2\u001b[0m\u001b[1;38;5;40m. Cooking traditional Mexican dishes. \u001b[0m\u001b[1;38;5;40m3\u001b[0m\u001b[1;38;5;40m.\u001b[0m\n",
       "\u001b[1;38;5;40m                    > Spending time with family and friends. \u001b[0m\u001b[1;38;5;40m4\u001b[0m\u001b[1;38;5;40m. Listening to local music and\u001b[0m\n",
       "\u001b[1;38;5;40m                    > storytelling. \u001b[0m\u001b[1;38;5;40m5\u001b[0m\u001b[1;38;5;40m. Participating in community events. \u001b[0m\u001b[1;38;5;40m6\u001b[0m\u001b[1;38;5;40m. Learning about new\u001b[0m\n",
       "\u001b[1;38;5;40m                    > farming techniques. \u001b[0m\u001b[1;38;5;40m7\u001b[0m\u001b[1;38;5;40m. Enjoying the tranquility of nature. \u001b[0m\u001b[1;38;5;40m8\u001b[0m\u001b[1;38;5;40m. Teaching my\u001b[0m\n",
       "\u001b[1;38;5;40m                    > grandchildren about farming. \u001b[0m\u001b[1;38;5;40m9\u001b[0m\u001b[1;38;5;40m. Attending local markets. \u001b[0m\u001b[1;38;5;40m10\u001b[0m\u001b[1;38;5;40m. Reflecting on\u001b[0m\n",
       "\u001b[1;38;5;40m                    > cultural traditions.  Regarding food styles, I prefer traditional Mexican\u001b[0m\n",
       "\u001b[1;38;5;40m                    > cuisine because it connects me to my roots and family. I enjoy meals made from\u001b[0m\n",
       "\u001b[1;38;5;40m                    > fresh ingredients, especially those grown on my farm, as they remind me of the\u001b[0m\n",
       "\u001b[1;38;5;40m                    > hard work and love that goes into farming.   Now, to answer your question\u001b[0m\n",
       "\u001b[1;38;5;40m                    > about spicy food: Yes, I do like spicy food. It adds fl \u001b[0m\u001b[1;38;5;40m(\u001b[0m\u001b[1;38;5;40m...\u001b[0m\u001b[1;38;5;40m)\u001b[0m\n"
      ]
     },
     "metadata": {},
     "output_type": "display_data"
    },
    {
     "data": {
      "text/html": [
       "<pre style=\"margin:0px;;white-space:pre;overflow-x:auto;line-height:normal;font-family:Menlo,'DejaVu Sans Mono',consolas,'Courier New',monospace\"><span style=\"color: #00d700; text-decoration-color: #00d700; font-weight: bold; text-decoration: underline\">Diego Mendoza</span><span style=\"color: #00d700; text-decoration-color: #00d700; font-weight: bold\"> acts: [TALK] </span>\n",
       "<span style=\"color: #00d700; text-decoration-color: #00d700; font-weight: bold\">                   &gt; Yes, I like spicy food! I enjoy the kick it adds to dishes, and it reminds me</span>\n",
       "<span style=\"color: #00d700; text-decoration-color: #00d700; font-weight: bold\">                   &gt; of home and family meals. Spicy food is a big part of Mexican cuisine, and I</span>\n",
       "<span style=\"color: #00d700; text-decoration-color: #00d700; font-weight: bold\">                   &gt; love how it enhances the flavors of traditional dishes. It makes eating more</span>\n",
       "<span style=\"color: #00d700; text-decoration-color: #00d700; font-weight: bold\">                   &gt; exciting and enjoyable for me!</span>\n",
       "</pre>\n"
      ],
      "text/plain": [
       "\u001b[1;4;38;5;40mDiego Mendoza\u001b[0m\u001b[1;38;5;40m acts: \u001b[0m\u001b[1;38;5;40m[\u001b[0m\u001b[1;38;5;40mTALK\u001b[0m\u001b[1;38;5;40m]\u001b[0m\u001b[1;38;5;40m \u001b[0m\n",
       "\u001b[1;38;5;40m                   > Yes, I like spicy food! I enjoy the kick it adds to dishes, and it reminds me\u001b[0m\n",
       "\u001b[1;38;5;40m                   > of home and family meals. Spicy food is a big part of Mexican cuisine, and I\u001b[0m\n",
       "\u001b[1;38;5;40m                   > love how it enhances the flavors of traditional dishes. It makes eating more\u001b[0m\n",
       "\u001b[1;38;5;40m                   > exciting and enjoyable for me!\u001b[0m\n"
      ]
     },
     "metadata": {},
     "output_type": "display_data"
    },
    {
     "data": {
      "text/html": [
       "<pre style=\"margin:0px;;white-space:pre;overflow-x:auto;line-height:normal;font-family:Menlo,'DejaVu Sans Mono',consolas,'Courier New',monospace\"><span style=\"color: #00d700; text-decoration-color: #00d700; font-weight: bold; text-decoration: underline\">Fernando Ramirez</span><span style=\"color: #00d700; text-decoration-color: #00d700; font-weight: bold\"> acts: [TALK] </span>\n",
       "<span style=\"color: #00d700; text-decoration-color: #00d700; font-weight: bold\">                      &gt; Hello! I'm Fernando Ramirez, a </span><span style=\"color: #00d700; text-decoration-color: #00d700; font-weight: bold\">35</span><span style=\"color: #00d700; text-decoration-color: #00d700; font-weight: bold\">-year-old marketing coordinator based in</span>\n",
       "<span style=\"color: #00d700; text-decoration-color: #00d700; font-weight: bold\">                      &gt; Los Angeles. I work at Creative Solutions Inc., where I help develop and</span>\n",
       "<span style=\"color: #00d700; text-decoration-color: #00d700; font-weight: bold\">                      &gt; execute marketing strategies for various clients. My top </span><span style=\"color: #00d700; text-decoration-color: #00d700; font-weight: bold\">10</span><span style=\"color: #00d700; text-decoration-color: #00d700; font-weight: bold\"> interests</span>\n",
       "<span style=\"color: #00d700; text-decoration-color: #00d700; font-weight: bold\">                      &gt; include: </span><span style=\"color: #00d700; text-decoration-color: #00d700; font-weight: bold\">1</span><span style=\"color: #00d700; text-decoration-color: #00d700; font-weight: bold\">. Digital marketing trends, </span><span style=\"color: #00d700; text-decoration-color: #00d700; font-weight: bold\">2</span><span style=\"color: #00d700; text-decoration-color: #00d700; font-weight: bold\">. Cooking and trying new recipes, </span><span style=\"color: #00d700; text-decoration-color: #00d700; font-weight: bold\">3</span><span style=\"color: #00d700; text-decoration-color: #00d700; font-weight: bold\">.</span>\n",
       "<span style=\"color: #00d700; text-decoration-color: #00d700; font-weight: bold\">                      &gt; Watching television series and movies, </span><span style=\"color: #00d700; text-decoration-color: #00d700; font-weight: bold\">4</span><span style=\"color: #00d700; text-decoration-color: #00d700; font-weight: bold\">. Volunteering in community service,</span>\n",
       "<span style=\"color: #00d700; text-decoration-color: #00d700; font-weight: bold\">                      &gt; </span><span style=\"color: #00d700; text-decoration-color: #00d700; font-weight: bold\">5</span><span style=\"color: #00d700; text-decoration-color: #00d700; font-weight: bold\">. Exploring local art and culture, </span><span style=\"color: #00d700; text-decoration-color: #00d700; font-weight: bold\">6</span><span style=\"color: #00d700; text-decoration-color: #00d700; font-weight: bold\">. Outdoor activities like hiking and</span>\n",
       "<span style=\"color: #00d700; text-decoration-color: #00d700; font-weight: bold\">                      &gt; biking, </span><span style=\"color: #00d700; text-decoration-color: #00d700; font-weight: bold\">7</span><span style=\"color: #00d700; text-decoration-color: #00d700; font-weight: bold\">. Attending live music events, </span><span style=\"color: #00d700; text-decoration-color: #00d700; font-weight: bold\">8</span><span style=\"color: #00d700; text-decoration-color: #00d700; font-weight: bold\">. Reading about social issues, </span><span style=\"color: #00d700; text-decoration-color: #00d700; font-weight: bold\">9</span><span style=\"color: #00d700; text-decoration-color: #00d700; font-weight: bold\">.</span>\n",
       "<span style=\"color: #00d700; text-decoration-color: #00d700; font-weight: bold\">                      &gt; Traveling to experience different cultures, and </span><span style=\"color: #00d700; text-decoration-color: #00d700; font-weight: bold\">10</span><span style=\"color: #00d700; text-decoration-color: #00d700; font-weight: bold\">. Engaging in self-care</span>\n",
       "<span style=\"color: #00d700; text-decoration-color: #00d700; font-weight: bold\">                      &gt; activities like yoga.   As for my favorite food styles, I enjoy a variety of</span>\n",
       "<span style=\"color: #00d700; text-decoration-color: #00d700; font-weight: bold\">                      &gt; cuisines, particularly Mediterranean and Asian, because they offer a rich</span>\n",
       "<span style=\"color: #00d700; text-decoration-color: #00d700; font-weight: bold\">                      &gt; blend of flavors and healthy ingredients. I love experimenting with</span>\n",
       "<span style=\"color: #00d700; text-decoration-color: #00d700; font-weight: bold\">                      &gt; different recipes from these cultures, which allows me to explore new tastes</span>\n",
       "<span style=\"color: #00d700; text-decoration-color: #00d700; font-weight: bold\">                      &gt; and share meals with family and friends.</span>\n",
       "</pre>\n"
      ],
      "text/plain": [
       "\u001b[1;4;38;5;40mFernando Ramirez\u001b[0m\u001b[1;38;5;40m acts: \u001b[0m\u001b[1;38;5;40m[\u001b[0m\u001b[1;38;5;40mTALK\u001b[0m\u001b[1;38;5;40m]\u001b[0m\u001b[1;38;5;40m \u001b[0m\n",
       "\u001b[1;38;5;40m                      > Hello! I'm Fernando Ramirez, a \u001b[0m\u001b[1;38;5;40m35\u001b[0m\u001b[1;38;5;40m-year-old marketing coordinator based in\u001b[0m\n",
       "\u001b[1;38;5;40m                      > Los Angeles. I work at Creative Solutions Inc., where I help develop and\u001b[0m\n",
       "\u001b[1;38;5;40m                      > execute marketing strategies for various clients. My top \u001b[0m\u001b[1;38;5;40m10\u001b[0m\u001b[1;38;5;40m interests\u001b[0m\n",
       "\u001b[1;38;5;40m                      > include: \u001b[0m\u001b[1;38;5;40m1\u001b[0m\u001b[1;38;5;40m. Digital marketing trends, \u001b[0m\u001b[1;38;5;40m2\u001b[0m\u001b[1;38;5;40m. Cooking and trying new recipes, \u001b[0m\u001b[1;38;5;40m3\u001b[0m\u001b[1;38;5;40m.\u001b[0m\n",
       "\u001b[1;38;5;40m                      > Watching television series and movies, \u001b[0m\u001b[1;38;5;40m4\u001b[0m\u001b[1;38;5;40m. Volunteering in community service,\u001b[0m\n",
       "\u001b[1;38;5;40m                      > \u001b[0m\u001b[1;38;5;40m5\u001b[0m\u001b[1;38;5;40m. Exploring local art and culture, \u001b[0m\u001b[1;38;5;40m6\u001b[0m\u001b[1;38;5;40m. Outdoor activities like hiking and\u001b[0m\n",
       "\u001b[1;38;5;40m                      > biking, \u001b[0m\u001b[1;38;5;40m7\u001b[0m\u001b[1;38;5;40m. Attending live music events, \u001b[0m\u001b[1;38;5;40m8\u001b[0m\u001b[1;38;5;40m. Reading about social issues, \u001b[0m\u001b[1;38;5;40m9\u001b[0m\u001b[1;38;5;40m.\u001b[0m\n",
       "\u001b[1;38;5;40m                      > Traveling to experience different cultures, and \u001b[0m\u001b[1;38;5;40m10\u001b[0m\u001b[1;38;5;40m. Engaging in self-care\u001b[0m\n",
       "\u001b[1;38;5;40m                      > activities like yoga.   As for my favorite food styles, I enjoy a variety of\u001b[0m\n",
       "\u001b[1;38;5;40m                      > cuisines, particularly Mediterranean and Asian, because they offer a rich\u001b[0m\n",
       "\u001b[1;38;5;40m                      > blend of flavors and healthy ingredients. I love experimenting with\u001b[0m\n",
       "\u001b[1;38;5;40m                      > different recipes from these cultures, which allows me to explore new tastes\u001b[0m\n",
       "\u001b[1;38;5;40m                      > and share meals with family and friends.\u001b[0m\n"
      ]
     },
     "metadata": {},
     "output_type": "display_data"
    },
    {
     "data": {
      "text/html": [
       "<pre style=\"margin:0px;;white-space:pre;overflow-x:auto;line-height:normal;font-family:Menlo,'DejaVu Sans Mono',consolas,'Courier New',monospace\"><span style=\"color: #00d700; text-decoration-color: #00d700; font-weight: bold; text-decoration: underline\">Ana Maria Herrera</span><span style=\"color: #00d700; text-decoration-color: #00d700; font-weight: bold\"> acts: [TALK] </span>\n",
       "<span style=\"color: #00d700; text-decoration-color: #00d700; font-weight: bold\">                       &gt; Yes, I like spicy food! I enjoy it because it adds flavor and excitement to</span>\n",
       "<span style=\"color: #00d700; text-decoration-color: #00d700; font-weight: bold\">                       &gt; my meals. Plus, I think it can be a fun challenge to handle the heat, and</span>\n",
       "<span style=\"color: #00d700; text-decoration-color: #00d700; font-weight: bold\">                       &gt; it often reminds me of traditional Mexican dishes that I love. Spicy food</span>\n",
       "<span style=\"color: #00d700; text-decoration-color: #00d700; font-weight: bold\">                       &gt; also tends to be associated with social gatherings, which I really enjoy.</span>\n",
       "</pre>\n"
      ],
      "text/plain": [
       "\u001b[1;4;38;5;40mAna Maria Herrera\u001b[0m\u001b[1;38;5;40m acts: \u001b[0m\u001b[1;38;5;40m[\u001b[0m\u001b[1;38;5;40mTALK\u001b[0m\u001b[1;38;5;40m]\u001b[0m\u001b[1;38;5;40m \u001b[0m\n",
       "\u001b[1;38;5;40m                       > Yes, I like spicy food! I enjoy it because it adds flavor and excitement to\u001b[0m\n",
       "\u001b[1;38;5;40m                       > my meals. Plus, I think it can be a fun challenge to handle the heat, and\u001b[0m\n",
       "\u001b[1;38;5;40m                       > it often reminds me of traditional Mexican dishes that I love. Spicy food\u001b[0m\n",
       "\u001b[1;38;5;40m                       > also tends to be associated with social gatherings, which I really enjoy.\u001b[0m\n"
      ]
     },
     "metadata": {},
     "output_type": "display_data"
    },
    {
     "data": {
      "text/html": [
       "<pre style=\"margin:0px;;white-space:pre;overflow-x:auto;line-height:normal;font-family:Menlo,'DejaVu Sans Mono',consolas,'Courier New',monospace\"><span style=\"color: #00d700; text-decoration-color: #00d700; font-weight: bold; text-decoration: underline\">Diego Morales</span><span style=\"color: #00d700; text-decoration-color: #00d700; font-weight: bold\"> acts: [TALK] </span>\n",
       "<span style=\"color: #00d700; text-decoration-color: #00d700; font-weight: bold\">                   &gt; Yes, I like spicy food! I enjoy the flavors and the kick it adds to dishes. It</span>\n",
       "<span style=\"color: #00d700; text-decoration-color: #00d700; font-weight: bold\">                   &gt; reminds me of home and the traditional meals my family used to make. Spicy food</span>\n",
       "<span style=\"color: #00d700; text-decoration-color: #00d700; font-weight: bold\">                   &gt; also brings a sense of excitement to eating, and I love how it can vary from</span>\n",
       "<span style=\"color: #00d700; text-decoration-color: #00d700; font-weight: bold\">                   &gt; mild to very hot, offering a range of experiences. Plus, it often pairs well</span>\n",
       "<span style=\"color: #00d700; text-decoration-color: #00d700; font-weight: bold\">                   &gt; with many of my favorite Mexican dishes!</span>\n",
       "</pre>\n"
      ],
      "text/plain": [
       "\u001b[1;4;38;5;40mDiego Morales\u001b[0m\u001b[1;38;5;40m acts: \u001b[0m\u001b[1;38;5;40m[\u001b[0m\u001b[1;38;5;40mTALK\u001b[0m\u001b[1;38;5;40m]\u001b[0m\u001b[1;38;5;40m \u001b[0m\n",
       "\u001b[1;38;5;40m                   > Yes, I like spicy food! I enjoy the flavors and the kick it adds to dishes. It\u001b[0m\n",
       "\u001b[1;38;5;40m                   > reminds me of home and the traditional meals my family used to make. Spicy food\u001b[0m\n",
       "\u001b[1;38;5;40m                   > also brings a sense of excitement to eating, and I love how it can vary from\u001b[0m\n",
       "\u001b[1;38;5;40m                   > mild to very hot, offering a range of experiences. Plus, it often pairs well\u001b[0m\n",
       "\u001b[1;38;5;40m                   > with many of my favorite Mexican dishes!\u001b[0m\n"
      ]
     },
     "metadata": {},
     "output_type": "display_data"
    },
    {
     "data": {
      "text/html": [
       "<pre style=\"margin:0px;;white-space:pre;overflow-x:auto;line-height:normal;font-family:Menlo,'DejaVu Sans Mono',consolas,'Courier New',monospace\"><span style=\"color: #00d700; text-decoration-color: #00d700; font-weight: bold; text-decoration: underline\">Diego Salazar</span><span style=\"color: #00d700; text-decoration-color: #00d700; font-weight: bold\"> acts: [TALK] </span>\n",
       "<span style=\"color: #00d700; text-decoration-color: #00d700; font-weight: bold\">                   &gt; Yes, I do like spicy food! I enjoy the kick it adds to dishes and how it can</span>\n",
       "<span style=\"color: #00d700; text-decoration-color: #00d700; font-weight: bold\">                   &gt; enhance flavors. Spicy food often brings a sense of excitement to meals, and I</span>\n",
       "<span style=\"color: #00d700; text-decoration-color: #00d700; font-weight: bold\">                   &gt; appreciate the variety of spices used in different cuisines. It also feels like</span>\n",
       "<span style=\"color: #00d700; text-decoration-color: #00d700; font-weight: bold\">                   &gt; a fun challenge to see how much heat I can handle!</span>\n",
       "</pre>\n"
      ],
      "text/plain": [
       "\u001b[1;4;38;5;40mDiego Salazar\u001b[0m\u001b[1;38;5;40m acts: \u001b[0m\u001b[1;38;5;40m[\u001b[0m\u001b[1;38;5;40mTALK\u001b[0m\u001b[1;38;5;40m]\u001b[0m\u001b[1;38;5;40m \u001b[0m\n",
       "\u001b[1;38;5;40m                   > Yes, I do like spicy food! I enjoy the kick it adds to dishes and how it can\u001b[0m\n",
       "\u001b[1;38;5;40m                   > enhance flavors. Spicy food often brings a sense of excitement to meals, and I\u001b[0m\n",
       "\u001b[1;38;5;40m                   > appreciate the variety of spices used in different cuisines. It also feels like\u001b[0m\n",
       "\u001b[1;38;5;40m                   > a fun challenge to see how much heat I can handle!\u001b[0m\n"
      ]
     },
     "metadata": {},
     "output_type": "display_data"
    },
    {
     "data": {
      "text/html": [
       "<pre style=\"margin:0px;;white-space:pre;overflow-x:auto;line-height:normal;font-family:Menlo,'DejaVu Sans Mono',consolas,'Courier New',monospace\"><span style=\"color: #00d700; text-decoration-color: #00d700; font-weight: bold; text-decoration: underline\">Camila Salazar</span><span style=\"color: #00d700; text-decoration-color: #00d700; font-weight: bold\"> acts: [TALK] </span>\n",
       "<span style=\"color: #00d700; text-decoration-color: #00d700; font-weight: bold\">                    &gt; Yes, I like spicy food! I enjoy how it adds flavor and excitement to my meals.</span>\n",
       "<span style=\"color: #00d700; text-decoration-color: #00d700; font-weight: bold\">                    &gt; It reminds me of the vibrant flavors in Colombian cuisine, which often</span>\n",
       "<span style=\"color: #00d700; text-decoration-color: #00d700; font-weight: bold\">                    &gt; includes spicy elements. I appreciate how it can enhance the overall dining</span>\n",
       "<span style=\"color: #00d700; text-decoration-color: #00d700; font-weight: bold\">                    &gt; experience and bring a little kick to traditional dishes.</span>\n",
       "</pre>\n"
      ],
      "text/plain": [
       "\u001b[1;4;38;5;40mCamila Salazar\u001b[0m\u001b[1;38;5;40m acts: \u001b[0m\u001b[1;38;5;40m[\u001b[0m\u001b[1;38;5;40mTALK\u001b[0m\u001b[1;38;5;40m]\u001b[0m\u001b[1;38;5;40m \u001b[0m\n",
       "\u001b[1;38;5;40m                    > Yes, I like spicy food! I enjoy how it adds flavor and excitement to my meals.\u001b[0m\n",
       "\u001b[1;38;5;40m                    > It reminds me of the vibrant flavors in Colombian cuisine, which often\u001b[0m\n",
       "\u001b[1;38;5;40m                    > includes spicy elements. I appreciate how it can enhance the overall dining\u001b[0m\n",
       "\u001b[1;38;5;40m                    > experience and bring a little kick to traditional dishes.\u001b[0m\n"
      ]
     },
     "metadata": {},
     "output_type": "display_data"
    },
    {
     "data": {
      "text/html": [
       "<pre style=\"margin:0px;;white-space:pre;overflow-x:auto;line-height:normal;font-family:Menlo,'DejaVu Sans Mono',consolas,'Courier New',monospace\"><span style=\"color: #d0d0d0; text-decoration-color: #d0d0d0; text-decoration: underline\">Diego Mendoza</span><span style=\"color: #d0d0d0; text-decoration-color: #d0d0d0\"> acts: </span><span style=\"color: #d0d0d0; text-decoration-color: #d0d0d0; font-weight: bold\">[</span><span style=\"color: #d0d0d0; text-decoration-color: #d0d0d0\">DONE</span><span style=\"color: #d0d0d0; text-decoration-color: #d0d0d0; font-weight: bold\">]</span><span style=\"color: #d0d0d0; text-decoration-color: #d0d0d0\"> </span>\n",
       "\n",
       "</pre>\n"
      ],
      "text/plain": [
       "\u001b[4;38;5;252mDiego Mendoza\u001b[0m\u001b[38;5;252m acts: \u001b[0m\u001b[1;38;5;252m[\u001b[0m\u001b[38;5;252mDONE\u001b[0m\u001b[1;38;5;252m]\u001b[0m\u001b[38;5;252m \u001b[0m\n",
       "\n"
      ]
     },
     "metadata": {},
     "output_type": "display_data"
    },
    {
     "data": {
      "text/html": [
       "<pre style=\"margin:0px;;white-space:pre;overflow-x:auto;line-height:normal;font-family:Menlo,'DejaVu Sans Mono',consolas,'Courier New',monospace\"><span style=\"color: #00d700; text-decoration-color: #00d700; font-weight: bold; text-decoration: underline\">Camila Rojas</span><span style=\"color: #00d700; text-decoration-color: #00d700; font-weight: bold\"> acts: [TALK] </span>\n",
       "<span style=\"color: #00d700; text-decoration-color: #00d700; font-weight: bold\">                  &gt; Yes, I like spicy food! I enjoy the flavors and the kick it adds to dishes. It</span>\n",
       "<span style=\"color: #00d700; text-decoration-color: #00d700; font-weight: bold\">                  &gt; often makes meals more exciting and enjoyable for me. Plus, I appreciate the</span>\n",
       "<span style=\"color: #00d700; text-decoration-color: #00d700; font-weight: bold\">                  &gt; cultural aspects of spicy foods, as they are often tied to rich culinary</span>\n",
       "<span style=\"color: #00d700; text-decoration-color: #00d700; font-weight: bold\">                  &gt; traditions.</span>\n",
       "</pre>\n"
      ],
      "text/plain": [
       "\u001b[1;4;38;5;40mCamila Rojas\u001b[0m\u001b[1;38;5;40m acts: \u001b[0m\u001b[1;38;5;40m[\u001b[0m\u001b[1;38;5;40mTALK\u001b[0m\u001b[1;38;5;40m]\u001b[0m\u001b[1;38;5;40m \u001b[0m\n",
       "\u001b[1;38;5;40m                  > Yes, I like spicy food! I enjoy the flavors and the kick it adds to dishes. It\u001b[0m\n",
       "\u001b[1;38;5;40m                  > often makes meals more exciting and enjoyable for me. Plus, I appreciate the\u001b[0m\n",
       "\u001b[1;38;5;40m                  > cultural aspects of spicy foods, as they are often tied to rich culinary\u001b[0m\n",
       "\u001b[1;38;5;40m                  > traditions.\u001b[0m\n"
      ]
     },
     "metadata": {},
     "output_type": "display_data"
    },
    {
     "data": {
      "text/html": [
       "<pre style=\"margin:0px;;white-space:pre;overflow-x:auto;line-height:normal;font-family:Menlo,'DejaVu Sans Mono',consolas,'Courier New',monospace\"><span style=\"color: #00d700; text-decoration-color: #00d700; font-weight: bold; text-decoration: underline\">Carlos Herrera</span><span style=\"color: #00d700; text-decoration-color: #00d700; font-weight: bold\"> acts: [TALK] </span>\n",
       "<span style=\"color: #00d700; text-decoration-color: #00d700; font-weight: bold\">                    &gt; Yes, I like spicy food! I enjoy the flavor and kick it adds to dishes, and it</span>\n",
       "<span style=\"color: #00d700; text-decoration-color: #00d700; font-weight: bold\">                    &gt; often reminds me of home-cooked meals. Spicy food is a big part of Mexican</span>\n",
       "<span style=\"color: #00d700; text-decoration-color: #00d700; font-weight: bold\">                    &gt; cuisine, and I appreciate how it enhances the overall taste of the food.</span>\n",
       "</pre>\n"
      ],
      "text/plain": [
       "\u001b[1;4;38;5;40mCarlos Herrera\u001b[0m\u001b[1;38;5;40m acts: \u001b[0m\u001b[1;38;5;40m[\u001b[0m\u001b[1;38;5;40mTALK\u001b[0m\u001b[1;38;5;40m]\u001b[0m\u001b[1;38;5;40m \u001b[0m\n",
       "\u001b[1;38;5;40m                    > Yes, I like spicy food! I enjoy the flavor and kick it adds to dishes, and it\u001b[0m\n",
       "\u001b[1;38;5;40m                    > often reminds me of home-cooked meals. Spicy food is a big part of Mexican\u001b[0m\n",
       "\u001b[1;38;5;40m                    > cuisine, and I appreciate how it enhances the overall taste of the food.\u001b[0m\n"
      ]
     },
     "metadata": {},
     "output_type": "display_data"
    },
    {
     "data": {
      "text/html": [
       "<pre style=\"margin:0px;;white-space:pre;overflow-x:auto;line-height:normal;font-family:Menlo,'DejaVu Sans Mono',consolas,'Courier New',monospace\"><span style=\"color: #d0d0d0; text-decoration-color: #d0d0d0; text-decoration: underline\">Diego Morales</span><span style=\"color: #d0d0d0; text-decoration-color: #d0d0d0\"> acts: </span><span style=\"color: #d0d0d0; text-decoration-color: #d0d0d0; font-weight: bold\">[</span><span style=\"color: #d0d0d0; text-decoration-color: #d0d0d0\">DONE</span><span style=\"color: #d0d0d0; text-decoration-color: #d0d0d0; font-weight: bold\">]</span><span style=\"color: #d0d0d0; text-decoration-color: #d0d0d0\"> </span>\n",
       "\n",
       "</pre>\n"
      ],
      "text/plain": [
       "\u001b[4;38;5;252mDiego Morales\u001b[0m\u001b[38;5;252m acts: \u001b[0m\u001b[1;38;5;252m[\u001b[0m\u001b[38;5;252mDONE\u001b[0m\u001b[1;38;5;252m]\u001b[0m\u001b[38;5;252m \u001b[0m\n",
       "\n"
      ]
     },
     "metadata": {},
     "output_type": "display_data"
    },
    {
     "data": {
      "text/html": [
       "<pre style=\"margin:0px;;white-space:pre;overflow-x:auto;line-height:normal;font-family:Menlo,'DejaVu Sans Mono',consolas,'Courier New',monospace\"><span style=\"color: #00d700; text-decoration-color: #00d700; font-weight: bold; text-decoration: underline\">Ana Maria Salazar</span><span style=\"color: #00d700; text-decoration-color: #00d700; font-weight: bold\"> acts: [TALK] </span>\n",
       "<span style=\"color: #00d700; text-decoration-color: #00d700; font-weight: bold\">                       &gt; Yes, I do like spicy food! I enjoy the complexity and depth of flavors that</span>\n",
       "<span style=\"color: #00d700; text-decoration-color: #00d700; font-weight: bold\">                       &gt; spices can bring to a dish. Spicy food often adds excitement to meals and</span>\n",
       "<span style=\"color: #00d700; text-decoration-color: #00d700; font-weight: bold\">                       &gt; can enhance the overall dining experience. I appreciate how different</span>\n",
       "<span style=\"color: #00d700; text-decoration-color: #00d700; font-weight: bold\">                       &gt; cultures incorporate spices into their cuisines, making each dish unique</span>\n",
       "<span style=\"color: #00d700; text-decoration-color: #00d700; font-weight: bold\">                       &gt; and flavorful.</span>\n",
       "</pre>\n"
      ],
      "text/plain": [
       "\u001b[1;4;38;5;40mAna Maria Salazar\u001b[0m\u001b[1;38;5;40m acts: \u001b[0m\u001b[1;38;5;40m[\u001b[0m\u001b[1;38;5;40mTALK\u001b[0m\u001b[1;38;5;40m]\u001b[0m\u001b[1;38;5;40m \u001b[0m\n",
       "\u001b[1;38;5;40m                       > Yes, I do like spicy food! I enjoy the complexity and depth of flavors that\u001b[0m\n",
       "\u001b[1;38;5;40m                       > spices can bring to a dish. Spicy food often adds excitement to meals and\u001b[0m\n",
       "\u001b[1;38;5;40m                       > can enhance the overall dining experience. I appreciate how different\u001b[0m\n",
       "\u001b[1;38;5;40m                       > cultures incorporate spices into their cuisines, making each dish unique\u001b[0m\n",
       "\u001b[1;38;5;40m                       > and flavorful.\u001b[0m\n"
      ]
     },
     "metadata": {},
     "output_type": "display_data"
    },
    {
     "data": {
      "text/html": [
       "<pre style=\"margin:0px;;white-space:pre;overflow-x:auto;line-height:normal;font-family:Menlo,'DejaVu Sans Mono',consolas,'Courier New',monospace\"><span style=\"color: #d0d0d0; text-decoration-color: #d0d0d0; text-decoration: underline\">Camila Salazar</span><span style=\"color: #d0d0d0; text-decoration-color: #d0d0d0\"> acts: </span><span style=\"color: #d0d0d0; text-decoration-color: #d0d0d0; font-weight: bold\">[</span><span style=\"color: #d0d0d0; text-decoration-color: #d0d0d0\">DONE</span><span style=\"color: #d0d0d0; text-decoration-color: #d0d0d0; font-weight: bold\">]</span><span style=\"color: #d0d0d0; text-decoration-color: #d0d0d0\"> </span>\n",
       "\n",
       "</pre>\n"
      ],
      "text/plain": [
       "\u001b[4;38;5;252mCamila Salazar\u001b[0m\u001b[38;5;252m acts: \u001b[0m\u001b[1;38;5;252m[\u001b[0m\u001b[38;5;252mDONE\u001b[0m\u001b[1;38;5;252m]\u001b[0m\u001b[38;5;252m \u001b[0m\n",
       "\n"
      ]
     },
     "metadata": {},
     "output_type": "display_data"
    },
    {
     "data": {
      "text/html": [
       "<pre style=\"margin:0px;;white-space:pre;overflow-x:auto;line-height:normal;font-family:Menlo,'DejaVu Sans Mono',consolas,'Courier New',monospace\"><span style=\"color: #d0d0d0; text-decoration-color: #d0d0d0; text-decoration: underline\">Ana Maria Herrera</span><span style=\"color: #d0d0d0; text-decoration-color: #d0d0d0\"> acts: </span><span style=\"color: #d0d0d0; text-decoration-color: #d0d0d0; font-weight: bold\">[</span><span style=\"color: #d0d0d0; text-decoration-color: #d0d0d0\">DONE</span><span style=\"color: #d0d0d0; text-decoration-color: #d0d0d0; font-weight: bold\">]</span><span style=\"color: #d0d0d0; text-decoration-color: #d0d0d0\"> </span>\n",
       "\n",
       "</pre>\n"
      ],
      "text/plain": [
       "\u001b[4;38;5;252mAna Maria Herrera\u001b[0m\u001b[38;5;252m acts: \u001b[0m\u001b[1;38;5;252m[\u001b[0m\u001b[38;5;252mDONE\u001b[0m\u001b[1;38;5;252m]\u001b[0m\u001b[38;5;252m \u001b[0m\n",
       "\n"
      ]
     },
     "metadata": {},
     "output_type": "display_data"
    },
    {
     "data": {
      "text/html": [
       "<pre style=\"margin:0px;;white-space:pre;overflow-x:auto;line-height:normal;font-family:Menlo,'DejaVu Sans Mono',consolas,'Courier New',monospace\"><span style=\"color: #d0d0d0; text-decoration-color: #d0d0d0; text-decoration: underline\">Diego Salazar</span><span style=\"color: #d0d0d0; text-decoration-color: #d0d0d0\"> acts: </span><span style=\"color: #d0d0d0; text-decoration-color: #d0d0d0; font-weight: bold\">[</span><span style=\"color: #d0d0d0; text-decoration-color: #d0d0d0\">DONE</span><span style=\"color: #d0d0d0; text-decoration-color: #d0d0d0; font-weight: bold\">]</span><span style=\"color: #d0d0d0; text-decoration-color: #d0d0d0\"> </span>\n",
       "\n",
       "</pre>\n"
      ],
      "text/plain": [
       "\u001b[4;38;5;252mDiego Salazar\u001b[0m\u001b[38;5;252m acts: \u001b[0m\u001b[1;38;5;252m[\u001b[0m\u001b[38;5;252mDONE\u001b[0m\u001b[1;38;5;252m]\u001b[0m\u001b[38;5;252m \u001b[0m\n",
       "\n"
      ]
     },
     "metadata": {},
     "output_type": "display_data"
    },
    {
     "data": {
      "text/html": [
       "<pre style=\"margin:0px;;white-space:pre;overflow-x:auto;line-height:normal;font-family:Menlo,'DejaVu Sans Mono',consolas,'Courier New',monospace\"><span style=\"color: #00d700; text-decoration-color: #00d700; font-weight: bold; text-decoration: underline\">Isabel Gonzalez</span><span style=\"color: #00d700; text-decoration-color: #00d700; font-weight: bold\"> acts: [TALK] </span>\n",
       "<span style=\"color: #00d700; text-decoration-color: #00d700; font-weight: bold\">                     &gt; Yes, I like spicy food. It adds a lot of flavor to the dishes I enjoy, and it</span>\n",
       "<span style=\"color: #00d700; text-decoration-color: #00d700; font-weight: bold\">                     &gt; reminds me of the traditional meals I grew up with. Spicy food is often a</span>\n",
       "<span style=\"color: #00d700; text-decoration-color: #00d700; font-weight: bold\">                     &gt; part of our family gatherings, and it brings warmth and excitement to our</span>\n",
       "<span style=\"color: #00d700; text-decoration-color: #00d700; font-weight: bold\">                     &gt; meals. I appreciate how it enhances the taste of the ingredients we use,</span>\n",
       "<span style=\"color: #00d700; text-decoration-color: #00d700; font-weight: bold\">                     &gt; especially in traditional Mexican cuisine.</span>\n",
       "</pre>\n"
      ],
      "text/plain": [
       "\u001b[1;4;38;5;40mIsabel Gonzalez\u001b[0m\u001b[1;38;5;40m acts: \u001b[0m\u001b[1;38;5;40m[\u001b[0m\u001b[1;38;5;40mTALK\u001b[0m\u001b[1;38;5;40m]\u001b[0m\u001b[1;38;5;40m \u001b[0m\n",
       "\u001b[1;38;5;40m                     > Yes, I like spicy food. It adds a lot of flavor to the dishes I enjoy, and it\u001b[0m\n",
       "\u001b[1;38;5;40m                     > reminds me of the traditional meals I grew up with. Spicy food is often a\u001b[0m\n",
       "\u001b[1;38;5;40m                     > part of our family gatherings, and it brings warmth and excitement to our\u001b[0m\n",
       "\u001b[1;38;5;40m                     > meals. I appreciate how it enhances the taste of the ingredients we use,\u001b[0m\n",
       "\u001b[1;38;5;40m                     > especially in traditional Mexican cuisine.\u001b[0m\n"
      ]
     },
     "metadata": {},
     "output_type": "display_data"
    },
    {
     "data": {
      "text/html": [
       "<pre style=\"margin:0px;;white-space:pre;overflow-x:auto;line-height:normal;font-family:Menlo,'DejaVu Sans Mono',consolas,'Courier New',monospace\"><span style=\"color: #00d700; text-decoration-color: #00d700; font-weight: bold; text-decoration: underline\">Carlos Mendoza</span><span style=\"color: #00d700; text-decoration-color: #00d700; font-weight: bold\"> acts: [TALK] </span>\n",
       "<span style=\"color: #00d700; text-decoration-color: #00d700; font-weight: bold\">                    &gt; Yes, I like spicy food. It adds a lot of flavor to the dishes I enjoy, and it</span>\n",
       "<span style=\"color: #00d700; text-decoration-color: #00d700; font-weight: bold\">                    &gt; reminds me of the traditional meals my family used to prepare. Spicy food is a</span>\n",
       "<span style=\"color: #00d700; text-decoration-color: #00d700; font-weight: bold\">                    &gt; big part of our culture here in Oaxaca, and I appreciate how it can bring</span>\n",
       "<span style=\"color: #00d700; text-decoration-color: #00d700; font-weight: bold\">                    &gt; people together during meals. It makes the food more exciting and enjoyable</span>\n",
       "<span style=\"color: #00d700; text-decoration-color: #00d700; font-weight: bold\">                    &gt; for me.</span>\n",
       "</pre>\n"
      ],
      "text/plain": [
       "\u001b[1;4;38;5;40mCarlos Mendoza\u001b[0m\u001b[1;38;5;40m acts: \u001b[0m\u001b[1;38;5;40m[\u001b[0m\u001b[1;38;5;40mTALK\u001b[0m\u001b[1;38;5;40m]\u001b[0m\u001b[1;38;5;40m \u001b[0m\n",
       "\u001b[1;38;5;40m                    > Yes, I like spicy food. It adds a lot of flavor to the dishes I enjoy, and it\u001b[0m\n",
       "\u001b[1;38;5;40m                    > reminds me of the traditional meals my family used to prepare. Spicy food is a\u001b[0m\n",
       "\u001b[1;38;5;40m                    > big part of our culture here in Oaxaca, and I appreciate how it can bring\u001b[0m\n",
       "\u001b[1;38;5;40m                    > people together during meals. It makes the food more exciting and enjoyable\u001b[0m\n",
       "\u001b[1;38;5;40m                    > for me.\u001b[0m\n"
      ]
     },
     "metadata": {},
     "output_type": "display_data"
    },
    {
     "data": {
      "text/html": [
       "<pre style=\"margin:0px;;white-space:pre;overflow-x:auto;line-height:normal;font-family:Menlo,'DejaVu Sans Mono',consolas,'Courier New',monospace\"><span style=\"color: #00d700; text-decoration-color: #00d700; font-weight: bold; text-decoration: underline\">Fernando Ramirez</span><span style=\"color: #00d700; text-decoration-color: #00d700; font-weight: bold\"> acts: [TALK] </span>\n",
       "<span style=\"color: #00d700; text-decoration-color: #00d700; font-weight: bold\">                      &gt; Yes, I do like spicy food! I enjoy the kick it adds to dishes and how it can</span>\n",
       "<span style=\"color: #00d700; text-decoration-color: #00d700; font-weight: bold\">                      &gt; enhance the overall flavor. Spicy food often brings a sense of excitement to</span>\n",
       "<span style=\"color: #00d700; text-decoration-color: #00d700; font-weight: bold\">                      &gt; meals, and I appreciate the variety of spices used in different cuisines. It</span>\n",
       "<span style=\"color: #00d700; text-decoration-color: #00d700; font-weight: bold\">                      &gt; also feels like a fun challenge to try and handle the heat!</span>\n",
       "</pre>\n"
      ],
      "text/plain": [
       "\u001b[1;4;38;5;40mFernando Ramirez\u001b[0m\u001b[1;38;5;40m acts: \u001b[0m\u001b[1;38;5;40m[\u001b[0m\u001b[1;38;5;40mTALK\u001b[0m\u001b[1;38;5;40m]\u001b[0m\u001b[1;38;5;40m \u001b[0m\n",
       "\u001b[1;38;5;40m                      > Yes, I do like spicy food! I enjoy the kick it adds to dishes and how it can\u001b[0m\n",
       "\u001b[1;38;5;40m                      > enhance the overall flavor. Spicy food often brings a sense of excitement to\u001b[0m\n",
       "\u001b[1;38;5;40m                      > meals, and I appreciate the variety of spices used in different cuisines. It\u001b[0m\n",
       "\u001b[1;38;5;40m                      > also feels like a fun challenge to try and handle the heat!\u001b[0m\n"
      ]
     },
     "metadata": {},
     "output_type": "display_data"
    },
    {
     "name": "stderr",
     "output_type": "stream",
     "text": [
      "2025-03-24 21:14:24,787 - tinytroupe - WARNING - [Camila Torres] Action similarity is too high (1), replacing it with DONE.\n"
     ]
    },
    {
     "data": {
      "text/html": [
       "<pre style=\"margin:0px;;white-space:pre;overflow-x:auto;line-height:normal;font-family:Menlo,'DejaVu Sans Mono',consolas,'Courier New',monospace\"><span style=\"color: #d0d0d0; text-decoration-color: #d0d0d0; text-decoration: underline\">Camila Torres</span><span style=\"color: #d0d0d0; text-decoration-color: #d0d0d0\"> acts: </span><span style=\"color: #d0d0d0; text-decoration-color: #d0d0d0; font-weight: bold\">[</span><span style=\"color: #d0d0d0; text-decoration-color: #d0d0d0\">DONE</span><span style=\"color: #d0d0d0; text-decoration-color: #d0d0d0; font-weight: bold\">]</span><span style=\"color: #d0d0d0; text-decoration-color: #d0d0d0\"> </span>\n",
       "\n",
       "</pre>\n"
      ],
      "text/plain": [
       "\u001b[4;38;5;252mCamila Torres\u001b[0m\u001b[38;5;252m acts: \u001b[0m\u001b[1;38;5;252m[\u001b[0m\u001b[38;5;252mDONE\u001b[0m\u001b[1;38;5;252m]\u001b[0m\u001b[38;5;252m \u001b[0m\n",
       "\n"
      ]
     },
     "metadata": {},
     "output_type": "display_data"
    },
    {
     "data": {
      "text/html": [
       "<pre style=\"margin:0px;;white-space:pre;overflow-x:auto;line-height:normal;font-family:Menlo,'DejaVu Sans Mono',consolas,'Courier New',monospace\"><span style=\"color: #d0d0d0; text-decoration-color: #d0d0d0; text-decoration: underline\">Camila Rojas</span><span style=\"color: #d0d0d0; text-decoration-color: #d0d0d0\"> acts: </span><span style=\"color: #d0d0d0; text-decoration-color: #d0d0d0; font-weight: bold\">[</span><span style=\"color: #d0d0d0; text-decoration-color: #d0d0d0\">DONE</span><span style=\"color: #d0d0d0; text-decoration-color: #d0d0d0; font-weight: bold\">]</span><span style=\"color: #d0d0d0; text-decoration-color: #d0d0d0\"> </span>\n",
       "\n",
       "</pre>\n"
      ],
      "text/plain": [
       "\u001b[4;38;5;252mCamila Rojas\u001b[0m\u001b[38;5;252m acts: \u001b[0m\u001b[1;38;5;252m[\u001b[0m\u001b[38;5;252mDONE\u001b[0m\u001b[1;38;5;252m]\u001b[0m\u001b[38;5;252m \u001b[0m\n",
       "\n"
      ]
     },
     "metadata": {},
     "output_type": "display_data"
    },
    {
     "data": {
      "text/html": [
       "<pre style=\"margin:0px;;white-space:pre;overflow-x:auto;line-height:normal;font-family:Menlo,'DejaVu Sans Mono',consolas,'Courier New',monospace\"><span style=\"color: #d0d0d0; text-decoration-color: #d0d0d0; text-decoration: underline\">Carlos Mendoza</span><span style=\"color: #d0d0d0; text-decoration-color: #d0d0d0\"> acts: </span><span style=\"color: #d0d0d0; text-decoration-color: #d0d0d0; font-weight: bold\">[</span><span style=\"color: #d0d0d0; text-decoration-color: #d0d0d0\">DONE</span><span style=\"color: #d0d0d0; text-decoration-color: #d0d0d0; font-weight: bold\">]</span><span style=\"color: #d0d0d0; text-decoration-color: #d0d0d0\"> </span>\n",
       "\n",
       "</pre>\n"
      ],
      "text/plain": [
       "\u001b[4;38;5;252mCarlos Mendoza\u001b[0m\u001b[38;5;252m acts: \u001b[0m\u001b[1;38;5;252m[\u001b[0m\u001b[38;5;252mDONE\u001b[0m\u001b[1;38;5;252m]\u001b[0m\u001b[38;5;252m \u001b[0m\n",
       "\n"
      ]
     },
     "metadata": {},
     "output_type": "display_data"
    },
    {
     "data": {
      "text/html": [
       "<pre style=\"margin:0px;;white-space:pre;overflow-x:auto;line-height:normal;font-family:Menlo,'DejaVu Sans Mono',consolas,'Courier New',monospace\"><span style=\"color: #d0d0d0; text-decoration-color: #d0d0d0; text-decoration: underline\">Fernando Ramirez</span><span style=\"color: #d0d0d0; text-decoration-color: #d0d0d0\"> acts: </span><span style=\"color: #d0d0d0; text-decoration-color: #d0d0d0; font-weight: bold\">[</span><span style=\"color: #d0d0d0; text-decoration-color: #d0d0d0\">DONE</span><span style=\"color: #d0d0d0; text-decoration-color: #d0d0d0; font-weight: bold\">]</span><span style=\"color: #d0d0d0; text-decoration-color: #d0d0d0\"> </span>\n",
       "\n",
       "</pre>\n"
      ],
      "text/plain": [
       "\u001b[4;38;5;252mFernando Ramirez\u001b[0m\u001b[38;5;252m acts: \u001b[0m\u001b[1;38;5;252m[\u001b[0m\u001b[38;5;252mDONE\u001b[0m\u001b[1;38;5;252m]\u001b[0m\u001b[38;5;252m \u001b[0m\n",
       "\n"
      ]
     },
     "metadata": {},
     "output_type": "display_data"
    },
    {
     "data": {
      "text/html": [
       "<pre style=\"margin:0px;;white-space:pre;overflow-x:auto;line-height:normal;font-family:Menlo,'DejaVu Sans Mono',consolas,'Courier New',monospace\"><span style=\"color: #00d700; text-decoration-color: #00d700; font-weight: bold; text-decoration: underline\">Isabel Rojas</span><span style=\"color: #00d700; text-decoration-color: #00d700; font-weight: bold\"> acts: [TALK] </span>\n",
       "<span style=\"color: #00d700; text-decoration-color: #00d700; font-weight: bold\">                  &gt; Hello! I'm Isabel Rojas, a software engineer at Tech Innovations Inc. I</span>\n",
       "<span style=\"color: #00d700; text-decoration-color: #00d700; font-weight: bold\">                  &gt; specialize in developing applications that utilize machine learning algorithms.</span>\n",
       "<span style=\"color: #00d700; text-decoration-color: #00d700; font-weight: bold\">                  &gt; I'm passionate about creating user-friendly interfaces and ensuring technology</span>\n",
       "<span style=\"color: #00d700; text-decoration-color: #00d700; font-weight: bold\">                  &gt; is accessible to everyone.   As for my top-</span><span style=\"color: #00d700; text-decoration-color: #00d700; font-weight: bold\">10</span><span style=\"color: #00d700; text-decoration-color: #00d700; font-weight: bold\"> interests, they include: </span><span style=\"color: #00d700; text-decoration-color: #00d700; font-weight: bold\">1</span><span style=\"color: #00d700; text-decoration-color: #00d700; font-weight: bold\">.</span>\n",
       "<span style=\"color: #00d700; text-decoration-color: #00d700; font-weight: bold\">                  &gt; Technology and innovation </span><span style=\"color: #00d700; text-decoration-color: #00d700; font-weight: bold\">2</span><span style=\"color: #00d700; text-decoration-color: #00d700; font-weight: bold\">. Traveling and exploring new cultures </span><span style=\"color: #00d700; text-decoration-color: #00d700; font-weight: bold\">3</span><span style=\"color: #00d700; text-decoration-color: #00d700; font-weight: bold\">. Reading</span>\n",
       "<span style=\"color: #00d700; text-decoration-color: #00d700; font-weight: bold\">                  &gt; science fiction and fantasy novels </span><span style=\"color: #00d700; text-decoration-color: #00d700; font-weight: bold\">4</span><span style=\"color: #00d700; text-decoration-color: #00d700; font-weight: bold\">. Cooking and trying new recipes </span><span style=\"color: #00d700; text-decoration-color: #00d700; font-weight: bold\">5</span><span style=\"color: #00d700; text-decoration-color: #00d700; font-weight: bold\">. Outdoor</span>\n",
       "<span style=\"color: #00d700; text-decoration-color: #00d700; font-weight: bold\">                  &gt; activities like hiking and biking </span><span style=\"color: #00d700; text-decoration-color: #00d700; font-weight: bold\">6</span><span style=\"color: #00d700; text-decoration-color: #00d700; font-weight: bold\">. Board games and trivia nights with friends</span>\n",
       "<span style=\"color: #00d700; text-decoration-color: #00d700; font-weight: bold\">                  &gt; </span><span style=\"color: #00d700; text-decoration-color: #00d700; font-weight: bold\">7</span><span style=\"color: #00d700; text-decoration-color: #00d700; font-weight: bold\">. Documentaries about technology and society </span><span style=\"color: #00d700; text-decoration-color: #00d700; font-weight: bold\">8</span><span style=\"color: #00d700; text-decoration-color: #00d700; font-weight: bold\">. Photography </span><span style=\"color: #00d700; text-decoration-color: #00d700; font-weight: bold\">9</span><span style=\"color: #00d700; text-decoration-color: #00d700; font-weight: bold\">. Volunteering at</span>\n",
       "<span style=\"color: #00d700; text-decoration-color: #00d700; font-weight: bold\">                  &gt; coding bootcamps </span><span style=\"color: #00d700; text-decoration-color: #00d700; font-weight: bold\">10</span><span style=\"color: #00d700; text-decoration-color: #00d700; font-weight: bold\">. Learning new programming languages.  Regarding my favorite</span>\n",
       "<span style=\"color: #00d700; text-decoration-color: #00d700; font-weight: bold\">                  &gt; food styles, I enjoy a variety of cuisines, but I particularly love</span>\n",
       "<span style=\"color: #00d700; text-decoration-color: #00d700; font-weight: bold\">                  &gt; Mediterranean and Asian food. I appreciate Mediterranean food for its fresh</span>\n",
       "<span style=\"color: #00d700; text-decoration-color: #00d700; font-weight: bold\">                  &gt; ingredients and healthy options, while Asian cuisine offers a wonderful mix of</span>\n",
       "<span style=\"color: #00d700; text-decoration-color: #00d700; font-weight: bold\">                  &gt; flavors and spices that excite my palate. Cooking these styles allows me to</span>\n",
       "<span style=\"color: #00d700; text-decoration-color: #00d700; font-weight: bold\">                  &gt; experiment with differe (...)</span>\n",
       "</pre>\n"
      ],
      "text/plain": [
       "\u001b[1;4;38;5;40mIsabel Rojas\u001b[0m\u001b[1;38;5;40m acts: \u001b[0m\u001b[1;38;5;40m[\u001b[0m\u001b[1;38;5;40mTALK\u001b[0m\u001b[1;38;5;40m]\u001b[0m\u001b[1;38;5;40m \u001b[0m\n",
       "\u001b[1;38;5;40m                  > Hello! I'm Isabel Rojas, a software engineer at Tech Innovations Inc. I\u001b[0m\n",
       "\u001b[1;38;5;40m                  > specialize in developing applications that utilize machine learning algorithms.\u001b[0m\n",
       "\u001b[1;38;5;40m                  > I'm passionate about creating user-friendly interfaces and ensuring technology\u001b[0m\n",
       "\u001b[1;38;5;40m                  > is accessible to everyone.   As for my top-\u001b[0m\u001b[1;38;5;40m10\u001b[0m\u001b[1;38;5;40m interests, they include: \u001b[0m\u001b[1;38;5;40m1\u001b[0m\u001b[1;38;5;40m.\u001b[0m\n",
       "\u001b[1;38;5;40m                  > Technology and innovation \u001b[0m\u001b[1;38;5;40m2\u001b[0m\u001b[1;38;5;40m. Traveling and exploring new cultures \u001b[0m\u001b[1;38;5;40m3\u001b[0m\u001b[1;38;5;40m. Reading\u001b[0m\n",
       "\u001b[1;38;5;40m                  > science fiction and fantasy novels \u001b[0m\u001b[1;38;5;40m4\u001b[0m\u001b[1;38;5;40m. Cooking and trying new recipes \u001b[0m\u001b[1;38;5;40m5\u001b[0m\u001b[1;38;5;40m. Outdoor\u001b[0m\n",
       "\u001b[1;38;5;40m                  > activities like hiking and biking \u001b[0m\u001b[1;38;5;40m6\u001b[0m\u001b[1;38;5;40m. Board games and trivia nights with friends\u001b[0m\n",
       "\u001b[1;38;5;40m                  > \u001b[0m\u001b[1;38;5;40m7\u001b[0m\u001b[1;38;5;40m. Documentaries about technology and society \u001b[0m\u001b[1;38;5;40m8\u001b[0m\u001b[1;38;5;40m. Photography \u001b[0m\u001b[1;38;5;40m9\u001b[0m\u001b[1;38;5;40m. Volunteering at\u001b[0m\n",
       "\u001b[1;38;5;40m                  > coding bootcamps \u001b[0m\u001b[1;38;5;40m10\u001b[0m\u001b[1;38;5;40m. Learning new programming languages.  Regarding my favorite\u001b[0m\n",
       "\u001b[1;38;5;40m                  > food styles, I enjoy a variety of cuisines, but I particularly love\u001b[0m\n",
       "\u001b[1;38;5;40m                  > Mediterranean and Asian food. I appreciate Mediterranean food for its fresh\u001b[0m\n",
       "\u001b[1;38;5;40m                  > ingredients and healthy options, while Asian cuisine offers a wonderful mix of\u001b[0m\n",
       "\u001b[1;38;5;40m                  > flavors and spices that excite my palate. Cooking these styles allows me to\u001b[0m\n",
       "\u001b[1;38;5;40m                  > experiment with differe \u001b[0m\u001b[1;38;5;40m(\u001b[0m\u001b[1;38;5;40m...\u001b[0m\u001b[1;38;5;40m)\u001b[0m\n"
      ]
     },
     "metadata": {},
     "output_type": "display_data"
    },
    {
     "data": {
      "text/html": [
       "<pre style=\"margin:0px;;white-space:pre;overflow-x:auto;line-height:normal;font-family:Menlo,'DejaVu Sans Mono',consolas,'Courier New',monospace\"><span style=\"color: #00d700; text-decoration-color: #00d700; font-weight: bold; text-decoration: underline\">Santiago Jimenez</span><span style=\"color: #00d700; text-decoration-color: #00d700; font-weight: bold\"> acts: [TALK] </span>\n",
       "<span style=\"color: #00d700; text-decoration-color: #00d700; font-weight: bold\">                      &gt; Hello! I'm Santiago Jimenez, a Public Relations Specialist working for a</span>\n",
       "<span style=\"color: #00d700; text-decoration-color: #00d700; font-weight: bold\">                      &gt; local non-profit organization focused on environmental issues. I'm</span>\n",
       "<span style=\"color: #00d700; text-decoration-color: #00d700; font-weight: bold\">                      &gt; passionate about climate change awareness and love engaging the public in</span>\n",
       "<span style=\"color: #00d700; text-decoration-color: #00d700; font-weight: bold\">                      &gt; meaningful conversations about sustainability.   As for my top-</span><span style=\"color: #00d700; text-decoration-color: #00d700; font-weight: bold\">10</span><span style=\"color: #00d700; text-decoration-color: #00d700; font-weight: bold\"> interests,</span>\n",
       "<span style=\"color: #00d700; text-decoration-color: #00d700; font-weight: bold\">                      &gt; they include: </span><span style=\"color: #00d700; text-decoration-color: #00d700; font-weight: bold\">1</span><span style=\"color: #00d700; text-decoration-color: #00d700; font-weight: bold\">. Environmental activism </span><span style=\"color: #00d700; text-decoration-color: #00d700; font-weight: bold\">2</span><span style=\"color: #00d700; text-decoration-color: #00d700; font-weight: bold\">. Media and communications </span><span style=\"color: #00d700; text-decoration-color: #00d700; font-weight: bold\">3</span><span style=\"color: #00d700; text-decoration-color: #00d700; font-weight: bold\">.</span>\n",
       "<span style=\"color: #00d700; text-decoration-color: #00d700; font-weight: bold\">                      &gt; Traveling to national parks </span><span style=\"color: #00d700; text-decoration-color: #00d700; font-weight: bold\">4</span><span style=\"color: #00d700; text-decoration-color: #00d700; font-weight: bold\">. Cooking and trying new recipes </span><span style=\"color: #00d700; text-decoration-color: #00d700; font-weight: bold\">5</span><span style=\"color: #00d700; text-decoration-color: #00d700; font-weight: bold\">. Watching</span>\n",
       "<span style=\"color: #00d700; text-decoration-color: #00d700; font-weight: bold\">                      &gt; documentaries </span><span style=\"color: #00d700; text-decoration-color: #00d700; font-weight: bold\">6</span><span style=\"color: #00d700; text-decoration-color: #00d700; font-weight: bold\">. Engaging in discussions about climate change </span><span style=\"color: #00d700; text-decoration-color: #00d700; font-weight: bold\">7</span><span style=\"color: #00d700; text-decoration-color: #00d700; font-weight: bold\">.</span>\n",
       "<span style=\"color: #00d700; text-decoration-color: #00d700; font-weight: bold\">                      &gt; Volunteering for community events </span><span style=\"color: #00d700; text-decoration-color: #00d700; font-weight: bold\">8</span><span style=\"color: #00d700; text-decoration-color: #00d700; font-weight: bold\">. Exploring new hiking trails </span><span style=\"color: #00d700; text-decoration-color: #00d700; font-weight: bold\">9</span><span style=\"color: #00d700; text-decoration-color: #00d700; font-weight: bold\">.</span>\n",
       "<span style=\"color: #00d700; text-decoration-color: #00d700; font-weight: bold\">                      &gt; Listening to podcasts about personal development </span><span style=\"color: #00d700; text-decoration-color: #00d700; font-weight: bold\">10</span><span style=\"color: #00d700; text-decoration-color: #00d700; font-weight: bold\">. Spending time outdoors</span>\n",
       "<span style=\"color: #00d700; text-decoration-color: #00d700; font-weight: bold\">                      &gt; with my dog, Luna.  Regarding food styles, I enjoy healthy meals,</span>\n",
       "<span style=\"color: #00d700; text-decoration-color: #00d700; font-weight: bold\">                      &gt; particularly vegetarian options, because I believe in maintaining a balanced</span>\n",
       "<span style=\"color: #00d700; text-decoration-color: #00d700; font-weight: bold\">                      &gt; diet that supports both my health and the environment. I love experimenting</span>\n",
       "<span style=\"color: #00d700; text-decoration-color: #00d700; font-weight: bold\">                      &gt; with new ingredients and recipes, which allows me to combine my passion for</span>\n",
       "<span style=\"color: #00d700; text-decoration-color: #00d700; font-weight: bold\">                      &gt; cooking with my commitment to sustainability.</span>\n",
       "</pre>\n"
      ],
      "text/plain": [
       "\u001b[1;4;38;5;40mSantiago Jimenez\u001b[0m\u001b[1;38;5;40m acts: \u001b[0m\u001b[1;38;5;40m[\u001b[0m\u001b[1;38;5;40mTALK\u001b[0m\u001b[1;38;5;40m]\u001b[0m\u001b[1;38;5;40m \u001b[0m\n",
       "\u001b[1;38;5;40m                      > Hello! I'm Santiago Jimenez, a Public Relations Specialist working for a\u001b[0m\n",
       "\u001b[1;38;5;40m                      > local non-profit organization focused on environmental issues. I'm\u001b[0m\n",
       "\u001b[1;38;5;40m                      > passionate about climate change awareness and love engaging the public in\u001b[0m\n",
       "\u001b[1;38;5;40m                      > meaningful conversations about sustainability.   As for my top-\u001b[0m\u001b[1;38;5;40m10\u001b[0m\u001b[1;38;5;40m interests,\u001b[0m\n",
       "\u001b[1;38;5;40m                      > they include: \u001b[0m\u001b[1;38;5;40m1\u001b[0m\u001b[1;38;5;40m. Environmental activism \u001b[0m\u001b[1;38;5;40m2\u001b[0m\u001b[1;38;5;40m. Media and communications \u001b[0m\u001b[1;38;5;40m3\u001b[0m\u001b[1;38;5;40m.\u001b[0m\n",
       "\u001b[1;38;5;40m                      > Traveling to national parks \u001b[0m\u001b[1;38;5;40m4\u001b[0m\u001b[1;38;5;40m. Cooking and trying new recipes \u001b[0m\u001b[1;38;5;40m5\u001b[0m\u001b[1;38;5;40m. Watching\u001b[0m\n",
       "\u001b[1;38;5;40m                      > documentaries \u001b[0m\u001b[1;38;5;40m6\u001b[0m\u001b[1;38;5;40m. Engaging in discussions about climate change \u001b[0m\u001b[1;38;5;40m7\u001b[0m\u001b[1;38;5;40m.\u001b[0m\n",
       "\u001b[1;38;5;40m                      > Volunteering for community events \u001b[0m\u001b[1;38;5;40m8\u001b[0m\u001b[1;38;5;40m. Exploring new hiking trails \u001b[0m\u001b[1;38;5;40m9\u001b[0m\u001b[1;38;5;40m.\u001b[0m\n",
       "\u001b[1;38;5;40m                      > Listening to podcasts about personal development \u001b[0m\u001b[1;38;5;40m10\u001b[0m\u001b[1;38;5;40m. Spending time outdoors\u001b[0m\n",
       "\u001b[1;38;5;40m                      > with my dog, Luna.  Regarding food styles, I enjoy healthy meals,\u001b[0m\n",
       "\u001b[1;38;5;40m                      > particularly vegetarian options, because I believe in maintaining a balanced\u001b[0m\n",
       "\u001b[1;38;5;40m                      > diet that supports both my health and the environment. I love experimenting\u001b[0m\n",
       "\u001b[1;38;5;40m                      > with new ingredients and recipes, which allows me to combine my passion for\u001b[0m\n",
       "\u001b[1;38;5;40m                      > cooking with my commitment to sustainability.\u001b[0m\n"
      ]
     },
     "metadata": {},
     "output_type": "display_data"
    },
    {
     "data": {
      "text/html": [
       "<pre style=\"margin:0px;;white-space:pre;overflow-x:auto;line-height:normal;font-family:Menlo,'DejaVu Sans Mono',consolas,'Courier New',monospace\"><span style=\"color: #00d700; text-decoration-color: #00d700; font-weight: bold; text-decoration: underline\">Carlos Herrera</span><span style=\"color: #00d700; text-decoration-color: #00d700; font-weight: bold\"> acts: [TALK] </span>\n",
       "<span style=\"color: #00d700; text-decoration-color: #00d700; font-weight: bold\">                    &gt; Hello! I'm Carlos Herrera, a </span><span style=\"color: #00d700; text-decoration-color: #00d700; font-weight: bold\">22</span><span style=\"color: #00d700; text-decoration-color: #00d700; font-weight: bold\">-year-old sales associate from Mexico City. I</span>\n",
       "<span style=\"color: #00d700; text-decoration-color: #00d700; font-weight: bold\">                    &gt; work at a local retail store, and I'm currently studying Business</span>\n",
       "<span style=\"color: #00d700; text-decoration-color: #00d700; font-weight: bold\">                    &gt; Administration at a community college. I enjoy interacting with customers and</span>\n",
       "<span style=\"color: #00d700; text-decoration-color: #00d700; font-weight: bold\">                    &gt; helping them find what they need.   As for my interests, here are my top-</span><span style=\"color: #00d700; text-decoration-color: #00d700; font-weight: bold\">10</span><span style=\"color: #00d700; text-decoration-color: #00d700; font-weight: bold\">:</span>\n",
       "<span style=\"color: #00d700; text-decoration-color: #00d700; font-weight: bold\">                    &gt; </span><span style=\"color: #00d700; text-decoration-color: #00d700; font-weight: bold\">1</span><span style=\"color: #00d700; text-decoration-color: #00d700; font-weight: bold\">. Soccer </span><span style=\"color: #00d700; text-decoration-color: #00d700; font-weight: bold\">2</span><span style=\"color: #00d700; text-decoration-color: #00d700; font-weight: bold\">. Basketball </span><span style=\"color: #00d700; text-decoration-color: #00d700; font-weight: bold\">3</span><span style=\"color: #00d700; text-decoration-color: #00d700; font-weight: bold\">. Music (especially reggaeton and pop) </span><span style=\"color: #00d700; text-decoration-color: #00d700; font-weight: bold\">4</span><span style=\"color: #00d700; text-decoration-color: #00d700; font-weight: bold\">. Cooking</span>\n",
       "<span style=\"color: #00d700; text-decoration-color: #00d700; font-weight: bold\">                    &gt; traditional Mexican dishes </span><span style=\"color: #00d700; text-decoration-color: #00d700; font-weight: bold\">5</span><span style=\"color: #00d700; text-decoration-color: #00d700; font-weight: bold\">. Spending time with friends and family </span><span style=\"color: #00d700; text-decoration-color: #00d700; font-weight: bold\">6</span><span style=\"color: #00d700; text-decoration-color: #00d700; font-weight: bold\">.</span>\n",
       "<span style=\"color: #00d700; text-decoration-color: #00d700; font-weight: bold\">                    &gt; Attending local sports events </span><span style=\"color: #00d700; text-decoration-color: #00d700; font-weight: bold\">7</span><span style=\"color: #00d700; text-decoration-color: #00d700; font-weight: bold\">. Exploring new restaurants and cafes </span><span style=\"color: #00d700; text-decoration-color: #00d700; font-weight: bold\">8</span><span style=\"color: #00d700; text-decoration-color: #00d700; font-weight: bold\">.</span>\n",
       "<span style=\"color: #00d700; text-decoration-color: #00d700; font-weight: bold\">                    &gt; Volunteering for community events </span><span style=\"color: #00d700; text-decoration-color: #00d700; font-weight: bold\">9</span><span style=\"color: #00d700; text-decoration-color: #00d700; font-weight: bold\">. Traveling and experiencing different</span>\n",
       "<span style=\"color: #00d700; text-decoration-color: #00d700; font-weight: bold\">                    &gt; cultures </span><span style=\"color: #00d700; text-decoration-color: #00d700; font-weight: bold\">10</span><span style=\"color: #00d700; text-decoration-color: #00d700; font-weight: bold\">. Watching movies and series.  Regarding food styles, I love</span>\n",
       "<span style=\"color: #00d700; text-decoration-color: #00d700; font-weight: bold\">                    &gt; traditional Mexican cuisine because it reminds me of my childhood and family</span>\n",
       "<span style=\"color: #00d700; text-decoration-color: #00d700; font-weight: bold\">                    &gt; gatherings. I also enjoy trying different international dishes, as they offer</span>\n",
       "<span style=\"color: #00d700; text-decoration-color: #00d700; font-weight: bold\">                    &gt; a glimpse into other cultures.</span>\n",
       "</pre>\n"
      ],
      "text/plain": [
       "\u001b[1;4;38;5;40mCarlos Herrera\u001b[0m\u001b[1;38;5;40m acts: \u001b[0m\u001b[1;38;5;40m[\u001b[0m\u001b[1;38;5;40mTALK\u001b[0m\u001b[1;38;5;40m]\u001b[0m\u001b[1;38;5;40m \u001b[0m\n",
       "\u001b[1;38;5;40m                    > Hello! I'm Carlos Herrera, a \u001b[0m\u001b[1;38;5;40m22\u001b[0m\u001b[1;38;5;40m-year-old sales associate from Mexico City. I\u001b[0m\n",
       "\u001b[1;38;5;40m                    > work at a local retail store, and I'm currently studying Business\u001b[0m\n",
       "\u001b[1;38;5;40m                    > Administration at a community college. I enjoy interacting with customers and\u001b[0m\n",
       "\u001b[1;38;5;40m                    > helping them find what they need.   As for my interests, here are my top-\u001b[0m\u001b[1;38;5;40m10\u001b[0m\u001b[1;38;5;40m:\u001b[0m\n",
       "\u001b[1;38;5;40m                    > \u001b[0m\u001b[1;38;5;40m1\u001b[0m\u001b[1;38;5;40m. Soccer \u001b[0m\u001b[1;38;5;40m2\u001b[0m\u001b[1;38;5;40m. Basketball \u001b[0m\u001b[1;38;5;40m3\u001b[0m\u001b[1;38;5;40m. Music \u001b[0m\u001b[1;38;5;40m(\u001b[0m\u001b[1;38;5;40mespecially reggaeton and pop\u001b[0m\u001b[1;38;5;40m)\u001b[0m\u001b[1;38;5;40m \u001b[0m\u001b[1;38;5;40m4\u001b[0m\u001b[1;38;5;40m. Cooking\u001b[0m\n",
       "\u001b[1;38;5;40m                    > traditional Mexican dishes \u001b[0m\u001b[1;38;5;40m5\u001b[0m\u001b[1;38;5;40m. Spending time with friends and family \u001b[0m\u001b[1;38;5;40m6\u001b[0m\u001b[1;38;5;40m.\u001b[0m\n",
       "\u001b[1;38;5;40m                    > Attending local sports events \u001b[0m\u001b[1;38;5;40m7\u001b[0m\u001b[1;38;5;40m. Exploring new restaurants and cafes \u001b[0m\u001b[1;38;5;40m8\u001b[0m\u001b[1;38;5;40m.\u001b[0m\n",
       "\u001b[1;38;5;40m                    > Volunteering for community events \u001b[0m\u001b[1;38;5;40m9\u001b[0m\u001b[1;38;5;40m. Traveling and experiencing different\u001b[0m\n",
       "\u001b[1;38;5;40m                    > cultures \u001b[0m\u001b[1;38;5;40m10\u001b[0m\u001b[1;38;5;40m. Watching movies and series.  Regarding food styles, I love\u001b[0m\n",
       "\u001b[1;38;5;40m                    > traditional Mexican cuisine because it reminds me of my childhood and family\u001b[0m\n",
       "\u001b[1;38;5;40m                    > gatherings. I also enjoy trying different international dishes, as they offer\u001b[0m\n",
       "\u001b[1;38;5;40m                    > a glimpse into other cultures.\u001b[0m\n"
      ]
     },
     "metadata": {},
     "output_type": "display_data"
    },
    {
     "data": {
      "text/html": [
       "<pre style=\"margin:0px;;white-space:pre;overflow-x:auto;line-height:normal;font-family:Menlo,'DejaVu Sans Mono',consolas,'Courier New',monospace\"><span style=\"color: #00d700; text-decoration-color: #00d700; font-weight: bold; text-decoration: underline\">Isabella Rojas</span><span style=\"color: #00d700; text-decoration-color: #00d700; font-weight: bold\"> acts: [TALK] </span>\n",
       "<span style=\"color: #00d700; text-decoration-color: #00d700; font-weight: bold\">                    &gt; Hello! I'm Isabella Rojas, a </span><span style=\"color: #00d700; text-decoration-color: #00d700; font-weight: bold\">25</span><span style=\"color: #00d700; text-decoration-color: #00d700; font-weight: bold\">-year-old teacher from Mexico City. I work at a</span>\n",
       "<span style=\"color: #00d700; text-decoration-color: #00d700; font-weight: bold\">                    &gt; local public school where I focus on early childhood education and community</span>\n",
       "<span style=\"color: #00d700; text-decoration-color: #00d700; font-weight: bold\">                    &gt; engagement. I'm passionate about making a difference in my students' lives and</span>\n",
       "<span style=\"color: #00d700; text-decoration-color: #00d700; font-weight: bold\">                    &gt; advocating for educational reform in underserved communities.   As for my</span>\n",
       "<span style=\"color: #00d700; text-decoration-color: #00d700; font-weight: bold\">                    &gt; interests, here are my top </span><span style=\"color: #00d700; text-decoration-color: #00d700; font-weight: bold\">10</span><span style=\"color: #00d700; text-decoration-color: #00d700; font-weight: bold\">: </span><span style=\"color: #00d700; text-decoration-color: #00d700; font-weight: bold\">1</span><span style=\"color: #00d700; text-decoration-color: #00d700; font-weight: bold\">. Education and teaching methodologies </span><span style=\"color: #00d700; text-decoration-color: #00d700; font-weight: bold\">2</span><span style=\"color: #00d700; text-decoration-color: #00d700; font-weight: bold\">.</span>\n",
       "<span style=\"color: #00d700; text-decoration-color: #00d700; font-weight: bold\">                    &gt; Music, especially Latin and folk genres </span><span style=\"color: #00d700; text-decoration-color: #00d700; font-weight: bold\">3</span><span style=\"color: #00d700; text-decoration-color: #00d700; font-weight: bold\">. Cultural events and community</span>\n",
       "<span style=\"color: #00d700; text-decoration-color: #00d700; font-weight: bold\">                    &gt; festivals </span><span style=\"color: #00d700; text-decoration-color: #00d700; font-weight: bold\">4</span><span style=\"color: #00d700; text-decoration-color: #00d700; font-weight: bold\">. Volunteering and social activism </span><span style=\"color: #00d700; text-decoration-color: #00d700; font-weight: bold\">5</span><span style=\"color: #00d700; text-decoration-color: #00d700; font-weight: bold\">. Reading books on education</span>\n",
       "<span style=\"color: #00d700; text-decoration-color: #00d700; font-weight: bold\">                    &gt; and personal development </span><span style=\"color: #00d700; text-decoration-color: #00d700; font-weight: bold\">6</span><span style=\"color: #00d700; text-decoration-color: #00d700; font-weight: bold\">. Exploring new neighborhoods and trying local foods</span>\n",
       "<span style=\"color: #00d700; text-decoration-color: #00d700; font-weight: bold\">                    &gt; </span><span style=\"color: #00d700; text-decoration-color: #00d700; font-weight: bold\">7</span><span style=\"color: #00d700; text-decoration-color: #00d700; font-weight: bold\">. Attending concerts and live performances </span><span style=\"color: #00d700; text-decoration-color: #00d700; font-weight: bold\">8</span><span style=\"color: #00d700; text-decoration-color: #00d700; font-weight: bold\">. Engaging in outdoor activities</span>\n",
       "<span style=\"color: #00d700; text-decoration-color: #00d700; font-weight: bold\">                    &gt; and nature </span><span style=\"color: #00d700; text-decoration-color: #00d700; font-weight: bold\">9</span><span style=\"color: #00d700; text-decoration-color: #00d700; font-weight: bold\">. Learning about different educational systems around the world</span>\n",
       "<span style=\"color: #00d700; text-decoration-color: #00d700; font-weight: bold\">                    &gt; </span><span style=\"color: #00d700; text-decoration-color: #00d700; font-weight: bold\">10</span><span style=\"color: #00d700; text-decoration-color: #00d700; font-weight: bold\">. Promoting mental health awareness in schools.  Regarding food, I really</span>\n",
       "<span style=\"color: #00d700; text-decoration-color: #00d700; font-weight: bold\">                    &gt; enjoy a variety of styles, but I particularly love Mexican cuisine because of</span>\n",
       "<span style=\"color: #00d700; text-decoration-color: #00d700; font-weight: bold\">                    &gt; its rich flavors and cultural significance. I appreciate how it brings people</span>\n",
       "<span style=\"color: #00d700; text-decoration-color: #00d700; font-weight: bold\">                    &gt; together and reflects our t (...)</span>\n",
       "</pre>\n"
      ],
      "text/plain": [
       "\u001b[1;4;38;5;40mIsabella Rojas\u001b[0m\u001b[1;38;5;40m acts: \u001b[0m\u001b[1;38;5;40m[\u001b[0m\u001b[1;38;5;40mTALK\u001b[0m\u001b[1;38;5;40m]\u001b[0m\u001b[1;38;5;40m \u001b[0m\n",
       "\u001b[1;38;5;40m                    > Hello! I'm Isabella Rojas, a \u001b[0m\u001b[1;38;5;40m25\u001b[0m\u001b[1;38;5;40m-year-old teacher from Mexico City. I work at a\u001b[0m\n",
       "\u001b[1;38;5;40m                    > local public school where I focus on early childhood education and community\u001b[0m\n",
       "\u001b[1;38;5;40m                    > engagement. I'm passionate about making a difference in my students' lives and\u001b[0m\n",
       "\u001b[1;38;5;40m                    > advocating for educational reform in underserved communities.   As for my\u001b[0m\n",
       "\u001b[1;38;5;40m                    > interests, here are my top \u001b[0m\u001b[1;38;5;40m10\u001b[0m\u001b[1;38;5;40m: \u001b[0m\u001b[1;38;5;40m1\u001b[0m\u001b[1;38;5;40m. Education and teaching methodologies \u001b[0m\u001b[1;38;5;40m2\u001b[0m\u001b[1;38;5;40m.\u001b[0m\n",
       "\u001b[1;38;5;40m                    > Music, especially Latin and folk genres \u001b[0m\u001b[1;38;5;40m3\u001b[0m\u001b[1;38;5;40m. Cultural events and community\u001b[0m\n",
       "\u001b[1;38;5;40m                    > festivals \u001b[0m\u001b[1;38;5;40m4\u001b[0m\u001b[1;38;5;40m. Volunteering and social activism \u001b[0m\u001b[1;38;5;40m5\u001b[0m\u001b[1;38;5;40m. Reading books on education\u001b[0m\n",
       "\u001b[1;38;5;40m                    > and personal development \u001b[0m\u001b[1;38;5;40m6\u001b[0m\u001b[1;38;5;40m. Exploring new neighborhoods and trying local foods\u001b[0m\n",
       "\u001b[1;38;5;40m                    > \u001b[0m\u001b[1;38;5;40m7\u001b[0m\u001b[1;38;5;40m. Attending concerts and live performances \u001b[0m\u001b[1;38;5;40m8\u001b[0m\u001b[1;38;5;40m. Engaging in outdoor activities\u001b[0m\n",
       "\u001b[1;38;5;40m                    > and nature \u001b[0m\u001b[1;38;5;40m9\u001b[0m\u001b[1;38;5;40m. Learning about different educational systems around the world\u001b[0m\n",
       "\u001b[1;38;5;40m                    > \u001b[0m\u001b[1;38;5;40m10\u001b[0m\u001b[1;38;5;40m. Promoting mental health awareness in schools.  Regarding food, I really\u001b[0m\n",
       "\u001b[1;38;5;40m                    > enjoy a variety of styles, but I particularly love Mexican cuisine because of\u001b[0m\n",
       "\u001b[1;38;5;40m                    > its rich flavors and cultural significance. I appreciate how it brings people\u001b[0m\n",
       "\u001b[1;38;5;40m                    > together and reflects our t \u001b[0m\u001b[1;38;5;40m(\u001b[0m\u001b[1;38;5;40m...\u001b[0m\u001b[1;38;5;40m)\u001b[0m\n"
      ]
     },
     "metadata": {},
     "output_type": "display_data"
    },
    {
     "data": {
      "text/html": [
       "<pre style=\"margin:0px;;white-space:pre;overflow-x:auto;line-height:normal;font-family:Menlo,'DejaVu Sans Mono',consolas,'Courier New',monospace\"><span style=\"color: #d0d0d0; text-decoration-color: #d0d0d0; text-decoration: underline\">Ana Maria Salazar</span><span style=\"color: #d0d0d0; text-decoration-color: #d0d0d0\"> acts: </span><span style=\"color: #d0d0d0; text-decoration-color: #d0d0d0; font-weight: bold\">[</span><span style=\"color: #d0d0d0; text-decoration-color: #d0d0d0\">DONE</span><span style=\"color: #d0d0d0; text-decoration-color: #d0d0d0; font-weight: bold\">]</span><span style=\"color: #d0d0d0; text-decoration-color: #d0d0d0\"> </span>\n",
       "\n",
       "</pre>\n"
      ],
      "text/plain": [
       "\u001b[4;38;5;252mAna Maria Salazar\u001b[0m\u001b[38;5;252m acts: \u001b[0m\u001b[1;38;5;252m[\u001b[0m\u001b[38;5;252mDONE\u001b[0m\u001b[1;38;5;252m]\u001b[0m\u001b[38;5;252m \u001b[0m\n",
       "\n"
      ]
     },
     "metadata": {},
     "output_type": "display_data"
    },
    {
     "data": {
      "text/html": [
       "<pre style=\"margin:0px;;white-space:pre;overflow-x:auto;line-height:normal;font-family:Menlo,'DejaVu Sans Mono',consolas,'Courier New',monospace\"><span style=\"color: #00d700; text-decoration-color: #00d700; font-weight: bold; text-decoration: underline\">Isabel Rojas</span><span style=\"color: #00d700; text-decoration-color: #00d700; font-weight: bold\"> acts: [TALK] </span>\n",
       "<span style=\"color: #00d700; text-decoration-color: #00d700; font-weight: bold\">                  &gt; Yes, I do like spicy food! I enjoy the kick it adds to dishes and how it can</span>\n",
       "<span style=\"color: #00d700; text-decoration-color: #00d700; font-weight: bold\">                  &gt; enhance flavors. Spicy food often brings a sense of excitement to meals, and I</span>\n",
       "<span style=\"color: #00d700; text-decoration-color: #00d700; font-weight: bold\">                  &gt; appreciate the variety of spices used in different cuisines. It also feels like</span>\n",
       "<span style=\"color: #00d700; text-decoration-color: #00d700; font-weight: bold\">                  &gt; a fun challenge to see how much heat I can handle!</span>\n",
       "</pre>\n"
      ],
      "text/plain": [
       "\u001b[1;4;38;5;40mIsabel Rojas\u001b[0m\u001b[1;38;5;40m acts: \u001b[0m\u001b[1;38;5;40m[\u001b[0m\u001b[1;38;5;40mTALK\u001b[0m\u001b[1;38;5;40m]\u001b[0m\u001b[1;38;5;40m \u001b[0m\n",
       "\u001b[1;38;5;40m                  > Yes, I do like spicy food! I enjoy the kick it adds to dishes and how it can\u001b[0m\n",
       "\u001b[1;38;5;40m                  > enhance flavors. Spicy food often brings a sense of excitement to meals, and I\u001b[0m\n",
       "\u001b[1;38;5;40m                  > appreciate the variety of spices used in different cuisines. It also feels like\u001b[0m\n",
       "\u001b[1;38;5;40m                  > a fun challenge to see how much heat I can handle!\u001b[0m\n"
      ]
     },
     "metadata": {},
     "output_type": "display_data"
    },
    {
     "data": {
      "text/html": [
       "<pre style=\"margin:0px;;white-space:pre;overflow-x:auto;line-height:normal;font-family:Menlo,'DejaVu Sans Mono',consolas,'Courier New',monospace\"><span style=\"color: #00d700; text-decoration-color: #00d700; font-weight: bold; text-decoration: underline\">Valeria Morales</span><span style=\"color: #00d700; text-decoration-color: #00d700; font-weight: bold\"> acts: [TALK] </span>\n",
       "<span style=\"color: #00d700; text-decoration-color: #00d700; font-weight: bold\">                     &gt; Hello! I'm Valeria Morales, a </span><span style=\"color: #00d700; text-decoration-color: #00d700; font-weight: bold\">22</span><span style=\"color: #00d700; text-decoration-color: #00d700; font-weight: bold\">-year-old sales associate from Mexico City. I</span>\n",
       "<span style=\"color: #00d700; text-decoration-color: #00d700; font-weight: bold\">                     &gt; work at a local retail store where I enjoy helping customers and managing</span>\n",
       "<span style=\"color: #00d700; text-decoration-color: #00d700; font-weight: bold\">                     &gt; inventory. My top interests include sports, especially soccer and basketball,</span>\n",
       "<span style=\"color: #00d700; text-decoration-color: #00d700; font-weight: bold\">                     &gt; music (particularly reggaeton and pop), and cooking traditional Mexican</span>\n",
       "<span style=\"color: #00d700; text-decoration-color: #00d700; font-weight: bold\">                     &gt; dishes. I love spending time with friends and family, attending local sports</span>\n",
       "<span style=\"color: #00d700; text-decoration-color: #00d700; font-weight: bold\">                     &gt; events, and exploring new restaurants and cafes. My favorite food styles are</span>\n",
       "<span style=\"color: #00d700; text-decoration-color: #00d700; font-weight: bold\">                     &gt; traditional Mexican cuisine because of the rich flavors and cultural</span>\n",
       "<span style=\"color: #00d700; text-decoration-color: #00d700; font-weight: bold\">                     &gt; significance, and I also enjoy trying out different international dishes when</span>\n",
       "<span style=\"color: #00d700; text-decoration-color: #00d700; font-weight: bold\">                     &gt; I get the chance.   As for spicy food, yes, I do like it! I enjoy the kick it</span>\n",
       "<span style=\"color: #00d700; text-decoration-color: #00d700; font-weight: bold\">                     &gt; adds to meals and how it can enhance the flavors of traditional dishes. Plus,</span>\n",
       "<span style=\"color: #00d700; text-decoration-color: #00d700; font-weight: bold\">                     &gt; it reminds me of family gatherings where we often have spicy salsas and</span>\n",
       "<span style=\"color: #00d700; text-decoration-color: #00d700; font-weight: bold\">                     &gt; dishes. It’s a big part of our culture!</span>\n",
       "</pre>\n"
      ],
      "text/plain": [
       "\u001b[1;4;38;5;40mValeria Morales\u001b[0m\u001b[1;38;5;40m acts: \u001b[0m\u001b[1;38;5;40m[\u001b[0m\u001b[1;38;5;40mTALK\u001b[0m\u001b[1;38;5;40m]\u001b[0m\u001b[1;38;5;40m \u001b[0m\n",
       "\u001b[1;38;5;40m                     > Hello! I'm Valeria Morales, a \u001b[0m\u001b[1;38;5;40m22\u001b[0m\u001b[1;38;5;40m-year-old sales associate from Mexico City. I\u001b[0m\n",
       "\u001b[1;38;5;40m                     > work at a local retail store where I enjoy helping customers and managing\u001b[0m\n",
       "\u001b[1;38;5;40m                     > inventory. My top interests include sports, especially soccer and basketball,\u001b[0m\n",
       "\u001b[1;38;5;40m                     > music \u001b[0m\u001b[1;38;5;40m(\u001b[0m\u001b[1;38;5;40mparticularly reggaeton and pop\u001b[0m\u001b[1;38;5;40m)\u001b[0m\u001b[1;38;5;40m, and cooking traditional Mexican\u001b[0m\n",
       "\u001b[1;38;5;40m                     > dishes. I love spending time with friends and family, attending local sports\u001b[0m\n",
       "\u001b[1;38;5;40m                     > events, and exploring new restaurants and cafes. My favorite food styles are\u001b[0m\n",
       "\u001b[1;38;5;40m                     > traditional Mexican cuisine because of the rich flavors and cultural\u001b[0m\n",
       "\u001b[1;38;5;40m                     > significance, and I also enjoy trying out different international dishes when\u001b[0m\n",
       "\u001b[1;38;5;40m                     > I get the chance.   As for spicy food, yes, I do like it! I enjoy the kick it\u001b[0m\n",
       "\u001b[1;38;5;40m                     > adds to meals and how it can enhance the flavors of traditional dishes. Plus,\u001b[0m\n",
       "\u001b[1;38;5;40m                     > it reminds me of family gatherings where we often have spicy salsas and\u001b[0m\n",
       "\u001b[1;38;5;40m                     > dishes. It’s a big part of our culture!\u001b[0m\n"
      ]
     },
     "metadata": {},
     "output_type": "display_data"
    },
    {
     "data": {
      "text/html": [
       "<pre style=\"margin:0px;;white-space:pre;overflow-x:auto;line-height:normal;font-family:Menlo,'DejaVu Sans Mono',consolas,'Courier New',monospace\"><span style=\"color: #00d700; text-decoration-color: #00d700; font-weight: bold; text-decoration: underline\">Valeria Torres</span><span style=\"color: #00d700; text-decoration-color: #00d700; font-weight: bold\"> acts: [TALK] </span>\n",
       "<span style=\"color: #00d700; text-decoration-color: #00d700; font-weight: bold\">                    &gt; Hello! I'm Valeria Torres, a software engineer at Tech Innovations Inc. I</span>\n",
       "<span style=\"color: #00d700; text-decoration-color: #00d700; font-weight: bold\">                    &gt; focus on developing applications that utilize AI to enhance user experience. I</span>\n",
       "<span style=\"color: #00d700; text-decoration-color: #00d700; font-weight: bold\">                    &gt; enjoy solving complex problems and collaborating with my team.   As for my</span>\n",
       "<span style=\"color: #00d700; text-decoration-color: #00d700; font-weight: bold\">                    &gt; top-</span><span style=\"color: #00d700; text-decoration-color: #00d700; font-weight: bold\">10</span><span style=\"color: #00d700; text-decoration-color: #00d700; font-weight: bold\"> interests, they include: </span><span style=\"color: #00d700; text-decoration-color: #00d700; font-weight: bold\">1</span><span style=\"color: #00d700; text-decoration-color: #00d700; font-weight: bold\">. Technology and innovation </span><span style=\"color: #00d700; text-decoration-color: #00d700; font-weight: bold\">2</span><span style=\"color: #00d700; text-decoration-color: #00d700; font-weight: bold\">. Traveling to</span>\n",
       "<span style=\"color: #00d700; text-decoration-color: #00d700; font-weight: bold\">                    &gt; new countries </span><span style=\"color: #00d700; text-decoration-color: #00d700; font-weight: bold\">3</span><span style=\"color: #00d700; text-decoration-color: #00d700; font-weight: bold\">. Reading science fiction and fantasy novels </span><span style=\"color: #00d700; text-decoration-color: #00d700; font-weight: bold\">4</span><span style=\"color: #00d700; text-decoration-color: #00d700; font-weight: bold\">. Playing video</span>\n",
       "<span style=\"color: #00d700; text-decoration-color: #00d700; font-weight: bold\">                    &gt; games </span><span style=\"color: #00d700; text-decoration-color: #00d700; font-weight: bold\">5</span><span style=\"color: #00d700; text-decoration-color: #00d700; font-weight: bold\">. Volunteering for educational initiatives </span><span style=\"color: #00d700; text-decoration-color: #00d700; font-weight: bold\">6</span><span style=\"color: #00d700; text-decoration-color: #00d700; font-weight: bold\">. Exploring new cuisines </span><span style=\"color: #00d700; text-decoration-color: #00d700; font-weight: bold\">7</span><span style=\"color: #00d700; text-decoration-color: #00d700; font-weight: bold\">.</span>\n",
       "<span style=\"color: #00d700; text-decoration-color: #00d700; font-weight: bold\">                    &gt; Attending tech meetups and conferences </span><span style=\"color: #00d700; text-decoration-color: #00d700; font-weight: bold\">8</span><span style=\"color: #00d700; text-decoration-color: #00d700; font-weight: bold\">. Hiking in nature </span><span style=\"color: #00d700; text-decoration-color: #00d700; font-weight: bold\">9</span><span style=\"color: #00d700; text-decoration-color: #00d700; font-weight: bold\">. Listening to</span>\n",
       "<span style=\"color: #00d700; text-decoration-color: #00d700; font-weight: bold\">                    &gt; podcasts about technology and society </span><span style=\"color: #00d700; text-decoration-color: #00d700; font-weight: bold\">10</span><span style=\"color: #00d700; text-decoration-color: #00d700; font-weight: bold\">. Collecting vintage video games.</span>\n",
       "<span style=\"color: #00d700; text-decoration-color: #00d700; font-weight: bold\">                    &gt; Regarding my favorite food styles, I love exploring different cuisines,</span>\n",
       "<span style=\"color: #00d700; text-decoration-color: #00d700; font-weight: bold\">                    &gt; especially Asian and Mediterranean, because they offer a variety of flavors</span>\n",
       "<span style=\"color: #00d700; text-decoration-color: #00d700; font-weight: bold\">                    &gt; and healthy options. I appreciate how food can bring people together and</span>\n",
       "<span style=\"color: #00d700; text-decoration-color: #00d700; font-weight: bold\">                    &gt; reflect cultural diversity.</span>\n",
       "</pre>\n"
      ],
      "text/plain": [
       "\u001b[1;4;38;5;40mValeria Torres\u001b[0m\u001b[1;38;5;40m acts: \u001b[0m\u001b[1;38;5;40m[\u001b[0m\u001b[1;38;5;40mTALK\u001b[0m\u001b[1;38;5;40m]\u001b[0m\u001b[1;38;5;40m \u001b[0m\n",
       "\u001b[1;38;5;40m                    > Hello! I'm Valeria Torres, a software engineer at Tech Innovations Inc. I\u001b[0m\n",
       "\u001b[1;38;5;40m                    > focus on developing applications that utilize AI to enhance user experience. I\u001b[0m\n",
       "\u001b[1;38;5;40m                    > enjoy solving complex problems and collaborating with my team.   As for my\u001b[0m\n",
       "\u001b[1;38;5;40m                    > top-\u001b[0m\u001b[1;38;5;40m10\u001b[0m\u001b[1;38;5;40m interests, they include: \u001b[0m\u001b[1;38;5;40m1\u001b[0m\u001b[1;38;5;40m. Technology and innovation \u001b[0m\u001b[1;38;5;40m2\u001b[0m\u001b[1;38;5;40m. Traveling to\u001b[0m\n",
       "\u001b[1;38;5;40m                    > new countries \u001b[0m\u001b[1;38;5;40m3\u001b[0m\u001b[1;38;5;40m. Reading science fiction and fantasy novels \u001b[0m\u001b[1;38;5;40m4\u001b[0m\u001b[1;38;5;40m. Playing video\u001b[0m\n",
       "\u001b[1;38;5;40m                    > games \u001b[0m\u001b[1;38;5;40m5\u001b[0m\u001b[1;38;5;40m. Volunteering for educational initiatives \u001b[0m\u001b[1;38;5;40m6\u001b[0m\u001b[1;38;5;40m. Exploring new cuisines \u001b[0m\u001b[1;38;5;40m7\u001b[0m\u001b[1;38;5;40m.\u001b[0m\n",
       "\u001b[1;38;5;40m                    > Attending tech meetups and conferences \u001b[0m\u001b[1;38;5;40m8\u001b[0m\u001b[1;38;5;40m. Hiking in nature \u001b[0m\u001b[1;38;5;40m9\u001b[0m\u001b[1;38;5;40m. Listening to\u001b[0m\n",
       "\u001b[1;38;5;40m                    > podcasts about technology and society \u001b[0m\u001b[1;38;5;40m10\u001b[0m\u001b[1;38;5;40m. Collecting vintage video games.\u001b[0m\n",
       "\u001b[1;38;5;40m                    > Regarding my favorite food styles, I love exploring different cuisines,\u001b[0m\n",
       "\u001b[1;38;5;40m                    > especially Asian and Mediterranean, because they offer a variety of flavors\u001b[0m\n",
       "\u001b[1;38;5;40m                    > and healthy options. I appreciate how food can bring people together and\u001b[0m\n",
       "\u001b[1;38;5;40m                    > reflect cultural diversity.\u001b[0m\n"
      ]
     },
     "metadata": {},
     "output_type": "display_data"
    },
    {
     "data": {
      "text/html": [
       "<pre style=\"margin:0px;;white-space:pre;overflow-x:auto;line-height:normal;font-family:Menlo,'DejaVu Sans Mono',consolas,'Courier New',monospace\"><span style=\"color: #d0d0d0; text-decoration-color: #d0d0d0; text-decoration: underline\">Isabel Rojas</span><span style=\"color: #d0d0d0; text-decoration-color: #d0d0d0\"> acts: </span><span style=\"color: #d0d0d0; text-decoration-color: #d0d0d0; font-weight: bold\">[</span><span style=\"color: #d0d0d0; text-decoration-color: #d0d0d0\">DONE</span><span style=\"color: #d0d0d0; text-decoration-color: #d0d0d0; font-weight: bold\">]</span><span style=\"color: #d0d0d0; text-decoration-color: #d0d0d0\"> </span>\n",
       "\n",
       "</pre>\n"
      ],
      "text/plain": [
       "\u001b[4;38;5;252mIsabel Rojas\u001b[0m\u001b[38;5;252m acts: \u001b[0m\u001b[1;38;5;252m[\u001b[0m\u001b[38;5;252mDONE\u001b[0m\u001b[1;38;5;252m]\u001b[0m\u001b[38;5;252m \u001b[0m\n",
       "\n"
      ]
     },
     "metadata": {},
     "output_type": "display_data"
    },
    {
     "data": {
      "text/html": [
       "<pre style=\"margin:0px;;white-space:pre;overflow-x:auto;line-height:normal;font-family:Menlo,'DejaVu Sans Mono',consolas,'Courier New',monospace\"><span style=\"color: #d0d0d0; text-decoration-color: #d0d0d0; text-decoration: underline\">Carlos Herrera</span><span style=\"color: #d0d0d0; text-decoration-color: #d0d0d0\"> acts: </span><span style=\"color: #d0d0d0; text-decoration-color: #d0d0d0; font-weight: bold\">[</span><span style=\"color: #d0d0d0; text-decoration-color: #d0d0d0\">DONE</span><span style=\"color: #d0d0d0; text-decoration-color: #d0d0d0; font-weight: bold\">]</span><span style=\"color: #d0d0d0; text-decoration-color: #d0d0d0\"> </span>\n",
       "\n",
       "</pre>\n"
      ],
      "text/plain": [
       "\u001b[4;38;5;252mCarlos Herrera\u001b[0m\u001b[38;5;252m acts: \u001b[0m\u001b[1;38;5;252m[\u001b[0m\u001b[38;5;252mDONE\u001b[0m\u001b[1;38;5;252m]\u001b[0m\u001b[38;5;252m \u001b[0m\n",
       "\n"
      ]
     },
     "metadata": {},
     "output_type": "display_data"
    },
    {
     "data": {
      "text/html": [
       "<pre style=\"margin:0px;;white-space:pre;overflow-x:auto;line-height:normal;font-family:Menlo,'DejaVu Sans Mono',consolas,'Courier New',monospace\"><span style=\"color: #00d700; text-decoration-color: #00d700; font-weight: bold; text-decoration: underline\">Valeria Jimenez</span><span style=\"color: #00d700; text-decoration-color: #00d700; font-weight: bold\"> acts: [TALK] </span>\n",
       "<span style=\"color: #00d700; text-decoration-color: #00d700; font-weight: bold\">                     &gt; Hello! I'm Valeria Jimenez, a </span><span style=\"color: #00d700; text-decoration-color: #00d700; font-weight: bold\">25</span><span style=\"color: #00d700; text-decoration-color: #00d700; font-weight: bold\">-year-old teacher from Mexico City. I work at</span>\n",
       "<span style=\"color: #00d700; text-decoration-color: #00d700; font-weight: bold\">                     &gt; a local public school where I teach kindergarten. I'm passionate about</span>\n",
       "<span style=\"color: #00d700; text-decoration-color: #00d700; font-weight: bold\">                     &gt; creating an inclusive and engaging learning environment for my students.   As</span>\n",
       "<span style=\"color: #00d700; text-decoration-color: #00d700; font-weight: bold\">                     &gt; for my interests, here are my top </span><span style=\"color: #00d700; text-decoration-color: #00d700; font-weight: bold\">10</span><span style=\"color: #00d700; text-decoration-color: #00d700; font-weight: bold\">: </span><span style=\"color: #00d700; text-decoration-color: #00d700; font-weight: bold\">1</span><span style=\"color: #00d700; text-decoration-color: #00d700; font-weight: bold\">. Education reform </span><span style=\"color: #00d700; text-decoration-color: #00d700; font-weight: bold\">2</span><span style=\"color: #00d700; text-decoration-color: #00d700; font-weight: bold\">. Cultural events</span>\n",
       "<span style=\"color: #00d700; text-decoration-color: #00d700; font-weight: bold\">                     &gt; </span><span style=\"color: #00d700; text-decoration-color: #00d700; font-weight: bold\">3</span><span style=\"color: #00d700; text-decoration-color: #00d700; font-weight: bold\">. Music and dance </span><span style=\"color: #00d700; text-decoration-color: #00d700; font-weight: bold\">4</span><span style=\"color: #00d700; text-decoration-color: #00d700; font-weight: bold\">. Volunteering </span><span style=\"color: #00d700; text-decoration-color: #00d700; font-weight: bold\">5</span><span style=\"color: #00d700; text-decoration-color: #00d700; font-weight: bold\">. Traveling </span><span style=\"color: #00d700; text-decoration-color: #00d700; font-weight: bold\">6</span><span style=\"color: #00d700; text-decoration-color: #00d700; font-weight: bold\">. Reading books on education</span>\n",
       "<span style=\"color: #00d700; text-decoration-color: #00d700; font-weight: bold\">                     &gt; and social justice </span><span style=\"color: #00d700; text-decoration-color: #00d700; font-weight: bold\">7</span><span style=\"color: #00d700; text-decoration-color: #00d700; font-weight: bold\">. Cooking and exploring new cuisines </span><span style=\"color: #00d700; text-decoration-color: #00d700; font-weight: bold\">8</span><span style=\"color: #00d700; text-decoration-color: #00d700; font-weight: bold\">. Attending</span>\n",
       "<span style=\"color: #00d700; text-decoration-color: #00d700; font-weight: bold\">                     &gt; concerts and cultural festivals </span><span style=\"color: #00d700; text-decoration-color: #00d700; font-weight: bold\">9</span><span style=\"color: #00d700; text-decoration-color: #00d700; font-weight: bold\">. Engaging in community outreach programs</span>\n",
       "<span style=\"color: #00d700; text-decoration-color: #00d700; font-weight: bold\">                     &gt; </span><span style=\"color: #00d700; text-decoration-color: #00d700; font-weight: bold\">10</span><span style=\"color: #00d700; text-decoration-color: #00d700; font-weight: bold\">. Spending time with friends and family.  Regarding food styles, I enjoy a</span>\n",
       "<span style=\"color: #00d700; text-decoration-color: #00d700; font-weight: bold\">                     &gt; variety of cuisines, but I particularly love Mexican food because of its rich</span>\n",
       "<span style=\"color: #00d700; text-decoration-color: #00d700; font-weight: bold\">                     &gt; flavors and cultural significance. I also enjoy trying out new recipes from</span>\n",
       "<span style=\"color: #00d700; text-decoration-color: #00d700; font-weight: bold\">                     &gt; different cultures, as it allows me to explore and appreciate diversity in</span>\n",
       "<span style=\"color: #00d700; text-decoration-color: #00d700; font-weight: bold\">                     &gt; food.   Now, about spicy food: Yes, I do like spicy food! I find that it adds</span>\n",
       "<span style=\"color: #00d700; text-decoration-color: #00d700; font-weight: bold\">                     &gt; a wonderful kick to dishes and enhances the overall flavor. Plus, it reminds</span>\n",
       "<span style=\"color: #00d700; text-decoration-color: #00d700; font-weight: bold\">                     &gt; me of many traditional Mexican dishe (...)</span>\n",
       "</pre>\n"
      ],
      "text/plain": [
       "\u001b[1;4;38;5;40mValeria Jimenez\u001b[0m\u001b[1;38;5;40m acts: \u001b[0m\u001b[1;38;5;40m[\u001b[0m\u001b[1;38;5;40mTALK\u001b[0m\u001b[1;38;5;40m]\u001b[0m\u001b[1;38;5;40m \u001b[0m\n",
       "\u001b[1;38;5;40m                     > Hello! I'm Valeria Jimenez, a \u001b[0m\u001b[1;38;5;40m25\u001b[0m\u001b[1;38;5;40m-year-old teacher from Mexico City. I work at\u001b[0m\n",
       "\u001b[1;38;5;40m                     > a local public school where I teach kindergarten. I'm passionate about\u001b[0m\n",
       "\u001b[1;38;5;40m                     > creating an inclusive and engaging learning environment for my students.   As\u001b[0m\n",
       "\u001b[1;38;5;40m                     > for my interests, here are my top \u001b[0m\u001b[1;38;5;40m10\u001b[0m\u001b[1;38;5;40m: \u001b[0m\u001b[1;38;5;40m1\u001b[0m\u001b[1;38;5;40m. Education reform \u001b[0m\u001b[1;38;5;40m2\u001b[0m\u001b[1;38;5;40m. Cultural events\u001b[0m\n",
       "\u001b[1;38;5;40m                     > \u001b[0m\u001b[1;38;5;40m3\u001b[0m\u001b[1;38;5;40m. Music and dance \u001b[0m\u001b[1;38;5;40m4\u001b[0m\u001b[1;38;5;40m. Volunteering \u001b[0m\u001b[1;38;5;40m5\u001b[0m\u001b[1;38;5;40m. Traveling \u001b[0m\u001b[1;38;5;40m6\u001b[0m\u001b[1;38;5;40m. Reading books on education\u001b[0m\n",
       "\u001b[1;38;5;40m                     > and social justice \u001b[0m\u001b[1;38;5;40m7\u001b[0m\u001b[1;38;5;40m. Cooking and exploring new cuisines \u001b[0m\u001b[1;38;5;40m8\u001b[0m\u001b[1;38;5;40m. Attending\u001b[0m\n",
       "\u001b[1;38;5;40m                     > concerts and cultural festivals \u001b[0m\u001b[1;38;5;40m9\u001b[0m\u001b[1;38;5;40m. Engaging in community outreach programs\u001b[0m\n",
       "\u001b[1;38;5;40m                     > \u001b[0m\u001b[1;38;5;40m10\u001b[0m\u001b[1;38;5;40m. Spending time with friends and family.  Regarding food styles, I enjoy a\u001b[0m\n",
       "\u001b[1;38;5;40m                     > variety of cuisines, but I particularly love Mexican food because of its rich\u001b[0m\n",
       "\u001b[1;38;5;40m                     > flavors and cultural significance. I also enjoy trying out new recipes from\u001b[0m\n",
       "\u001b[1;38;5;40m                     > different cultures, as it allows me to explore and appreciate diversity in\u001b[0m\n",
       "\u001b[1;38;5;40m                     > food.   Now, about spicy food: Yes, I do like spicy food! I find that it adds\u001b[0m\n",
       "\u001b[1;38;5;40m                     > a wonderful kick to dishes and enhances the overall flavor. Plus, it reminds\u001b[0m\n",
       "\u001b[1;38;5;40m                     > me of many traditional Mexican dishe \u001b[0m\u001b[1;38;5;40m(\u001b[0m\u001b[1;38;5;40m...\u001b[0m\u001b[1;38;5;40m)\u001b[0m\n"
      ]
     },
     "metadata": {},
     "output_type": "display_data"
    },
    {
     "data": {
      "text/html": [
       "<pre style=\"margin:0px;;white-space:pre;overflow-x:auto;line-height:normal;font-family:Menlo,'DejaVu Sans Mono',consolas,'Courier New',monospace\"><span style=\"color: #00d700; text-decoration-color: #00d700; font-weight: bold; text-decoration: underline\">Santiago Jimenez</span><span style=\"color: #00d700; text-decoration-color: #00d700; font-weight: bold\"> acts: [TALK] </span>\n",
       "<span style=\"color: #00d700; text-decoration-color: #00d700; font-weight: bold\">                      &gt; Yes, I do like spicy food! I enjoy it because it adds a lot of flavor and</span>\n",
       "<span style=\"color: #00d700; text-decoration-color: #00d700; font-weight: bold\">                      &gt; excitement to my meals. Plus, I find that spicy food can be quite energizing</span>\n",
       "<span style=\"color: #00d700; text-decoration-color: #00d700; font-weight: bold\">                      &gt; and often pairs well with healthy ingredients, which aligns with my</span>\n",
       "<span style=\"color: #00d700; text-decoration-color: #00d700; font-weight: bold\">                      &gt; preference for nutritious meals. It also makes cooking more fun and</span>\n",
       "<span style=\"color: #00d700; text-decoration-color: #00d700; font-weight: bold\">                      &gt; adventurous!</span>\n",
       "</pre>\n"
      ],
      "text/plain": [
       "\u001b[1;4;38;5;40mSantiago Jimenez\u001b[0m\u001b[1;38;5;40m acts: \u001b[0m\u001b[1;38;5;40m[\u001b[0m\u001b[1;38;5;40mTALK\u001b[0m\u001b[1;38;5;40m]\u001b[0m\u001b[1;38;5;40m \u001b[0m\n",
       "\u001b[1;38;5;40m                      > Yes, I do like spicy food! I enjoy it because it adds a lot of flavor and\u001b[0m\n",
       "\u001b[1;38;5;40m                      > excitement to my meals. Plus, I find that spicy food can be quite energizing\u001b[0m\n",
       "\u001b[1;38;5;40m                      > and often pairs well with healthy ingredients, which aligns with my\u001b[0m\n",
       "\u001b[1;38;5;40m                      > preference for nutritious meals. It also makes cooking more fun and\u001b[0m\n",
       "\u001b[1;38;5;40m                      > adventurous!\u001b[0m\n"
      ]
     },
     "metadata": {},
     "output_type": "display_data"
    },
    {
     "data": {
      "text/html": [
       "<pre style=\"margin:0px;;white-space:pre;overflow-x:auto;line-height:normal;font-family:Menlo,'DejaVu Sans Mono',consolas,'Courier New',monospace\"><span style=\"color: #00d700; text-decoration-color: #00d700; font-weight: bold; text-decoration: underline\">Isabella Rojas</span><span style=\"color: #00d700; text-decoration-color: #00d700; font-weight: bold\"> acts: [TALK] </span>\n",
       "<span style=\"color: #00d700; text-decoration-color: #00d700; font-weight: bold\">                    &gt; Yes, I like spicy food! I enjoy the flavors and the excitement it brings to</span>\n",
       "<span style=\"color: #00d700; text-decoration-color: #00d700; font-weight: bold\">                    &gt; meals. It adds a nice kick and can really enhance the overall taste of a dish.</span>\n",
       "<span style=\"color: #00d700; text-decoration-color: #00d700; font-weight: bold\">                    &gt; Plus, spicy food is often a big part of Mexican cuisine, which I love!</span>\n",
       "</pre>\n"
      ],
      "text/plain": [
       "\u001b[1;4;38;5;40mIsabella Rojas\u001b[0m\u001b[1;38;5;40m acts: \u001b[0m\u001b[1;38;5;40m[\u001b[0m\u001b[1;38;5;40mTALK\u001b[0m\u001b[1;38;5;40m]\u001b[0m\u001b[1;38;5;40m \u001b[0m\n",
       "\u001b[1;38;5;40m                    > Yes, I like spicy food! I enjoy the flavors and the excitement it brings to\u001b[0m\n",
       "\u001b[1;38;5;40m                    > meals. It adds a nice kick and can really enhance the overall taste of a dish.\u001b[0m\n",
       "\u001b[1;38;5;40m                    > Plus, spicy food is often a big part of Mexican cuisine, which I love!\u001b[0m\n"
      ]
     },
     "metadata": {},
     "output_type": "display_data"
    },
    {
     "data": {
      "text/html": [
       "<pre style=\"margin:0px;;white-space:pre;overflow-x:auto;line-height:normal;font-family:Menlo,'DejaVu Sans Mono',consolas,'Courier New',monospace\"><span style=\"color: #00d700; text-decoration-color: #00d700; font-weight: bold; text-decoration: underline\">Valeria Torres</span><span style=\"color: #00d700; text-decoration-color: #00d700; font-weight: bold\"> acts: [TALK] </span>\n",
       "<span style=\"color: #00d700; text-decoration-color: #00d700; font-weight: bold\">                    &gt; Yes, I do like spicy food! I enjoy the kick it adds to dishes and how it can</span>\n",
       "<span style=\"color: #00d700; text-decoration-color: #00d700; font-weight: bold\">                    &gt; enhance flavors. Spicy food often brings a sense of excitement to meals, and I</span>\n",
       "<span style=\"color: #00d700; text-decoration-color: #00d700; font-weight: bold\">                    &gt; appreciate the variety of spices used in different cuisines. It also tends to</span>\n",
       "<span style=\"color: #00d700; text-decoration-color: #00d700; font-weight: bold\">                    &gt; be associated with many cultural dishes that I find fascinating.</span>\n",
       "</pre>\n"
      ],
      "text/plain": [
       "\u001b[1;4;38;5;40mValeria Torres\u001b[0m\u001b[1;38;5;40m acts: \u001b[0m\u001b[1;38;5;40m[\u001b[0m\u001b[1;38;5;40mTALK\u001b[0m\u001b[1;38;5;40m]\u001b[0m\u001b[1;38;5;40m \u001b[0m\n",
       "\u001b[1;38;5;40m                    > Yes, I do like spicy food! I enjoy the kick it adds to dishes and how it can\u001b[0m\n",
       "\u001b[1;38;5;40m                    > enhance flavors. Spicy food often brings a sense of excitement to meals, and I\u001b[0m\n",
       "\u001b[1;38;5;40m                    > appreciate the variety of spices used in different cuisines. It also tends to\u001b[0m\n",
       "\u001b[1;38;5;40m                    > be associated with many cultural dishes that I find fascinating.\u001b[0m\n"
      ]
     },
     "metadata": {},
     "output_type": "display_data"
    },
    {
     "data": {
      "text/html": [
       "<pre style=\"margin:0px;;white-space:pre;overflow-x:auto;line-height:normal;font-family:Menlo,'DejaVu Sans Mono',consolas,'Courier New',monospace\"><span style=\"color: #d0d0d0; text-decoration-color: #d0d0d0; text-decoration: underline\">Santiago Jimenez</span><span style=\"color: #d0d0d0; text-decoration-color: #d0d0d0\"> acts: </span><span style=\"color: #d0d0d0; text-decoration-color: #d0d0d0; font-weight: bold\">[</span><span style=\"color: #d0d0d0; text-decoration-color: #d0d0d0\">DONE</span><span style=\"color: #d0d0d0; text-decoration-color: #d0d0d0; font-weight: bold\">]</span><span style=\"color: #d0d0d0; text-decoration-color: #d0d0d0\"> </span>\n",
       "\n",
       "</pre>\n"
      ],
      "text/plain": [
       "\u001b[4;38;5;252mSantiago Jimenez\u001b[0m\u001b[38;5;252m acts: \u001b[0m\u001b[1;38;5;252m[\u001b[0m\u001b[38;5;252mDONE\u001b[0m\u001b[1;38;5;252m]\u001b[0m\u001b[38;5;252m \u001b[0m\n",
       "\n"
      ]
     },
     "metadata": {},
     "output_type": "display_data"
    },
    {
     "data": {
      "text/html": [
       "<pre style=\"margin:0px;;white-space:pre;overflow-x:auto;line-height:normal;font-family:Menlo,'DejaVu Sans Mono',consolas,'Courier New',monospace\"><span style=\"color: #00d700; text-decoration-color: #00d700; font-weight: bold; text-decoration: underline\">Valeria Morales</span><span style=\"color: #00d700; text-decoration-color: #00d700; font-weight: bold\"> acts: [TALK] </span>\n",
       "<span style=\"color: #00d700; text-decoration-color: #00d700; font-weight: bold\">                     &gt; Yes, I like spicy food! I enjoy the flavors it brings to dishes, and it</span>\n",
       "<span style=\"color: #00d700; text-decoration-color: #00d700; font-weight: bold\">                     &gt; reminds me of home-cooked meals with my family. Spicy food adds excitement to</span>\n",
       "<span style=\"color: #00d700; text-decoration-color: #00d700; font-weight: bold\">                     &gt; my meals and is a big part of Mexican cuisine, which I love. It makes eating</span>\n",
       "<span style=\"color: #00d700; text-decoration-color: #00d700; font-weight: bold\">                     &gt; more enjoyable!</span>\n",
       "</pre>\n"
      ],
      "text/plain": [
       "\u001b[1;4;38;5;40mValeria Morales\u001b[0m\u001b[1;38;5;40m acts: \u001b[0m\u001b[1;38;5;40m[\u001b[0m\u001b[1;38;5;40mTALK\u001b[0m\u001b[1;38;5;40m]\u001b[0m\u001b[1;38;5;40m \u001b[0m\n",
       "\u001b[1;38;5;40m                     > Yes, I like spicy food! I enjoy the flavors it brings to dishes, and it\u001b[0m\n",
       "\u001b[1;38;5;40m                     > reminds me of home-cooked meals with my family. Spicy food adds excitement to\u001b[0m\n",
       "\u001b[1;38;5;40m                     > my meals and is a big part of Mexican cuisine, which I love. It makes eating\u001b[0m\n",
       "\u001b[1;38;5;40m                     > more enjoyable!\u001b[0m\n"
      ]
     },
     "metadata": {},
     "output_type": "display_data"
    },
    {
     "data": {
      "text/html": [
       "<pre style=\"margin:0px;;white-space:pre;overflow-x:auto;line-height:normal;font-family:Menlo,'DejaVu Sans Mono',consolas,'Courier New',monospace\"><span style=\"color: #d0d0d0; text-decoration-color: #d0d0d0; text-decoration: underline\">Isabella Rojas</span><span style=\"color: #d0d0d0; text-decoration-color: #d0d0d0\"> acts: </span><span style=\"color: #d0d0d0; text-decoration-color: #d0d0d0; font-weight: bold\">[</span><span style=\"color: #d0d0d0; text-decoration-color: #d0d0d0\">DONE</span><span style=\"color: #d0d0d0; text-decoration-color: #d0d0d0; font-weight: bold\">]</span><span style=\"color: #d0d0d0; text-decoration-color: #d0d0d0\"> </span>\n",
       "\n",
       "</pre>\n"
      ],
      "text/plain": [
       "\u001b[4;38;5;252mIsabella Rojas\u001b[0m\u001b[38;5;252m acts: \u001b[0m\u001b[1;38;5;252m[\u001b[0m\u001b[38;5;252mDONE\u001b[0m\u001b[1;38;5;252m]\u001b[0m\u001b[38;5;252m \u001b[0m\n",
       "\n"
      ]
     },
     "metadata": {},
     "output_type": "display_data"
    },
    {
     "data": {
      "text/html": [
       "<pre style=\"margin:0px;;white-space:pre;overflow-x:auto;line-height:normal;font-family:Menlo,'DejaVu Sans Mono',consolas,'Courier New',monospace\"><span style=\"color: #00d700; text-decoration-color: #00d700; font-weight: bold; text-decoration: underline\">Santiago Rojas</span><span style=\"color: #00d700; text-decoration-color: #00d700; font-weight: bold\"> acts: [TALK] </span>\n",
       "<span style=\"color: #00d700; text-decoration-color: #00d700; font-weight: bold\">                    &gt; Hello, my name is Santiago Rojas. I am </span><span style=\"color: #00d700; text-decoration-color: #00d700; font-weight: bold\">45</span><span style=\"color: #00d700; text-decoration-color: #00d700; font-weight: bold\"> years old and I work as an</span>\n",
       "<span style=\"color: #00d700; text-decoration-color: #00d700; font-weight: bold\">                    &gt; agricultural worker in Cauca, Colombia. I grow a variety of crops, including</span>\n",
       "<span style=\"color: #00d700; text-decoration-color: #00d700; font-weight: bold\">                    &gt; coffee, maize, and vegetables, and I sell them at local markets. I am</span>\n",
       "<span style=\"color: #00d700; text-decoration-color: #00d700; font-weight: bold\">                    &gt; passionate about sustainable farming practices and I enjoy spending time with</span>\n",
       "<span style=\"color: #00d700; text-decoration-color: #00d700; font-weight: bold\">                    &gt; my family and community.   As for my interests, here are my top-</span><span style=\"color: #00d700; text-decoration-color: #00d700; font-weight: bold\">10</span><span style=\"color: #00d700; text-decoration-color: #00d700; font-weight: bold\">: </span><span style=\"color: #00d700; text-decoration-color: #00d700; font-weight: bold\">1</span><span style=\"color: #00d700; text-decoration-color: #00d700; font-weight: bold\">.</span>\n",
       "<span style=\"color: #00d700; text-decoration-color: #00d700; font-weight: bold\">                    &gt; Sustainable agriculture </span><span style=\"color: #00d700; text-decoration-color: #00d700; font-weight: bold\">2</span><span style=\"color: #00d700; text-decoration-color: #00d700; font-weight: bold\">. Traditional crafts </span><span style=\"color: #00d700; text-decoration-color: #00d700; font-weight: bold\">3</span><span style=\"color: #00d700; text-decoration-color: #00d700; font-weight: bold\">. Community gatherings </span><span style=\"color: #00d700; text-decoration-color: #00d700; font-weight: bold\">4</span><span style=\"color: #00d700; text-decoration-color: #00d700; font-weight: bold\">.</span>\n",
       "<span style=\"color: #00d700; text-decoration-color: #00d700; font-weight: bold\">                    &gt; Cooking and sharing meals with family </span><span style=\"color: #00d700; text-decoration-color: #00d700; font-weight: bold\">5</span><span style=\"color: #00d700; text-decoration-color: #00d700; font-weight: bold\">. Nature and outdoor activities </span><span style=\"color: #00d700; text-decoration-color: #00d700; font-weight: bold\">6</span><span style=\"color: #00d700; text-decoration-color: #00d700; font-weight: bold\">.</span>\n",
       "<span style=\"color: #00d700; text-decoration-color: #00d700; font-weight: bold\">                    &gt; Learning about indigenous rights </span><span style=\"color: #00d700; text-decoration-color: #00d700; font-weight: bold\">7</span><span style=\"color: #00d700; text-decoration-color: #00d700; font-weight: bold\">. Participating in local advocacy </span><span style=\"color: #00d700; text-decoration-color: #00d700; font-weight: bold\">8</span><span style=\"color: #00d700; text-decoration-color: #00d700; font-weight: bold\">.</span>\n",
       "<span style=\"color: #00d700; text-decoration-color: #00d700; font-weight: bold\">                    &gt; Storytelling </span><span style=\"color: #00d700; text-decoration-color: #00d700; font-weight: bold\">9</span><span style=\"color: #00d700; text-decoration-color: #00d700; font-weight: bold\">. Music and dance </span><span style=\"color: #00d700; text-decoration-color: #00d700; font-weight: bold\">10</span><span style=\"color: #00d700; text-decoration-color: #00d700; font-weight: bold\">. Gardening and plant care  Regarding food</span>\n",
       "<span style=\"color: #00d700; text-decoration-color: #00d700; font-weight: bold\">                    &gt; styles, I enjoy traditional Colombian dishes, especially those that</span>\n",
       "<span style=\"color: #00d700; text-decoration-color: #00d700; font-weight: bold\">                    &gt; incorporate fresh ingredients from my farm. I love meals that bring my family</span>\n",
       "<span style=\"color: #00d700; text-decoration-color: #00d700; font-weight: bold\">                    &gt; together, like arepas and hearty vegetable stews. They remind me of my</span>\n",
       "<span style=\"color: #00d700; text-decoration-color: #00d700; font-weight: bold\">                    &gt; childhood and our cultural heritage, which I cherish deeply.</span>\n",
       "</pre>\n"
      ],
      "text/plain": [
       "\u001b[1;4;38;5;40mSantiago Rojas\u001b[0m\u001b[1;38;5;40m acts: \u001b[0m\u001b[1;38;5;40m[\u001b[0m\u001b[1;38;5;40mTALK\u001b[0m\u001b[1;38;5;40m]\u001b[0m\u001b[1;38;5;40m \u001b[0m\n",
       "\u001b[1;38;5;40m                    > Hello, my name is Santiago Rojas. I am \u001b[0m\u001b[1;38;5;40m45\u001b[0m\u001b[1;38;5;40m years old and I work as an\u001b[0m\n",
       "\u001b[1;38;5;40m                    > agricultural worker in Cauca, Colombia. I grow a variety of crops, including\u001b[0m\n",
       "\u001b[1;38;5;40m                    > coffee, maize, and vegetables, and I sell them at local markets. I am\u001b[0m\n",
       "\u001b[1;38;5;40m                    > passionate about sustainable farming practices and I enjoy spending time with\u001b[0m\n",
       "\u001b[1;38;5;40m                    > my family and community.   As for my interests, here are my top-\u001b[0m\u001b[1;38;5;40m10\u001b[0m\u001b[1;38;5;40m: \u001b[0m\u001b[1;38;5;40m1\u001b[0m\u001b[1;38;5;40m.\u001b[0m\n",
       "\u001b[1;38;5;40m                    > Sustainable agriculture \u001b[0m\u001b[1;38;5;40m2\u001b[0m\u001b[1;38;5;40m. Traditional crafts \u001b[0m\u001b[1;38;5;40m3\u001b[0m\u001b[1;38;5;40m. Community gatherings \u001b[0m\u001b[1;38;5;40m4\u001b[0m\u001b[1;38;5;40m.\u001b[0m\n",
       "\u001b[1;38;5;40m                    > Cooking and sharing meals with family \u001b[0m\u001b[1;38;5;40m5\u001b[0m\u001b[1;38;5;40m. Nature and outdoor activities \u001b[0m\u001b[1;38;5;40m6\u001b[0m\u001b[1;38;5;40m.\u001b[0m\n",
       "\u001b[1;38;5;40m                    > Learning about indigenous rights \u001b[0m\u001b[1;38;5;40m7\u001b[0m\u001b[1;38;5;40m. Participating in local advocacy \u001b[0m\u001b[1;38;5;40m8\u001b[0m\u001b[1;38;5;40m.\u001b[0m\n",
       "\u001b[1;38;5;40m                    > Storytelling \u001b[0m\u001b[1;38;5;40m9\u001b[0m\u001b[1;38;5;40m. Music and dance \u001b[0m\u001b[1;38;5;40m10\u001b[0m\u001b[1;38;5;40m. Gardening and plant care  Regarding food\u001b[0m\n",
       "\u001b[1;38;5;40m                    > styles, I enjoy traditional Colombian dishes, especially those that\u001b[0m\n",
       "\u001b[1;38;5;40m                    > incorporate fresh ingredients from my farm. I love meals that bring my family\u001b[0m\n",
       "\u001b[1;38;5;40m                    > together, like arepas and hearty vegetable stews. They remind me of my\u001b[0m\n",
       "\u001b[1;38;5;40m                    > childhood and our cultural heritage, which I cherish deeply.\u001b[0m\n"
      ]
     },
     "metadata": {},
     "output_type": "display_data"
    },
    {
     "data": {
      "text/html": [
       "<pre style=\"margin:0px;;white-space:pre;overflow-x:auto;line-height:normal;font-family:Menlo,'DejaVu Sans Mono',consolas,'Courier New',monospace\"><span style=\"color: #d0d0d0; text-decoration-color: #d0d0d0; text-decoration: underline\">Valeria Torres</span><span style=\"color: #d0d0d0; text-decoration-color: #d0d0d0\"> acts: </span><span style=\"color: #d0d0d0; text-decoration-color: #d0d0d0; font-weight: bold\">[</span><span style=\"color: #d0d0d0; text-decoration-color: #d0d0d0\">DONE</span><span style=\"color: #d0d0d0; text-decoration-color: #d0d0d0; font-weight: bold\">]</span><span style=\"color: #d0d0d0; text-decoration-color: #d0d0d0\"> </span>\n",
       "\n",
       "</pre>\n"
      ],
      "text/plain": [
       "\u001b[4;38;5;252mValeria Torres\u001b[0m\u001b[38;5;252m acts: \u001b[0m\u001b[1;38;5;252m[\u001b[0m\u001b[38;5;252mDONE\u001b[0m\u001b[1;38;5;252m]\u001b[0m\u001b[38;5;252m \u001b[0m\n",
       "\n"
      ]
     },
     "metadata": {},
     "output_type": "display_data"
    },
    {
     "data": {
      "text/html": [
       "<pre style=\"margin:0px;;white-space:pre;overflow-x:auto;line-height:normal;font-family:Menlo,'DejaVu Sans Mono',consolas,'Courier New',monospace\"><span style=\"color: #d0d0d0; text-decoration-color: #d0d0d0; text-decoration: underline\">Valeria Morales</span><span style=\"color: #d0d0d0; text-decoration-color: #d0d0d0\"> acts: </span><span style=\"color: #d0d0d0; text-decoration-color: #d0d0d0; font-weight: bold\">[</span><span style=\"color: #d0d0d0; text-decoration-color: #d0d0d0\">DONE</span><span style=\"color: #d0d0d0; text-decoration-color: #d0d0d0; font-weight: bold\">]</span><span style=\"color: #d0d0d0; text-decoration-color: #d0d0d0\"> </span>\n",
       "\n",
       "</pre>\n"
      ],
      "text/plain": [
       "\u001b[4;38;5;252mValeria Morales\u001b[0m\u001b[38;5;252m acts: \u001b[0m\u001b[1;38;5;252m[\u001b[0m\u001b[38;5;252mDONE\u001b[0m\u001b[1;38;5;252m]\u001b[0m\u001b[38;5;252m \u001b[0m\n",
       "\n"
      ]
     },
     "metadata": {},
     "output_type": "display_data"
    },
    {
     "data": {
      "text/html": [
       "<pre style=\"margin:0px;;white-space:pre;overflow-x:auto;line-height:normal;font-family:Menlo,'DejaVu Sans Mono',consolas,'Courier New',monospace\"><span style=\"color: #00d700; text-decoration-color: #00d700; font-weight: bold; text-decoration: underline\">Valeria Jimenez</span><span style=\"color: #00d700; text-decoration-color: #00d700; font-weight: bold\"> acts: [TALK] </span>\n",
       "<span style=\"color: #00d700; text-decoration-color: #00d700; font-weight: bold\">                     &gt; Yes, I like spicy food! I enjoy it because it adds a lot of flavor to dishes</span>\n",
       "<span style=\"color: #00d700; text-decoration-color: #00d700; font-weight: bold\">                     &gt; and makes meals more exciting. Plus, spicy food is a big part of my cultural</span>\n",
       "<span style=\"color: #00d700; text-decoration-color: #00d700; font-weight: bold\">                     &gt; background, especially in Mexican cuisine, which I love. It reminds me of</span>\n",
       "<span style=\"color: #00d700; text-decoration-color: #00d700; font-weight: bold\">                     &gt; home and family gatherings where we often have spicy dishes. So, I really</span>\n",
       "<span style=\"color: #00d700; text-decoration-color: #00d700; font-weight: bold\">                     &gt; appreciate the heat and the depth it brings to the food I eat.</span>\n",
       "</pre>\n"
      ],
      "text/plain": [
       "\u001b[1;4;38;5;40mValeria Jimenez\u001b[0m\u001b[1;38;5;40m acts: \u001b[0m\u001b[1;38;5;40m[\u001b[0m\u001b[1;38;5;40mTALK\u001b[0m\u001b[1;38;5;40m]\u001b[0m\u001b[1;38;5;40m \u001b[0m\n",
       "\u001b[1;38;5;40m                     > Yes, I like spicy food! I enjoy it because it adds a lot of flavor to dishes\u001b[0m\n",
       "\u001b[1;38;5;40m                     > and makes meals more exciting. Plus, spicy food is a big part of my cultural\u001b[0m\n",
       "\u001b[1;38;5;40m                     > background, especially in Mexican cuisine, which I love. It reminds me of\u001b[0m\n",
       "\u001b[1;38;5;40m                     > home and family gatherings where we often have spicy dishes. So, I really\u001b[0m\n",
       "\u001b[1;38;5;40m                     > appreciate the heat and the depth it brings to the food I eat.\u001b[0m\n"
      ]
     },
     "metadata": {},
     "output_type": "display_data"
    },
    {
     "data": {
      "text/html": [
       "<pre style=\"margin:0px;;white-space:pre;overflow-x:auto;line-height:normal;font-family:Menlo,'DejaVu Sans Mono',consolas,'Courier New',monospace\"><span style=\"color: #00d700; text-decoration-color: #00d700; font-weight: bold; text-decoration: underline\">Lucia Morales</span><span style=\"color: #00d700; text-decoration-color: #00d700; font-weight: bold\"> acts: [TALK] </span>\n",
       "<span style=\"color: #00d700; text-decoration-color: #00d700; font-weight: bold\">                   &gt; Hello, my name is Lucia Morales. I am </span><span style=\"color: #00d700; text-decoration-color: #00d700; font-weight: bold\">45</span><span style=\"color: #00d700; text-decoration-color: #00d700; font-weight: bold\"> years old and I live in a small</span>\n",
       "<span style=\"color: #00d700; text-decoration-color: #00d700; font-weight: bold\">                   &gt; village in Oaxaca, Mexico. I work as an agricultural worker, growing corn,</span>\n",
       "<span style=\"color: #00d700; text-decoration-color: #00d700; font-weight: bold\">                   &gt; beans, and vegetables on my small plot of land. I am passionate about</span>\n",
       "<span style=\"color: #00d700; text-decoration-color: #00d700; font-weight: bold\">                   &gt; sustainable farming and community support.   As for my interests, here are my</span>\n",
       "<span style=\"color: #00d700; text-decoration-color: #00d700; font-weight: bold\">                   &gt; top </span><span style=\"color: #00d700; text-decoration-color: #00d700; font-weight: bold\">10</span><span style=\"color: #00d700; text-decoration-color: #00d700; font-weight: bold\">: </span><span style=\"color: #00d700; text-decoration-color: #00d700; font-weight: bold\">1</span><span style=\"color: #00d700; text-decoration-color: #00d700; font-weight: bold\">. Sustainable agriculture </span><span style=\"color: #00d700; text-decoration-color: #00d700; font-weight: bold\">2</span><span style=\"color: #00d700; text-decoration-color: #00d700; font-weight: bold\">. Traditional cooking </span><span style=\"color: #00d700; text-decoration-color: #00d700; font-weight: bold\">3</span><span style=\"color: #00d700; text-decoration-color: #00d700; font-weight: bold\">. Community</span>\n",
       "<span style=\"color: #00d700; text-decoration-color: #00d700; font-weight: bold\">                   &gt; gatherings </span><span style=\"color: #00d700; text-decoration-color: #00d700; font-weight: bold\">4</span><span style=\"color: #00d700; text-decoration-color: #00d700; font-weight: bold\">. Crafting and sewing </span><span style=\"color: #00d700; text-decoration-color: #00d700; font-weight: bold\">5</span><span style=\"color: #00d700; text-decoration-color: #00d700; font-weight: bold\">. Listening to local music </span><span style=\"color: #00d700; text-decoration-color: #00d700; font-weight: bold\">6</span><span style=\"color: #00d700; text-decoration-color: #00d700; font-weight: bold\">. Storytelling</span>\n",
       "<span style=\"color: #00d700; text-decoration-color: #00d700; font-weight: bold\">                   &gt; </span><span style=\"color: #00d700; text-decoration-color: #00d700; font-weight: bold\">7</span><span style=\"color: #00d700; text-decoration-color: #00d700; font-weight: bold\">. Participating in cultural festivals </span><span style=\"color: #00d700; text-decoration-color: #00d700; font-weight: bold\">8</span><span style=\"color: #00d700; text-decoration-color: #00d700; font-weight: bold\">. Gardening </span><span style=\"color: #00d700; text-decoration-color: #00d700; font-weight: bold\">9</span><span style=\"color: #00d700; text-decoration-color: #00d700; font-weight: bold\">. Helping neighbors with</span>\n",
       "<span style=\"color: #00d700; text-decoration-color: #00d700; font-weight: bold\">                   &gt; their harvests </span><span style=\"color: #00d700; text-decoration-color: #00d700; font-weight: bold\">10</span><span style=\"color: #00d700; text-decoration-color: #00d700; font-weight: bold\">. Learning about indigenous practices.  Regarding food styles,</span>\n",
       "<span style=\"color: #00d700; text-decoration-color: #00d700; font-weight: bold\">                   &gt; I prefer fresh produce from the garden and traditional Mexican dishes,</span>\n",
       "<span style=\"color: #00d700; text-decoration-color: #00d700; font-weight: bold\">                   &gt; especially those made with corn and beans. I appreciate these foods because</span>\n",
       "<span style=\"color: #00d700; text-decoration-color: #00d700; font-weight: bold\">                   &gt; they are not only nutritious but also connect me to my roots and culture.</span>\n",
       "<span style=\"color: #00d700; text-decoration-color: #00d700; font-weight: bold\">                   &gt; Now, to answer your question about spicy food: Yes, I do like spicy food. I</span>\n",
       "<span style=\"color: #00d700; text-decoration-color: #00d700; font-weight: bold\">                   &gt; enjoy the flavors it brings to dishes and how it enhances the overall taste.</span>\n",
       "<span style=\"color: #00d700; text-decoration-color: #00d700; font-weight: bold\">                   &gt; Spicy food is a big part of our traditional m (...)</span>\n",
       "</pre>\n"
      ],
      "text/plain": [
       "\u001b[1;4;38;5;40mLucia Morales\u001b[0m\u001b[1;38;5;40m acts: \u001b[0m\u001b[1;38;5;40m[\u001b[0m\u001b[1;38;5;40mTALK\u001b[0m\u001b[1;38;5;40m]\u001b[0m\u001b[1;38;5;40m \u001b[0m\n",
       "\u001b[1;38;5;40m                   > Hello, my name is Lucia Morales. I am \u001b[0m\u001b[1;38;5;40m45\u001b[0m\u001b[1;38;5;40m years old and I live in a small\u001b[0m\n",
       "\u001b[1;38;5;40m                   > village in Oaxaca, Mexico. I work as an agricultural worker, growing corn,\u001b[0m\n",
       "\u001b[1;38;5;40m                   > beans, and vegetables on my small plot of land. I am passionate about\u001b[0m\n",
       "\u001b[1;38;5;40m                   > sustainable farming and community support.   As for my interests, here are my\u001b[0m\n",
       "\u001b[1;38;5;40m                   > top \u001b[0m\u001b[1;38;5;40m10\u001b[0m\u001b[1;38;5;40m: \u001b[0m\u001b[1;38;5;40m1\u001b[0m\u001b[1;38;5;40m. Sustainable agriculture \u001b[0m\u001b[1;38;5;40m2\u001b[0m\u001b[1;38;5;40m. Traditional cooking \u001b[0m\u001b[1;38;5;40m3\u001b[0m\u001b[1;38;5;40m. Community\u001b[0m\n",
       "\u001b[1;38;5;40m                   > gatherings \u001b[0m\u001b[1;38;5;40m4\u001b[0m\u001b[1;38;5;40m. Crafting and sewing \u001b[0m\u001b[1;38;5;40m5\u001b[0m\u001b[1;38;5;40m. Listening to local music \u001b[0m\u001b[1;38;5;40m6\u001b[0m\u001b[1;38;5;40m. Storytelling\u001b[0m\n",
       "\u001b[1;38;5;40m                   > \u001b[0m\u001b[1;38;5;40m7\u001b[0m\u001b[1;38;5;40m. Participating in cultural festivals \u001b[0m\u001b[1;38;5;40m8\u001b[0m\u001b[1;38;5;40m. Gardening \u001b[0m\u001b[1;38;5;40m9\u001b[0m\u001b[1;38;5;40m. Helping neighbors with\u001b[0m\n",
       "\u001b[1;38;5;40m                   > their harvests \u001b[0m\u001b[1;38;5;40m10\u001b[0m\u001b[1;38;5;40m. Learning about indigenous practices.  Regarding food styles,\u001b[0m\n",
       "\u001b[1;38;5;40m                   > I prefer fresh produce from the garden and traditional Mexican dishes,\u001b[0m\n",
       "\u001b[1;38;5;40m                   > especially those made with corn and beans. I appreciate these foods because\u001b[0m\n",
       "\u001b[1;38;5;40m                   > they are not only nutritious but also connect me to my roots and culture.\u001b[0m\n",
       "\u001b[1;38;5;40m                   > Now, to answer your question about spicy food: Yes, I do like spicy food. I\u001b[0m\n",
       "\u001b[1;38;5;40m                   > enjoy the flavors it brings to dishes and how it enhances the overall taste.\u001b[0m\n",
       "\u001b[1;38;5;40m                   > Spicy food is a big part of our traditional m \u001b[0m\u001b[1;38;5;40m(\u001b[0m\u001b[1;38;5;40m...\u001b[0m\u001b[1;38;5;40m)\u001b[0m\n"
      ]
     },
     "metadata": {},
     "output_type": "display_data"
    },
    {
     "data": {
      "text/html": [
       "<pre style=\"margin:0px;;white-space:pre;overflow-x:auto;line-height:normal;font-family:Menlo,'DejaVu Sans Mono',consolas,'Courier New',monospace\"><span style=\"color: #00d700; text-decoration-color: #00d700; font-weight: bold; text-decoration: underline\">Isabel Gonzalez</span><span style=\"color: #00d700; text-decoration-color: #00d700; font-weight: bold\"> acts: [TALK] </span>\n",
       "<span style=\"color: #00d700; text-decoration-color: #00d700; font-weight: bold\">                     &gt; Hello, my name is Isabel Gonzalez. I am a farmer from a small village in</span>\n",
       "<span style=\"color: #00d700; text-decoration-color: #00d700; font-weight: bold\">                     &gt; Oaxaca, Mexico. I grow corn and beans on my land and sell them at the local</span>\n",
       "<span style=\"color: #00d700; text-decoration-color: #00d700; font-weight: bold\">                     &gt; market. My work is physically demanding, but I take pride in what I do.   As</span>\n",
       "<span style=\"color: #00d700; text-decoration-color: #00d700; font-weight: bold\">                     &gt; for my interests, here are my top-</span><span style=\"color: #00d700; text-decoration-color: #00d700; font-weight: bold\">10</span><span style=\"color: #00d700; text-decoration-color: #00d700; font-weight: bold\">: </span><span style=\"color: #00d700; text-decoration-color: #00d700; font-weight: bold\">1</span><span style=\"color: #00d700; text-decoration-color: #00d700; font-weight: bold\">. Gardening and agriculture </span><span style=\"color: #00d700; text-decoration-color: #00d700; font-weight: bold\">2</span><span style=\"color: #00d700; text-decoration-color: #00d700; font-weight: bold\">. Cooking</span>\n",
       "<span style=\"color: #00d700; text-decoration-color: #00d700; font-weight: bold\">                     &gt; traditional Mexican dishes </span><span style=\"color: #00d700; text-decoration-color: #00d700; font-weight: bold\">3</span><span style=\"color: #00d700; text-decoration-color: #00d700; font-weight: bold\">. Spending time with family </span><span style=\"color: #00d700; text-decoration-color: #00d700; font-weight: bold\">4</span><span style=\"color: #00d700; text-decoration-color: #00d700; font-weight: bold\">. Listening to local</span>\n",
       "<span style=\"color: #00d700; text-decoration-color: #00d700; font-weight: bold\">                     &gt; music </span><span style=\"color: #00d700; text-decoration-color: #00d700; font-weight: bold\">5</span><span style=\"color: #00d700; text-decoration-color: #00d700; font-weight: bold\">. Participating in community events </span><span style=\"color: #00d700; text-decoration-color: #00d700; font-weight: bold\">6</span><span style=\"color: #00d700; text-decoration-color: #00d700; font-weight: bold\">. Learning about sustainable</span>\n",
       "<span style=\"color: #00d700; text-decoration-color: #00d700; font-weight: bold\">                     &gt; farming practices </span><span style=\"color: #00d700; text-decoration-color: #00d700; font-weight: bold\">7</span><span style=\"color: #00d700; text-decoration-color: #00d700; font-weight: bold\">. Sharing meals with neighbors </span><span style=\"color: #00d700; text-decoration-color: #00d700; font-weight: bold\">8</span><span style=\"color: #00d700; text-decoration-color: #00d700; font-weight: bold\">. Teaching my</span>\n",
       "<span style=\"color: #00d700; text-decoration-color: #00d700; font-weight: bold\">                     &gt; grandchildren about farming </span><span style=\"color: #00d700; text-decoration-color: #00d700; font-weight: bold\">9</span><span style=\"color: #00d700; text-decoration-color: #00d700; font-weight: bold\">. Enjoying quiet evenings watching the sunset</span>\n",
       "<span style=\"color: #00d700; text-decoration-color: #00d700; font-weight: bold\">                     &gt; </span><span style=\"color: #00d700; text-decoration-color: #00d700; font-weight: bold\">10</span><span style=\"color: #00d700; text-decoration-color: #00d700; font-weight: bold\">. Reminiscing about my childhood and traditions.  Regarding food styles, I</span>\n",
       "<span style=\"color: #00d700; text-decoration-color: #00d700; font-weight: bold\">                     &gt; love traditional Mexican cuisine because it is rich in flavors and often made</span>\n",
       "<span style=\"color: #00d700; text-decoration-color: #00d700; font-weight: bold\">                     &gt; with fresh, homegrown ingredients. I appreciate meals that bring family</span>\n",
       "<span style=\"color: #00d700; text-decoration-color: #00d700; font-weight: bold\">                     &gt; together and reflect our culture.   Now, about spicy food: Yes, I do like</span>\n",
       "<span style=\"color: #00d700; text-decoration-color: #00d700; font-weight: bold\">                     &gt; spicy food. It adds flavor and excitement to meals, and I enjoy the warmth it</span>\n",
       "<span style=\"color: #00d700; text-decoration-color: #00d700; font-weight: bold\">                     &gt; brings. Spicy dishes are often part of our traditi (...)</span>\n",
       "</pre>\n"
      ],
      "text/plain": [
       "\u001b[1;4;38;5;40mIsabel Gonzalez\u001b[0m\u001b[1;38;5;40m acts: \u001b[0m\u001b[1;38;5;40m[\u001b[0m\u001b[1;38;5;40mTALK\u001b[0m\u001b[1;38;5;40m]\u001b[0m\u001b[1;38;5;40m \u001b[0m\n",
       "\u001b[1;38;5;40m                     > Hello, my name is Isabel Gonzalez. I am a farmer from a small village in\u001b[0m\n",
       "\u001b[1;38;5;40m                     > Oaxaca, Mexico. I grow corn and beans on my land and sell them at the local\u001b[0m\n",
       "\u001b[1;38;5;40m                     > market. My work is physically demanding, but I take pride in what I do.   As\u001b[0m\n",
       "\u001b[1;38;5;40m                     > for my interests, here are my top-\u001b[0m\u001b[1;38;5;40m10\u001b[0m\u001b[1;38;5;40m: \u001b[0m\u001b[1;38;5;40m1\u001b[0m\u001b[1;38;5;40m. Gardening and agriculture \u001b[0m\u001b[1;38;5;40m2\u001b[0m\u001b[1;38;5;40m. Cooking\u001b[0m\n",
       "\u001b[1;38;5;40m                     > traditional Mexican dishes \u001b[0m\u001b[1;38;5;40m3\u001b[0m\u001b[1;38;5;40m. Spending time with family \u001b[0m\u001b[1;38;5;40m4\u001b[0m\u001b[1;38;5;40m. Listening to local\u001b[0m\n",
       "\u001b[1;38;5;40m                     > music \u001b[0m\u001b[1;38;5;40m5\u001b[0m\u001b[1;38;5;40m. Participating in community events \u001b[0m\u001b[1;38;5;40m6\u001b[0m\u001b[1;38;5;40m. Learning about sustainable\u001b[0m\n",
       "\u001b[1;38;5;40m                     > farming practices \u001b[0m\u001b[1;38;5;40m7\u001b[0m\u001b[1;38;5;40m. Sharing meals with neighbors \u001b[0m\u001b[1;38;5;40m8\u001b[0m\u001b[1;38;5;40m. Teaching my\u001b[0m\n",
       "\u001b[1;38;5;40m                     > grandchildren about farming \u001b[0m\u001b[1;38;5;40m9\u001b[0m\u001b[1;38;5;40m. Enjoying quiet evenings watching the sunset\u001b[0m\n",
       "\u001b[1;38;5;40m                     > \u001b[0m\u001b[1;38;5;40m10\u001b[0m\u001b[1;38;5;40m. Reminiscing about my childhood and traditions.  Regarding food styles, I\u001b[0m\n",
       "\u001b[1;38;5;40m                     > love traditional Mexican cuisine because it is rich in flavors and often made\u001b[0m\n",
       "\u001b[1;38;5;40m                     > with fresh, homegrown ingredients. I appreciate meals that bring family\u001b[0m\n",
       "\u001b[1;38;5;40m                     > together and reflect our culture.   Now, about spicy food: Yes, I do like\u001b[0m\n",
       "\u001b[1;38;5;40m                     > spicy food. It adds flavor and excitement to meals, and I enjoy the warmth it\u001b[0m\n",
       "\u001b[1;38;5;40m                     > brings. Spicy dishes are often part of our traditi \u001b[0m\u001b[1;38;5;40m(\u001b[0m\u001b[1;38;5;40m...\u001b[0m\u001b[1;38;5;40m)\u001b[0m\n"
      ]
     },
     "metadata": {},
     "output_type": "display_data"
    },
    {
     "data": {
      "text/html": [
       "<pre style=\"margin:0px;;white-space:pre;overflow-x:auto;line-height:normal;font-family:Menlo,'DejaVu Sans Mono',consolas,'Courier New',monospace\"><span style=\"color: #d0d0d0; text-decoration-color: #d0d0d0; text-decoration: underline\">Valeria Jimenez</span><span style=\"color: #d0d0d0; text-decoration-color: #d0d0d0\"> acts: </span><span style=\"color: #d0d0d0; text-decoration-color: #d0d0d0; font-weight: bold\">[</span><span style=\"color: #d0d0d0; text-decoration-color: #d0d0d0\">DONE</span><span style=\"color: #d0d0d0; text-decoration-color: #d0d0d0; font-weight: bold\">]</span><span style=\"color: #d0d0d0; text-decoration-color: #d0d0d0\"> </span>\n",
       "\n",
       "</pre>\n"
      ],
      "text/plain": [
       "\u001b[4;38;5;252mValeria Jimenez\u001b[0m\u001b[38;5;252m acts: \u001b[0m\u001b[1;38;5;252m[\u001b[0m\u001b[38;5;252mDONE\u001b[0m\u001b[1;38;5;252m]\u001b[0m\u001b[38;5;252m \u001b[0m\n",
       "\n"
      ]
     },
     "metadata": {},
     "output_type": "display_data"
    },
    {
     "data": {
      "text/html": [
       "<pre style=\"margin:0px;;white-space:pre;overflow-x:auto;line-height:normal;font-family:Menlo,'DejaVu Sans Mono',consolas,'Courier New',monospace\"><span style=\"color: #00d700; text-decoration-color: #00d700; font-weight: bold; text-decoration: underline\">Lucia Morales</span><span style=\"color: #00d700; text-decoration-color: #00d700; font-weight: bold\"> acts: [TALK] </span>\n",
       "<span style=\"color: #00d700; text-decoration-color: #00d700; font-weight: bold\">                   &gt; Yes, I like spicy food. I enjoy the flavors it brings to dishes and how it</span>\n",
       "<span style=\"color: #00d700; text-decoration-color: #00d700; font-weight: bold\">                   &gt; enhances the overall taste. Spicy food is a big part of our traditional meals,</span>\n",
       "<span style=\"color: #00d700; text-decoration-color: #00d700; font-weight: bold\">                   &gt; and it reminds me of family gatherings and celebrations.</span>\n",
       "</pre>\n"
      ],
      "text/plain": [
       "\u001b[1;4;38;5;40mLucia Morales\u001b[0m\u001b[1;38;5;40m acts: \u001b[0m\u001b[1;38;5;40m[\u001b[0m\u001b[1;38;5;40mTALK\u001b[0m\u001b[1;38;5;40m]\u001b[0m\u001b[1;38;5;40m \u001b[0m\n",
       "\u001b[1;38;5;40m                   > Yes, I like spicy food. I enjoy the flavors it brings to dishes and how it\u001b[0m\n",
       "\u001b[1;38;5;40m                   > enhances the overall taste. Spicy food is a big part of our traditional meals,\u001b[0m\n",
       "\u001b[1;38;5;40m                   > and it reminds me of family gatherings and celebrations.\u001b[0m\n"
      ]
     },
     "metadata": {},
     "output_type": "display_data"
    },
    {
     "data": {
      "text/html": [
       "<pre style=\"margin:0px;;white-space:pre;overflow-x:auto;line-height:normal;font-family:Menlo,'DejaVu Sans Mono',consolas,'Courier New',monospace\"><span style=\"color: #00d700; text-decoration-color: #00d700; font-weight: bold; text-decoration: underline\">Santiago Rojas</span><span style=\"color: #00d700; text-decoration-color: #00d700; font-weight: bold\"> acts: [TALK] </span>\n",
       "<span style=\"color: #00d700; text-decoration-color: #00d700; font-weight: bold\">                    &gt; Yes, I like spicy food. I enjoy the flavors and the warmth it brings to</span>\n",
       "<span style=\"color: #00d700; text-decoration-color: #00d700; font-weight: bold\">                    &gt; dishes. It adds a special touch to traditional meals, making them more</span>\n",
       "<span style=\"color: #00d700; text-decoration-color: #00d700; font-weight: bold\">                    &gt; exciting and enjoyable. Spicy food also reminds me of family gatherings where</span>\n",
       "<span style=\"color: #00d700; text-decoration-color: #00d700; font-weight: bold\">                    &gt; we share meals and stories, creating a sense of community and connection.</span>\n",
       "</pre>\n"
      ],
      "text/plain": [
       "\u001b[1;4;38;5;40mSantiago Rojas\u001b[0m\u001b[1;38;5;40m acts: \u001b[0m\u001b[1;38;5;40m[\u001b[0m\u001b[1;38;5;40mTALK\u001b[0m\u001b[1;38;5;40m]\u001b[0m\u001b[1;38;5;40m \u001b[0m\n",
       "\u001b[1;38;5;40m                    > Yes, I like spicy food. I enjoy the flavors and the warmth it brings to\u001b[0m\n",
       "\u001b[1;38;5;40m                    > dishes. It adds a special touch to traditional meals, making them more\u001b[0m\n",
       "\u001b[1;38;5;40m                    > exciting and enjoyable. Spicy food also reminds me of family gatherings where\u001b[0m\n",
       "\u001b[1;38;5;40m                    > we share meals and stories, creating a sense of community and connection.\u001b[0m\n"
      ]
     },
     "metadata": {},
     "output_type": "display_data"
    },
    {
     "data": {
      "text/html": [
       "<pre style=\"margin:0px;;white-space:pre;overflow-x:auto;line-height:normal;font-family:Menlo,'DejaVu Sans Mono',consolas,'Courier New',monospace\"><span style=\"color: #00d700; text-decoration-color: #00d700; font-weight: bold; text-decoration: underline\">Isabel Gonzalez</span><span style=\"color: #00d700; text-decoration-color: #00d700; font-weight: bold\"> acts: [TALK] </span>\n",
       "<span style=\"color: #00d700; text-decoration-color: #00d700; font-weight: bold\">                     &gt; Yes, I like spicy food. It adds a lot of flavor to the dishes I enjoy, and it</span>\n",
       "<span style=\"color: #00d700; text-decoration-color: #00d700; font-weight: bold\">                     &gt; reminds me of the traditional meals I grew up with. Spicy food is often a</span>\n",
       "<span style=\"color: #00d700; text-decoration-color: #00d700; font-weight: bold\">                     &gt; part of our family gatherings, and it brings warmth and excitement to our</span>\n",
       "<span style=\"color: #00d700; text-decoration-color: #00d700; font-weight: bold\">                     &gt; meals. I appreciate how it enhances the taste of the ingredients we use,</span>\n",
       "<span style=\"color: #00d700; text-decoration-color: #00d700; font-weight: bold\">                     &gt; especially in traditional Mexican cuisine.</span>\n",
       "</pre>\n"
      ],
      "text/plain": [
       "\u001b[1;4;38;5;40mIsabel Gonzalez\u001b[0m\u001b[1;38;5;40m acts: \u001b[0m\u001b[1;38;5;40m[\u001b[0m\u001b[1;38;5;40mTALK\u001b[0m\u001b[1;38;5;40m]\u001b[0m\u001b[1;38;5;40m \u001b[0m\n",
       "\u001b[1;38;5;40m                     > Yes, I like spicy food. It adds a lot of flavor to the dishes I enjoy, and it\u001b[0m\n",
       "\u001b[1;38;5;40m                     > reminds me of the traditional meals I grew up with. Spicy food is often a\u001b[0m\n",
       "\u001b[1;38;5;40m                     > part of our family gatherings, and it brings warmth and excitement to our\u001b[0m\n",
       "\u001b[1;38;5;40m                     > meals. I appreciate how it enhances the taste of the ingredients we use,\u001b[0m\n",
       "\u001b[1;38;5;40m                     > especially in traditional Mexican cuisine.\u001b[0m\n"
      ]
     },
     "metadata": {},
     "output_type": "display_data"
    },
    {
     "data": {
      "text/html": [
       "<pre style=\"margin:0px;;white-space:pre;overflow-x:auto;line-height:normal;font-family:Menlo,'DejaVu Sans Mono',consolas,'Courier New',monospace\"><span style=\"color: #d0d0d0; text-decoration-color: #d0d0d0; text-decoration: underline\">Santiago Rojas</span><span style=\"color: #d0d0d0; text-decoration-color: #d0d0d0\"> acts: </span><span style=\"color: #d0d0d0; text-decoration-color: #d0d0d0; font-weight: bold\">[</span><span style=\"color: #d0d0d0; text-decoration-color: #d0d0d0\">DONE</span><span style=\"color: #d0d0d0; text-decoration-color: #d0d0d0; font-weight: bold\">]</span><span style=\"color: #d0d0d0; text-decoration-color: #d0d0d0\"> </span>\n",
       "\n",
       "</pre>\n"
      ],
      "text/plain": [
       "\u001b[4;38;5;252mSantiago Rojas\u001b[0m\u001b[38;5;252m acts: \u001b[0m\u001b[1;38;5;252m[\u001b[0m\u001b[38;5;252mDONE\u001b[0m\u001b[1;38;5;252m]\u001b[0m\u001b[38;5;252m \u001b[0m\n",
       "\n"
      ]
     },
     "metadata": {},
     "output_type": "display_data"
    },
    {
     "data": {
      "text/html": [
       "<pre style=\"margin:0px;;white-space:pre;overflow-x:auto;line-height:normal;font-family:Menlo,'DejaVu Sans Mono',consolas,'Courier New',monospace\"><span style=\"color: #00d700; text-decoration-color: #00d700; font-weight: bold; text-decoration: underline\">Lucia Morales</span><span style=\"color: #00d700; text-decoration-color: #00d700; font-weight: bold\"> acts: [TALK] </span>\n",
       "<span style=\"color: #00d700; text-decoration-color: #00d700; font-weight: bold\">                   &gt; Hello, my name is Lucia Morales. I am </span><span style=\"color: #00d700; text-decoration-color: #00d700; font-weight: bold\">45</span><span style=\"color: #00d700; text-decoration-color: #00d700; font-weight: bold\"> years old and I live in a small</span>\n",
       "<span style=\"color: #00d700; text-decoration-color: #00d700; font-weight: bold\">                   &gt; village in Oaxaca, Mexico. I work as an agricultural worker, growing corn,</span>\n",
       "<span style=\"color: #00d700; text-decoration-color: #00d700; font-weight: bold\">                   &gt; beans, and vegetables on my small plot of land. I am passionate about</span>\n",
       "<span style=\"color: #00d700; text-decoration-color: #00d700; font-weight: bold\">                   &gt; sustainable farming and community support.   As for my interests, here are my</span>\n",
       "<span style=\"color: #00d700; text-decoration-color: #00d700; font-weight: bold\">                   &gt; top </span><span style=\"color: #00d700; text-decoration-color: #00d700; font-weight: bold\">10</span><span style=\"color: #00d700; text-decoration-color: #00d700; font-weight: bold\">: </span><span style=\"color: #00d700; text-decoration-color: #00d700; font-weight: bold\">1</span><span style=\"color: #00d700; text-decoration-color: #00d700; font-weight: bold\">. Sustainable agriculture </span><span style=\"color: #00d700; text-decoration-color: #00d700; font-weight: bold\">2</span><span style=\"color: #00d700; text-decoration-color: #00d700; font-weight: bold\">. Traditional cooking </span><span style=\"color: #00d700; text-decoration-color: #00d700; font-weight: bold\">3</span><span style=\"color: #00d700; text-decoration-color: #00d700; font-weight: bold\">. Community</span>\n",
       "<span style=\"color: #00d700; text-decoration-color: #00d700; font-weight: bold\">                   &gt; gatherings </span><span style=\"color: #00d700; text-decoration-color: #00d700; font-weight: bold\">4</span><span style=\"color: #00d700; text-decoration-color: #00d700; font-weight: bold\">. Crafting and sewing </span><span style=\"color: #00d700; text-decoration-color: #00d700; font-weight: bold\">5</span><span style=\"color: #00d700; text-decoration-color: #00d700; font-weight: bold\">. Listening to local music </span><span style=\"color: #00d700; text-decoration-color: #00d700; font-weight: bold\">6</span><span style=\"color: #00d700; text-decoration-color: #00d700; font-weight: bold\">. Storytelling</span>\n",
       "<span style=\"color: #00d700; text-decoration-color: #00d700; font-weight: bold\">                   &gt; </span><span style=\"color: #00d700; text-decoration-color: #00d700; font-weight: bold\">7</span><span style=\"color: #00d700; text-decoration-color: #00d700; font-weight: bold\">. Participating in cultural festivals </span><span style=\"color: #00d700; text-decoration-color: #00d700; font-weight: bold\">8</span><span style=\"color: #00d700; text-decoration-color: #00d700; font-weight: bold\">. Gardening </span><span style=\"color: #00d700; text-decoration-color: #00d700; font-weight: bold\">9</span><span style=\"color: #00d700; text-decoration-color: #00d700; font-weight: bold\">. Helping neighbors with</span>\n",
       "<span style=\"color: #00d700; text-decoration-color: #00d700; font-weight: bold\">                   &gt; their harvests </span><span style=\"color: #00d700; text-decoration-color: #00d700; font-weight: bold\">10</span><span style=\"color: #00d700; text-decoration-color: #00d700; font-weight: bold\">. Learning about indigenous practices.  Regarding food styles,</span>\n",
       "<span style=\"color: #00d700; text-decoration-color: #00d700; font-weight: bold\">                   &gt; I prefer fresh produce from the garden and traditional Mexican dishes,</span>\n",
       "<span style=\"color: #00d700; text-decoration-color: #00d700; font-weight: bold\">                   &gt; especially those made with corn and beans. I appreciate these foods because</span>\n",
       "<span style=\"color: #00d700; text-decoration-color: #00d700; font-weight: bold\">                   &gt; they are not only nutritious but also connect me to my roots and culture.</span>\n",
       "<span style=\"color: #00d700; text-decoration-color: #00d700; font-weight: bold\">                   &gt; Now, to answer your question about spicy food: Yes, I do like spicy food. I</span>\n",
       "<span style=\"color: #00d700; text-decoration-color: #00d700; font-weight: bold\">                   &gt; enjoy the flavors it brings to dishes and how it enhances the overall taste.</span>\n",
       "<span style=\"color: #00d700; text-decoration-color: #00d700; font-weight: bold\">                   &gt; Spicy food is a big part of our traditional m (...)</span>\n",
       "</pre>\n"
      ],
      "text/plain": [
       "\u001b[1;4;38;5;40mLucia Morales\u001b[0m\u001b[1;38;5;40m acts: \u001b[0m\u001b[1;38;5;40m[\u001b[0m\u001b[1;38;5;40mTALK\u001b[0m\u001b[1;38;5;40m]\u001b[0m\u001b[1;38;5;40m \u001b[0m\n",
       "\u001b[1;38;5;40m                   > Hello, my name is Lucia Morales. I am \u001b[0m\u001b[1;38;5;40m45\u001b[0m\u001b[1;38;5;40m years old and I live in a small\u001b[0m\n",
       "\u001b[1;38;5;40m                   > village in Oaxaca, Mexico. I work as an agricultural worker, growing corn,\u001b[0m\n",
       "\u001b[1;38;5;40m                   > beans, and vegetables on my small plot of land. I am passionate about\u001b[0m\n",
       "\u001b[1;38;5;40m                   > sustainable farming and community support.   As for my interests, here are my\u001b[0m\n",
       "\u001b[1;38;5;40m                   > top \u001b[0m\u001b[1;38;5;40m10\u001b[0m\u001b[1;38;5;40m: \u001b[0m\u001b[1;38;5;40m1\u001b[0m\u001b[1;38;5;40m. Sustainable agriculture \u001b[0m\u001b[1;38;5;40m2\u001b[0m\u001b[1;38;5;40m. Traditional cooking \u001b[0m\u001b[1;38;5;40m3\u001b[0m\u001b[1;38;5;40m. Community\u001b[0m\n",
       "\u001b[1;38;5;40m                   > gatherings \u001b[0m\u001b[1;38;5;40m4\u001b[0m\u001b[1;38;5;40m. Crafting and sewing \u001b[0m\u001b[1;38;5;40m5\u001b[0m\u001b[1;38;5;40m. Listening to local music \u001b[0m\u001b[1;38;5;40m6\u001b[0m\u001b[1;38;5;40m. Storytelling\u001b[0m\n",
       "\u001b[1;38;5;40m                   > \u001b[0m\u001b[1;38;5;40m7\u001b[0m\u001b[1;38;5;40m. Participating in cultural festivals \u001b[0m\u001b[1;38;5;40m8\u001b[0m\u001b[1;38;5;40m. Gardening \u001b[0m\u001b[1;38;5;40m9\u001b[0m\u001b[1;38;5;40m. Helping neighbors with\u001b[0m\n",
       "\u001b[1;38;5;40m                   > their harvests \u001b[0m\u001b[1;38;5;40m10\u001b[0m\u001b[1;38;5;40m. Learning about indigenous practices.  Regarding food styles,\u001b[0m\n",
       "\u001b[1;38;5;40m                   > I prefer fresh produce from the garden and traditional Mexican dishes,\u001b[0m\n",
       "\u001b[1;38;5;40m                   > especially those made with corn and beans. I appreciate these foods because\u001b[0m\n",
       "\u001b[1;38;5;40m                   > they are not only nutritious but also connect me to my roots and culture.\u001b[0m\n",
       "\u001b[1;38;5;40m                   > Now, to answer your question about spicy food: Yes, I do like spicy food. I\u001b[0m\n",
       "\u001b[1;38;5;40m                   > enjoy the flavors it brings to dishes and how it enhances the overall taste.\u001b[0m\n",
       "\u001b[1;38;5;40m                   > Spicy food is a big part of our traditional m \u001b[0m\u001b[1;38;5;40m(\u001b[0m\u001b[1;38;5;40m...\u001b[0m\u001b[1;38;5;40m)\u001b[0m\n"
      ]
     },
     "metadata": {},
     "output_type": "display_data"
    },
    {
     "name": "stderr",
     "output_type": "stream",
     "text": [
      "2025-03-24 21:14:45,470 - tinytroupe - WARNING - [Isabel Gonzalez] Action similarity is too high (1), replacing it with DONE.\n"
     ]
    },
    {
     "data": {
      "text/html": [
       "<pre style=\"margin:0px;;white-space:pre;overflow-x:auto;line-height:normal;font-family:Menlo,'DejaVu Sans Mono',consolas,'Courier New',monospace\"><span style=\"color: #d0d0d0; text-decoration-color: #d0d0d0; text-decoration: underline\">Isabel Gonzalez</span><span style=\"color: #d0d0d0; text-decoration-color: #d0d0d0\"> acts: </span><span style=\"color: #d0d0d0; text-decoration-color: #d0d0d0; font-weight: bold\">[</span><span style=\"color: #d0d0d0; text-decoration-color: #d0d0d0\">DONE</span><span style=\"color: #d0d0d0; text-decoration-color: #d0d0d0; font-weight: bold\">]</span><span style=\"color: #d0d0d0; text-decoration-color: #d0d0d0\"> </span>\n",
       "\n",
       "</pre>\n"
      ],
      "text/plain": [
       "\u001b[4;38;5;252mIsabel Gonzalez\u001b[0m\u001b[38;5;252m acts: \u001b[0m\u001b[1;38;5;252m[\u001b[0m\u001b[38;5;252mDONE\u001b[0m\u001b[1;38;5;252m]\u001b[0m\u001b[38;5;252m \u001b[0m\n",
       "\n"
      ]
     },
     "metadata": {},
     "output_type": "display_data"
    },
    {
     "data": {
      "text/html": [
       "<pre style=\"margin:0px;;white-space:pre;overflow-x:auto;line-height:normal;font-family:Menlo,'DejaVu Sans Mono',consolas,'Courier New',monospace\"><span style=\"color: #d0d0d0; text-decoration-color: #d0d0d0; text-decoration: underline\">Lucia Morales</span><span style=\"color: #d0d0d0; text-decoration-color: #d0d0d0\"> acts: </span><span style=\"color: #d0d0d0; text-decoration-color: #d0d0d0; font-weight: bold\">[</span><span style=\"color: #d0d0d0; text-decoration-color: #d0d0d0\">DONE</span><span style=\"color: #d0d0d0; text-decoration-color: #d0d0d0; font-weight: bold\">]</span><span style=\"color: #d0d0d0; text-decoration-color: #d0d0d0\"> </span>\n",
       "\n",
       "</pre>\n"
      ],
      "text/plain": [
       "\u001b[4;38;5;252mLucia Morales\u001b[0m\u001b[38;5;252m acts: \u001b[0m\u001b[1;38;5;252m[\u001b[0m\u001b[38;5;252mDONE\u001b[0m\u001b[1;38;5;252m]\u001b[0m\u001b[38;5;252m \u001b[0m\n",
       "\n"
      ]
     },
     "metadata": {},
     "output_type": "display_data"
    }
   ],
   "source": [
    "mexico_market.run(1)"
   ]
  },
  {
   "cell_type": "markdown",
   "metadata": {},
   "source": [
    "## Extract results and analyze"
   ]
  },
  {
   "cell_type": "markdown",
   "metadata": {},
   "source": [
    "Now we can actually extract the results."
   ]
  },
  {
   "cell_type": "code",
   "execution_count": 11,
   "metadata": {},
   "outputs": [
    {
     "name": "stdout",
     "output_type": "stream",
     "text": [
      "################# Analyzing results for Norway... #################\n",
      "Extraction raw result message: {'content': '{\"response\":\"Yes\",\"justification\":\"I enjoy it because it adds a lot of flavor and excitement to meals. Spicy dishes often have a variety of ingredients and can be very satisfying. I also appreciate how spices can have health benefits, like boosting metabolism and enhancing the overall taste of the food.\"}', 'refusal': None, 'role': 'assistant', 'annotations': []}\n",
      "Extraction raw result message: {'content': '{\"response\":\"Yes\",\"justification\":\"I find that it adds a lot of flavor and excitement to meals. Spicy dishes often have a depth of flavor that I really enjoy, and they can be quite comforting in a way.\"}', 'refusal': None, 'role': 'assistant', 'annotations': []}\n",
      "Extraction raw result message: {'content': '{\"response\":\"Yes\",\"justification\":\"I enjoy the heat and complexity it adds to dishes. Spicy food often brings out different flavors and can make a meal more exciting.\"}', 'refusal': None, 'role': 'assistant', 'annotations': []}\n",
      "Extraction raw result message: {'content': '{\"response\":\"Yes\",\"justification\":\"I do like spicy food! I enjoy it because it adds a lot of flavor and excitement to meals.\"}', 'refusal': None, 'role': 'assistant', 'annotations': []}\n",
      "Extraction raw result message: {'content': '{\"response\":\"No\",\"justification\":\"I tend to prefer milder flavors because I find spicy food overwhelming and it can sometimes upset my stomach.\"}', 'refusal': None, 'role': 'assistant', 'annotations': []}\n",
      "Extraction raw result message: {'content': '{\"response\":\"No\",\"justification\":\"I prefer milder flavors as they are more comforting to me, and I find that I enjoy the subtleties of taste rather than intense heat.\"}', 'refusal': None, 'role': 'assistant', 'annotations': []}\n",
      "Extraction raw result message: {'content': '{\"response\":\"Maybe\",\"justification\":\"Freja initially stated \\'No\\' to liking spicy food but later contradicted that by saying \\'Yes\\' and explaining her enjoyment of it, indicating uncertainty.\"}', 'refusal': None, 'role': 'assistant', 'annotations': []}\n",
      "Extraction raw result message: {'content': '{\"response\":\"Yes\",\"justification\":\"I do like spicy food! I find that it adds an exciting kick to dishes and enhances the overall flavor. It also reminds me of the diverse culinary experiences I\\'ve had while exploring different cultures.\"}', 'refusal': None, 'role': 'assistant', 'annotations': []}\n",
      "Extraction raw result message: {'content': '{\"response\":\"Maybe\",\"justification\":\"I enjoy the kick it adds to dishes and how it can enhance the overall flavor. It makes meals more exciting and can be a fun way to explore different cuisines. However, I also appreciate a balance, so I don\\'t like it to be overwhelmingly spicy.\"}', 'refusal': None, 'role': 'assistant', 'annotations': []}\n",
      "Extraction raw result message: {'content': '{\"response\":\"Yes\",\"justification\":\"I find that it adds a lot of flavor and excitement to meals. It can also be quite comforting, especially when shared with friends or family during gatherings.\"}', 'refusal': None, 'role': 'assistant', 'annotations': []}\n",
      "Extraction raw result message: {'content': '{\"response\":\"Yes\",\"justification\":\"I do like spicy food! I enjoy it because it adds a lot of flavor and excitement to meals.\"}', 'refusal': None, 'role': 'assistant', 'annotations': []}\n",
      "Extraction raw result message: {'content': '{\"response\":\"Yes\",\"justification\":\"I do like spicy food! I find that it adds an exciting flavor to dishes and can enhance the overall dining experience.\"}', 'refusal': None, 'role': 'assistant', 'annotations': []}\n",
      "Extraction raw result message: {'content': '{\"response\":\"Yes\",\"justification\":\"I do like spicy food! I find that it adds an exciting flavor to dishes and can enhance the overall dining experience.\"}', 'refusal': None, 'role': 'assistant', 'annotations': []}\n",
      "Extraction raw result message: {'content': '{\"response\":\"Yes\",\"justification\":\"I do like spicy food. I find that it adds an exciting flavor to dishes and can enhance the overall dining experience.\"}', 'refusal': None, 'role': 'assistant', 'annotations': []}\n",
      "Extraction raw result message: {'content': '{\"response\":\"No\",\"justification\":\"I don\\'t particularly like spicy food. I find it overwhelming and it often masks the flavors of the dish.\"}', 'refusal': None, 'role': 'assistant', 'annotations': []}\n",
      "Extraction raw result message: {'content': '{\"response\":\"Yes\",\"justification\":\"I appreciate the flavor and complexity it adds to dishes. It can enhance the overall dining experience and make meals more exciting.\"}', 'refusal': None, 'role': 'assistant', 'annotations': []}\n",
      "Extraction raw result message: {'content': '{\"response\":\"Yes\",\"justification\":\"I do like spicy food. I enjoy it because it adds a lot of flavor and excitement to meals. Spicy dishes can be very satisfying and often have interesting combinations of flavors that I appreciate.\"}', 'refusal': None, 'role': 'assistant', 'annotations': []}\n",
      "Extraction raw result message: {'content': '{\"response\":\"Yes\",\"justification\":\"I enjoy the kick it adds to dishes and how it can enhance the overall flavor. Spicy food often brings a sense of excitement to meals, and I appreciate the variety of flavors that come with it.\"}', 'refusal': None, 'role': 'assistant', 'annotations': []}\n",
      "Extraction raw result message: {'content': '{\"response\":\"Yes\",\"justification\":\"I find that it adds an exciting kick to meals and can enhance the overall flavor experience. Plus, it often reminds me of the vibrant cultures and cuisines I\\'ve encountered in my life.\"}', 'refusal': None, 'role': 'assistant', 'annotations': []}\n",
      "Extraction raw result message: {'content': '{\"response\":\"Yes\",\"justification\":\"I do enjoy spicy food! I find that it adds an exciting flavor to meals and can enhance the overall dining experience.\"}', 'refusal': None, 'role': 'assistant', 'annotations': []}\n",
      "   response                                      justification\n",
      "0       Yes  I enjoy it because it adds a lot of flavor and...\n",
      "1       Yes  I find that it adds a lot of flavor and excite...\n",
      "2       Yes  I enjoy the heat and complexity it adds to dis...\n",
      "3       Yes  I do like spicy food! I enjoy it because it ad...\n",
      "4        No  I tend to prefer milder flavors because I find...\n",
      "5        No  I prefer milder flavors as they are more comfo...\n",
      "6     Maybe  Freja initially stated 'No' to liking spicy fo...\n",
      "7       Yes  I do like spicy food! I find that it adds an e...\n",
      "8     Maybe  I enjoy the kick it adds to dishes and how it ...\n",
      "9       Yes  I find that it adds a lot of flavor and excite...\n",
      "10      Yes  I do like spicy food! I enjoy it because it ad...\n",
      "11      Yes  I do like spicy food! I find that it adds an e...\n",
      "12      Yes  I do like spicy food! I find that it adds an e...\n",
      "13      Yes  I do like spicy food. I find that it adds an e...\n",
      "14       No  I don't particularly like spicy food. I find i...\n",
      "15      Yes  I appreciate the flavor and complexity it adds...\n",
      "16      Yes  I do like spicy food. I enjoy it because it ad...\n",
      "17      Yes  I enjoy the kick it adds to dishes and how it ...\n",
      "18      Yes  I find that it adds an exciting kick to meals ...\n",
      "19      Yes  I do enjoy spicy food! I find that it adds an ...\n",
      "Percentage of 'Yes' responses: 75.00%\n",
      "Percentage of 'No' responses: 15.00%\n",
      "Percentage of 'Maybe' responses: 10.00%\n",
      "Percentage of 'N/A' responses: 0.00%\n",
      "VERDICT: There is a good market.\n",
      "True\n"
     ]
    },
    {
     "data": {
      "image/png": "[encoded data removed]",
      "text/plain": [
       "<Figure size 640x480 with 1 Axes>"
      ]
     },
     "metadata": {},
     "output_type": "display_data"
    },
    {
     "name": "stdout",
     "output_type": "stream",
     "text": [
      "\n",
      "\n",
      "\n"
     ]
    }
   ],
   "source": [
    "extract_and_analyze_results(norwegians, \"Norway\")\n"
   ]
  },
  {
   "cell_type": "code",
   "execution_count": 12,
   "metadata": {},
   "outputs": [
    {
     "name": "stdout",
     "output_type": "stream",
     "text": [
      "################# Analyzing results for Mexico... #################\n",
      "Extraction raw result message: {'content': '{\"response\":\"Yes\",\"justification\":\"I like spicy food! I enjoy it because it adds flavor and excitement to my meals. Plus, I think it can be a fun challenge to handle the heat, and it often reminds me of traditional Mexican dishes that I love. Spicy food also tends to be associated with social gatherings, which I really enjoy.\"}', 'refusal': None, 'role': 'assistant', 'annotations': []}\n",
      "Extraction raw result message: {'content': '{\"response\":\"Yes\",\"justification\":\"I enjoy the complexity and depth of flavors that spices can bring to a dish. Spicy food often adds excitement to meals and can enhance the overall dining experience.\"}', 'refusal': None, 'role': 'assistant', 'annotations': []}\n",
      "Extraction raw result message: {'content': '{\"response\":\"Yes\",\"justification\":\"I do like spicy food! I find that it adds a lot of flavor and excitement to meals, and I enjoy the warmth it brings. Plus, many spicy dishes are often rich in cultural significance, which I appreciate.\"}', 'refusal': None, 'role': 'assistant', 'annotations': []}\n",
      "Extraction raw result message: {'content': '{\"response\":\"Yes\",\"justification\":\"I do like spicy food! I find that it adds a lot of flavor and excitement to meals. It also reminds me of the vibrant flavors in Colombian cuisine, which often includes spicy elements.\"}', 'refusal': None, 'role': 'assistant', 'annotations': []}\n",
      "Extraction raw result message: {'content': '{\"response\":\"Yes\",\"justification\":\"I do like spicy food. I enjoy the flavors it adds to dishes, and it reminds me of traditional Colombian cuisine, which often includes spices that enhance the taste of our meals.\"}', 'refusal': None, 'role': 'assistant', 'annotations': []}\n",
      "Extraction raw result message: {'content': '{\"response\":\"Yes\",\"justification\":\"I enjoy the flavor and kick it adds to dishes, and it often reminds me of home-cooked meals. Spicy food is a big part of Mexican cuisine, and I appreciate how it enhances the overall taste of the food.\"}', 'refusal': None, 'role': 'assistant', 'annotations': []}\n",
      "Extraction raw result message: {'content': '{\"response\":\"Yes\",\"justification\":\"I do like spicy food. It adds flavor and excitement to meals, and I appreciate the way it can enhance the taste of traditional dishes.\"}', 'refusal': None, 'role': 'assistant', 'annotations': []}\n",
      "Extraction raw result message: {'content': '{\"response\":\"Yes\",\"justification\":\"I like spicy food! I enjoy the kick it adds to dishes, and it reminds me of home and family meals. Spicy food is a big part of Mexican cuisine, and I love how it enhances the flavors of traditional dishes.\"}', 'refusal': None, 'role': 'assistant', 'annotations': []}\n",
      "Extraction raw result message: {'content': '{\"response\":\"Yes\",\"justification\":\"I enjoy the flavors and the kick it adds to dishes. It reminds me of home and the traditional meals my family used to make. Spicy food also brings a sense of excitement to eating, and I love how it can vary from mild to very hot, offering a range of experiences. Plus, it often pairs well with many of my favorite Mexican dishes!\"}', 'refusal': None, 'role': 'assistant', 'annotations': []}\n",
      "Extraction raw result message: {'content': '{\"response\":\"Yes\",\"justification\":\"I enjoy the kick it adds to dishes and how it can enhance flavors. Spicy food often brings a sense of excitement to meals, and I appreciate the variety of spices used in different cuisines. It also feels like a fun challenge to see how much heat I can handle!\"}', 'refusal': None, 'role': 'assistant', 'annotations': []}\n",
      "Extraction raw result message: {'content': '{\"response\":\"Yes\",\"justification\":\"I enjoy the kick it adds to dishes and how it can enhance the overall flavor. Spicy food often brings a sense of excitement to meals, and I appreciate the variety of spices used in different cuisines. It also feels like a fun challenge to try and handle the heat!\"}', 'refusal': None, 'role': 'assistant', 'annotations': []}\n",
      "Extraction raw result message: {'content': '{\"response\":\"Yes\",\"justification\":\"I do like spicy food. It adds flavor and excitement to meals, and I enjoy the warmth it brings. Spicy dishes are often part of our traditional recipes, and they remind me of family gatherings and celebrations.\"}', 'refusal': None, 'role': 'assistant', 'annotations': []}\n",
      "Extraction raw result message: {'content': '{\"response\":\"Yes\",\"justification\":\"I enjoy the kick it adds to dishes and how it can enhance flavors. Spicy food often brings a sense of excitement to meals, and I appreciate the variety of spices used in different cuisines. It also feels like a fun challenge to see how much heat I can handle!\"}', 'refusal': None, 'role': 'assistant', 'annotations': []}\n",
      "Extraction raw result message: {'content': '{\"response\":\"Yes\",\"justification\":\"I do like spicy food! I enjoy the kick it adds to dishes and how it can enhance the overall flavor. Plus, it reminds me of home and family gatherings where we often have spicy dishes.\"}', 'refusal': None, 'role': 'assistant', 'annotations': []}\n",
      "Extraction raw result message: {'content': '{\"response\":\"Yes\",\"justification\":\"I enjoy the flavors it brings to dishes and how it enhances the overall taste. Spicy food is a big part of our traditional meals, and it reminds me of family gatherings and celebrations.\"}', 'refusal': None, 'role': 'assistant', 'annotations': []}\n",
      "Extraction raw result message: {'content': '{\"response\":\"Yes\",\"justification\":\"I enjoy it because it adds a lot of flavor and excitement to my meals. Plus, I find that spicy food can be quite energizing and often pairs well with healthy ingredients, which aligns with my preference for nutritious meals. It also makes cooking more fun and adventurous!\"}', 'refusal': None, 'role': 'assistant', 'annotations': []}\n",
      "Extraction raw result message: {'content': '{\"response\":\"Yes\",\"justification\":\"I enjoy the flavors and the warmth it brings to dishes. It adds a special touch to traditional meals, making them more exciting and enjoyable.\"}', 'refusal': None, 'role': 'assistant', 'annotations': []}\n",
      "Extraction raw result message: {'content': '{\"response\":\"Yes\",\"justification\":\"I find that it adds a wonderful kick to dishes and enhances the overall flavor. Plus, it reminds me of many traditional Mexican dishes that I grew up with, which makes it even more special to me.\"}', 'refusal': None, 'role': 'assistant', 'annotations': []}\n",
      "Extraction raw result message: {'content': '{\"response\":\"Yes\",\"justification\":\"I enjoy the kick it adds to meals and how it can enhance the flavors of traditional dishes. Plus, it reminds me of family gatherings where we often have spicy salsas and dishes.\"}', 'refusal': None, 'role': 'assistant', 'annotations': []}\n",
      "Extraction raw result message: {'content': '{\"response\":\"Yes\",\"justification\":\"I enjoy the kick it adds to dishes and how it can enhance flavors. Spicy food often brings a sense of excitement to meals, and I appreciate the variety of spices used in different cuisines.\"}', 'refusal': None, 'role': 'assistant', 'annotations': []}\n",
      "   response                                      justification\n",
      "0       Yes  I like spicy food! I enjoy it because it adds ...\n",
      "1       Yes  I enjoy the complexity and depth of flavors th...\n",
      "2       Yes  I do like spicy food! I find that it adds a lo...\n",
      "3       Yes  I do like spicy food! I find that it adds a lo...\n",
      "4       Yes  I do like spicy food. I enjoy the flavors it a...\n",
      "5       Yes  I enjoy the flavor and kick it adds to dishes,...\n",
      "6       Yes  I do like spicy food. It adds flavor and excit...\n",
      "7       Yes  I like spicy food! I enjoy the kick it adds to...\n",
      "8       Yes  I enjoy the flavors and the kick it adds to di...\n",
      "9       Yes  I enjoy the kick it adds to dishes and how it ...\n",
      "10      Yes  I enjoy the kick it adds to dishes and how it ...\n",
      "11      Yes  I do like spicy food. It adds flavor and excit...\n",
      "12      Yes  I enjoy the kick it adds to dishes and how it ...\n",
      "13      Yes  I do like spicy food! I enjoy the kick it adds...\n",
      "14      Yes  I enjoy the flavors it brings to dishes and ho...\n",
      "15      Yes  I enjoy it because it adds a lot of flavor and...\n",
      "16      Yes  I enjoy the flavors and the warmth it brings t...\n",
      "17      Yes  I find that it adds a wonderful kick to dishes...\n",
      "18      Yes  I enjoy the kick it adds to meals and how it c...\n",
      "19      Yes  I enjoy the kick it adds to dishes and how it ...\n",
      "Percentage of 'Yes' responses: 100.00%\n",
      "Percentage of 'No' responses: 0.00%\n",
      "Percentage of 'Maybe' responses: 0.00%\n",
      "Percentage of 'N/A' responses: 0.00%\n",
      "VERDICT: There is a good market.\n",
      "True\n"
     ]
    },
    {
     "data": {
      "image/png": "[encoded data removed]",
      "text/plain": [
       "<Figure size 640x480 with 1 Axes>"
      ]
     },
     "metadata": {},
     "output_type": "display_data"
    },
    {
     "name": "stdout",
     "output_type": "stream",
     "text": [
      "\n",
      "\n",
      "\n"
     ]
    }
   ],
   "source": [
    "extract_and_analyze_results(mexicans, \"Mexico\")"
   ]
  }
 ],
 "metadata": {
  "kernelspec": {
   "display_name": "Python 3",
   "language": "python",
   "name": "python3"
  },
  "language_info": {
   "codemirror_mode": {
    "name": "ipython",
    "version": 3
   },
   "file_extension": ".py",
   "mimetype": "text/x-python",
   "name": "python",
   "nbconvert_exporter": "python",
   "pygments_lexer": "ipython3",
   "version": "3.10.13"
  },
  "orig_nbformat": 4
 },
 "nbformat": 4,
 "nbformat_minor": 2
}
